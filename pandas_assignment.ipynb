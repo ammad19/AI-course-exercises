{
  "nbformat": 4,
  "nbformat_minor": 0,
  "metadata": {
    "colab": {
      "name": "pandas_assignment.ipynb",
      "provenance": [],
      "collapsed_sections": [],
      "toc_visible": true,
      "authorship_tag": "ABX9TyPf0IsyWvQ0BNrNCOju5Mji",
      "include_colab_link": true
    },
    "kernelspec": {
      "name": "python3",
      "display_name": "Python 3"
    }
  },
  "cells": [
    {
      "cell_type": "markdown",
      "metadata": {
        "id": "view-in-github",
        "colab_type": "text"
      },
      "source": [
        "<a href=\"https://colab.research.google.com/github/ammad19/AI-course-exercises/blob/master/pandas_assignment.ipynb\" target=\"_parent\"><img src=\"https://colab.research.google.com/assets/colab-badge.svg\" alt=\"Open In Colab\"/></a>"
      ]
    },
    {
      "cell_type": "code",
      "metadata": {
        "colab": {
          "base_uri": "https://localhost:8080/"
        },
        "id": "MaTeJGvUXerz",
        "outputId": "216304bb-d4af-4cca-d1db-a7be8fdff5a1"
      },
      "source": [
        "!pwd"
      ],
      "execution_count": 1,
      "outputs": [
        {
          "output_type": "stream",
          "text": [
            "/content\n"
          ],
          "name": "stdout"
        }
      ]
    },
    {
      "cell_type": "code",
      "metadata": {
        "colab": {
          "base_uri": "https://localhost:8080/"
        },
        "id": "1uFvdGBKYWsZ",
        "outputId": "49c1dc36-8d81-40a8-f169-aae6a7b309f3"
      },
      "source": [
        "!unzip Assignment.rar"
      ],
      "execution_count": 2,
      "outputs": [
        {
          "output_type": "stream",
          "text": [
            "Archive:  Assignment.rar\n",
            "  End-of-central-directory signature not found.  Either this file is not\n",
            "  a zipfile, or it constitutes one disk of a multi-part archive.  In the\n",
            "  latter case the central directory and zipfile comment will be found on\n",
            "  the last disk(s) of this archive.\n",
            "unzip:  cannot find zipfile directory in one of Assignment.rar or\n",
            "        Assignment.rar.zip, and cannot find Assignment.rar.ZIP, period.\n"
          ],
          "name": "stdout"
        }
      ]
    },
    {
      "cell_type": "code",
      "metadata": {
        "colab": {
          "base_uri": "https://localhost:8080/"
        },
        "id": "0avo2CS0Yat7",
        "outputId": "aaf20789-0946-40ab-b771-ffeee66e5fbc"
      },
      "source": [
        "!unrar x Assignment.rar"
      ],
      "execution_count": 4,
      "outputs": [
        {
          "output_type": "stream",
          "text": [
            "\n",
            "UNRAR 5.50 freeware      Copyright (c) 1993-2017 Alexander Roshal\n",
            "\n",
            "\n",
            "Extracting from Assignment.rar\n",
            "\n",
            "Creating    Assignment                                                OK\n",
            "Extracting  Assignment/inventory.csv                                     \b\b\b\b  3%\b\b\b\b\b  OK \n",
            "Extracting  Assignment/README.md                                         \b\b\b\b 30%\b\b\b\b\b  OK \n",
            "Extracting  Assignment/states0.csv                                       \b\b\b\b 37%\b\b\b\b\b  OK \n",
            "Extracting  Assignment/states1.csv                                       \b\b\b\b 44%\b\b\b\b\b  OK \n",
            "Extracting  Assignment/states2.csv                                       \b\b\b\b 51%\b\b\b\b\b  OK \n",
            "Extracting  Assignment/states3.csv                                       \b\b\b\b 57%\b\b\b\b\b  OK \n",
            "Extracting  Assignment/states4.csv                                       \b\b\b\b 65%\b\b\b\b\b  OK \n",
            "Extracting  Assignment/states5.csv                                       \b\b\b\b 71%\b\b\b\b\b  OK \n",
            "Extracting  Assignment/states6.csv                                       \b\b\b\b 78%\b\b\b\b\b  OK \n",
            "Extracting  Assignment/states7.csv                                       \b\b\b\b 85%\b\b\b\b\b  OK \n",
            "Extracting  Assignment/states8.csv                                       \b\b\b\b 92%\b\b\b\b\b  OK \n",
            "Extracting  Assignment/states9.csv                                       \b\b\b\b 99%\b\b\b\b\b  OK \n",
            "All OK\n"
          ],
          "name": "stdout"
        }
      ]
    },
    {
      "cell_type": "code",
      "metadata": {
        "colab": {
          "base_uri": "https://localhost:8080/"
        },
        "id": "YtmKrTu7Yn7Y",
        "outputId": "5db1c767-16bb-4ceb-eda7-1e8a8f3b220f"
      },
      "source": [
        "!pwd"
      ],
      "execution_count": 5,
      "outputs": [
        {
          "output_type": "stream",
          "text": [
            "/content\n"
          ],
          "name": "stdout"
        }
      ]
    },
    {
      "cell_type": "code",
      "metadata": {
        "id": "i8cNZcb-Y2HU"
      },
      "source": [
        "import pandas as pd\r\n",
        "import glob\r\n",
        "import numpy as np\r\n",
        "import matplotlib.pyplot as pyplot"
      ],
      "execution_count": null,
      "outputs": []
    }
  ]
}