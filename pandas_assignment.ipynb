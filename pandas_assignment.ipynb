{
  "nbformat": 4,
  "nbformat_minor": 0,
  "metadata": {
    "colab": {
      "name": "pandas_assignment.ipynb",
      "provenance": [],
      "collapsed_sections": [],
      "toc_visible": true,
      "authorship_tag": "ABX9TyPfa9YKdoMz03UX71zDAbyL",
      "include_colab_link": true
    },
    "kernelspec": {
      "name": "python3",
      "display_name": "Python 3"
    }
  },
  "cells": [
    {
      "cell_type": "markdown",
      "metadata": {
        "id": "view-in-github",
        "colab_type": "text"
      },
      "source": [
        "<a href=\"https://colab.research.google.com/github/ammad19/AI-course-exercises/blob/master/pandas_assignment.ipynb\" target=\"_parent\"><img src=\"https://colab.research.google.com/assets/colab-badge.svg\" alt=\"Open In Colab\"/></a>"
      ]
    },
    {
      "cell_type": "code",
      "metadata": {
        "colab": {
          "base_uri": "https://localhost:8080/"
        },
        "id": "MaTeJGvUXerz",
        "outputId": "284cdcc8-090d-4ef4-a4ae-0b9bd3a871f0"
      },
      "source": [
        "!pwd"
      ],
      "execution_count": 11,
      "outputs": [
        {
          "output_type": "stream",
          "text": [
            "/content\n"
          ],
          "name": "stdout"
        }
      ]
    },
    {
      "cell_type": "code",
      "metadata": {
        "colab": {
          "base_uri": "https://localhost:8080/"
        },
        "id": "1uFvdGBKYWsZ",
        "outputId": "77b5b187-d476-4c1c-a99f-ba54f24a9aad"
      },
      "source": [
        "!unzip Assignment.rar"
      ],
      "execution_count": 12,
      "outputs": [
        {
          "output_type": "stream",
          "text": [
            "Archive:  Assignment.rar\n",
            "  End-of-central-directory signature not found.  Either this file is not\n",
            "  a zipfile, or it constitutes one disk of a multi-part archive.  In the\n",
            "  latter case the central directory and zipfile comment will be found on\n",
            "  the last disk(s) of this archive.\n",
            "unzip:  cannot find zipfile directory in one of Assignment.rar or\n",
            "        Assignment.rar.zip, and cannot find Assignment.rar.ZIP, period.\n"
          ],
          "name": "stdout"
        }
      ]
    },
    {
      "cell_type": "code",
      "metadata": {
        "colab": {
          "base_uri": "https://localhost:8080/"
        },
        "id": "0avo2CS0Yat7",
        "outputId": "6e1b1831-c98d-419d-d56a-1dd5d6467e4e"
      },
      "source": [
        "!unrar x Assignment.rar"
      ],
      "execution_count": 13,
      "outputs": [
        {
          "output_type": "stream",
          "text": [
            "\n",
            "UNRAR 5.50 freeware      Copyright (c) 1993-2017 Alexander Roshal\n",
            "\n",
            "\n",
            "Extracting from Assignment.rar\n",
            "\n",
            "\n",
            "Would you like to replace the existing file Assignment/inventory.csv\n",
            "  1231 bytes, modified on 2020-12-18 21:14\n",
            "with a new one\n",
            "  1231 bytes, modified on 2020-12-18 21:14\n",
            "\n",
            "[Y]es, [N]o, [A]ll, n[E]ver, [R]ename, [Q]uit Q\n",
            "\n",
            "Program aborted\n"
          ],
          "name": "stdout"
        }
      ]
    },
    {
      "cell_type": "code",
      "metadata": {
        "colab": {
          "base_uri": "https://localhost:8080/"
        },
        "id": "YtmKrTu7Yn7Y",
        "outputId": "2fc4fca9-9a32-4b7c-98f6-7523013db774"
      },
      "source": [
        "!pwd"
      ],
      "execution_count": 14,
      "outputs": [
        {
          "output_type": "stream",
          "text": [
            "/content\n"
          ],
          "name": "stdout"
        }
      ]
    },
    {
      "cell_type": "code",
      "metadata": {
        "colab": {
          "base_uri": "https://localhost:8080/"
        },
        "id": "i8cNZcb-Y2HU",
        "outputId": "e46abd12-7cec-4de9-ccff-b5f1c8666934"
      },
      "source": [
        "import pandas as pd\r\n",
        "import glob\r\n",
        "import numpy as np\r\n",
        "import matplotlib.pyplot as pyplot\r\n",
        "\r\n",
        "census_files = glob.glob(\"Assignment/states*.csv\")\r\n",
        "\r\n",
        "file_list = []\r\n",
        "for filename in census_files:\r\n",
        "    data = pd.read_csv(filename)\r\n",
        "    file_list.append(data)\r\n",
        "\r\n",
        "census_files"
      ],
      "execution_count": 15,
      "outputs": [
        {
          "output_type": "execute_result",
          "data": {
            "text/plain": [
              "['Assignment/states5.csv',\n",
              " 'Assignment/states0.csv',\n",
              " 'Assignment/states7.csv',\n",
              " 'Assignment/states2.csv',\n",
              " 'Assignment/states6.csv',\n",
              " 'Assignment/states4.csv',\n",
              " 'Assignment/states3.csv',\n",
              " 'Assignment/states9.csv',\n",
              " 'Assignment/states8.csv',\n",
              " 'Assignment/states1.csv']"
            ]
          },
          "metadata": {
            "tags": []
          },
          "execution_count": 15
        }
      ]
    },
    {
      "cell_type": "code",
      "metadata": {
        "colab": {
          "base_uri": "https://localhost:8080/",
          "height": 258
        },
        "id": "p4umNQlVuozs",
        "outputId": "19b7056d-4bcc-42fb-9ca7-aebd64aae5d9"
      },
      "source": [
        "us_census = pd.concat(file_list)\r\n",
        "us_census.head()"
      ],
      "execution_count": 16,
      "outputs": [
        {
          "output_type": "execute_result",
          "data": {
            "text/html": [
              "<div>\n",
              "<style scoped>\n",
              "    .dataframe tbody tr th:only-of-type {\n",
              "        vertical-align: middle;\n",
              "    }\n",
              "\n",
              "    .dataframe tbody tr th {\n",
              "        vertical-align: top;\n",
              "    }\n",
              "\n",
              "    .dataframe thead th {\n",
              "        text-align: right;\n",
              "    }\n",
              "</style>\n",
              "<table border=\"1\" class=\"dataframe\">\n",
              "  <thead>\n",
              "    <tr style=\"text-align: right;\">\n",
              "      <th></th>\n",
              "      <th>Unnamed: 0</th>\n",
              "      <th>State</th>\n",
              "      <th>TotalPop</th>\n",
              "      <th>Hispanic</th>\n",
              "      <th>White</th>\n",
              "      <th>Black</th>\n",
              "      <th>Native</th>\n",
              "      <th>Asian</th>\n",
              "      <th>Pacific</th>\n",
              "      <th>Income</th>\n",
              "      <th>GenderPop</th>\n",
              "    </tr>\n",
              "  </thead>\n",
              "  <tbody>\n",
              "    <tr>\n",
              "      <th>0</th>\n",
              "      <td>0</td>\n",
              "      <td>Missouri</td>\n",
              "      <td>6045448</td>\n",
              "      <td>4.037247838616718%</td>\n",
              "      <td>77.508069164265%</td>\n",
              "      <td>14.122118155619594%</td>\n",
              "      <td>0.36332853025936646%</td>\n",
              "      <td>1.6244956772334296%</td>\n",
              "      <td>0.10165706051873193%</td>\n",
              "      <td>$49763.98772563177</td>\n",
              "      <td>2964003M_3081445F</td>\n",
              "    </tr>\n",
              "    <tr>\n",
              "      <th>1</th>\n",
              "      <td>1</td>\n",
              "      <td>Montana</td>\n",
              "      <td>1014699</td>\n",
              "      <td>3.2688888888888896%</td>\n",
              "      <td>86.41555555555554%</td>\n",
              "      <td>0.4292592592592591%</td>\n",
              "      <td>7.0607407407407425%</td>\n",
              "      <td>0.5703703703703705%</td>\n",
              "      <td>0.07222222222222222%</td>\n",
              "      <td>$47645.682835820895</td>\n",
              "      <td>510163M_F</td>\n",
              "    </tr>\n",
              "    <tr>\n",
              "      <th>2</th>\n",
              "      <td>2</td>\n",
              "      <td>Nebraska</td>\n",
              "      <td>1869365</td>\n",
              "      <td>9.203759398496235%</td>\n",
              "      <td>81.13947368421056%</td>\n",
              "      <td>4.956203007518794%</td>\n",
              "      <td>0.8644736842105263%</td>\n",
              "      <td>1.8590225563909788%</td>\n",
              "      <td>0.05714285714285715%</td>\n",
              "      <td>$55916.469696969696</td>\n",
              "      <td>929606M_939759F</td>\n",
              "    </tr>\n",
              "    <tr>\n",
              "      <th>3</th>\n",
              "      <td>3</td>\n",
              "      <td>Nevada</td>\n",
              "      <td>2798636</td>\n",
              "      <td>27.100883652430046%</td>\n",
              "      <td>53.23932253313698%</td>\n",
              "      <td>7.739617083946994%</td>\n",
              "      <td>1.0871870397643593%</td>\n",
              "      <td>7.095729013254786%</td>\n",
              "      <td>0.5745213549337267%</td>\n",
              "      <td>$55526.525073746314</td>\n",
              "      <td>1407735M_1390901F</td>\n",
              "    </tr>\n",
              "    <tr>\n",
              "      <th>4</th>\n",
              "      <td>4</td>\n",
              "      <td>New Hampshire</td>\n",
              "      <td>1324201</td>\n",
              "      <td>3.3219178082191796%</td>\n",
              "      <td>91.31917808219184%</td>\n",
              "      <td>1.2277397260273974%</td>\n",
              "      <td>0.14280821917808229%</td>\n",
              "      <td>2.191438356164382%</td>\n",
              "      <td>0.016095890410958904%</td>\n",
              "      <td>$68728.8595890411</td>\n",
              "      <td>653484M_670717F</td>\n",
              "    </tr>\n",
              "  </tbody>\n",
              "</table>\n",
              "</div>"
            ],
            "text/plain": [
              "   Unnamed: 0          State  ...               Income          GenderPop\n",
              "0           0       Missouri  ...   $49763.98772563177  2964003M_3081445F\n",
              "1           1        Montana  ...  $47645.682835820895          510163M_F\n",
              "2           2       Nebraska  ...  $55916.469696969696    929606M_939759F\n",
              "3           3         Nevada  ...  $55526.525073746314  1407735M_1390901F\n",
              "4           4  New Hampshire  ...    $68728.8595890411    653484M_670717F\n",
              "\n",
              "[5 rows x 11 columns]"
            ]
          },
          "metadata": {
            "tags": []
          },
          "execution_count": 16
        }
      ]
    },
    {
      "cell_type": "code",
      "metadata": {
        "colab": {
          "base_uri": "https://localhost:8080/"
        },
        "id": "hyHC3w7wu-O2",
        "outputId": "52995b41-726b-4c58-a287-0433dd812aa2"
      },
      "source": [
        "us_census.columns"
      ],
      "execution_count": 17,
      "outputs": [
        {
          "output_type": "execute_result",
          "data": {
            "text/plain": [
              "Index(['Unnamed: 0', 'State', 'TotalPop', 'Hispanic', 'White', 'Black',\n",
              "       'Native', 'Asian', 'Pacific', 'Income', 'GenderPop'],\n",
              "      dtype='object')"
            ]
          },
          "metadata": {
            "tags": []
          },
          "execution_count": 17
        }
      ]
    },
    {
      "cell_type": "code",
      "metadata": {
        "colab": {
          "base_uri": "https://localhost:8080/"
        },
        "id": "6tvFIzDCve_X",
        "outputId": "1bfc38d5-c0d3-4d23-bdd2-bf3f25d40374"
      },
      "source": [
        "us_census.dtypes"
      ],
      "execution_count": 18,
      "outputs": [
        {
          "output_type": "execute_result",
          "data": {
            "text/plain": [
              "Unnamed: 0     int64\n",
              "State         object\n",
              "TotalPop       int64\n",
              "Hispanic      object\n",
              "White         object\n",
              "Black         object\n",
              "Native        object\n",
              "Asian         object\n",
              "Pacific       object\n",
              "Income        object\n",
              "GenderPop     object\n",
              "dtype: object"
            ]
          },
          "metadata": {
            "tags": []
          },
          "execution_count": 18
        }
      ]
    },
    {
      "cell_type": "code",
      "metadata": {
        "colab": {
          "base_uri": "https://localhost:8080/"
        },
        "id": "DPSEzP4AviZ9",
        "outputId": "e21ed1d3-1137-4188-cc79-f4c1af8a1515"
      },
      "source": [
        "us_census.Income = us_census.Income.replace('[\\$]', '', regex=True)\r\n",
        "us_census.Income.head()"
      ],
      "execution_count": 19,
      "outputs": [
        {
          "output_type": "execute_result",
          "data": {
            "text/plain": [
              "0     49763.98772563177\n",
              "1    47645.682835820895\n",
              "2    55916.469696969696\n",
              "3    55526.525073746314\n",
              "4      68728.8595890411\n",
              "Name: Income, dtype: object"
            ]
          },
          "metadata": {
            "tags": []
          },
          "execution_count": 19
        }
      ]
    },
    {
      "cell_type": "code",
      "metadata": {
        "colab": {
          "base_uri": "https://localhost:8080/"
        },
        "id": "QRHcGrMFv5mo",
        "outputId": "a9d3547d-650c-40f9-ced3-ab2ea6f2c669"
      },
      "source": [
        "population_split = us_census.GenderPop.str.split(\"_\")\r\n",
        "population_split.head()"
      ],
      "execution_count": 20,
      "outputs": [
        {
          "output_type": "execute_result",
          "data": {
            "text/plain": [
              "0    [2964003M, 3081445F]\n",
              "1            [510163M, F]\n",
              "2      [929606M, 939759F]\n",
              "3    [1407735M, 1390901F]\n",
              "4      [653484M, 670717F]\n",
              "Name: GenderPop, dtype: object"
            ]
          },
          "metadata": {
            "tags": []
          },
          "execution_count": 20
        }
      ]
    },
    {
      "cell_type": "code",
      "metadata": {
        "colab": {
          "base_uri": "https://localhost:8080/",
          "height": 258
        },
        "id": "FchDDksgwCLq",
        "outputId": "15db1ada-4a44-4812-e3b6-f7274cb9eeee"
      },
      "source": [
        "us_census['male_population'] = population_split.str.get(0)\r\n",
        "us_census['female_population'] = population_split.str.get(1)\r\n",
        "us_census.head()"
      ],
      "execution_count": 21,
      "outputs": [
        {
          "output_type": "execute_result",
          "data": {
            "text/html": [
              "<div>\n",
              "<style scoped>\n",
              "    .dataframe tbody tr th:only-of-type {\n",
              "        vertical-align: middle;\n",
              "    }\n",
              "\n",
              "    .dataframe tbody tr th {\n",
              "        vertical-align: top;\n",
              "    }\n",
              "\n",
              "    .dataframe thead th {\n",
              "        text-align: right;\n",
              "    }\n",
              "</style>\n",
              "<table border=\"1\" class=\"dataframe\">\n",
              "  <thead>\n",
              "    <tr style=\"text-align: right;\">\n",
              "      <th></th>\n",
              "      <th>Unnamed: 0</th>\n",
              "      <th>State</th>\n",
              "      <th>TotalPop</th>\n",
              "      <th>Hispanic</th>\n",
              "      <th>White</th>\n",
              "      <th>Black</th>\n",
              "      <th>Native</th>\n",
              "      <th>Asian</th>\n",
              "      <th>Pacific</th>\n",
              "      <th>Income</th>\n",
              "      <th>GenderPop</th>\n",
              "      <th>male_population</th>\n",
              "      <th>female_population</th>\n",
              "    </tr>\n",
              "  </thead>\n",
              "  <tbody>\n",
              "    <tr>\n",
              "      <th>0</th>\n",
              "      <td>0</td>\n",
              "      <td>Missouri</td>\n",
              "      <td>6045448</td>\n",
              "      <td>4.037247838616718%</td>\n",
              "      <td>77.508069164265%</td>\n",
              "      <td>14.122118155619594%</td>\n",
              "      <td>0.36332853025936646%</td>\n",
              "      <td>1.6244956772334296%</td>\n",
              "      <td>0.10165706051873193%</td>\n",
              "      <td>49763.98772563177</td>\n",
              "      <td>2964003M_3081445F</td>\n",
              "      <td>2964003M</td>\n",
              "      <td>3081445F</td>\n",
              "    </tr>\n",
              "    <tr>\n",
              "      <th>1</th>\n",
              "      <td>1</td>\n",
              "      <td>Montana</td>\n",
              "      <td>1014699</td>\n",
              "      <td>3.2688888888888896%</td>\n",
              "      <td>86.41555555555554%</td>\n",
              "      <td>0.4292592592592591%</td>\n",
              "      <td>7.0607407407407425%</td>\n",
              "      <td>0.5703703703703705%</td>\n",
              "      <td>0.07222222222222222%</td>\n",
              "      <td>47645.682835820895</td>\n",
              "      <td>510163M_F</td>\n",
              "      <td>510163M</td>\n",
              "      <td>F</td>\n",
              "    </tr>\n",
              "    <tr>\n",
              "      <th>2</th>\n",
              "      <td>2</td>\n",
              "      <td>Nebraska</td>\n",
              "      <td>1869365</td>\n",
              "      <td>9.203759398496235%</td>\n",
              "      <td>81.13947368421056%</td>\n",
              "      <td>4.956203007518794%</td>\n",
              "      <td>0.8644736842105263%</td>\n",
              "      <td>1.8590225563909788%</td>\n",
              "      <td>0.05714285714285715%</td>\n",
              "      <td>55916.469696969696</td>\n",
              "      <td>929606M_939759F</td>\n",
              "      <td>929606M</td>\n",
              "      <td>939759F</td>\n",
              "    </tr>\n",
              "    <tr>\n",
              "      <th>3</th>\n",
              "      <td>3</td>\n",
              "      <td>Nevada</td>\n",
              "      <td>2798636</td>\n",
              "      <td>27.100883652430046%</td>\n",
              "      <td>53.23932253313698%</td>\n",
              "      <td>7.739617083946994%</td>\n",
              "      <td>1.0871870397643593%</td>\n",
              "      <td>7.095729013254786%</td>\n",
              "      <td>0.5745213549337267%</td>\n",
              "      <td>55526.525073746314</td>\n",
              "      <td>1407735M_1390901F</td>\n",
              "      <td>1407735M</td>\n",
              "      <td>1390901F</td>\n",
              "    </tr>\n",
              "    <tr>\n",
              "      <th>4</th>\n",
              "      <td>4</td>\n",
              "      <td>New Hampshire</td>\n",
              "      <td>1324201</td>\n",
              "      <td>3.3219178082191796%</td>\n",
              "      <td>91.31917808219184%</td>\n",
              "      <td>1.2277397260273974%</td>\n",
              "      <td>0.14280821917808229%</td>\n",
              "      <td>2.191438356164382%</td>\n",
              "      <td>0.016095890410958904%</td>\n",
              "      <td>68728.8595890411</td>\n",
              "      <td>653484M_670717F</td>\n",
              "      <td>653484M</td>\n",
              "      <td>670717F</td>\n",
              "    </tr>\n",
              "  </tbody>\n",
              "</table>\n",
              "</div>"
            ],
            "text/plain": [
              "   Unnamed: 0          State  ...  male_population female_population\n",
              "0           0       Missouri  ...         2964003M          3081445F\n",
              "1           1        Montana  ...          510163M                 F\n",
              "2           2       Nebraska  ...          929606M           939759F\n",
              "3           3         Nevada  ...         1407735M          1390901F\n",
              "4           4  New Hampshire  ...          653484M           670717F\n",
              "\n",
              "[5 rows x 13 columns]"
            ]
          },
          "metadata": {
            "tags": []
          },
          "execution_count": 21
        }
      ]
    },
    {
      "cell_type": "code",
      "metadata": {
        "colab": {
          "base_uri": "https://localhost:8080/",
          "height": 204
        },
        "id": "ZtOK3NNnw6TL",
        "outputId": "63d925ac-e74f-4b12-e985-ebe0a287028d"
      },
      "source": [
        "pop_split = pd.DataFrame() # Create a temp empty df\r\n",
        "pop_split['male_pop'] = us_census.male_population.str[0:-1]\r\n",
        "pop_split['female_pop'] = us_census.female_population.str[0:-1]\r\n",
        "pop_split.head()"
      ],
      "execution_count": 22,
      "outputs": [
        {
          "output_type": "execute_result",
          "data": {
            "text/html": [
              "<div>\n",
              "<style scoped>\n",
              "    .dataframe tbody tr th:only-of-type {\n",
              "        vertical-align: middle;\n",
              "    }\n",
              "\n",
              "    .dataframe tbody tr th {\n",
              "        vertical-align: top;\n",
              "    }\n",
              "\n",
              "    .dataframe thead th {\n",
              "        text-align: right;\n",
              "    }\n",
              "</style>\n",
              "<table border=\"1\" class=\"dataframe\">\n",
              "  <thead>\n",
              "    <tr style=\"text-align: right;\">\n",
              "      <th></th>\n",
              "      <th>male_pop</th>\n",
              "      <th>female_pop</th>\n",
              "    </tr>\n",
              "  </thead>\n",
              "  <tbody>\n",
              "    <tr>\n",
              "      <th>0</th>\n",
              "      <td>2964003</td>\n",
              "      <td>3081445</td>\n",
              "    </tr>\n",
              "    <tr>\n",
              "      <th>1</th>\n",
              "      <td>510163</td>\n",
              "      <td></td>\n",
              "    </tr>\n",
              "    <tr>\n",
              "      <th>2</th>\n",
              "      <td>929606</td>\n",
              "      <td>939759</td>\n",
              "    </tr>\n",
              "    <tr>\n",
              "      <th>3</th>\n",
              "      <td>1407735</td>\n",
              "      <td>1390901</td>\n",
              "    </tr>\n",
              "    <tr>\n",
              "      <th>4</th>\n",
              "      <td>653484</td>\n",
              "      <td>670717</td>\n",
              "    </tr>\n",
              "  </tbody>\n",
              "</table>\n",
              "</div>"
            ],
            "text/plain": [
              "  male_pop female_pop\n",
              "0  2964003    3081445\n",
              "1   510163           \n",
              "2   929606     939759\n",
              "3  1407735    1390901\n",
              "4   653484     670717"
            ]
          },
          "metadata": {
            "tags": []
          },
          "execution_count": 22
        }
      ]
    },
    {
      "cell_type": "code",
      "metadata": {
        "colab": {
          "base_uri": "https://localhost:8080/",
          "height": 258
        },
        "id": "9XBpA9IAxHsd",
        "outputId": "9c02257d-e103-4153-a4ab-ea26e20f6f03"
      },
      "source": [
        "us_census = pd.concat([us_census, pop_split], axis = 1)\r\n",
        "us_census.head()"
      ],
      "execution_count": 23,
      "outputs": [
        {
          "output_type": "execute_result",
          "data": {
            "text/html": [
              "<div>\n",
              "<style scoped>\n",
              "    .dataframe tbody tr th:only-of-type {\n",
              "        vertical-align: middle;\n",
              "    }\n",
              "\n",
              "    .dataframe tbody tr th {\n",
              "        vertical-align: top;\n",
              "    }\n",
              "\n",
              "    .dataframe thead th {\n",
              "        text-align: right;\n",
              "    }\n",
              "</style>\n",
              "<table border=\"1\" class=\"dataframe\">\n",
              "  <thead>\n",
              "    <tr style=\"text-align: right;\">\n",
              "      <th></th>\n",
              "      <th>Unnamed: 0</th>\n",
              "      <th>State</th>\n",
              "      <th>TotalPop</th>\n",
              "      <th>Hispanic</th>\n",
              "      <th>White</th>\n",
              "      <th>Black</th>\n",
              "      <th>Native</th>\n",
              "      <th>Asian</th>\n",
              "      <th>Pacific</th>\n",
              "      <th>Income</th>\n",
              "      <th>GenderPop</th>\n",
              "      <th>male_population</th>\n",
              "      <th>female_population</th>\n",
              "      <th>male_pop</th>\n",
              "      <th>female_pop</th>\n",
              "    </tr>\n",
              "  </thead>\n",
              "  <tbody>\n",
              "    <tr>\n",
              "      <th>0</th>\n",
              "      <td>0</td>\n",
              "      <td>Missouri</td>\n",
              "      <td>6045448</td>\n",
              "      <td>4.037247838616718%</td>\n",
              "      <td>77.508069164265%</td>\n",
              "      <td>14.122118155619594%</td>\n",
              "      <td>0.36332853025936646%</td>\n",
              "      <td>1.6244956772334296%</td>\n",
              "      <td>0.10165706051873193%</td>\n",
              "      <td>49763.98772563177</td>\n",
              "      <td>2964003M_3081445F</td>\n",
              "      <td>2964003M</td>\n",
              "      <td>3081445F</td>\n",
              "      <td>2964003</td>\n",
              "      <td>3081445</td>\n",
              "    </tr>\n",
              "    <tr>\n",
              "      <th>1</th>\n",
              "      <td>1</td>\n",
              "      <td>Montana</td>\n",
              "      <td>1014699</td>\n",
              "      <td>3.2688888888888896%</td>\n",
              "      <td>86.41555555555554%</td>\n",
              "      <td>0.4292592592592591%</td>\n",
              "      <td>7.0607407407407425%</td>\n",
              "      <td>0.5703703703703705%</td>\n",
              "      <td>0.07222222222222222%</td>\n",
              "      <td>47645.682835820895</td>\n",
              "      <td>510163M_F</td>\n",
              "      <td>510163M</td>\n",
              "      <td>F</td>\n",
              "      <td>510163</td>\n",
              "      <td></td>\n",
              "    </tr>\n",
              "    <tr>\n",
              "      <th>2</th>\n",
              "      <td>2</td>\n",
              "      <td>Nebraska</td>\n",
              "      <td>1869365</td>\n",
              "      <td>9.203759398496235%</td>\n",
              "      <td>81.13947368421056%</td>\n",
              "      <td>4.956203007518794%</td>\n",
              "      <td>0.8644736842105263%</td>\n",
              "      <td>1.8590225563909788%</td>\n",
              "      <td>0.05714285714285715%</td>\n",
              "      <td>55916.469696969696</td>\n",
              "      <td>929606M_939759F</td>\n",
              "      <td>929606M</td>\n",
              "      <td>939759F</td>\n",
              "      <td>929606</td>\n",
              "      <td>939759</td>\n",
              "    </tr>\n",
              "    <tr>\n",
              "      <th>3</th>\n",
              "      <td>3</td>\n",
              "      <td>Nevada</td>\n",
              "      <td>2798636</td>\n",
              "      <td>27.100883652430046%</td>\n",
              "      <td>53.23932253313698%</td>\n",
              "      <td>7.739617083946994%</td>\n",
              "      <td>1.0871870397643593%</td>\n",
              "      <td>7.095729013254786%</td>\n",
              "      <td>0.5745213549337267%</td>\n",
              "      <td>55526.525073746314</td>\n",
              "      <td>1407735M_1390901F</td>\n",
              "      <td>1407735M</td>\n",
              "      <td>1390901F</td>\n",
              "      <td>1407735</td>\n",
              "      <td>1390901</td>\n",
              "    </tr>\n",
              "    <tr>\n",
              "      <th>4</th>\n",
              "      <td>4</td>\n",
              "      <td>New Hampshire</td>\n",
              "      <td>1324201</td>\n",
              "      <td>3.3219178082191796%</td>\n",
              "      <td>91.31917808219184%</td>\n",
              "      <td>1.2277397260273974%</td>\n",
              "      <td>0.14280821917808229%</td>\n",
              "      <td>2.191438356164382%</td>\n",
              "      <td>0.016095890410958904%</td>\n",
              "      <td>68728.8595890411</td>\n",
              "      <td>653484M_670717F</td>\n",
              "      <td>653484M</td>\n",
              "      <td>670717F</td>\n",
              "      <td>653484</td>\n",
              "      <td>670717</td>\n",
              "    </tr>\n",
              "  </tbody>\n",
              "</table>\n",
              "</div>"
            ],
            "text/plain": [
              "   Unnamed: 0          State  TotalPop  ... female_population male_pop female_pop\n",
              "0           0       Missouri   6045448  ...          3081445F  2964003    3081445\n",
              "1           1        Montana   1014699  ...                 F   510163           \n",
              "2           2       Nebraska   1869365  ...           939759F   929606     939759\n",
              "3           3         Nevada   2798636  ...          1390901F  1407735    1390901\n",
              "4           4  New Hampshire   1324201  ...           670717F   653484     670717\n",
              "\n",
              "[5 rows x 15 columns]"
            ]
          },
          "metadata": {
            "tags": []
          },
          "execution_count": 23
        }
      ]
    },
    {
      "cell_type": "code",
      "metadata": {
        "colab": {
          "base_uri": "https://localhost:8080/",
          "height": 241
        },
        "id": "DJnvnXEOxRzH",
        "outputId": "f67f21b5-4d88-4f62-e561-9dcb000fc046"
      },
      "source": [
        "# Gather the columns we want into the df\r\n",
        "us_census = us_census[['State', 'TotalPop', 'Hispanic', 'White', 'Black',\r\n",
        "       'Native', 'Asian', 'Pacific', 'Income', 'male_pop', 'female_pop',]]\r\n",
        "# Rename the male and female population columns\r\n",
        "us_census.columns = ['State', 'TotalPop', 'Hispanic', 'White', 'Black', 'Native', 'Asian',\r\n",
        "       'Pacific', 'Income', 'male_population', 'female_population']\r\n",
        "us_census.head()"
      ],
      "execution_count": 24,
      "outputs": [
        {
          "output_type": "execute_result",
          "data": {
            "text/html": [
              "<div>\n",
              "<style scoped>\n",
              "    .dataframe tbody tr th:only-of-type {\n",
              "        vertical-align: middle;\n",
              "    }\n",
              "\n",
              "    .dataframe tbody tr th {\n",
              "        vertical-align: top;\n",
              "    }\n",
              "\n",
              "    .dataframe thead th {\n",
              "        text-align: right;\n",
              "    }\n",
              "</style>\n",
              "<table border=\"1\" class=\"dataframe\">\n",
              "  <thead>\n",
              "    <tr style=\"text-align: right;\">\n",
              "      <th></th>\n",
              "      <th>State</th>\n",
              "      <th>TotalPop</th>\n",
              "      <th>Hispanic</th>\n",
              "      <th>White</th>\n",
              "      <th>Black</th>\n",
              "      <th>Native</th>\n",
              "      <th>Asian</th>\n",
              "      <th>Pacific</th>\n",
              "      <th>Income</th>\n",
              "      <th>male_population</th>\n",
              "      <th>female_population</th>\n",
              "    </tr>\n",
              "  </thead>\n",
              "  <tbody>\n",
              "    <tr>\n",
              "      <th>0</th>\n",
              "      <td>Missouri</td>\n",
              "      <td>6045448</td>\n",
              "      <td>4.037247838616718%</td>\n",
              "      <td>77.508069164265%</td>\n",
              "      <td>14.122118155619594%</td>\n",
              "      <td>0.36332853025936646%</td>\n",
              "      <td>1.6244956772334296%</td>\n",
              "      <td>0.10165706051873193%</td>\n",
              "      <td>49763.98772563177</td>\n",
              "      <td>2964003</td>\n",
              "      <td>3081445</td>\n",
              "    </tr>\n",
              "    <tr>\n",
              "      <th>1</th>\n",
              "      <td>Montana</td>\n",
              "      <td>1014699</td>\n",
              "      <td>3.2688888888888896%</td>\n",
              "      <td>86.41555555555554%</td>\n",
              "      <td>0.4292592592592591%</td>\n",
              "      <td>7.0607407407407425%</td>\n",
              "      <td>0.5703703703703705%</td>\n",
              "      <td>0.07222222222222222%</td>\n",
              "      <td>47645.682835820895</td>\n",
              "      <td>510163</td>\n",
              "      <td></td>\n",
              "    </tr>\n",
              "    <tr>\n",
              "      <th>2</th>\n",
              "      <td>Nebraska</td>\n",
              "      <td>1869365</td>\n",
              "      <td>9.203759398496235%</td>\n",
              "      <td>81.13947368421056%</td>\n",
              "      <td>4.956203007518794%</td>\n",
              "      <td>0.8644736842105263%</td>\n",
              "      <td>1.8590225563909788%</td>\n",
              "      <td>0.05714285714285715%</td>\n",
              "      <td>55916.469696969696</td>\n",
              "      <td>929606</td>\n",
              "      <td>939759</td>\n",
              "    </tr>\n",
              "    <tr>\n",
              "      <th>3</th>\n",
              "      <td>Nevada</td>\n",
              "      <td>2798636</td>\n",
              "      <td>27.100883652430046%</td>\n",
              "      <td>53.23932253313698%</td>\n",
              "      <td>7.739617083946994%</td>\n",
              "      <td>1.0871870397643593%</td>\n",
              "      <td>7.095729013254786%</td>\n",
              "      <td>0.5745213549337267%</td>\n",
              "      <td>55526.525073746314</td>\n",
              "      <td>1407735</td>\n",
              "      <td>1390901</td>\n",
              "    </tr>\n",
              "    <tr>\n",
              "      <th>4</th>\n",
              "      <td>New Hampshire</td>\n",
              "      <td>1324201</td>\n",
              "      <td>3.3219178082191796%</td>\n",
              "      <td>91.31917808219184%</td>\n",
              "      <td>1.2277397260273974%</td>\n",
              "      <td>0.14280821917808229%</td>\n",
              "      <td>2.191438356164382%</td>\n",
              "      <td>0.016095890410958904%</td>\n",
              "      <td>68728.8595890411</td>\n",
              "      <td>653484</td>\n",
              "      <td>670717</td>\n",
              "    </tr>\n",
              "  </tbody>\n",
              "</table>\n",
              "</div>"
            ],
            "text/plain": [
              "           State  TotalPop  ... male_population female_population\n",
              "0       Missouri   6045448  ...         2964003           3081445\n",
              "1        Montana   1014699  ...          510163                  \n",
              "2       Nebraska   1869365  ...          929606            939759\n",
              "3         Nevada   2798636  ...         1407735           1390901\n",
              "4  New Hampshire   1324201  ...          653484            670717\n",
              "\n",
              "[5 rows x 11 columns]"
            ]
          },
          "metadata": {
            "tags": []
          },
          "execution_count": 24
        }
      ]
    },
    {
      "cell_type": "code",
      "metadata": {
        "colab": {
          "base_uri": "https://localhost:8080/"
        },
        "id": "HVj9CMN50jIv",
        "outputId": "23dcf5e8-022e-4c59-f4d4-ee2f0003095c"
      },
      "source": [
        "us_census.male_population = pd.to_numeric(us_census.male_population)\r\n",
        "us_census.female_population = pd.to_numeric(us_census.female_population)\r\n",
        "us_census.dtypes"
      ],
      "execution_count": 25,
      "outputs": [
        {
          "output_type": "execute_result",
          "data": {
            "text/plain": [
              "State                 object\n",
              "TotalPop               int64\n",
              "Hispanic              object\n",
              "White                 object\n",
              "Black                 object\n",
              "Native                object\n",
              "Asian                 object\n",
              "Pacific               object\n",
              "Income                object\n",
              "male_population        int64\n",
              "female_population    float64\n",
              "dtype: object"
            ]
          },
          "metadata": {
            "tags": []
          },
          "execution_count": 25
        }
      ]
    },
    {
      "cell_type": "code",
      "metadata": {
        "colab": {
          "base_uri": "https://localhost:8080/",
          "height": 278
        },
        "id": "6qNjZ_3i061I",
        "outputId": "2e049f77-658b-4238-c09a-e093b2676e6e"
      },
      "source": [
        "pyplot.scatter(us_census.female_population, us_census.Income) \r\n",
        "pyplot.show()"
      ],
      "execution_count": 26,
      "outputs": [
        {
          "output_type": "display_data",
          "data": {
            "image/png": "[encoded data removed]",
            "text/plain": [
              "<Figure size 432x288 with 1 Axes>"
            ]
          },
          "metadata": {
            "tags": [],
            "needs_background": "light"
          }
        }
      ]
    },
    {
      "cell_type": "code",
      "metadata": {
        "colab": {
          "base_uri": "https://localhost:8080/"
        },
        "id": "ZJY75N4K1DQ7",
        "outputId": "b0f332dd-5aa2-4a65-b2a2-d84bb089bbba"
      },
      "source": [
        "us_census.female_population.head(15)"
      ],
      "execution_count": 27,
      "outputs": [
        {
          "output_type": "execute_result",
          "data": {
            "text/plain": [
              "0     3081445.0\n",
              "1           NaN\n",
              "2      939759.0\n",
              "3     1390901.0\n",
              "4      670717.0\n",
              "5     4561386.0\n",
              "0     2489527.0\n",
              "1      349215.0\n",
              "2     3342840.0\n",
              "3     1506295.0\n",
              "4    19334329.0\n",
              "5     2630239.0\n",
              "0     5913084.0\n",
              "1     1942789.0\n",
              "2     1990780.0\n",
              "Name: female_population, dtype: float64"
            ]
          },
          "metadata": {
            "tags": []
          },
          "execution_count": 27
        }
      ]
    },
    {
      "cell_type": "code",
      "metadata": {
        "colab": {
          "base_uri": "https://localhost:8080/"
        },
        "id": "n6VizklO1Ltn",
        "outputId": "022f7c6e-9343-40d1-c5c5-1abe20155d0a"
      },
      "source": [
        "fem_pop_nan = us_census.female_population.isnull()\r\n",
        "fem_pop_nan.head(15)\r\n",
        "fem_pop_nan.value_counts()"
      ],
      "execution_count": 28,
      "outputs": [
        {
          "output_type": "execute_result",
          "data": {
            "text/plain": [
              "False    57\n",
              "True      3\n",
              "Name: female_population, dtype: int64"
            ]
          },
          "metadata": {
            "tags": []
          },
          "execution_count": 28
        }
      ]
    },
    {
      "cell_type": "code",
      "metadata": {
        "colab": {
          "base_uri": "https://localhost:8080/"
        },
        "id": "J4g3P-ch1VYn",
        "outputId": "222c35c1-d302-4e15-ef0e-c9be84f8d981"
      },
      "source": [
        "example_nan = us_census[['TotalPop', 'male_population', 'female_population']]\r\n",
        "example_nan.iloc[12]"
      ],
      "execution_count": 29,
      "outputs": [
        {
          "output_type": "execute_result",
          "data": {
            "text/plain": [
              "TotalPop             11575977.0\n",
              "male_population       5662893.0\n",
              "female_population     5913084.0\n",
              "Name: 0, dtype: float64"
            ]
          },
          "metadata": {
            "tags": []
          },
          "execution_count": 29
        }
      ]
    },
    {
      "cell_type": "code",
      "metadata": {
        "colab": {
          "base_uri": "https://localhost:8080/"
        },
        "id": "JK0lDGZ52Z0_",
        "outputId": "faf6fc8f-9a16-4cbb-dee0-8b015354e341"
      },
      "source": [
        "nan_value = us_census.TotalPop - us_census.male_population\r\n",
        "nan_value"
      ],
      "execution_count": 30,
      "outputs": [
        {
          "output_type": "execute_result",
          "data": {
            "text/plain": [
              "0     3081445\n",
              "1      504536\n",
              "2      939759\n",
              "3     1390901\n",
              "4      670717\n",
              "5     4561386\n",
              "0     2489527\n",
              "1      349215\n",
              "2     3342840\n",
              "3     1506295\n",
              "4    19334329\n",
              "5     2630239\n",
              "0     5913084\n",
              "1     1942789\n",
              "2     1990780\n",
              "3     6534215\n",
              "4     1869213\n",
              "5      543273\n",
              "0     5123362\n",
              "1      696428\n",
              "2      806083\n",
              "3     6556862\n",
              "4     3333382\n",
              "5     1558931\n",
              "0     4561386\n",
              "1     1051703\n",
              "2    10131373\n",
              "3     5049925\n",
              "4      353677\n",
              "5     5913084\n",
              "0     3057895\n",
              "1     3455936\n",
              "2     5038598\n",
              "3     2727005\n",
              "4     1536358\n",
              "5     3081445\n",
              "0     1558931\n",
              "1     1453125\n",
              "2     2233145\n",
              "3     2364097\n",
              "4      679019\n",
              "5     3057895\n",
              "0     1444150\n",
              "1      318031\n",
              "2     4195682\n",
              "3     3497739\n",
              "4      937789\n",
              "5     2890732\n",
              "0      543273\n",
              "1     2455167\n",
              "2      419713\n",
              "3     3331859\n",
              "4    13367298\n",
              "5     1444150\n",
              "0     2630239\n",
              "1     1841615\n",
              "2      478041\n",
              "3      340810\n",
              "4    10045763\n",
              "5     5123362\n",
              "dtype: int64"
            ]
          },
          "metadata": {
            "tags": []
          },
          "execution_count": 30
        }
      ]
    },
    {
      "cell_type": "code",
      "metadata": {
        "colab": {
          "base_uri": "https://localhost:8080/"
        },
        "id": "jazA9OHo3S1-",
        "outputId": "c96a1ae9-4e22-48c4-87e2-bc8e0da4caed"
      },
      "source": [
        "us_census.female_population = us_census.female_population.fillna(value=nan_value)\r\n",
        "example_nan_fixed = us_census[['TotalPop', 'male_population', 'female_population']]\r\n",
        "example_nan_fixed.iloc[12]"
      ],
      "execution_count": 31,
      "outputs": [
        {
          "output_type": "execute_result",
          "data": {
            "text/plain": [
              "TotalPop             11575977.0\n",
              "male_population       5662893.0\n",
              "female_population     5913084.0\n",
              "Name: 0, dtype: float64"
            ]
          },
          "metadata": {
            "tags": []
          },
          "execution_count": 31
        }
      ]
    },
    {
      "cell_type": "code",
      "metadata": {
        "colab": {
          "base_uri": "https://localhost:8080/"
        },
        "id": "p8sGmNW02gno",
        "outputId": "a0541e9f-f357-4ce6-d80d-22e02648f43e"
      },
      "source": [
        "us_census.female_population.head(15)"
      ],
      "execution_count": 32,
      "outputs": [
        {
          "output_type": "execute_result",
          "data": {
            "text/plain": [
              "0     3081445.0\n",
              "1      504536.0\n",
              "2      939759.0\n",
              "3     1390901.0\n",
              "4      670717.0\n",
              "5     4561386.0\n",
              "0     2489527.0\n",
              "1      349215.0\n",
              "2     3342840.0\n",
              "3     1506295.0\n",
              "4    19334329.0\n",
              "5     2630239.0\n",
              "0     5913084.0\n",
              "1     1942789.0\n",
              "2     1990780.0\n",
              "Name: female_population, dtype: float64"
            ]
          },
          "metadata": {
            "tags": []
          },
          "execution_count": 32
        }
      ]
    },
    {
      "cell_type": "code",
      "metadata": {
        "colab": {
          "base_uri": "https://localhost:8080/"
        },
        "id": "B3MPJhvP3blu",
        "outputId": "d1b64f86-abc9-44f5-d216-2b53bcfd8f0e"
      },
      "source": [
        "duplicates = us_census.duplicated()\r\n",
        "duplicates.value_counts()"
      ],
      "execution_count": 33,
      "outputs": [
        {
          "output_type": "execute_result",
          "data": {
            "text/plain": [
              "False    51\n",
              "True      9\n",
              "dtype: int64"
            ]
          },
          "metadata": {
            "tags": []
          },
          "execution_count": 33
        }
      ]
    },
    {
      "cell_type": "code",
      "metadata": {
        "colab": {
          "base_uri": "https://localhost:8080/"
        },
        "id": "ETXfTt8N3jQA",
        "outputId": "33066578-1ca0-4654-ce9a-bd19ccd2ff44"
      },
      "source": [
        "us_census = us_census.drop_duplicates()\r\n",
        "duplicates_check = us_census.duplicated()\r\n",
        "duplicates_check.value_counts()"
      ],
      "execution_count": 34,
      "outputs": [
        {
          "output_type": "execute_result",
          "data": {
            "text/plain": [
              "False    51\n",
              "dtype: int64"
            ]
          },
          "metadata": {
            "tags": []
          },
          "execution_count": 34
        }
      ]
    },
    {
      "cell_type": "code",
      "metadata": {
        "colab": {
          "base_uri": "https://localhost:8080/",
          "height": 278
        },
        "id": "c0aL2aIy3513",
        "outputId": "65c1cd2d-4a99-42d8-a777-a05258f9dfa8"
      },
      "source": [
        "pyplot.scatter(us_census.female_population, us_census.Income) \r\n",
        "pyplot.show()"
      ],
      "execution_count": 35,
      "outputs": [
        {
          "output_type": "display_data",
          "data": {
            "image/png": "[encoded data removed]",
            "text/plain": [
              "<Figure size 432x288 with 1 Axes>"
            ]
          },
          "metadata": {
            "tags": [],
            "needs_background": "light"
          }
        }
      ]
    },
    {
      "cell_type": "code",
      "metadata": {
        "colab": {
          "base_uri": "https://localhost:8080/",
          "height": 241
        },
        "id": "DZb2wZV23-sP",
        "outputId": "9109b9ed-18e7-4342-f118-ed6fdb266b2e"
      },
      "source": [
        "us_census.head()"
      ],
      "execution_count": 36,
      "outputs": [
        {
          "output_type": "execute_result",
          "data": {
            "text/html": [
              "<div>\n",
              "<style scoped>\n",
              "    .dataframe tbody tr th:only-of-type {\n",
              "        vertical-align: middle;\n",
              "    }\n",
              "\n",
              "    .dataframe tbody tr th {\n",
              "        vertical-align: top;\n",
              "    }\n",
              "\n",
              "    .dataframe thead th {\n",
              "        text-align: right;\n",
              "    }\n",
              "</style>\n",
              "<table border=\"1\" class=\"dataframe\">\n",
              "  <thead>\n",
              "    <tr style=\"text-align: right;\">\n",
              "      <th></th>\n",
              "      <th>State</th>\n",
              "      <th>TotalPop</th>\n",
              "      <th>Hispanic</th>\n",
              "      <th>White</th>\n",
              "      <th>Black</th>\n",
              "      <th>Native</th>\n",
              "      <th>Asian</th>\n",
              "      <th>Pacific</th>\n",
              "      <th>Income</th>\n",
              "      <th>male_population</th>\n",
              "      <th>female_population</th>\n",
              "    </tr>\n",
              "  </thead>\n",
              "  <tbody>\n",
              "    <tr>\n",
              "      <th>0</th>\n",
              "      <td>Missouri</td>\n",
              "      <td>6045448</td>\n",
              "      <td>4.037247838616718%</td>\n",
              "      <td>77.508069164265%</td>\n",
              "      <td>14.122118155619594%</td>\n",
              "      <td>0.36332853025936646%</td>\n",
              "      <td>1.6244956772334296%</td>\n",
              "      <td>0.10165706051873193%</td>\n",
              "      <td>49763.98772563177</td>\n",
              "      <td>2964003</td>\n",
              "      <td>3081445.0</td>\n",
              "    </tr>\n",
              "    <tr>\n",
              "      <th>1</th>\n",
              "      <td>Montana</td>\n",
              "      <td>1014699</td>\n",
              "      <td>3.2688888888888896%</td>\n",
              "      <td>86.41555555555554%</td>\n",
              "      <td>0.4292592592592591%</td>\n",
              "      <td>7.0607407407407425%</td>\n",
              "      <td>0.5703703703703705%</td>\n",
              "      <td>0.07222222222222222%</td>\n",
              "      <td>47645.682835820895</td>\n",
              "      <td>510163</td>\n",
              "      <td>504536.0</td>\n",
              "    </tr>\n",
              "    <tr>\n",
              "      <th>2</th>\n",
              "      <td>Nebraska</td>\n",
              "      <td>1869365</td>\n",
              "      <td>9.203759398496235%</td>\n",
              "      <td>81.13947368421056%</td>\n",
              "      <td>4.956203007518794%</td>\n",
              "      <td>0.8644736842105263%</td>\n",
              "      <td>1.8590225563909788%</td>\n",
              "      <td>0.05714285714285715%</td>\n",
              "      <td>55916.469696969696</td>\n",
              "      <td>929606</td>\n",
              "      <td>939759.0</td>\n",
              "    </tr>\n",
              "    <tr>\n",
              "      <th>3</th>\n",
              "      <td>Nevada</td>\n",
              "      <td>2798636</td>\n",
              "      <td>27.100883652430046%</td>\n",
              "      <td>53.23932253313698%</td>\n",
              "      <td>7.739617083946994%</td>\n",
              "      <td>1.0871870397643593%</td>\n",
              "      <td>7.095729013254786%</td>\n",
              "      <td>0.5745213549337267%</td>\n",
              "      <td>55526.525073746314</td>\n",
              "      <td>1407735</td>\n",
              "      <td>1390901.0</td>\n",
              "    </tr>\n",
              "    <tr>\n",
              "      <th>4</th>\n",
              "      <td>New Hampshire</td>\n",
              "      <td>1324201</td>\n",
              "      <td>3.3219178082191796%</td>\n",
              "      <td>91.31917808219184%</td>\n",
              "      <td>1.2277397260273974%</td>\n",
              "      <td>0.14280821917808229%</td>\n",
              "      <td>2.191438356164382%</td>\n",
              "      <td>0.016095890410958904%</td>\n",
              "      <td>68728.8595890411</td>\n",
              "      <td>653484</td>\n",
              "      <td>670717.0</td>\n",
              "    </tr>\n",
              "  </tbody>\n",
              "</table>\n",
              "</div>"
            ],
            "text/plain": [
              "           State  TotalPop  ... male_population female_population\n",
              "0       Missouri   6045448  ...         2964003         3081445.0\n",
              "1        Montana   1014699  ...          510163          504536.0\n",
              "2       Nebraska   1869365  ...          929606          939759.0\n",
              "3         Nevada   2798636  ...         1407735         1390901.0\n",
              "4  New Hampshire   1324201  ...          653484          670717.0\n",
              "\n",
              "[5 rows x 11 columns]"
            ]
          },
          "metadata": {
            "tags": []
          },
          "execution_count": 36
        }
      ]
    },
    {
      "cell_type": "code",
      "metadata": {
        "colab": {
          "base_uri": "https://localhost:8080/",
          "height": 241
        },
        "id": "dkGtvBCHCZ05",
        "outputId": "df8ffaa8-ca8b-4def-aa2b-2de7fba43479"
      },
      "source": [
        "us_census.Hispanic = us_census.Hispanic.replace('[\\%]', '', regex=True)\r\n",
        "us_census.White = us_census.White.replace('[\\%]', '', regex=True)\r\n",
        "us_census.Black = us_census.Black.replace('[\\%]', '', regex=True)\r\n",
        "us_census.Native = us_census.Native.replace('[\\%]', '', regex=True)\r\n",
        "us_census.Asian = us_census.Asian.replace('[\\%]', '', regex=True)\r\n",
        "us_census.Pacific = us_census.Pacific.replace('[\\%]', '', regex=True)\r\n",
        "us_census.head()"
      ],
      "execution_count": 37,
      "outputs": [
        {
          "output_type": "execute_result",
          "data": {
            "text/html": [
              "<div>\n",
              "<style scoped>\n",
              "    .dataframe tbody tr th:only-of-type {\n",
              "        vertical-align: middle;\n",
              "    }\n",
              "\n",
              "    .dataframe tbody tr th {\n",
              "        vertical-align: top;\n",
              "    }\n",
              "\n",
              "    .dataframe thead th {\n",
              "        text-align: right;\n",
              "    }\n",
              "</style>\n",
              "<table border=\"1\" class=\"dataframe\">\n",
              "  <thead>\n",
              "    <tr style=\"text-align: right;\">\n",
              "      <th></th>\n",
              "      <th>State</th>\n",
              "      <th>TotalPop</th>\n",
              "      <th>Hispanic</th>\n",
              "      <th>White</th>\n",
              "      <th>Black</th>\n",
              "      <th>Native</th>\n",
              "      <th>Asian</th>\n",
              "      <th>Pacific</th>\n",
              "      <th>Income</th>\n",
              "      <th>male_population</th>\n",
              "      <th>female_population</th>\n",
              "    </tr>\n",
              "  </thead>\n",
              "  <tbody>\n",
              "    <tr>\n",
              "      <th>0</th>\n",
              "      <td>Missouri</td>\n",
              "      <td>6045448</td>\n",
              "      <td>4.037247838616718</td>\n",
              "      <td>77.508069164265</td>\n",
              "      <td>14.122118155619594</td>\n",
              "      <td>0.36332853025936646</td>\n",
              "      <td>1.6244956772334296</td>\n",
              "      <td>0.10165706051873193</td>\n",
              "      <td>49763.98772563177</td>\n",
              "      <td>2964003</td>\n",
              "      <td>3081445.0</td>\n",
              "    </tr>\n",
              "    <tr>\n",
              "      <th>1</th>\n",
              "      <td>Montana</td>\n",
              "      <td>1014699</td>\n",
              "      <td>3.2688888888888896</td>\n",
              "      <td>86.41555555555554</td>\n",
              "      <td>0.4292592592592591</td>\n",
              "      <td>7.0607407407407425</td>\n",
              "      <td>0.5703703703703705</td>\n",
              "      <td>0.07222222222222222</td>\n",
              "      <td>47645.682835820895</td>\n",
              "      <td>510163</td>\n",
              "      <td>504536.0</td>\n",
              "    </tr>\n",
              "    <tr>\n",
              "      <th>2</th>\n",
              "      <td>Nebraska</td>\n",
              "      <td>1869365</td>\n",
              "      <td>9.203759398496235</td>\n",
              "      <td>81.13947368421056</td>\n",
              "      <td>4.956203007518794</td>\n",
              "      <td>0.8644736842105263</td>\n",
              "      <td>1.8590225563909788</td>\n",
              "      <td>0.05714285714285715</td>\n",
              "      <td>55916.469696969696</td>\n",
              "      <td>929606</td>\n",
              "      <td>939759.0</td>\n",
              "    </tr>\n",
              "    <tr>\n",
              "      <th>3</th>\n",
              "      <td>Nevada</td>\n",
              "      <td>2798636</td>\n",
              "      <td>27.100883652430046</td>\n",
              "      <td>53.23932253313698</td>\n",
              "      <td>7.739617083946994</td>\n",
              "      <td>1.0871870397643593</td>\n",
              "      <td>7.095729013254786</td>\n",
              "      <td>0.5745213549337267</td>\n",
              "      <td>55526.525073746314</td>\n",
              "      <td>1407735</td>\n",
              "      <td>1390901.0</td>\n",
              "    </tr>\n",
              "    <tr>\n",
              "      <th>4</th>\n",
              "      <td>New Hampshire</td>\n",
              "      <td>1324201</td>\n",
              "      <td>3.3219178082191796</td>\n",
              "      <td>91.31917808219184</td>\n",
              "      <td>1.2277397260273974</td>\n",
              "      <td>0.14280821917808229</td>\n",
              "      <td>2.191438356164382</td>\n",
              "      <td>0.016095890410958904</td>\n",
              "      <td>68728.8595890411</td>\n",
              "      <td>653484</td>\n",
              "      <td>670717.0</td>\n",
              "    </tr>\n",
              "  </tbody>\n",
              "</table>\n",
              "</div>"
            ],
            "text/plain": [
              "           State  TotalPop  ... male_population female_population\n",
              "0       Missouri   6045448  ...         2964003         3081445.0\n",
              "1        Montana   1014699  ...          510163          504536.0\n",
              "2       Nebraska   1869365  ...          929606          939759.0\n",
              "3         Nevada   2798636  ...         1407735         1390901.0\n",
              "4  New Hampshire   1324201  ...          653484          670717.0\n",
              "\n",
              "[5 rows x 11 columns]"
            ]
          },
          "metadata": {
            "tags": []
          },
          "execution_count": 37
        }
      ]
    },
    {
      "cell_type": "code",
      "metadata": {
        "colab": {
          "base_uri": "https://localhost:8080/"
        },
        "id": "kqjXvCUECrcO",
        "outputId": "b6b76297-4bcc-4c1f-9618-d45569933db9"
      },
      "source": [
        "us_census.Hispanic = pd.to_numeric(us_census.Hispanic)\r\n",
        "us_census.White = pd.to_numeric(us_census.White)\r\n",
        "us_census.Black = pd.to_numeric(us_census.Black)\r\n",
        "us_census.Native = pd.to_numeric(us_census.Native)\r\n",
        "us_census.Asian = pd.to_numeric(us_census.Asian)\r\n",
        "us_census.Pacific = pd.to_numeric(us_census.Pacific)\r\n",
        "us_census.dtypes"
      ],
      "execution_count": 38,
      "outputs": [
        {
          "output_type": "execute_result",
          "data": {
            "text/plain": [
              "State                 object\n",
              "TotalPop               int64\n",
              "Hispanic             float64\n",
              "White                float64\n",
              "Black                float64\n",
              "Native               float64\n",
              "Asian                float64\n",
              "Pacific              float64\n",
              "Income                object\n",
              "male_population        int64\n",
              "female_population    float64\n",
              "dtype: object"
            ]
          },
          "metadata": {
            "tags": []
          },
          "execution_count": 38
        }
      ]
    },
    {
      "cell_type": "code",
      "metadata": {
        "colab": {
          "base_uri": "https://localhost:8080/"
        },
        "id": "0zV-5yt4C5pF",
        "outputId": "840693a4-61e5-40a1-813a-85a102265b15"
      },
      "source": [
        "Hnan = us_census.Hispanic.isnull()\r\n",
        "Hnan.value_counts()\r\n",
        "Wnan = us_census.White.isnull()\r\n",
        "Wnan.value_counts()\r\n",
        "Bnan = us_census.Black.isnull()\r\n",
        "Bnan.value_counts()\r\n",
        "Nnan = us_census.Native.isnull()\r\n",
        "Nnan.value_counts()\r\n",
        "Anan = us_census.Asian.isnull()\r\n",
        "Anan.value_counts()\r\n",
        "Pnan = us_census.Pacific.isnull()\r\n",
        "Pnan.value_counts()"
      ],
      "execution_count": 39,
      "outputs": [
        {
          "output_type": "execute_result",
          "data": {
            "text/plain": [
              "False    47\n",
              "True      4\n",
              "Name: Pacific, dtype: int64"
            ]
          },
          "metadata": {
            "tags": []
          },
          "execution_count": 39
        }
      ]
    },
    {
      "cell_type": "code",
      "metadata": {
        "colab": {
          "base_uri": "https://localhost:8080/"
        },
        "id": "ipbT-Ly3D_aE",
        "outputId": "2ad4ac1f-98e0-4c12-b67b-23629f6997ec"
      },
      "source": [
        "nan_value = 100 -(us_census.Hispanic + us_census.White + us_census.Black + us_census.Native + us_census.Asian)\r\n",
        "us_census.Pacific = us_census.Pacific.fillna(value=nan_value)\r\n",
        "us_census.Pacific"
      ],
      "execution_count": 40,
      "outputs": [
        {
          "output_type": "execute_result",
          "data": {
            "text/plain": [
              "0    0.101657\n",
              "1    0.072222\n",
              "2    0.057143\n",
              "3    0.574521\n",
              "4    0.016096\n",
              "5    0.031319\n",
              "0    0.034354\n",
              "1    1.058683\n",
              "2    0.167632\n",
              "3    0.146861\n",
              "4    0.351410\n",
              "5    2.537842\n",
              "0    0.022645\n",
              "1    0.106220\n",
              "2    0.345333\n",
              "3    0.019394\n",
              "4    0.001240\n",
              "5    0.035833\n",
              "0    0.046602\n",
              "1    8.758861\n",
              "2    0.127181\n",
              "3    0.020032\n",
              "4    0.032625\n",
              "5    0.055164\n",
              "1    0.042771\n",
              "2    0.023451\n",
              "3    0.052326\n",
              "4    1.821463\n",
              "0    0.036285\n",
              "1    0.019809\n",
              "2    0.019549\n",
              "3    0.032909\n",
              "4    0.015046\n",
              "1    2.764474\n",
              "2    0.046438\n",
              "3    0.039184\n",
              "4    0.015670\n",
              "0    0.825983\n",
              "1    0.030601\n",
              "2    0.064715\n",
              "3    0.609896\n",
              "4    0.026446\n",
              "5    0.020833\n",
              "1    0.046978\n",
              "2    0.041892\n",
              "3    0.043156\n",
              "4    0.068816\n",
              "1    0.018599\n",
              "2    2.270093\n",
              "3    0.029609\n",
              "4    0.051510\n",
              "Name: Pacific, dtype: float64"
            ]
          },
          "metadata": {
            "tags": []
          },
          "execution_count": 40
        }
      ]
    },
    {
      "cell_type": "code",
      "metadata": {
        "colab": {
          "base_uri": "https://localhost:8080/"
        },
        "id": "W9izG89MER8H",
        "outputId": "678bec4b-cd96-4935-d5a4-716ba924f548"
      },
      "source": [
        "nan_value = us_census.Pacific.mean()\r\n",
        "us_census.Pacific = us_census.Pacific.fillna(value=nan_value)\r\n",
        "us_census.Pacific"
      ],
      "execution_count": 41,
      "outputs": [
        {
          "output_type": "execute_result",
          "data": {
            "text/plain": [
              "0    0.101657\n",
              "1    0.072222\n",
              "2    0.057143\n",
              "3    0.574521\n",
              "4    0.016096\n",
              "5    0.031319\n",
              "0    0.034354\n",
              "1    1.058683\n",
              "2    0.167632\n",
              "3    0.146861\n",
              "4    0.351410\n",
              "5    2.537842\n",
              "0    0.022645\n",
              "1    0.106220\n",
              "2    0.345333\n",
              "3    0.019394\n",
              "4    0.001240\n",
              "5    0.035833\n",
              "0    0.046602\n",
              "1    8.758861\n",
              "2    0.127181\n",
              "3    0.020032\n",
              "4    0.032625\n",
              "5    0.055164\n",
              "1    0.042771\n",
              "2    0.023451\n",
              "3    0.052326\n",
              "4    1.821463\n",
              "0    0.036285\n",
              "1    0.019809\n",
              "2    0.019549\n",
              "3    0.032909\n",
              "4    0.015046\n",
              "1    2.764474\n",
              "2    0.046438\n",
              "3    0.039184\n",
              "4    0.015670\n",
              "0    0.825983\n",
              "1    0.030601\n",
              "2    0.064715\n",
              "3    0.609896\n",
              "4    0.026446\n",
              "5    0.020833\n",
              "1    0.046978\n",
              "2    0.041892\n",
              "3    0.043156\n",
              "4    0.068816\n",
              "1    0.018599\n",
              "2    2.270093\n",
              "3    0.029609\n",
              "4    0.051510\n",
              "Name: Pacific, dtype: float64"
            ]
          },
          "metadata": {
            "tags": []
          },
          "execution_count": 41
        }
      ]
    },
    {
      "cell_type": "code",
      "metadata": {
        "colab": {
          "base_uri": "https://localhost:8080/",
          "height": 204
        },
        "id": "xA4qw8zlEuCf",
        "outputId": "38db42ca-ee5d-4a09-836b-d4e0e6d9d1e1"
      },
      "source": [
        "us_census.head()"
      ],
      "execution_count": 42,
      "outputs": [
        {
          "output_type": "execute_result",
          "data": {
            "text/html": [
              "<div>\n",
              "<style scoped>\n",
              "    .dataframe tbody tr th:only-of-type {\n",
              "        vertical-align: middle;\n",
              "    }\n",
              "\n",
              "    .dataframe tbody tr th {\n",
              "        vertical-align: top;\n",
              "    }\n",
              "\n",
              "    .dataframe thead th {\n",
              "        text-align: right;\n",
              "    }\n",
              "</style>\n",
              "<table border=\"1\" class=\"dataframe\">\n",
              "  <thead>\n",
              "    <tr style=\"text-align: right;\">\n",
              "      <th></th>\n",
              "      <th>State</th>\n",
              "      <th>TotalPop</th>\n",
              "      <th>Hispanic</th>\n",
              "      <th>White</th>\n",
              "      <th>Black</th>\n",
              "      <th>Native</th>\n",
              "      <th>Asian</th>\n",
              "      <th>Pacific</th>\n",
              "      <th>Income</th>\n",
              "      <th>male_population</th>\n",
              "      <th>female_population</th>\n",
              "    </tr>\n",
              "  </thead>\n",
              "  <tbody>\n",
              "    <tr>\n",
              "      <th>0</th>\n",
              "      <td>Missouri</td>\n",
              "      <td>6045448</td>\n",
              "      <td>4.037248</td>\n",
              "      <td>77.508069</td>\n",
              "      <td>14.122118</td>\n",
              "      <td>0.363329</td>\n",
              "      <td>1.624496</td>\n",
              "      <td>0.101657</td>\n",
              "      <td>49763.98772563177</td>\n",
              "      <td>2964003</td>\n",
              "      <td>3081445.0</td>\n",
              "    </tr>\n",
              "    <tr>\n",
              "      <th>1</th>\n",
              "      <td>Montana</td>\n",
              "      <td>1014699</td>\n",
              "      <td>3.268889</td>\n",
              "      <td>86.415556</td>\n",
              "      <td>0.429259</td>\n",
              "      <td>7.060741</td>\n",
              "      <td>0.570370</td>\n",
              "      <td>0.072222</td>\n",
              "      <td>47645.682835820895</td>\n",
              "      <td>510163</td>\n",
              "      <td>504536.0</td>\n",
              "    </tr>\n",
              "    <tr>\n",
              "      <th>2</th>\n",
              "      <td>Nebraska</td>\n",
              "      <td>1869365</td>\n",
              "      <td>9.203759</td>\n",
              "      <td>81.139474</td>\n",
              "      <td>4.956203</td>\n",
              "      <td>0.864474</td>\n",
              "      <td>1.859023</td>\n",
              "      <td>0.057143</td>\n",
              "      <td>55916.469696969696</td>\n",
              "      <td>929606</td>\n",
              "      <td>939759.0</td>\n",
              "    </tr>\n",
              "    <tr>\n",
              "      <th>3</th>\n",
              "      <td>Nevada</td>\n",
              "      <td>2798636</td>\n",
              "      <td>27.100884</td>\n",
              "      <td>53.239323</td>\n",
              "      <td>7.739617</td>\n",
              "      <td>1.087187</td>\n",
              "      <td>7.095729</td>\n",
              "      <td>0.574521</td>\n",
              "      <td>55526.525073746314</td>\n",
              "      <td>1407735</td>\n",
              "      <td>1390901.0</td>\n",
              "    </tr>\n",
              "    <tr>\n",
              "      <th>4</th>\n",
              "      <td>New Hampshire</td>\n",
              "      <td>1324201</td>\n",
              "      <td>3.321918</td>\n",
              "      <td>91.319178</td>\n",
              "      <td>1.227740</td>\n",
              "      <td>0.142808</td>\n",
              "      <td>2.191438</td>\n",
              "      <td>0.016096</td>\n",
              "      <td>68728.8595890411</td>\n",
              "      <td>653484</td>\n",
              "      <td>670717.0</td>\n",
              "    </tr>\n",
              "  </tbody>\n",
              "</table>\n",
              "</div>"
            ],
            "text/plain": [
              "           State  TotalPop  ...  male_population  female_population\n",
              "0       Missouri   6045448  ...          2964003          3081445.0\n",
              "1        Montana   1014699  ...           510163           504536.0\n",
              "2       Nebraska   1869365  ...           929606           939759.0\n",
              "3         Nevada   2798636  ...          1407735          1390901.0\n",
              "4  New Hampshire   1324201  ...           653484           670717.0\n",
              "\n",
              "[5 rows x 11 columns]"
            ]
          },
          "metadata": {
            "tags": []
          },
          "execution_count": 42
        }
      ]
    },
    {
      "cell_type": "code",
      "metadata": {
        "colab": {
          "base_uri": "https://localhost:8080/",
          "height": 279
        },
        "id": "hNM5ozJcqUnA",
        "outputId": "ac995888-6108-4272-eb35-2361e6c84d6b"
      },
      "source": [
        "pyplot.hist(us_census.Hispanic)\r\n",
        "pyplot.xlabel('Percentage')\r\n",
        "pyplot.ylabel('Frequency of occurance')\r\n",
        "pyplot.show()"
      ],
      "execution_count": 43,
      "outputs": [
        {
          "output_type": "display_data",
          "data": {
            "image/png": "[encoded data removed]",
            "text/plain": [
              "<Figure size 432x288 with 1 Axes>"
            ]
          },
          "metadata": {
            "tags": [],
            "needs_background": "light"
          }
        }
      ]
    },
    {
      "cell_type": "code",
      "metadata": {
        "colab": {
          "base_uri": "https://localhost:8080/",
          "height": 279
        },
        "id": "PsNTPQ0rq524",
        "outputId": "43963a16-0c41-4f8a-ce41-f3eb1b78c70a"
      },
      "source": [
        "pyplot.hist(us_census.White)\r\n",
        "pyplot.xlabel('Percentage')\r\n",
        "pyplot.ylabel('Frequency of occurance')\r\n",
        "pyplot.show()"
      ],
      "execution_count": 44,
      "outputs": [
        {
          "output_type": "display_data",
          "data": {
            "image/png": "[encoded data removed]",
            "text/plain": [
              "<Figure size 432x288 with 1 Axes>"
            ]
          },
          "metadata": {
            "tags": [],
            "needs_background": "light"
          }
        }
      ]
    },
    {
      "cell_type": "code",
      "metadata": {
        "colab": {
          "base_uri": "https://localhost:8080/",
          "height": 279
        },
        "id": "8bBEVFjlq-Wp",
        "outputId": "9e949452-b841-4bc6-e03d-b4c9a5b79eac"
      },
      "source": [
        "pyplot.hist(us_census.Black)\r\n",
        "pyplot.xlabel('Percentage')\r\n",
        "pyplot.ylabel('Frequency of occurance')\r\n",
        "pyplot.show()"
      ],
      "execution_count": 45,
      "outputs": [
        {
          "output_type": "display_data",
          "data": {
            "image/png": "[encoded data removed]",
            "text/plain": [
              "<Figure size 432x288 with 1 Axes>"
            ]
          },
          "metadata": {
            "tags": [],
            "needs_background": "light"
          }
        }
      ]
    },
    {
      "cell_type": "code",
      "metadata": {
        "colab": {
          "base_uri": "https://localhost:8080/",
          "height": 279
        },
        "id": "Mk0yBtHVrBo5",
        "outputId": "78971428-24c4-4b95-93ae-8bb6e0d7975f"
      },
      "source": [
        "pyplot.hist(us_census.Native)\r\n",
        "pyplot.xlabel('Percentage')\r\n",
        "pyplot.ylabel('Frequency of occurance')\r\n",
        "pyplot.show()"
      ],
      "execution_count": 46,
      "outputs": [
        {
          "output_type": "display_data",
          "data": {
            "image/png": "[encoded data removed]",
            "text/plain": [
              "<Figure size 432x288 with 1 Axes>"
            ]
          },
          "metadata": {
            "tags": [],
            "needs_background": "light"
          }
        }
      ]
    },
    {
      "cell_type": "code",
      "metadata": {
        "colab": {
          "base_uri": "https://localhost:8080/",
          "height": 279
        },
        "id": "iOahhJAIrF5k",
        "outputId": "9b7328cf-d01e-41bc-bc5e-494135ede6a4"
      },
      "source": [
        "pyplot.hist(us_census.Asian)\r\n",
        "pyplot.xlabel('Percentage')\r\n",
        "pyplot.ylabel('Frequency of occurance')\r\n",
        "pyplot.show()"
      ],
      "execution_count": 47,
      "outputs": [
        {
          "output_type": "display_data",
          "data": {
            "image/png": "[encoded data removed]",
            "text/plain": [
              "<Figure size 432x288 with 1 Axes>"
            ]
          },
          "metadata": {
            "tags": [],
            "needs_background": "light"
          }
        }
      ]
    },
    {
      "cell_type": "code",
      "metadata": {
        "colab": {
          "base_uri": "https://localhost:8080/",
          "height": 279
        },
        "id": "kkqrPa2mrILF",
        "outputId": "cabda245-5ee1-4947-abdb-0ed5640bce2f"
      },
      "source": [
        "pyplot.hist(us_census.Pacific)\r\n",
        "pyplot.xlabel('Percentage')\r\n",
        "pyplot.ylabel('Frequency of occurance')\r\n",
        "pyplot.show()"
      ],
      "execution_count": 48,
      "outputs": [
        {
          "output_type": "display_data",
          "data": {
            "image/png": "[encoded data removed]",
            "text/plain": [
              "<Figure size 432x288 with 1 Axes>"
            ]
          },
          "metadata": {
            "tags": [],
            "needs_background": "light"
          }
        }
      ]
    },
    {
      "cell_type": "code",
      "metadata": {
        "id": "1KqAGcNmrL4F"
      },
      "source": [
        ""
      ],
      "execution_count": null,
      "outputs": []
    }
  ]
}