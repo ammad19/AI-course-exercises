{
  "nbformat": 4,
  "nbformat_minor": 0,
  "metadata": {
    "colab": {
      "name": "pandas_assignment.ipynb",
      "provenance": [],
      "collapsed_sections": [],
      "toc_visible": true,
      "authorship_tag": "ABX9TyP6+xMXxEBzlsxaSbZw/2ck",
      "include_colab_link": true
    },
    "kernelspec": {
      "name": "python3",
      "display_name": "Python 3"
    }
  },
  "cells": [
    {
      "cell_type": "markdown",
      "metadata": {
        "id": "view-in-github",
        "colab_type": "text"
      },
      "source": [
        "<a href=\"https://colab.research.google.com/github/ammad19/AI-course-exercises/blob/master/pandas_assignment.ipynb\" target=\"_parent\"><img src=\"https://colab.research.google.com/assets/colab-badge.svg\" alt=\"Open In Colab\"/></a>"
      ]
    },
    {
      "cell_type": "code",
      "metadata": {
        "colab": {
          "base_uri": "https://localhost:8080/"
        },
        "id": "MaTeJGvUXerz",
        "outputId": "216304bb-d4af-4cca-d1db-a7be8fdff5a1"
      },
      "source": [
        "!pwd"
      ],
      "execution_count": 1,
      "outputs": [
        {
          "output_type": "stream",
          "text": [
            "/content\n"
          ],
          "name": "stdout"
        }
      ]
    },
    {
      "cell_type": "code",
      "metadata": {
        "colab": {
          "base_uri": "https://localhost:8080/"
        },
        "id": "1uFvdGBKYWsZ",
        "outputId": "49c1dc36-8d81-40a8-f169-aae6a7b309f3"
      },
      "source": [
        "!unzip Assignment.rar"
      ],
      "execution_count": 2,
      "outputs": [
        {
          "output_type": "stream",
          "text": [
            "Archive:  Assignment.rar\n",
            "  End-of-central-directory signature not found.  Either this file is not\n",
            "  a zipfile, or it constitutes one disk of a multi-part archive.  In the\n",
            "  latter case the central directory and zipfile comment will be found on\n",
            "  the last disk(s) of this archive.\n",
            "unzip:  cannot find zipfile directory in one of Assignment.rar or\n",
            "        Assignment.rar.zip, and cannot find Assignment.rar.ZIP, period.\n"
          ],
          "name": "stdout"
        }
      ]
    },
    {
      "cell_type": "code",
      "metadata": {
        "colab": {
          "base_uri": "https://localhost:8080/"
        },
        "id": "0avo2CS0Yat7",
        "outputId": "aaf20789-0946-40ab-b771-ffeee66e5fbc"
      },
      "source": [
        "!unrar x Assignment.rar"
      ],
      "execution_count": 4,
      "outputs": [
        {
          "output_type": "stream",
          "text": [
            "\n",
            "UNRAR 5.50 freeware      Copyright (c) 1993-2017 Alexander Roshal\n",
            "\n",
            "\n",
            "Extracting from Assignment.rar\n",
            "\n",
            "Creating    Assignment                                                OK\n",
            "Extracting  Assignment/inventory.csv                                     \b\b\b\b  3%\b\b\b\b\b  OK \n",
            "Extracting  Assignment/README.md                                         \b\b\b\b 30%\b\b\b\b\b  OK \n",
            "Extracting  Assignment/states0.csv                                       \b\b\b\b 37%\b\b\b\b\b  OK \n",
            "Extracting  Assignment/states1.csv                                       \b\b\b\b 44%\b\b\b\b\b  OK \n",
            "Extracting  Assignment/states2.csv                                       \b\b\b\b 51%\b\b\b\b\b  OK \n",
            "Extracting  Assignment/states3.csv                                       \b\b\b\b 57%\b\b\b\b\b  OK \n",
            "Extracting  Assignment/states4.csv                                       \b\b\b\b 65%\b\b\b\b\b  OK \n",
            "Extracting  Assignment/states5.csv                                       \b\b\b\b 71%\b\b\b\b\b  OK \n",
            "Extracting  Assignment/states6.csv                                       \b\b\b\b 78%\b\b\b\b\b  OK \n",
            "Extracting  Assignment/states7.csv                                       \b\b\b\b 85%\b\b\b\b\b  OK \n",
            "Extracting  Assignment/states8.csv                                       \b\b\b\b 92%\b\b\b\b\b  OK \n",
            "Extracting  Assignment/states9.csv                                       \b\b\b\b 99%\b\b\b\b\b  OK \n",
            "All OK\n"
          ],
          "name": "stdout"
        }
      ]
    },
    {
      "cell_type": "code",
      "metadata": {
        "colab": {
          "base_uri": "https://localhost:8080/"
        },
        "id": "YtmKrTu7Yn7Y",
        "outputId": "5db1c767-16bb-4ceb-eda7-1e8a8f3b220f"
      },
      "source": [
        "!pwd"
      ],
      "execution_count": 5,
      "outputs": [
        {
          "output_type": "stream",
          "text": [
            "/content\n"
          ],
          "name": "stdout"
        }
      ]
    },
    {
      "cell_type": "code",
      "metadata": {
        "colab": {
          "base_uri": "https://localhost:8080/"
        },
        "id": "i8cNZcb-Y2HU",
        "outputId": "16ac699c-8be2-47a7-96de-2d7cecdd60e8"
      },
      "source": [
        "import pandas as pd\r\n",
        "import glob\r\n",
        "import numpy as np\r\n",
        "import matplotlib.pyplot as pyplot\r\n",
        "\r\n",
        "census_files = glob.glob(\"Assignment/states*.csv\")\r\n",
        "\r\n",
        "file_list = []\r\n",
        "for filename in census_files:\r\n",
        "    data = pd.read_csv(filename)\r\n",
        "    file_list.append(data)\r\n",
        "\r\n",
        "census_files"
      ],
      "execution_count": 7,
      "outputs": [
        {
          "output_type": "execute_result",
          "data": {
            "text/plain": [
              "['Assignment/states8.csv',\n",
              " 'Assignment/states3.csv',\n",
              " 'Assignment/states4.csv',\n",
              " 'Assignment/states5.csv',\n",
              " 'Assignment/states7.csv',\n",
              " 'Assignment/states1.csv',\n",
              " 'Assignment/states9.csv',\n",
              " 'Assignment/states2.csv',\n",
              " 'Assignment/states0.csv',\n",
              " 'Assignment/states6.csv']"
            ]
          },
          "metadata": {
            "tags": []
          },
          "execution_count": 7
        }
      ]
    },
    {
      "cell_type": "code",
      "metadata": {
        "colab": {
          "base_uri": "https://localhost:8080/",
          "height": 292
        },
        "id": "p4umNQlVuozs",
        "outputId": "91a5af44-329a-42ba-a4c6-b958a59d1cd3"
      },
      "source": [
        "us_census = pd.concat(file_list)\r\n",
        "us_census.head()"
      ],
      "execution_count": 8,
      "outputs": [
        {
          "output_type": "execute_result",
          "data": {
            "text/html": [
              "<div>\n",
              "<style scoped>\n",
              "    .dataframe tbody tr th:only-of-type {\n",
              "        vertical-align: middle;\n",
              "    }\n",
              "\n",
              "    .dataframe tbody tr th {\n",
              "        vertical-align: top;\n",
              "    }\n",
              "\n",
              "    .dataframe thead th {\n",
              "        text-align: right;\n",
              "    }\n",
              "</style>\n",
              "<table border=\"1\" class=\"dataframe\">\n",
              "  <thead>\n",
              "    <tr style=\"text-align: right;\">\n",
              "      <th></th>\n",
              "      <th>Unnamed: 0</th>\n",
              "      <th>State</th>\n",
              "      <th>TotalPop</th>\n",
              "      <th>Hispanic</th>\n",
              "      <th>White</th>\n",
              "      <th>Black</th>\n",
              "      <th>Native</th>\n",
              "      <th>Asian</th>\n",
              "      <th>Pacific</th>\n",
              "      <th>Income</th>\n",
              "      <th>GenderPop</th>\n",
              "    </tr>\n",
              "  </thead>\n",
              "  <tbody>\n",
              "    <tr>\n",
              "      <th>0</th>\n",
              "      <td>0</td>\n",
              "      <td>Rhode Island</td>\n",
              "      <td>1053661</td>\n",
              "      <td>13.356666666666678%</td>\n",
              "      <td>74.32541666666665%</td>\n",
              "      <td>5.68291666666667%</td>\n",
              "      <td>0.3462500000000001%</td>\n",
              "      <td>3.2474999999999983%</td>\n",
              "      <td>0.035833333333333335%</td>\n",
              "      <td>$59125.270833333336</td>\n",
              "      <td>510388M_543273F</td>\n",
              "    </tr>\n",
              "    <tr>\n",
              "      <th>1</th>\n",
              "      <td>1</td>\n",
              "      <td>South Carolina</td>\n",
              "      <td>4777576</td>\n",
              "      <td>5.056684981684991%</td>\n",
              "      <td>62.888736263736185%</td>\n",
              "      <td>28.75091575091577%</td>\n",
              "      <td>0.2923992673992673%</td>\n",
              "      <td>1.249175824175822%</td>\n",
              "      <td>0.046978021978021964%</td>\n",
              "      <td>$46296.807763401106</td>\n",
              "      <td>2322409M_2455167F</td>\n",
              "    </tr>\n",
              "    <tr>\n",
              "      <th>2</th>\n",
              "      <td>2</td>\n",
              "      <td>South Dakota</td>\n",
              "      <td>843190</td>\n",
              "      <td>3.2396396396396376%</td>\n",
              "      <td>82.50090090090092%</td>\n",
              "      <td>1.4238738738738752%</td>\n",
              "      <td>9.417567567567566%</td>\n",
              "      <td>1.0193693693693688%</td>\n",
              "      <td>0.04189189189189189%</td>\n",
              "      <td>$51805.40540540541</td>\n",
              "      <td>423477M_419713F</td>\n",
              "    </tr>\n",
              "    <tr>\n",
              "      <th>3</th>\n",
              "      <td>3</td>\n",
              "      <td>Tennessee</td>\n",
              "      <td>6499615</td>\n",
              "      <td>4.720026972353339%</td>\n",
              "      <td>73.49008766014822%</td>\n",
              "      <td>18.283816587997297%</td>\n",
              "      <td>0.22663519892110592%</td>\n",
              "      <td>1.4072825354012126%</td>\n",
              "      <td>0.04315576534052599%</td>\n",
              "      <td>$47328.083616587355</td>\n",
              "      <td>3167756M_3331859F</td>\n",
              "    </tr>\n",
              "    <tr>\n",
              "      <th>4</th>\n",
              "      <td>4</td>\n",
              "      <td>Texas</td>\n",
              "      <td>26538614</td>\n",
              "      <td>38.04673809068304%</td>\n",
              "      <td>44.687908934379145%</td>\n",
              "      <td>11.65004782858236%</td>\n",
              "      <td>0.26114405969007126%</td>\n",
              "      <td>3.6696958102161825%</td>\n",
              "      <td>0.06881576430074614%</td>\n",
              "      <td>$55874.522600500095</td>\n",
              "      <td>13171316M_13367298F</td>\n",
              "    </tr>\n",
              "  </tbody>\n",
              "</table>\n",
              "</div>"
            ],
            "text/plain": [
              "   Unnamed: 0           State  ...               Income            GenderPop\n",
              "0           0    Rhode Island  ...  $59125.270833333336      510388M_543273F\n",
              "1           1  South Carolina  ...  $46296.807763401106    2322409M_2455167F\n",
              "2           2    South Dakota  ...   $51805.40540540541      423477M_419713F\n",
              "3           3       Tennessee  ...  $47328.083616587355    3167756M_3331859F\n",
              "4           4           Texas  ...  $55874.522600500095  13171316M_13367298F\n",
              "\n",
              "[5 rows x 11 columns]"
            ]
          },
          "metadata": {
            "tags": []
          },
          "execution_count": 8
        }
      ]
    },
    {
      "cell_type": "code",
      "metadata": {
        "colab": {
          "base_uri": "https://localhost:8080/"
        },
        "id": "hyHC3w7wu-O2",
        "outputId": "04bcf784-842c-4c2d-e527-5ec3bc1863d0"
      },
      "source": [
        "us_census.columns"
      ],
      "execution_count": 9,
      "outputs": [
        {
          "output_type": "execute_result",
          "data": {
            "text/plain": [
              "Index(['Unnamed: 0', 'State', 'TotalPop', 'Hispanic', 'White', 'Black',\n",
              "       'Native', 'Asian', 'Pacific', 'Income', 'GenderPop'],\n",
              "      dtype='object')"
            ]
          },
          "metadata": {
            "tags": []
          },
          "execution_count": 9
        }
      ]
    },
    {
      "cell_type": "code",
      "metadata": {
        "colab": {
          "base_uri": "https://localhost:8080/"
        },
        "id": "6tvFIzDCve_X",
        "outputId": "13a2ba0f-9cbe-47e8-bc70-f731c281dda6"
      },
      "source": [
        "us_census.dtypes"
      ],
      "execution_count": 10,
      "outputs": [
        {
          "output_type": "execute_result",
          "data": {
            "text/plain": [
              "Unnamed: 0     int64\n",
              "State         object\n",
              "TotalPop       int64\n",
              "Hispanic      object\n",
              "White         object\n",
              "Black         object\n",
              "Native        object\n",
              "Asian         object\n",
              "Pacific       object\n",
              "Income        object\n",
              "GenderPop     object\n",
              "dtype: object"
            ]
          },
          "metadata": {
            "tags": []
          },
          "execution_count": 10
        }
      ]
    },
    {
      "cell_type": "code",
      "metadata": {
        "colab": {
          "base_uri": "https://localhost:8080/"
        },
        "id": "DPSEzP4AviZ9",
        "outputId": "d9c52593-292d-4a98-8d2c-e7e09f0243ba"
      },
      "source": [
        "us_census.Income = us_census.Income.replace('[\\$]', '', regex=True)\r\n",
        "us_census.Income.head()"
      ],
      "execution_count": 11,
      "outputs": [
        {
          "output_type": "execute_result",
          "data": {
            "text/plain": [
              "0    59125.270833333336\n",
              "1    46296.807763401106\n",
              "2     51805.40540540541\n",
              "3    47328.083616587355\n",
              "4    55874.522600500095\n",
              "Name: Income, dtype: object"
            ]
          },
          "metadata": {
            "tags": []
          },
          "execution_count": 11
        }
      ]
    },
    {
      "cell_type": "code",
      "metadata": {
        "colab": {
          "base_uri": "https://localhost:8080/"
        },
        "id": "QRHcGrMFv5mo",
        "outputId": "3a7a7d5b-cbff-417a-e84e-a2d9b39ed3c0"
      },
      "source": [
        "population_split = us_census.GenderPop.str.split(\"_\")\r\n",
        "population_split.head()"
      ],
      "execution_count": 12,
      "outputs": [
        {
          "output_type": "execute_result",
          "data": {
            "text/plain": [
              "0        [510388M, 543273F]\n",
              "1      [2322409M, 2455167F]\n",
              "2        [423477M, 419713F]\n",
              "3      [3167756M, 3331859F]\n",
              "4    [13171316M, 13367298F]\n",
              "Name: GenderPop, dtype: object"
            ]
          },
          "metadata": {
            "tags": []
          },
          "execution_count": 12
        }
      ]
    },
    {
      "cell_type": "code",
      "metadata": {
        "colab": {
          "base_uri": "https://localhost:8080/",
          "height": 292
        },
        "id": "FchDDksgwCLq",
        "outputId": "2ee35244-a25e-4480-b51c-6471e2aee267"
      },
      "source": [
        "us_census['male_population'] = population_split.str.get(0)\r\n",
        "us_census['female_population'] = population_split.str.get(1)\r\n",
        "us_census.head()"
      ],
      "execution_count": 13,
      "outputs": [
        {
          "output_type": "execute_result",
          "data": {
            "text/html": [
              "<div>\n",
              "<style scoped>\n",
              "    .dataframe tbody tr th:only-of-type {\n",
              "        vertical-align: middle;\n",
              "    }\n",
              "\n",
              "    .dataframe tbody tr th {\n",
              "        vertical-align: top;\n",
              "    }\n",
              "\n",
              "    .dataframe thead th {\n",
              "        text-align: right;\n",
              "    }\n",
              "</style>\n",
              "<table border=\"1\" class=\"dataframe\">\n",
              "  <thead>\n",
              "    <tr style=\"text-align: right;\">\n",
              "      <th></th>\n",
              "      <th>Unnamed: 0</th>\n",
              "      <th>State</th>\n",
              "      <th>TotalPop</th>\n",
              "      <th>Hispanic</th>\n",
              "      <th>White</th>\n",
              "      <th>Black</th>\n",
              "      <th>Native</th>\n",
              "      <th>Asian</th>\n",
              "      <th>Pacific</th>\n",
              "      <th>Income</th>\n",
              "      <th>GenderPop</th>\n",
              "      <th>male_population</th>\n",
              "      <th>female_population</th>\n",
              "    </tr>\n",
              "  </thead>\n",
              "  <tbody>\n",
              "    <tr>\n",
              "      <th>0</th>\n",
              "      <td>0</td>\n",
              "      <td>Rhode Island</td>\n",
              "      <td>1053661</td>\n",
              "      <td>13.356666666666678%</td>\n",
              "      <td>74.32541666666665%</td>\n",
              "      <td>5.68291666666667%</td>\n",
              "      <td>0.3462500000000001%</td>\n",
              "      <td>3.2474999999999983%</td>\n",
              "      <td>0.035833333333333335%</td>\n",
              "      <td>59125.270833333336</td>\n",
              "      <td>510388M_543273F</td>\n",
              "      <td>510388M</td>\n",
              "      <td>543273F</td>\n",
              "    </tr>\n",
              "    <tr>\n",
              "      <th>1</th>\n",
              "      <td>1</td>\n",
              "      <td>South Carolina</td>\n",
              "      <td>4777576</td>\n",
              "      <td>5.056684981684991%</td>\n",
              "      <td>62.888736263736185%</td>\n",
              "      <td>28.75091575091577%</td>\n",
              "      <td>0.2923992673992673%</td>\n",
              "      <td>1.249175824175822%</td>\n",
              "      <td>0.046978021978021964%</td>\n",
              "      <td>46296.807763401106</td>\n",
              "      <td>2322409M_2455167F</td>\n",
              "      <td>2322409M</td>\n",
              "      <td>2455167F</td>\n",
              "    </tr>\n",
              "    <tr>\n",
              "      <th>2</th>\n",
              "      <td>2</td>\n",
              "      <td>South Dakota</td>\n",
              "      <td>843190</td>\n",
              "      <td>3.2396396396396376%</td>\n",
              "      <td>82.50090090090092%</td>\n",
              "      <td>1.4238738738738752%</td>\n",
              "      <td>9.417567567567566%</td>\n",
              "      <td>1.0193693693693688%</td>\n",
              "      <td>0.04189189189189189%</td>\n",
              "      <td>51805.40540540541</td>\n",
              "      <td>423477M_419713F</td>\n",
              "      <td>423477M</td>\n",
              "      <td>419713F</td>\n",
              "    </tr>\n",
              "    <tr>\n",
              "      <th>3</th>\n",
              "      <td>3</td>\n",
              "      <td>Tennessee</td>\n",
              "      <td>6499615</td>\n",
              "      <td>4.720026972353339%</td>\n",
              "      <td>73.49008766014822%</td>\n",
              "      <td>18.283816587997297%</td>\n",
              "      <td>0.22663519892110592%</td>\n",
              "      <td>1.4072825354012126%</td>\n",
              "      <td>0.04315576534052599%</td>\n",
              "      <td>47328.083616587355</td>\n",
              "      <td>3167756M_3331859F</td>\n",
              "      <td>3167756M</td>\n",
              "      <td>3331859F</td>\n",
              "    </tr>\n",
              "    <tr>\n",
              "      <th>4</th>\n",
              "      <td>4</td>\n",
              "      <td>Texas</td>\n",
              "      <td>26538614</td>\n",
              "      <td>38.04673809068304%</td>\n",
              "      <td>44.687908934379145%</td>\n",
              "      <td>11.65004782858236%</td>\n",
              "      <td>0.26114405969007126%</td>\n",
              "      <td>3.6696958102161825%</td>\n",
              "      <td>0.06881576430074614%</td>\n",
              "      <td>55874.522600500095</td>\n",
              "      <td>13171316M_13367298F</td>\n",
              "      <td>13171316M</td>\n",
              "      <td>13367298F</td>\n",
              "    </tr>\n",
              "  </tbody>\n",
              "</table>\n",
              "</div>"
            ],
            "text/plain": [
              "   Unnamed: 0           State  ...  male_population female_population\n",
              "0           0    Rhode Island  ...          510388M           543273F\n",
              "1           1  South Carolina  ...         2322409M          2455167F\n",
              "2           2    South Dakota  ...          423477M           419713F\n",
              "3           3       Tennessee  ...         3167756M          3331859F\n",
              "4           4           Texas  ...        13171316M         13367298F\n",
              "\n",
              "[5 rows x 13 columns]"
            ]
          },
          "metadata": {
            "tags": []
          },
          "execution_count": 13
        }
      ]
    },
    {
      "cell_type": "code",
      "metadata": {
        "colab": {
          "base_uri": "https://localhost:8080/",
          "height": 204
        },
        "id": "ZtOK3NNnw6TL",
        "outputId": "11d83f3e-5ee1-4d9f-85e2-5076f66d5238"
      },
      "source": [
        "pop_split = pd.DataFrame() # Create a temp empty df\r\n",
        "pop_split['male_pop'] = us_census.male_population.str[0:-1]\r\n",
        "pop_split['female_pop'] = us_census.female_population.str[0:-1]\r\n",
        "pop_split.head()"
      ],
      "execution_count": 14,
      "outputs": [
        {
          "output_type": "execute_result",
          "data": {
            "text/html": [
              "<div>\n",
              "<style scoped>\n",
              "    .dataframe tbody tr th:only-of-type {\n",
              "        vertical-align: middle;\n",
              "    }\n",
              "\n",
              "    .dataframe tbody tr th {\n",
              "        vertical-align: top;\n",
              "    }\n",
              "\n",
              "    .dataframe thead th {\n",
              "        text-align: right;\n",
              "    }\n",
              "</style>\n",
              "<table border=\"1\" class=\"dataframe\">\n",
              "  <thead>\n",
              "    <tr style=\"text-align: right;\">\n",
              "      <th></th>\n",
              "      <th>male_pop</th>\n",
              "      <th>female_pop</th>\n",
              "    </tr>\n",
              "  </thead>\n",
              "  <tbody>\n",
              "    <tr>\n",
              "      <th>0</th>\n",
              "      <td>510388</td>\n",
              "      <td>543273</td>\n",
              "    </tr>\n",
              "    <tr>\n",
              "      <th>1</th>\n",
              "      <td>2322409</td>\n",
              "      <td>2455167</td>\n",
              "    </tr>\n",
              "    <tr>\n",
              "      <th>2</th>\n",
              "      <td>423477</td>\n",
              "      <td>419713</td>\n",
              "    </tr>\n",
              "    <tr>\n",
              "      <th>3</th>\n",
              "      <td>3167756</td>\n",
              "      <td>3331859</td>\n",
              "    </tr>\n",
              "    <tr>\n",
              "      <th>4</th>\n",
              "      <td>13171316</td>\n",
              "      <td>13367298</td>\n",
              "    </tr>\n",
              "  </tbody>\n",
              "</table>\n",
              "</div>"
            ],
            "text/plain": [
              "   male_pop female_pop\n",
              "0    510388     543273\n",
              "1   2322409    2455167\n",
              "2    423477     419713\n",
              "3   3167756    3331859\n",
              "4  13171316   13367298"
            ]
          },
          "metadata": {
            "tags": []
          },
          "execution_count": 14
        }
      ]
    },
    {
      "cell_type": "code",
      "metadata": {
        "colab": {
          "base_uri": "https://localhost:8080/",
          "height": 292
        },
        "id": "9XBpA9IAxHsd",
        "outputId": "dd59b29d-ceb9-448f-da9a-70acf8212077"
      },
      "source": [
        "us_census = pd.concat([us_census, pop_split], axis = 1)\r\n",
        "us_census.head()"
      ],
      "execution_count": 15,
      "outputs": [
        {
          "output_type": "execute_result",
          "data": {
            "text/html": [
              "<div>\n",
              "<style scoped>\n",
              "    .dataframe tbody tr th:only-of-type {\n",
              "        vertical-align: middle;\n",
              "    }\n",
              "\n",
              "    .dataframe tbody tr th {\n",
              "        vertical-align: top;\n",
              "    }\n",
              "\n",
              "    .dataframe thead th {\n",
              "        text-align: right;\n",
              "    }\n",
              "</style>\n",
              "<table border=\"1\" class=\"dataframe\">\n",
              "  <thead>\n",
              "    <tr style=\"text-align: right;\">\n",
              "      <th></th>\n",
              "      <th>Unnamed: 0</th>\n",
              "      <th>State</th>\n",
              "      <th>TotalPop</th>\n",
              "      <th>Hispanic</th>\n",
              "      <th>White</th>\n",
              "      <th>Black</th>\n",
              "      <th>Native</th>\n",
              "      <th>Asian</th>\n",
              "      <th>Pacific</th>\n",
              "      <th>Income</th>\n",
              "      <th>GenderPop</th>\n",
              "      <th>male_population</th>\n",
              "      <th>female_population</th>\n",
              "      <th>male_pop</th>\n",
              "      <th>female_pop</th>\n",
              "    </tr>\n",
              "  </thead>\n",
              "  <tbody>\n",
              "    <tr>\n",
              "      <th>0</th>\n",
              "      <td>0</td>\n",
              "      <td>Rhode Island</td>\n",
              "      <td>1053661</td>\n",
              "      <td>13.356666666666678%</td>\n",
              "      <td>74.32541666666665%</td>\n",
              "      <td>5.68291666666667%</td>\n",
              "      <td>0.3462500000000001%</td>\n",
              "      <td>3.2474999999999983%</td>\n",
              "      <td>0.035833333333333335%</td>\n",
              "      <td>59125.270833333336</td>\n",
              "      <td>510388M_543273F</td>\n",
              "      <td>510388M</td>\n",
              "      <td>543273F</td>\n",
              "      <td>510388</td>\n",
              "      <td>543273</td>\n",
              "    </tr>\n",
              "    <tr>\n",
              "      <th>1</th>\n",
              "      <td>1</td>\n",
              "      <td>South Carolina</td>\n",
              "      <td>4777576</td>\n",
              "      <td>5.056684981684991%</td>\n",
              "      <td>62.888736263736185%</td>\n",
              "      <td>28.75091575091577%</td>\n",
              "      <td>0.2923992673992673%</td>\n",
              "      <td>1.249175824175822%</td>\n",
              "      <td>0.046978021978021964%</td>\n",
              "      <td>46296.807763401106</td>\n",
              "      <td>2322409M_2455167F</td>\n",
              "      <td>2322409M</td>\n",
              "      <td>2455167F</td>\n",
              "      <td>2322409</td>\n",
              "      <td>2455167</td>\n",
              "    </tr>\n",
              "    <tr>\n",
              "      <th>2</th>\n",
              "      <td>2</td>\n",
              "      <td>South Dakota</td>\n",
              "      <td>843190</td>\n",
              "      <td>3.2396396396396376%</td>\n",
              "      <td>82.50090090090092%</td>\n",
              "      <td>1.4238738738738752%</td>\n",
              "      <td>9.417567567567566%</td>\n",
              "      <td>1.0193693693693688%</td>\n",
              "      <td>0.04189189189189189%</td>\n",
              "      <td>51805.40540540541</td>\n",
              "      <td>423477M_419713F</td>\n",
              "      <td>423477M</td>\n",
              "      <td>419713F</td>\n",
              "      <td>423477</td>\n",
              "      <td>419713</td>\n",
              "    </tr>\n",
              "    <tr>\n",
              "      <th>3</th>\n",
              "      <td>3</td>\n",
              "      <td>Tennessee</td>\n",
              "      <td>6499615</td>\n",
              "      <td>4.720026972353339%</td>\n",
              "      <td>73.49008766014822%</td>\n",
              "      <td>18.283816587997297%</td>\n",
              "      <td>0.22663519892110592%</td>\n",
              "      <td>1.4072825354012126%</td>\n",
              "      <td>0.04315576534052599%</td>\n",
              "      <td>47328.083616587355</td>\n",
              "      <td>3167756M_3331859F</td>\n",
              "      <td>3167756M</td>\n",
              "      <td>3331859F</td>\n",
              "      <td>3167756</td>\n",
              "      <td>3331859</td>\n",
              "    </tr>\n",
              "    <tr>\n",
              "      <th>4</th>\n",
              "      <td>4</td>\n",
              "      <td>Texas</td>\n",
              "      <td>26538614</td>\n",
              "      <td>38.04673809068304%</td>\n",
              "      <td>44.687908934379145%</td>\n",
              "      <td>11.65004782858236%</td>\n",
              "      <td>0.26114405969007126%</td>\n",
              "      <td>3.6696958102161825%</td>\n",
              "      <td>0.06881576430074614%</td>\n",
              "      <td>55874.522600500095</td>\n",
              "      <td>13171316M_13367298F</td>\n",
              "      <td>13171316M</td>\n",
              "      <td>13367298F</td>\n",
              "      <td>13171316</td>\n",
              "      <td>13367298</td>\n",
              "    </tr>\n",
              "  </tbody>\n",
              "</table>\n",
              "</div>"
            ],
            "text/plain": [
              "   Unnamed: 0           State  TotalPop  ... female_population  male_pop female_pop\n",
              "0           0    Rhode Island   1053661  ...           543273F    510388     543273\n",
              "1           1  South Carolina   4777576  ...          2455167F   2322409    2455167\n",
              "2           2    South Dakota    843190  ...           419713F    423477     419713\n",
              "3           3       Tennessee   6499615  ...          3331859F   3167756    3331859\n",
              "4           4           Texas  26538614  ...         13367298F  13171316   13367298\n",
              "\n",
              "[5 rows x 15 columns]"
            ]
          },
          "metadata": {
            "tags": []
          },
          "execution_count": 15
        }
      ]
    },
    {
      "cell_type": "code",
      "metadata": {
        "colab": {
          "base_uri": "https://localhost:8080/",
          "height": 275
        },
        "id": "DJnvnXEOxRzH",
        "outputId": "f5b5faaa-f959-48bd-f85e-919d85e92561"
      },
      "source": [
        "# Gather the columns we want into the df\r\n",
        "us_census = us_census[['State', 'TotalPop', 'Hispanic', 'White', 'Black',\r\n",
        "       'Native', 'Asian', 'Pacific', 'Income', 'male_pop', 'female_pop',]]\r\n",
        "# Rename the male and female population columns\r\n",
        "us_census.columns = ['State', 'TotalPop', 'Hispanic', 'White', 'Black', 'Native', 'Asian',\r\n",
        "       'Pacific', 'Income', 'male_population', 'female_population']\r\n",
        "us_census.head()"
      ],
      "execution_count": 16,
      "outputs": [
        {
          "output_type": "execute_result",
          "data": {
            "text/html": [
              "<div>\n",
              "<style scoped>\n",
              "    .dataframe tbody tr th:only-of-type {\n",
              "        vertical-align: middle;\n",
              "    }\n",
              "\n",
              "    .dataframe tbody tr th {\n",
              "        vertical-align: top;\n",
              "    }\n",
              "\n",
              "    .dataframe thead th {\n",
              "        text-align: right;\n",
              "    }\n",
              "</style>\n",
              "<table border=\"1\" class=\"dataframe\">\n",
              "  <thead>\n",
              "    <tr style=\"text-align: right;\">\n",
              "      <th></th>\n",
              "      <th>State</th>\n",
              "      <th>TotalPop</th>\n",
              "      <th>Hispanic</th>\n",
              "      <th>White</th>\n",
              "      <th>Black</th>\n",
              "      <th>Native</th>\n",
              "      <th>Asian</th>\n",
              "      <th>Pacific</th>\n",
              "      <th>Income</th>\n",
              "      <th>male_population</th>\n",
              "      <th>female_population</th>\n",
              "    </tr>\n",
              "  </thead>\n",
              "  <tbody>\n",
              "    <tr>\n",
              "      <th>0</th>\n",
              "      <td>Rhode Island</td>\n",
              "      <td>1053661</td>\n",
              "      <td>13.356666666666678%</td>\n",
              "      <td>74.32541666666665%</td>\n",
              "      <td>5.68291666666667%</td>\n",
              "      <td>0.3462500000000001%</td>\n",
              "      <td>3.2474999999999983%</td>\n",
              "      <td>0.035833333333333335%</td>\n",
              "      <td>59125.270833333336</td>\n",
              "      <td>510388</td>\n",
              "      <td>543273</td>\n",
              "    </tr>\n",
              "    <tr>\n",
              "      <th>1</th>\n",
              "      <td>South Carolina</td>\n",
              "      <td>4777576</td>\n",
              "      <td>5.056684981684991%</td>\n",
              "      <td>62.888736263736185%</td>\n",
              "      <td>28.75091575091577%</td>\n",
              "      <td>0.2923992673992673%</td>\n",
              "      <td>1.249175824175822%</td>\n",
              "      <td>0.046978021978021964%</td>\n",
              "      <td>46296.807763401106</td>\n",
              "      <td>2322409</td>\n",
              "      <td>2455167</td>\n",
              "    </tr>\n",
              "    <tr>\n",
              "      <th>2</th>\n",
              "      <td>South Dakota</td>\n",
              "      <td>843190</td>\n",
              "      <td>3.2396396396396376%</td>\n",
              "      <td>82.50090090090092%</td>\n",
              "      <td>1.4238738738738752%</td>\n",
              "      <td>9.417567567567566%</td>\n",
              "      <td>1.0193693693693688%</td>\n",
              "      <td>0.04189189189189189%</td>\n",
              "      <td>51805.40540540541</td>\n",
              "      <td>423477</td>\n",
              "      <td>419713</td>\n",
              "    </tr>\n",
              "    <tr>\n",
              "      <th>3</th>\n",
              "      <td>Tennessee</td>\n",
              "      <td>6499615</td>\n",
              "      <td>4.720026972353339%</td>\n",
              "      <td>73.49008766014822%</td>\n",
              "      <td>18.283816587997297%</td>\n",
              "      <td>0.22663519892110592%</td>\n",
              "      <td>1.4072825354012126%</td>\n",
              "      <td>0.04315576534052599%</td>\n",
              "      <td>47328.083616587355</td>\n",
              "      <td>3167756</td>\n",
              "      <td>3331859</td>\n",
              "    </tr>\n",
              "    <tr>\n",
              "      <th>4</th>\n",
              "      <td>Texas</td>\n",
              "      <td>26538614</td>\n",
              "      <td>38.04673809068304%</td>\n",
              "      <td>44.687908934379145%</td>\n",
              "      <td>11.65004782858236%</td>\n",
              "      <td>0.26114405969007126%</td>\n",
              "      <td>3.6696958102161825%</td>\n",
              "      <td>0.06881576430074614%</td>\n",
              "      <td>55874.522600500095</td>\n",
              "      <td>13171316</td>\n",
              "      <td>13367298</td>\n",
              "    </tr>\n",
              "  </tbody>\n",
              "</table>\n",
              "</div>"
            ],
            "text/plain": [
              "            State  TotalPop  ... male_population female_population\n",
              "0    Rhode Island   1053661  ...          510388            543273\n",
              "1  South Carolina   4777576  ...         2322409           2455167\n",
              "2    South Dakota    843190  ...          423477            419713\n",
              "3       Tennessee   6499615  ...         3167756           3331859\n",
              "4           Texas  26538614  ...        13171316          13367298\n",
              "\n",
              "[5 rows x 11 columns]"
            ]
          },
          "metadata": {
            "tags": []
          },
          "execution_count": 16
        }
      ]
    },
    {
      "cell_type": "code",
      "metadata": {
        "colab": {
          "base_uri": "https://localhost:8080/"
        },
        "id": "HVj9CMN50jIv",
        "outputId": "4a7d2299-30aa-44ba-c12b-ee30e9121533"
      },
      "source": [
        "us_census.male_population = pd.to_numeric(us_census.male_population)\r\n",
        "us_census.female_population = pd.to_numeric(us_census.female_population)\r\n",
        "us_census.dtypes"
      ],
      "execution_count": 17,
      "outputs": [
        {
          "output_type": "execute_result",
          "data": {
            "text/plain": [
              "State                 object\n",
              "TotalPop               int64\n",
              "Hispanic              object\n",
              "White                 object\n",
              "Black                 object\n",
              "Native                object\n",
              "Asian                 object\n",
              "Pacific               object\n",
              "Income                object\n",
              "male_population        int64\n",
              "female_population    float64\n",
              "dtype: object"
            ]
          },
          "metadata": {
            "tags": []
          },
          "execution_count": 17
        }
      ]
    },
    {
      "cell_type": "code",
      "metadata": {
        "colab": {
          "base_uri": "https://localhost:8080/",
          "height": 278
        },
        "id": "6qNjZ_3i061I",
        "outputId": "974a1d89-257a-4873-b219-6ec819c3e119"
      },
      "source": [
        "pyplot.scatter(us_census.female_population, us_census.Income) \r\n",
        "pyplot.show()"
      ],
      "execution_count": 18,
      "outputs": [
        {
          "output_type": "display_data",
          "data": {
            "image/png": "[encoded data removed]",
            "text/plain": [
              "<Figure size 432x288 with 1 Axes>"
            ]
          },
          "metadata": {
            "tags": [],
            "needs_background": "light"
          }
        }
      ]
    },
    {
      "cell_type": "code",
      "metadata": {
        "colab": {
          "base_uri": "https://localhost:8080/"
        },
        "id": "ZJY75N4K1DQ7",
        "outputId": "131eb3e7-64fb-44aa-f6f0-799c0d923b16"
      },
      "source": [
        "us_census.female_population.head(15)"
      ],
      "execution_count": 19,
      "outputs": [
        {
          "output_type": "execute_result",
          "data": {
            "text/plain": [
              "0      543273.0\n",
              "1     2455167.0\n",
              "2      419713.0\n",
              "3     3331859.0\n",
              "4    13367298.0\n",
              "5     1444150.0\n",
              "0     1558931.0\n",
              "1     1453125.0\n",
              "2     2233145.0\n",
              "3     2364097.0\n",
              "4      679019.0\n",
              "5           NaN\n",
              "0           NaN\n",
              "1     3455936.0\n",
              "2     5038598.0\n",
              "Name: female_population, dtype: float64"
            ]
          },
          "metadata": {
            "tags": []
          },
          "execution_count": 19
        }
      ]
    },
    {
      "cell_type": "code",
      "metadata": {
        "colab": {
          "base_uri": "https://localhost:8080/"
        },
        "id": "n6VizklO1Ltn",
        "outputId": "a92243bd-b570-4ece-9d15-c097c840ac72"
      },
      "source": [
        "fem_pop_nan = us_census.female_population.isnull()\r\n",
        "fem_pop_nan.head(15)\r\n",
        "fem_pop_nan.value_counts()"
      ],
      "execution_count": 21,
      "outputs": [
        {
          "output_type": "execute_result",
          "data": {
            "text/plain": [
              "False    57\n",
              "True      3\n",
              "Name: female_population, dtype: int64"
            ]
          },
          "metadata": {
            "tags": []
          },
          "execution_count": 21
        }
      ]
    },
    {
      "cell_type": "code",
      "metadata": {
        "colab": {
          "base_uri": "https://localhost:8080/"
        },
        "id": "J4g3P-ch1VYn",
        "outputId": "f9896400-2c9b-437f-be5f-7a239abae796"
      },
      "source": [
        "example_nan = us_census[['TotalPop', 'male_population', 'female_population']]\r\n",
        "example_nan.iloc[12]"
      ],
      "execution_count": 22,
      "outputs": [
        {
          "output_type": "execute_result",
          "data": {
            "text/plain": [
              "TotalPop             5930538.0\n",
              "male_population      2872643.0\n",
              "female_population          NaN\n",
              "Name: 0, dtype: float64"
            ]
          },
          "metadata": {
            "tags": []
          },
          "execution_count": 22
        }
      ]
    },
    {
      "cell_type": "code",
      "metadata": {
        "colab": {
          "base_uri": "https://localhost:8080/"
        },
        "id": "JK0lDGZ52Z0_",
        "outputId": "3cf11e4d-0e93-48bb-a829-d38ce8b88c84"
      },
      "source": [
        "nan_value = us_census.TotalPop - us_census.male_population\r\n",
        "nan_value"
      ],
      "execution_count": 24,
      "outputs": [
        {
          "output_type": "execute_result",
          "data": {
            "text/plain": [
              "0      543273\n",
              "1     2455167\n",
              "2      419713\n",
              "3     3331859\n",
              "4    13367298\n",
              "5     1444150\n",
              "0     1558931\n",
              "1     1453125\n",
              "2     2233145\n",
              "3     2364097\n",
              "4      679019\n",
              "5     3057895\n",
              "0     3057895\n",
              "1     3455936\n",
              "2     5038598\n",
              "3     2727005\n",
              "4     1536358\n",
              "5     3081445\n",
              "0     3081445\n",
              "1      504536\n",
              "2      939759\n",
              "3     1390901\n",
              "4      670717\n",
              "5     4561386\n",
              "0     5913084\n",
              "1     1942789\n",
              "2     1990780\n",
              "3     6534215\n",
              "4     1869213\n",
              "5      543273\n",
              "0     2630239\n",
              "1     1841615\n",
              "2      478041\n",
              "3      340810\n",
              "4    10045763\n",
              "5     5123362\n",
              "0     1444150\n",
              "1      318031\n",
              "2     4195682\n",
              "3     3497739\n",
              "4      937789\n",
              "5     2890732\n",
              "0     5123362\n",
              "1      696428\n",
              "2      806083\n",
              "3     6556862\n",
              "4     3333382\n",
              "5     1558931\n",
              "0     2489527\n",
              "1      349215\n",
              "2     3342840\n",
              "3     1506295\n",
              "4    19334329\n",
              "5     2630239\n",
              "0     4561386\n",
              "1     1051703\n",
              "2    10131373\n",
              "3     5049925\n",
              "4      353677\n",
              "5     5913084\n",
              "dtype: int64"
            ]
          },
          "metadata": {
            "tags": []
          },
          "execution_count": 24
        }
      ]
    },
    {
      "cell_type": "code",
      "metadata": {
        "colab": {
          "base_uri": "https://localhost:8080/"
        },
        "id": "jazA9OHo3S1-",
        "outputId": "9e8fed48-3711-4f53-de5d-0b93ee753bca"
      },
      "source": [
        "us_census.female_population = us_census.female_population.fillna(value=nan_value)\r\n",
        "example_nan_fixed = us_census[['TotalPop', 'male_population', 'female_population']]\r\n",
        "example_nan_fixed.iloc[12]"
      ],
      "execution_count": 25,
      "outputs": [
        {
          "output_type": "execute_result",
          "data": {
            "text/plain": [
              "TotalPop             5930538.0\n",
              "male_population      2872643.0\n",
              "female_population    3057895.0\n",
              "Name: 0, dtype: float64"
            ]
          },
          "metadata": {
            "tags": []
          },
          "execution_count": 25
        }
      ]
    },
    {
      "cell_type": "code",
      "metadata": {
        "colab": {
          "base_uri": "https://localhost:8080/"
        },
        "id": "p8sGmNW02gno",
        "outputId": "c34d1ed4-b3aa-480b-f0a2-f4caf2129b65"
      },
      "source": [
        "us_census.female_population.head(15)"
      ],
      "execution_count": 26,
      "outputs": [
        {
          "output_type": "execute_result",
          "data": {
            "text/plain": [
              "0      543273.0\n",
              "1     2455167.0\n",
              "2      419713.0\n",
              "3     3331859.0\n",
              "4    13367298.0\n",
              "5     1444150.0\n",
              "0     1558931.0\n",
              "1     1453125.0\n",
              "2     2233145.0\n",
              "3     2364097.0\n",
              "4      679019.0\n",
              "5     3057895.0\n",
              "0     3057895.0\n",
              "1     3455936.0\n",
              "2     5038598.0\n",
              "Name: female_population, dtype: float64"
            ]
          },
          "metadata": {
            "tags": []
          },
          "execution_count": 26
        }
      ]
    },
    {
      "cell_type": "code",
      "metadata": {
        "colab": {
          "base_uri": "https://localhost:8080/"
        },
        "id": "B3MPJhvP3blu",
        "outputId": "b160729b-5eea-40fb-84d4-138b0f36ff7e"
      },
      "source": [
        "duplicates = us_census.duplicated()\r\n",
        "duplicates.value_counts()"
      ],
      "execution_count": 27,
      "outputs": [
        {
          "output_type": "execute_result",
          "data": {
            "text/plain": [
              "False    51\n",
              "True      9\n",
              "dtype: int64"
            ]
          },
          "metadata": {
            "tags": []
          },
          "execution_count": 27
        }
      ]
    },
    {
      "cell_type": "code",
      "metadata": {
        "colab": {
          "base_uri": "https://localhost:8080/"
        },
        "id": "ETXfTt8N3jQA",
        "outputId": "9fce2cc2-1e22-4d1d-ede7-0d1697f4091c"
      },
      "source": [
        "us_census = us_census.drop_duplicates()\r\n",
        "duplicates_check = us_census.duplicated()\r\n",
        "duplicates_check.value_counts()"
      ],
      "execution_count": 28,
      "outputs": [
        {
          "output_type": "execute_result",
          "data": {
            "text/plain": [
              "False    51\n",
              "dtype: int64"
            ]
          },
          "metadata": {
            "tags": []
          },
          "execution_count": 28
        }
      ]
    },
    {
      "cell_type": "code",
      "metadata": {
        "colab": {
          "base_uri": "https://localhost:8080/",
          "height": 278
        },
        "id": "c0aL2aIy3513",
        "outputId": "2fe03c3e-9eb5-46f6-d850-a0bb5bd33b1a"
      },
      "source": [
        "pyplot.scatter(us_census.female_population, us_census.Income) \r\n",
        "pyplot.show()"
      ],
      "execution_count": 29,
      "outputs": [
        {
          "output_type": "display_data",
          "data": {
            "image/png": "[encoded data removed]",
            "text/plain": [
              "<Figure size 432x288 with 1 Axes>"
            ]
          },
          "metadata": {
            "tags": [],
            "needs_background": "light"
          }
        }
      ]
    },
    {
      "cell_type": "code",
      "metadata": {
        "id": "DZb2wZV23-sP"
      },
      "source": [
        ""
      ],
      "execution_count": null,
      "outputs": []
    }
  ]
}