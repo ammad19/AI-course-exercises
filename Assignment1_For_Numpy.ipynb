{
  "nbformat": 4,
  "nbformat_minor": 0,
  "metadata": {
    "colab": {
      "name": "Assignment1 For Numpy.ipynb",
      "provenance": [],
      "collapsed_sections": [],
      "authorship_tag": "ABX9TyPjrQgIM8Y6FxCcVy55sLAg",
      "include_colab_link": true
    },
    "kernelspec": {
      "name": "python3",
      "display_name": "Python 3"
    }
  },
  "cells": [
    {
      "cell_type": "markdown",
      "metadata": {
        "id": "view-in-github",
        "colab_type": "text"
      },
      "source": [
        "<a href=\"https://colab.research.google.com/github/ammad19/AI-course-exercises/blob/master/Assignment1_For_Numpy.ipynb\" target=\"_parent\"><img src=\"https://colab.research.google.com/assets/colab-badge.svg\" alt=\"Open In Colab\"/></a>"
      ]
    },
    {
      "cell_type": "code",
      "metadata": {
        "id": "CGytDOXY8gXR"
      },
      "source": [
        "import numpy as np"
      ],
      "execution_count": 2,
      "outputs": []
    },
    {
      "cell_type": "code",
      "metadata": {
        "colab": {
          "base_uri": "https://localhost:8080/"
        },
        "id": "qO2A9Hbx8kw-",
        "outputId": "a21adc6f-c359-46c7-b54c-feacbdcf5ac1"
      },
      "source": [
        "data1 = [0,0,0,0,0,0,0,0,0,0]\r\n",
        "arr1 = np.array(data1)\r\n",
        "arr1"
      ],
      "execution_count": 3,
      "outputs": [
        {
          "output_type": "execute_result",
          "data": {
            "text/plain": [
              "array([0, 0, 0, 0, 0, 0, 0, 0, 0, 0])"
            ]
          },
          "metadata": {
            "tags": []
          },
          "execution_count": 3
        }
      ]
    },
    {
      "cell_type": "code",
      "metadata": {
        "id": "WgjNPgBD-K9I"
      },
      "source": [
        "arr2 = np.zeros(10)"
      ],
      "execution_count": 4,
      "outputs": []
    },
    {
      "cell_type": "code",
      "metadata": {
        "colab": {
          "base_uri": "https://localhost:8080/"
        },
        "id": "jbCYMSL6-XTA",
        "outputId": "75f47af6-e42a-48fc-e132-35bbef5d39d1"
      },
      "source": [
        "arr2"
      ],
      "execution_count": 5,
      "outputs": [
        {
          "output_type": "execute_result",
          "data": {
            "text/plain": [
              "array([0., 0., 0., 0., 0., 0., 0., 0., 0., 0.])"
            ]
          },
          "metadata": {
            "tags": []
          },
          "execution_count": 5
        }
      ]
    },
    {
      "cell_type": "code",
      "metadata": {
        "colab": {
          "base_uri": "https://localhost:8080/"
        },
        "id": "MzgF2Htp-Zmx",
        "outputId": "54ef91b1-0472-4c0a-ba5c-794a3b19b83b"
      },
      "source": [
        "arr3 = np.arange(10,51,1)\r\n",
        "arr3"
      ],
      "execution_count": 6,
      "outputs": [
        {
          "output_type": "execute_result",
          "data": {
            "text/plain": [
              "array([10, 11, 12, 13, 14, 15, 16, 17, 18, 19, 20, 21, 22, 23, 24, 25, 26,\n",
              "       27, 28, 29, 30, 31, 32, 33, 34, 35, 36, 37, 38, 39, 40, 41, 42, 43,\n",
              "       44, 45, 46, 47, 48, 49, 50])"
            ]
          },
          "metadata": {
            "tags": []
          },
          "execution_count": 6
        }
      ]
    },
    {
      "cell_type": "code",
      "metadata": {
        "colab": {
          "base_uri": "https://localhost:8080/"
        },
        "id": "GpYlSHxt-xjH",
        "outputId": "c5f52c35-7f61-4ec9-c322-a15b42fee14b"
      },
      "source": [
        "arr3.shape"
      ],
      "execution_count": 7,
      "outputs": [
        {
          "output_type": "execute_result",
          "data": {
            "text/plain": [
              "(41,)"
            ]
          },
          "metadata": {
            "tags": []
          },
          "execution_count": 7
        }
      ]
    },
    {
      "cell_type": "code",
      "metadata": {
        "colab": {
          "base_uri": "https://localhost:8080/"
        },
        "id": "CqMOYHpM_ILf",
        "outputId": "a540dca3-9c5c-4f8f-fd71-02e38afa2769"
      },
      "source": [
        "arr3.dtype"
      ],
      "execution_count": 8,
      "outputs": [
        {
          "output_type": "execute_result",
          "data": {
            "text/plain": [
              "dtype('int64')"
            ]
          },
          "metadata": {
            "tags": []
          },
          "execution_count": 8
        }
      ]
    },
    {
      "cell_type": "code",
      "metadata": {
        "colab": {
          "base_uri": "https://localhost:8080/"
        },
        "id": "go_ilYGx_lgB",
        "outputId": "d33c7aa4-f8d3-4078-be1f-121365f8f3e7"
      },
      "source": [
        "arr3.ndim"
      ],
      "execution_count": 9,
      "outputs": [
        {
          "output_type": "execute_result",
          "data": {
            "text/plain": [
              "1"
            ]
          },
          "metadata": {
            "tags": []
          },
          "execution_count": 9
        }
      ]
    },
    {
      "cell_type": "code",
      "metadata": {
        "colab": {
          "base_uri": "https://localhost:8080/",
          "height": 34
        },
        "id": "2HR2utzD_zgd",
        "outputId": "67a60e7c-0adc-4e32-af8a-d9fe0d2a82f6"
      },
      "source": [
        "np.__version__"
      ],
      "execution_count": 10,
      "outputs": [
        {
          "output_type": "execute_result",
          "data": {
            "application/vnd.google.colaboratory.intrinsic+json": {
              "type": "string"
            },
            "text/plain": [
              "'1.19.4'"
            ]
          },
          "metadata": {
            "tags": []
          },
          "execution_count": 10
        }
      ]
    },
    {
      "cell_type": "code",
      "metadata": {
        "colab": {
          "base_uri": "https://localhost:8080/"
        },
        "id": "EDxYfCCq_-El",
        "outputId": "705157bc-7b07-4475-bd72-0c17a2236664"
      },
      "source": [
        "np.show_config()"
      ],
      "execution_count": 11,
      "outputs": [
        {
          "output_type": "stream",
          "text": [
            "blas_mkl_info:\n",
            "  NOT AVAILABLE\n",
            "blis_info:\n",
            "  NOT AVAILABLE\n",
            "openblas_info:\n",
            "    libraries = ['openblas', 'openblas']\n",
            "    library_dirs = ['/usr/local/lib']\n",
            "    language = c\n",
            "    define_macros = [('HAVE_CBLAS', None)]\n",
            "blas_opt_info:\n",
            "    libraries = ['openblas', 'openblas']\n",
            "    library_dirs = ['/usr/local/lib']\n",
            "    language = c\n",
            "    define_macros = [('HAVE_CBLAS', None)]\n",
            "lapack_mkl_info:\n",
            "  NOT AVAILABLE\n",
            "openblas_lapack_info:\n",
            "    libraries = ['openblas', 'openblas']\n",
            "    library_dirs = ['/usr/local/lib']\n",
            "    language = c\n",
            "    define_macros = [('HAVE_CBLAS', None)]\n",
            "lapack_opt_info:\n",
            "    libraries = ['openblas', 'openblas']\n",
            "    library_dirs = ['/usr/local/lib']\n",
            "    language = c\n",
            "    define_macros = [('HAVE_CBLAS', None)]\n"
          ],
          "name": "stdout"
        }
      ]
    },
    {
      "cell_type": "code",
      "metadata": {
        "colab": {
          "base_uri": "https://localhost:8080/"
        },
        "id": "LQ9iN6-5AC60",
        "outputId": "1d41fa5a-7660-4fa3-d7fd-66d778c55579"
      },
      "source": [
        "arr4 = np.array([True,True,True])\r\n",
        "arr4"
      ],
      "execution_count": 12,
      "outputs": [
        {
          "output_type": "execute_result",
          "data": {
            "text/plain": [
              "array([ True,  True,  True])"
            ]
          },
          "metadata": {
            "tags": []
          },
          "execution_count": 12
        }
      ]
    },
    {
      "cell_type": "code",
      "metadata": {
        "id": "Tsvsp2qoAygj",
        "colab": {
          "base_uri": "https://localhost:8080/"
        },
        "outputId": "d09d0603-503d-4408-979e-0f5859bf58df"
      },
      "source": [
        "data2 = [[1,2,3,4],[5,6,7,8]]\r\n",
        "arr5 = np.array(data2)\r\n",
        "arr5"
      ],
      "execution_count": 13,
      "outputs": [
        {
          "output_type": "execute_result",
          "data": {
            "text/plain": [
              "array([[1, 2, 3, 4],\n",
              "       [5, 6, 7, 8]])"
            ]
          },
          "metadata": {
            "tags": []
          },
          "execution_count": 13
        }
      ]
    },
    {
      "cell_type": "code",
      "metadata": {
        "colab": {
          "base_uri": "https://localhost:8080/"
        },
        "id": "P4ntiqlmaJK7",
        "outputId": "6d91f1dc-505f-44ee-ba10-2648eb44c1b6"
      },
      "source": [
        "data3 = [[1,2,3,4],[5,6,7,8],[9,10,11,12]]\r\n",
        "arr6 = np.array(data3)\r\n",
        "arr6"
      ],
      "execution_count": 14,
      "outputs": [
        {
          "output_type": "execute_result",
          "data": {
            "text/plain": [
              "array([[ 1,  2,  3,  4],\n",
              "       [ 5,  6,  7,  8],\n",
              "       [ 9, 10, 11, 12]])"
            ]
          },
          "metadata": {
            "tags": []
          },
          "execution_count": 14
        }
      ]
    },
    {
      "cell_type": "code",
      "metadata": {
        "colab": {
          "base_uri": "https://localhost:8080/"
        },
        "id": "rcK3W8dhaYiw",
        "outputId": "d6d5ed93-52b3-4d12-be1d-5d6bfc067b05"
      },
      "source": [
        "arr7 = np.arange(10)\r\n",
        "arr7[::-1]"
      ],
      "execution_count": 15,
      "outputs": [
        {
          "output_type": "execute_result",
          "data": {
            "text/plain": [
              "array([9, 8, 7, 6, 5, 4, 3, 2, 1, 0])"
            ]
          },
          "metadata": {
            "tags": []
          },
          "execution_count": 15
        }
      ]
    },
    {
      "cell_type": "code",
      "metadata": {
        "colab": {
          "base_uri": "https://localhost:8080/"
        },
        "id": "6LLkif00a0s3",
        "outputId": "202f3f96-0dcb-4a00-e1e6-87e95b62e6a3"
      },
      "source": [
        "arr6[::-1]"
      ],
      "execution_count": 16,
      "outputs": [
        {
          "output_type": "execute_result",
          "data": {
            "text/plain": [
              "array([[ 9, 10, 11, 12],\n",
              "       [ 5,  6,  7,  8],\n",
              "       [ 1,  2,  3,  4]])"
            ]
          },
          "metadata": {
            "tags": []
          },
          "execution_count": 16
        }
      ]
    },
    {
      "cell_type": "code",
      "metadata": {
        "colab": {
          "base_uri": "https://localhost:8080/"
        },
        "id": "suHYzFSYbx3U",
        "outputId": "4ae3f7cb-bae4-4320-966a-f03b698d4168"
      },
      "source": [
        "arr8 = np.zeros(10)\r\n",
        "arr8[5] = 1\r\n",
        "arr8"
      ],
      "execution_count": 17,
      "outputs": [
        {
          "output_type": "execute_result",
          "data": {
            "text/plain": [
              "array([0., 0., 0., 0., 0., 1., 0., 0., 0., 0.])"
            ]
          },
          "metadata": {
            "tags": []
          },
          "execution_count": 17
        }
      ]
    },
    {
      "cell_type": "code",
      "metadata": {
        "colab": {
          "base_uri": "https://localhost:8080/"
        },
        "id": "CBjaKl-lb-LE",
        "outputId": "002a6182-37a2-4538-f0b3-935214b3b817"
      },
      "source": [
        "arr9 = np.identity(3)\r\n",
        "arr9"
      ],
      "execution_count": 18,
      "outputs": [
        {
          "output_type": "execute_result",
          "data": {
            "text/plain": [
              "array([[1., 0., 0.],\n",
              "       [0., 1., 0.],\n",
              "       [0., 0., 1.]])"
            ]
          },
          "metadata": {
            "tags": []
          },
          "execution_count": 18
        }
      ]
    },
    {
      "cell_type": "code",
      "metadata": {
        "colab": {
          "base_uri": "https://localhost:8080/"
        },
        "id": "TYkFy1TJcdCz",
        "outputId": "a0630e25-78e3-4b28-da38-631c13518ece"
      },
      "source": [
        "arr10 = np.array([1, 2, 3, 4, 5], dtype=float)\r\n",
        "arr10"
      ],
      "execution_count": 19,
      "outputs": [
        {
          "output_type": "execute_result",
          "data": {
            "text/plain": [
              "array([1., 2., 3., 4., 5.])"
            ]
          },
          "metadata": {
            "tags": []
          },
          "execution_count": 19
        }
      ]
    },
    {
      "cell_type": "code",
      "metadata": {
        "colab": {
          "base_uri": "https://localhost:8080/"
        },
        "id": "UZyk3_59crTK",
        "outputId": "d026bae0-90bf-4f83-f25f-d63bfbf084e6"
      },
      "source": [
        "arr10.dtype"
      ],
      "execution_count": 20,
      "outputs": [
        {
          "output_type": "execute_result",
          "data": {
            "text/plain": [
              "dtype('float64')"
            ]
          },
          "metadata": {
            "tags": []
          },
          "execution_count": 20
        }
      ]
    },
    {
      "cell_type": "code",
      "metadata": {
        "colab": {
          "base_uri": "https://localhost:8080/"
        },
        "id": "n0gHi6Wwcw6S",
        "outputId": "9e755ff3-822b-46bb-86c4-83d972effa3b"
      },
      "source": [
        "arr11 = np.array([[1., 2., 3.],\r\n",
        "\r\n",
        "            [4., 5., 6.]])  \r\n",
        "\r\n",
        "arr12 = np.array([[0., 4., 1.],\r\n",
        "\r\n",
        "           [7., 2., 12.]])\r\n",
        "arr11*arr12"
      ],
      "execution_count": 21,
      "outputs": [
        {
          "output_type": "execute_result",
          "data": {
            "text/plain": [
              "array([[ 0.,  8.,  3.],\n",
              "       [28., 10., 72.]])"
            ]
          },
          "metadata": {
            "tags": []
          },
          "execution_count": 21
        }
      ]
    },
    {
      "cell_type": "code",
      "metadata": {
        "colab": {
          "base_uri": "https://localhost:8080/"
        },
        "id": "aE7QnXWcd_9M",
        "outputId": "e96e15b8-0d27-41e7-f0e9-4d425af9d3b9"
      },
      "source": [
        "arr11==arr12"
      ],
      "execution_count": 22,
      "outputs": [
        {
          "output_type": "execute_result",
          "data": {
            "text/plain": [
              "array([[False, False, False],\n",
              "       [False, False, False]])"
            ]
          },
          "metadata": {
            "tags": []
          },
          "execution_count": 22
        }
      ]
    },
    {
      "cell_type": "code",
      "metadata": {
        "id": "zVKgok7yepUO",
        "colab": {
          "base_uri": "https://localhost:8080/"
        },
        "outputId": "4313bdc9-00a8-4d26-8f76-86461774e2f9"
      },
      "source": [
        "arr6[arr6 % 2 == 1]"
      ],
      "execution_count": 23,
      "outputs": [
        {
          "output_type": "execute_result",
          "data": {
            "text/plain": [
              "array([ 1,  3,  5,  7,  9, 11])"
            ]
          },
          "metadata": {
            "tags": []
          },
          "execution_count": 23
        }
      ]
    },
    {
      "cell_type": "code",
      "metadata": {
        "id": "me1PMl-INyrr"
      },
      "source": [
        "arr6 = np.full(6,-1,int)"
      ],
      "execution_count": 24,
      "outputs": []
    },
    {
      "cell_type": "code",
      "metadata": {
        "colab": {
          "base_uri": "https://localhost:8080/"
        },
        "id": "vGrhNPfMvNW2",
        "outputId": "a4e8ff31-d16a-45e5-d237-d6686f40fb75"
      },
      "source": [
        "arr6"
      ],
      "execution_count": 25,
      "outputs": [
        {
          "output_type": "execute_result",
          "data": {
            "text/plain": [
              "array([-1, -1, -1, -1, -1, -1])"
            ]
          },
          "metadata": {
            "tags": []
          },
          "execution_count": 25
        }
      ]
    },
    {
      "cell_type": "code",
      "metadata": {
        "id": "3PJ4yBUqvahF"
      },
      "source": [
        "arr13 = np.arange(10)"
      ],
      "execution_count": 26,
      "outputs": []
    },
    {
      "cell_type": "code",
      "metadata": {
        "id": "36mZjK8C0yCz"
      },
      "source": [
        "arr13[5:9] = 12"
      ],
      "execution_count": 27,
      "outputs": []
    },
    {
      "cell_type": "code",
      "metadata": {
        "colab": {
          "base_uri": "https://localhost:8080/"
        },
        "id": "Da8wCecM27Qj",
        "outputId": "254e82d0-a48d-4a00-d2b8-bfbc835b944d"
      },
      "source": [
        "arr13"
      ],
      "execution_count": 28,
      "outputs": [
        {
          "output_type": "execute_result",
          "data": {
            "text/plain": [
              "array([ 0,  1,  2,  3,  4, 12, 12, 12, 12,  9])"
            ]
          },
          "metadata": {
            "tags": []
          },
          "execution_count": 28
        }
      ]
    },
    {
      "cell_type": "code",
      "metadata": {
        "id": "baeCaKCG3AA_"
      },
      "source": [
        "arr2d = np.array([[1,0,1],[1,0,1]])"
      ],
      "execution_count": 29,
      "outputs": []
    },
    {
      "cell_type": "code",
      "metadata": {
        "colab": {
          "base_uri": "https://localhost:8080/"
        },
        "id": "oeFhRxVo3ck2",
        "outputId": "3464fa3a-ae2c-4d79-97c4-8a69edb9ef4e"
      },
      "source": [
        "arr2d"
      ],
      "execution_count": 30,
      "outputs": [
        {
          "output_type": "execute_result",
          "data": {
            "text/plain": [
              "array([[1, 0, 1],\n",
              "       [1, 0, 1]])"
            ]
          },
          "metadata": {
            "tags": []
          },
          "execution_count": 30
        }
      ]
    },
    {
      "cell_type": "code",
      "metadata": {
        "id": "vjCo4o963nhY"
      },
      "source": [
        "arr2d = np.array([[1, 2, 3],[4, 5, 6],[7, 8, 9]])\r\n"
      ],
      "execution_count": 31,
      "outputs": []
    },
    {
      "cell_type": "code",
      "metadata": {
        "id": "QPibOjG35kmu"
      },
      "source": [
        "arr2d[1][1] = 12"
      ],
      "execution_count": 32,
      "outputs": []
    },
    {
      "cell_type": "code",
      "metadata": {
        "colab": {
          "base_uri": "https://localhost:8080/"
        },
        "id": "k4i5WF3J55t6",
        "outputId": "2173bdb1-be20-4d8d-805f-7470b4e12701"
      },
      "source": [
        "arr2d"
      ],
      "execution_count": 33,
      "outputs": [
        {
          "output_type": "execute_result",
          "data": {
            "text/plain": [
              "array([[ 1,  2,  3],\n",
              "       [ 4, 12,  6],\n",
              "       [ 7,  8,  9]])"
            ]
          },
          "metadata": {
            "tags": []
          },
          "execution_count": 33
        }
      ]
    },
    {
      "cell_type": "code",
      "metadata": {
        "id": "eWKU2GpM57XJ"
      },
      "source": [
        "arr3d = np.array([[[1, 2, 3], [4, 5, 6]], [[7, 8, 9], [10, 11, 12]]])\r\n",
        "arr3d[0] = 64"
      ],
      "execution_count": 34,
      "outputs": []
    },
    {
      "cell_type": "code",
      "metadata": {
        "colab": {
          "base_uri": "https://localhost:8080/"
        },
        "id": "mSj7Yjn166YG",
        "outputId": "ba01958d-6e1f-4b63-b784-7c75e56b6b7f"
      },
      "source": [
        "arr3d[0]"
      ],
      "execution_count": 35,
      "outputs": [
        {
          "output_type": "execute_result",
          "data": {
            "text/plain": [
              "array([[64, 64, 64],\n",
              "       [64, 64, 64]])"
            ]
          },
          "metadata": {
            "tags": []
          },
          "execution_count": 35
        }
      ]
    },
    {
      "cell_type": "code",
      "metadata": {
        "colab": {
          "base_uri": "https://localhost:8080/"
        },
        "id": "637A9r7y68OU",
        "outputId": "4fdf1aa1-1786-4b15-a9b0-76ff499a8345"
      },
      "source": [
        "arr2d = np.array([[1, 2, 3],[4, 5, 6],[7, 8, 9]])\r\n",
        "arr2d[:1]"
      ],
      "execution_count": 36,
      "outputs": [
        {
          "output_type": "execute_result",
          "data": {
            "text/plain": [
              "array([[1, 2, 3]])"
            ]
          },
          "metadata": {
            "tags": []
          },
          "execution_count": 36
        }
      ]
    },
    {
      "cell_type": "code",
      "metadata": {
        "colab": {
          "base_uri": "https://localhost:8080/"
        },
        "id": "m6qMkADx8Tqe",
        "outputId": "c710f8d0-977c-4f42-8d82-66465ac7c06c"
      },
      "source": [
        "arr2d[1,:2][1]"
      ],
      "execution_count": 37,
      "outputs": [
        {
          "output_type": "execute_result",
          "data": {
            "text/plain": [
              "5"
            ]
          },
          "metadata": {
            "tags": []
          },
          "execution_count": 37
        }
      ]
    },
    {
      "cell_type": "code",
      "metadata": {
        "colab": {
          "base_uri": "https://localhost:8080/"
        },
        "id": "9VDuVs4N8enS",
        "outputId": "84cf1a59-9521-4222-92f0-5f33972d8908"
      },
      "source": [
        "arr2d[:2,2]"
      ],
      "execution_count": 38,
      "outputs": [
        {
          "output_type": "execute_result",
          "data": {
            "text/plain": [
              "array([3, 6])"
            ]
          },
          "metadata": {
            "tags": []
          },
          "execution_count": 38
        }
      ]
    },
    {
      "cell_type": "code",
      "metadata": {
        "id": "jnbVLFNM-kQR"
      },
      "source": [
        "arr2d = np.random.random((10,10))"
      ],
      "execution_count": 39,
      "outputs": []
    },
    {
      "cell_type": "code",
      "metadata": {
        "colab": {
          "base_uri": "https://localhost:8080/"
        },
        "id": "IfROT8XQ_V4v",
        "outputId": "45a93fdb-6a89-4625-80c3-5d9b2a3fac8f"
      },
      "source": [
        "arr2d"
      ],
      "execution_count": 40,
      "outputs": [
        {
          "output_type": "execute_result",
          "data": {
            "text/plain": [
              "array([[0.01290911, 0.22070914, 0.96833955, 0.37234688, 0.20193962,\n",
              "        0.10696997, 0.00654338, 0.95279147, 0.1172928 , 0.07022562],\n",
              "       [0.70433389, 0.04682904, 0.80367973, 0.19036664, 0.50968992,\n",
              "        0.96135413, 0.59438304, 0.79634263, 0.68511212, 0.68757896],\n",
              "       [0.51384067, 0.94434162, 0.10391217, 0.11102742, 0.1632335 ,\n",
              "        0.10758969, 0.84838832, 0.98357727, 0.18189613, 0.66945499],\n",
              "       [0.4445125 , 0.97106543, 0.86452923, 0.51079045, 0.8758639 ,\n",
              "        0.78676016, 0.94937542, 0.7527376 , 0.21740071, 0.94831613],\n",
              "       [0.41841529, 0.92838916, 0.43133006, 0.90336986, 0.78228505,\n",
              "        0.72969355, 0.44332072, 0.16419793, 0.16834742, 0.40913226],\n",
              "       [0.82362221, 0.44263148, 0.31716706, 0.39124893, 0.23887505,\n",
              "        0.37193285, 0.68036238, 0.85954178, 0.55130498, 0.02172065],\n",
              "       [0.09615947, 0.0401916 , 0.82303693, 0.69010564, 0.70643843,\n",
              "        0.28418924, 0.18343707, 0.41900523, 0.74958648, 0.32365034],\n",
              "       [0.12665052, 0.3866172 , 0.26730484, 0.49963924, 0.40252883,\n",
              "        0.03103576, 0.2923463 , 0.02887244, 0.28388069, 0.22656619],\n",
              "       [0.92285357, 0.73783215, 0.30684446, 0.24375057, 0.70505106,\n",
              "        0.96331569, 0.3782758 , 0.34712109, 0.84580158, 0.21244632],\n",
              "       [0.52375667, 0.97089469, 0.88818892, 0.03359611, 0.24407024,\n",
              "        0.24655963, 0.88385363, 0.38256536, 0.20774608, 0.4388526 ]])"
            ]
          },
          "metadata": {
            "tags": []
          },
          "execution_count": 40
        }
      ]
    },
    {
      "cell_type": "code",
      "metadata": {
        "colab": {
          "base_uri": "https://localhost:8080/"
        },
        "id": "9jFTLMeW_oc5",
        "outputId": "7707caa0-5332-4c1f-eb63-1e75e9c78b1b"
      },
      "source": [
        "arr2d.min()"
      ],
      "execution_count": 41,
      "outputs": [
        {
          "output_type": "execute_result",
          "data": {
            "text/plain": [
              "0.006543381320792796"
            ]
          },
          "metadata": {
            "tags": []
          },
          "execution_count": 41
        }
      ]
    },
    {
      "cell_type": "code",
      "metadata": {
        "colab": {
          "base_uri": "https://localhost:8080/"
        },
        "id": "AVaENmsn_cLy",
        "outputId": "2d2f525c-1aa7-4d7a-afec-0a032b5deb5f"
      },
      "source": [
        "arr2d.max()"
      ],
      "execution_count": 42,
      "outputs": [
        {
          "output_type": "execute_result",
          "data": {
            "text/plain": [
              "0.9835772744029562"
            ]
          },
          "metadata": {
            "tags": []
          },
          "execution_count": 42
        }
      ]
    },
    {
      "cell_type": "code",
      "metadata": {
        "colab": {
          "base_uri": "https://localhost:8080/"
        },
        "id": "FJAKYqMu_vPM",
        "outputId": "a3ed8e2a-dfa6-4fa6-af17-784ccdece373"
      },
      "source": [
        "a = np.array([1,2,3,2,3,4,3,4,5,6])\r\n",
        "b = np.array([7,2,10,2,7,4,9,4,9,8])\r\n",
        "np.intersect1d(a,b)"
      ],
      "execution_count": 43,
      "outputs": [
        {
          "output_type": "execute_result",
          "data": {
            "text/plain": [
              "array([2, 4])"
            ]
          },
          "metadata": {
            "tags": []
          },
          "execution_count": 43
        }
      ]
    },
    {
      "cell_type": "code",
      "metadata": {
        "colab": {
          "base_uri": "https://localhost:8080/"
        },
        "id": "Y7K5JEbQAHu9",
        "outputId": "d8b4c4d2-70bf-4574-af4b-d58eff22ef5c"
      },
      "source": [
        "np.where(a==b)"
      ],
      "execution_count": 44,
      "outputs": [
        {
          "output_type": "execute_result",
          "data": {
            "text/plain": [
              "(array([1, 3, 5, 7]),)"
            ]
          },
          "metadata": {
            "tags": []
          },
          "execution_count": 44
        }
      ]
    },
    {
      "cell_type": "code",
      "metadata": {
        "id": "DJuA4yfAUR4Z"
      },
      "source": [
        "names = np.array(['Bob', 'Joe', 'Will', 'Bob', 'Will', 'Joe', 'Joe'])\r\n",
        "data = np.random.randn(7, 4)"
      ],
      "execution_count": 45,
      "outputs": []
    },
    {
      "cell_type": "code",
      "metadata": {
        "colab": {
          "base_uri": "https://localhost:8080/"
        },
        "id": "7VY0LLIwUgj-",
        "outputId": "160cae95-ef1f-4f05-db80-fd389ecacdef"
      },
      "source": [
        "data"
      ],
      "execution_count": 46,
      "outputs": [
        {
          "output_type": "execute_result",
          "data": {
            "text/plain": [
              "array([[ 1.75345516, -0.60475084,  0.15747855,  0.59432818],\n",
              "       [-1.60455341, -0.82627781,  0.58714719, -1.39945772],\n",
              "       [ 0.33355011, -0.74959599, -0.7524754 ,  1.0001302 ],\n",
              "       [ 1.87530309, -0.76140863,  1.59634562, -0.63622075],\n",
              "       [-1.17468258,  0.69136837, -0.84619378, -1.08482836],\n",
              "       [-1.02293512,  1.02475554,  0.31646736, -0.60882152],\n",
              "       [ 1.36075877,  0.36960376,  0.22826417, -0.07478187]])"
            ]
          },
          "metadata": {
            "tags": []
          },
          "execution_count": 46
        }
      ]
    },
    {
      "cell_type": "code",
      "metadata": {
        "id": "TRMp9aIfWhrV"
      },
      "source": [
        "mask = (names!='Joe') & (names!='Will')"
      ],
      "execution_count": 47,
      "outputs": []
    },
    {
      "cell_type": "code",
      "metadata": {
        "colab": {
          "base_uri": "https://localhost:8080/"
        },
        "id": "hDgCAeyJWj9q",
        "outputId": "18af71a5-37eb-464b-a556-c772bc5c60f2"
      },
      "source": [
        "data[mask]"
      ],
      "execution_count": 48,
      "outputs": [
        {
          "output_type": "execute_result",
          "data": {
            "text/plain": [
              "array([[ 1.75345516, -0.60475084,  0.15747855,  0.59432818],\n",
              "       [ 1.87530309, -0.76140863,  1.59634562, -0.63622075]])"
            ]
          },
          "metadata": {
            "tags": []
          },
          "execution_count": 48
        }
      ]
    },
    {
      "cell_type": "code",
      "metadata": {
        "id": "bj8oNNghYBCu"
      },
      "source": [
        "arr2d1 = np.arange(1,16).reshape(5,3)"
      ],
      "execution_count": 49,
      "outputs": []
    },
    {
      "cell_type": "code",
      "metadata": {
        "colab": {
          "base_uri": "https://localhost:8080/"
        },
        "id": "8olznv57YjDB",
        "outputId": "b3b90935-8e5a-4a48-9462-0ad8c8df6228"
      },
      "source": [
        "arr2d1"
      ],
      "execution_count": 50,
      "outputs": [
        {
          "output_type": "execute_result",
          "data": {
            "text/plain": [
              "array([[ 1,  2,  3],\n",
              "       [ 4,  5,  6],\n",
              "       [ 7,  8,  9],\n",
              "       [10, 11, 12],\n",
              "       [13, 14, 15]])"
            ]
          },
          "metadata": {
            "tags": []
          },
          "execution_count": 50
        }
      ]
    },
    {
      "cell_type": "code",
      "metadata": {
        "colab": {
          "base_uri": "https://localhost:8080/"
        },
        "id": "bd5AApMRYkHF",
        "outputId": "f4304c90-c4fe-4df2-ae63-62ceb1e7822f"
      },
      "source": [
        "arr2d2 = np.arange(1,17).reshape(2,2,4)\r\n",
        "arr2d2"
      ],
      "execution_count": 51,
      "outputs": [
        {
          "output_type": "execute_result",
          "data": {
            "text/plain": [
              "array([[[ 1,  2,  3,  4],\n",
              "        [ 5,  6,  7,  8]],\n",
              "\n",
              "       [[ 9, 10, 11, 12],\n",
              "        [13, 14, 15, 16]]])"
            ]
          },
          "metadata": {
            "tags": []
          },
          "execution_count": 51
        }
      ]
    },
    {
      "cell_type": "code",
      "metadata": {
        "colab": {
          "base_uri": "https://localhost:8080/"
        },
        "id": "9LFJcgsIVZvg",
        "outputId": "de94986b-189a-4b31-a866-9c3119d9f4a2"
      },
      "source": [
        "np.swapaxes(arr2d2,1,0)"
      ],
      "execution_count": 52,
      "outputs": [
        {
          "output_type": "execute_result",
          "data": {
            "text/plain": [
              "array([[[ 1,  2,  3,  4],\n",
              "        [ 9, 10, 11, 12]],\n",
              "\n",
              "       [[ 5,  6,  7,  8],\n",
              "        [13, 14, 15, 16]]])"
            ]
          },
          "metadata": {
            "tags": []
          },
          "execution_count": 52
        }
      ]
    },
    {
      "cell_type": "code",
      "metadata": {
        "colab": {
          "base_uri": "https://localhost:8080/"
        },
        "id": "y3dmMdL_WALW",
        "outputId": "eacac990-ddfe-4599-94c5-c366f858e690"
      },
      "source": [
        "arr14 = np.arange(1,11)\r\n",
        "arr14"
      ],
      "execution_count": 53,
      "outputs": [
        {
          "output_type": "execute_result",
          "data": {
            "text/plain": [
              "array([ 1,  2,  3,  4,  5,  6,  7,  8,  9, 10])"
            ]
          },
          "metadata": {
            "tags": []
          },
          "execution_count": 53
        }
      ]
    },
    {
      "cell_type": "code",
      "metadata": {
        "id": "cIqyvCLFW6kX"
      },
      "source": [
        "arr15 = np.sqrt(arr14)"
      ],
      "execution_count": 54,
      "outputs": []
    },
    {
      "cell_type": "code",
      "metadata": {
        "id": "IQSoTEZAXKeu"
      },
      "source": [
        "arr15[arr15<0.5] = 0"
      ],
      "execution_count": 55,
      "outputs": []
    },
    {
      "cell_type": "code",
      "metadata": {
        "colab": {
          "base_uri": "https://localhost:8080/"
        },
        "id": "NxL7eec_XvSv",
        "outputId": "b44a32b8-e045-4b06-9476-77e67c6d5de0"
      },
      "source": [
        "arr15"
      ],
      "execution_count": 56,
      "outputs": [
        {
          "output_type": "execute_result",
          "data": {
            "text/plain": [
              "array([1.        , 1.41421356, 1.73205081, 2.        , 2.23606798,\n",
              "       2.44948974, 2.64575131, 2.82842712, 3.        , 3.16227766])"
            ]
          },
          "metadata": {
            "tags": []
          },
          "execution_count": 56
        }
      ]
    },
    {
      "cell_type": "code",
      "metadata": {
        "id": "ufbkBJ3TX351"
      },
      "source": [
        "a = np.random.randn(12)"
      ],
      "execution_count": 57,
      "outputs": []
    },
    {
      "cell_type": "code",
      "metadata": {
        "colab": {
          "base_uri": "https://localhost:8080/"
        },
        "id": "MH1MADN8Yx9l",
        "outputId": "5bfef971-193e-4166-ef8d-55d9da517e6a"
      },
      "source": [
        "a"
      ],
      "execution_count": 58,
      "outputs": [
        {
          "output_type": "execute_result",
          "data": {
            "text/plain": [
              "array([-1.26157483,  1.24185584,  1.3389332 , -0.58269175, -0.1995326 ,\n",
              "       -0.23638456, -0.20544893,  0.86762188,  0.33787696, -1.02710429,\n",
              "        1.32326315,  0.36843254])"
            ]
          },
          "metadata": {
            "tags": []
          },
          "execution_count": 58
        }
      ]
    },
    {
      "cell_type": "code",
      "metadata": {
        "id": "-fSOI_M_ZGDy"
      },
      "source": [
        "b = np.random.randn(12)"
      ],
      "execution_count": 59,
      "outputs": []
    },
    {
      "cell_type": "code",
      "metadata": {
        "colab": {
          "base_uri": "https://localhost:8080/"
        },
        "id": "NjchCOwrZLPb",
        "outputId": "f8583622-9eeb-4bbe-faf1-d39a7f62c783"
      },
      "source": [
        "b"
      ],
      "execution_count": 60,
      "outputs": [
        {
          "output_type": "execute_result",
          "data": {
            "text/plain": [
              "array([-0.11885742,  0.35662502, -0.68127899, -1.39865885,  0.14615008,\n",
              "       -1.80752092,  0.59070249, -1.44933707,  0.62325415, -1.08096924,\n",
              "        0.22535051,  1.36861283])"
            ]
          },
          "metadata": {
            "tags": []
          },
          "execution_count": 60
        }
      ]
    },
    {
      "cell_type": "code",
      "metadata": {
        "colab": {
          "base_uri": "https://localhost:8080/"
        },
        "id": "LWKc_HgeZOHO",
        "outputId": "b1b51ebd-db10-4d68-9e93-1705b8c2d442"
      },
      "source": [
        "np.maximum(a,b)"
      ],
      "execution_count": 63,
      "outputs": [
        {
          "output_type": "execute_result",
          "data": {
            "text/plain": [
              "array([-0.11885742,  1.24185584,  1.3389332 , -0.58269175,  0.14615008,\n",
              "       -0.23638456,  0.59070249,  0.86762188,  0.62325415, -1.02710429,\n",
              "        1.32326315,  1.36861283])"
            ]
          },
          "metadata": {
            "tags": []
          },
          "execution_count": 63
        }
      ]
    },
    {
      "cell_type": "code",
      "metadata": {
        "id": "0FY82nVzbBIc",
        "colab": {
          "base_uri": "https://localhost:8080/"
        },
        "outputId": "3e001070-c701-424e-cb22-4664b7076375"
      },
      "source": [
        " names = np.array(['Bob', 'Joe', 'Will', 'Bob','Will', 'Joe', 'Joe'])\n",
        "names\n",
        "idx = np.unique(names, return_index=True)\n",
        "idx"
      ],
      "execution_count": 83,
      "outputs": [
        {
          "output_type": "execute_result",
          "data": {
            "text/plain": [
              "(array(['Bob', 'Joe', 'Will'], dtype='<U4'), array([0, 1, 2]))"
            ]
          },
          "metadata": {
            "tags": []
          },
          "execution_count": 83
        }
      ]
    },
    {
      "cell_type": "code",
      "metadata": {
        "colab": {
          "base_uri": "https://localhost:8080/"
        },
        "id": "JDA-uUC9hbpz",
        "outputId": "e9b3c996-800c-4fec-e535-3062adaba88c"
      },
      "source": [
        " a = np.array([1,2,3,4,5]) \n",
        "b = np.array([5,6,7,8,9])\n",
        "result = np.setdiff1d(a, b)\n",
        "result"
      ],
      "execution_count": 84,
      "outputs": [
        {
          "output_type": "execute_result",
          "data": {
            "text/plain": [
              "array([1, 2, 3, 4])"
            ]
          },
          "metadata": {
            "tags": []
          },
          "execution_count": 84
        }
      ]
    },
    {
      "cell_type": "code",
      "metadata": {
        "colab": {
          "base_uri": "https://localhost:8080/"
        },
        "id": "SmtvxBVRhebI",
        "outputId": "1d5b511f-5457-4362-df48-5b93f0ff5485"
      },
      "source": [
        " sampleArray = np.array([[34,43,73],[82,22,12],[53,94,66]])\n",
        "sampleArray\n",
        "C = np.delete(sampleArray, 1, 1)\n",
        "newColumn = np.array([[10,10,10]])\n",
        "C = np.insert(C,1,newColumn,axis=1)\n",
        "C"
      ],
      "execution_count": 97,
      "outputs": [
        {
          "output_type": "execute_result",
          "data": {
            "text/plain": [
              "array([[34, 10, 73],\n",
              "       [82, 10, 12],\n",
              "       [53, 10, 66]])"
            ]
          },
          "metadata": {
            "tags": []
          },
          "execution_count": 97
        }
      ]
    },
    {
      "cell_type": "code",
      "metadata": {
        "colab": {
          "base_uri": "https://localhost:8080/"
        },
        "id": "Twuo35HpkzNz",
        "outputId": "a10391c0-0dba-4164-87e4-f8dcbca14f1a"
      },
      "source": [
        " x = np.array([[1., 2., 3.], [4., 5., 6.]]) \n",
        "y = np.array([[6., 23.], [-1, 7], [8, 9]])\n",
        "np.dot(x,y)"
      ],
      "execution_count": 100,
      "outputs": [
        {
          "output_type": "execute_result",
          "data": {
            "text/plain": [
              "array([[ 28.,  64.],\n",
              "       [ 67., 181.]])"
            ]
          },
          "metadata": {
            "tags": []
          },
          "execution_count": 100
        }
      ]
    },
    {
      "cell_type": "code",
      "metadata": {
        "colab": {
          "base_uri": "https://localhost:8080/"
        },
        "id": "fqPC_r4NmiW6",
        "outputId": "955012bf-cddb-4cd1-90d8-e20df3d198ba"
      },
      "source": [
        " arr2d_1 = np.random.random((20,20))\n",
        "arr2d_1\n",
        "np.cumsum(arr2d_1)"
      ],
      "execution_count": 104,
      "outputs": [
        {
          "output_type": "execute_result",
          "data": {
            "text/plain": [
              "array([1.43488409e-01, 2.26793143e-01, 4.68039806e-01, 1.29034251e+00,\n",
              "       2.03436088e+00, 2.99679267e+00, 3.07921401e+00, 3.17428753e+00,\n",
              "       3.58492799e+00, 4.56107777e+00, 4.77125039e+00, 5.19370613e+00,\n",
              "       5.78048558e+00, 6.04873452e+00, 6.84998830e+00, 7.43216530e+00,\n",
              "       8.07401542e+00, 8.92664369e+00, 9.03530454e+00, 9.65257840e+00,\n",
              "       1.05409880e+01, 1.07509734e+01, 1.08403643e+01, 1.12722693e+01,\n",
              "       1.18488637e+01, 1.24531158e+01, 1.27452308e+01, 1.30792959e+01,\n",
              "       1.34211365e+01, 1.37091605e+01, 1.43840419e+01, 1.49992877e+01,\n",
              "       1.53226954e+01, 1.57613471e+01, 1.59780982e+01, 1.63059089e+01,\n",
              "       1.70946690e+01, 1.76700330e+01, 1.82073298e+01, 1.86309777e+01,\n",
              "       1.93105424e+01, 1.93337501e+01, 2.01221824e+01, 2.02871296e+01,\n",
              "       2.04425927e+01, 2.10225171e+01, 2.17511746e+01, 2.24251325e+01,\n",
              "       2.31385125e+01, 2.40290340e+01, 2.48771080e+01, 2.55245316e+01,\n",
              "       2.60558436e+01, 2.69507945e+01, 2.71497977e+01, 2.79432656e+01,\n",
              "       2.79895497e+01, 2.88870774e+01, 2.94274926e+01, 3.01908605e+01,\n",
              "       3.07010930e+01, 3.15751468e+01, 3.16224583e+01, 3.19619722e+01,\n",
              "       3.19957388e+01, 3.24878438e+01, 3.27039986e+01, 3.27109051e+01,\n",
              "       3.34232080e+01, 3.39992929e+01, 3.49157071e+01, 3.53049661e+01,\n",
              "       3.54058838e+01, 3.55514026e+01, 3.59059642e+01, 3.60246132e+01,\n",
              "       3.63653454e+01, 3.63822682e+01, 3.65961606e+01, 3.70446669e+01,\n",
              "       3.75111214e+01, 3.81378204e+01, 3.89536259e+01, 3.94091847e+01,\n",
              "       4.01080137e+01, 4.06068014e+01, 4.09856900e+01, 4.18536497e+01,\n",
              "       4.19249693e+01, 4.25423861e+01, 4.32559966e+01, 4.37507613e+01,\n",
              "       4.46119217e+01, 4.53330645e+01, 4.54090930e+01, 4.61602466e+01,\n",
              "       4.67995791e+01, 4.71638185e+01, 4.72928241e+01, 4.79569587e+01,\n",
              "       4.84850158e+01, 4.86861829e+01, 4.96249946e+01, 4.97628478e+01,\n",
              "       5.05296613e+01, 5.15088759e+01, 5.19089573e+01, 5.24988803e+01,\n",
              "       5.31528067e+01, 5.39629995e+01, 5.43276439e+01, 5.47585516e+01,\n",
              "       5.53779461e+01, 5.58296085e+01, 5.63014620e+01, 5.63615398e+01,\n",
              "       5.66090049e+01, 5.66513901e+01, 5.71177848e+01, 5.75872881e+01,\n",
              "       5.83159011e+01, 5.88267839e+01, 5.89679246e+01, 5.97875175e+01,\n",
              "       6.00624677e+01, 6.02327959e+01, 6.10824924e+01, 6.20386359e+01,\n",
              "       6.24073682e+01, 6.27314538e+01, 6.31032526e+01, 6.35228006e+01,\n",
              "       6.35704385e+01, 6.42679022e+01, 6.51721120e+01, 6.59483969e+01,\n",
              "       6.65016282e+01, 6.72201230e+01, 6.73865470e+01, 6.80322166e+01,\n",
              "       6.88242254e+01, 6.95762421e+01, 6.96508539e+01, 7.04032822e+01,\n",
              "       7.10423263e+01, 7.16066510e+01, 7.19169826e+01, 7.23834023e+01,\n",
              "       7.25977966e+01, 7.26805270e+01, 7.31553723e+01, 7.31892744e+01,\n",
              "       7.41805011e+01, 7.42899141e+01, 7.50202713e+01, 7.52722909e+01,\n",
              "       7.55549097e+01, 7.60617127e+01, 7.66007158e+01, 7.66575839e+01,\n",
              "       7.69664267e+01, 7.75240476e+01, 7.81114973e+01, 7.85507866e+01,\n",
              "       7.90364797e+01, 7.91662865e+01, 7.93044592e+01, 8.00773352e+01,\n",
              "       8.04002797e+01, 8.11074682e+01, 8.18959465e+01, 8.27131586e+01,\n",
              "       8.29184078e+01, 8.34369317e+01, 8.36214030e+01, 8.40892907e+01,\n",
              "       8.43835057e+01, 8.48752741e+01, 8.58539689e+01, 8.67153220e+01,\n",
              "       8.73518120e+01, 8.79116222e+01, 8.85501202e+01, 8.86571907e+01,\n",
              "       8.89488825e+01, 8.98152698e+01, 9.04691298e+01, 9.13625250e+01,\n",
              "       9.19676628e+01, 9.24965104e+01, 9.31676845e+01, 9.35111411e+01,\n",
              "       9.42939415e+01, 9.44079688e+01, 9.49183271e+01, 9.56312672e+01,\n",
              "       9.56864025e+01, 9.62335347e+01, 9.71742682e+01, 9.80784207e+01,\n",
              "       9.82636463e+01, 9.89214416e+01, 9.99176957e+01, 1.00603641e+02,\n",
              "       1.00827317e+02, 1.01538601e+02, 1.02168166e+02, 1.02385586e+02,\n",
              "       1.03099127e+02, 1.03569883e+02, 1.04395366e+02, 1.04995847e+02,\n",
              "       1.05585711e+02, 1.05764304e+02, 1.06357491e+02, 1.06630935e+02,\n",
              "       1.07459170e+02, 1.07692046e+02, 1.08529231e+02, 1.09390314e+02,\n",
              "       1.09991447e+02, 1.10345395e+02, 1.11117095e+02, 1.11664690e+02,\n",
              "       1.11851872e+02, 1.12443725e+02, 1.13283779e+02, 1.13438222e+02,\n",
              "       1.13504231e+02, 1.14218963e+02, 1.15026754e+02, 1.15127535e+02,\n",
              "       1.15334804e+02, 1.16139672e+02, 1.16713915e+02, 1.16797500e+02,\n",
              "       1.17474214e+02, 1.18080912e+02, 1.18656175e+02, 1.18732234e+02,\n",
              "       1.18810331e+02, 1.19567346e+02, 1.19932896e+02, 1.20827962e+02,\n",
              "       1.21792622e+02, 1.22154434e+02, 1.22954934e+02, 1.23201489e+02,\n",
              "       1.23523555e+02, 1.24191626e+02, 1.24596128e+02, 1.24738665e+02,\n",
              "       1.25284935e+02, 1.25965419e+02, 1.26546775e+02, 1.26906224e+02,\n",
              "       1.27354360e+02, 1.28155593e+02, 1.28691760e+02, 1.29137765e+02,\n",
              "       1.29357083e+02, 1.29599392e+02, 1.30500369e+02, 1.30564030e+02,\n",
              "       1.30941063e+02, 1.31397683e+02, 1.31516269e+02, 1.32153236e+02,\n",
              "       1.32490004e+02, 1.32694199e+02, 1.32939438e+02, 1.33290035e+02,\n",
              "       1.33740187e+02, 1.34436745e+02, 1.35007934e+02, 1.35717555e+02,\n",
              "       1.36328760e+02, 1.36708950e+02, 1.36890002e+02, 1.37555005e+02,\n",
              "       1.37931047e+02, 1.38029873e+02, 1.38288974e+02, 1.39257330e+02,\n",
              "       1.39951781e+02, 1.40651684e+02, 1.41184269e+02, 1.41231934e+02,\n",
              "       1.41512125e+02, 1.42102149e+02, 1.42869529e+02, 1.43690924e+02,\n",
              "       1.44206917e+02, 1.45206724e+02, 1.45646734e+02, 1.45967959e+02,\n",
              "       1.46576359e+02, 1.47415180e+02, 1.48254328e+02, 1.48756176e+02,\n",
              "       1.48882399e+02, 1.49714573e+02, 1.50218071e+02, 1.50333868e+02,\n",
              "       1.50579113e+02, 1.50632064e+02, 1.51300814e+02, 1.51903143e+02,\n",
              "       1.52307915e+02, 1.52653889e+02, 1.53254311e+02, 1.53668594e+02,\n",
              "       1.54608076e+02, 1.55458041e+02, 1.56221804e+02, 1.56559726e+02,\n",
              "       1.57028679e+02, 1.57601174e+02, 1.58578252e+02, 1.59384491e+02,\n",
              "       1.60246054e+02, 1.61093597e+02, 1.61714425e+02, 1.62253619e+02,\n",
              "       1.62779047e+02, 1.63130341e+02, 1.63381046e+02, 1.63584048e+02,\n",
              "       1.63908682e+02, 1.64474669e+02, 1.64732979e+02, 1.64852187e+02,\n",
              "       1.64916896e+02, 1.65569567e+02, 1.65578167e+02, 1.66120563e+02,\n",
              "       1.66766145e+02, 1.67154151e+02, 1.67876372e+02, 1.67931175e+02,\n",
              "       1.68620275e+02, 1.69057620e+02, 1.69347336e+02, 1.70266705e+02,\n",
              "       1.70679126e+02, 1.71217702e+02, 1.72120648e+02, 1.72231980e+02,\n",
              "       1.72420158e+02, 1.72972853e+02, 1.73639653e+02, 1.74131666e+02,\n",
              "       1.75044731e+02, 1.75375289e+02, 1.75807772e+02, 1.76195610e+02,\n",
              "       1.76458182e+02, 1.77142761e+02, 1.77347593e+02, 1.77440749e+02,\n",
              "       1.78174986e+02, 1.78590626e+02, 1.79532764e+02, 1.80088316e+02,\n",
              "       1.80177056e+02, 1.80193441e+02, 1.81066863e+02, 1.81622569e+02,\n",
              "       1.82044922e+02, 1.82078523e+02, 1.82508409e+02, 1.83141159e+02,\n",
              "       1.84119122e+02, 1.84124346e+02, 1.84841760e+02, 1.84882654e+02,\n",
              "       1.85225102e+02, 1.85946965e+02, 1.86206927e+02, 1.86356358e+02,\n",
              "       1.86871943e+02, 1.87297281e+02, 1.88277634e+02, 1.88381162e+02,\n",
              "       1.89008960e+02, 1.89604733e+02, 1.90551606e+02, 1.91039424e+02,\n",
              "       1.91913274e+02, 1.92672366e+02, 1.92861510e+02, 1.93663118e+02,\n",
              "       1.94413366e+02, 1.94845547e+02, 1.95175100e+02, 1.95972804e+02,\n",
              "       1.96473939e+02, 1.97352207e+02, 1.98115554e+02, 1.98223013e+02])"
            ]
          },
          "metadata": {
            "tags": []
          },
          "execution_count": 104
        }
      ]
    }
  ]
}