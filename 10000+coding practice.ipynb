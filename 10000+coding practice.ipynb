{
  "nbformat": 4,
  "nbformat_minor": 0,
  "metadata": {
    "colab": {
      "name": "Untitled1.ipynb",
      "provenance": [],
      "authorship_tag": "ABX9TyMd2toe/dazHRhuqheqg9BW",
      "include_colab_link": true
    },
    "kernelspec": {
      "name": "python3",
      "display_name": "Python 3"
    }
  },
  "cells": [
    {
      "cell_type": "markdown",
      "metadata": {
        "id": "view-in-github",
        "colab_type": "text"
      },
      "source": [
        "<a href=\"https://colab.research.google.com/github/ammad19/AI-course-exercises/blob/master/10000%2Bcoding%20practice.ipynb\" target=\"_parent\"><img src=\"https://colab.research.google.com/assets/colab-badge.svg\" alt=\"Open In Colab\"/></a>"
      ]
    },
    {
      "cell_type": "code",
      "metadata": {
        "id": "uzhl0VQMVUfS",
        "colab_type": "code",
        "colab": {
          "base_uri": "https://localhost:8080/",
          "height": 51
        },
        "outputId": "cb53de27-ddbc-4fdc-c985-b5ffa6940127"
      },
      "source": [
        "#Radian to Degree\n",
        "import math\n",
        "x = int(input(\"enter angle in radians: \"))\n",
        "y = float(x*180/3.14)\n",
        "print(y)\n"
      ],
      "execution_count": 1,
      "outputs": [
        {
          "output_type": "stream",
          "text": [
            "enter angle in radians: 34\n",
            "1949.0445859872611\n"
          ],
          "name": "stdout"
        }
      ]
    },
    {
      "cell_type": "code",
      "metadata": {
        "id": "Sf_8kJCFWJ9o",
        "colab_type": "code",
        "colab": {
          "base_uri": "https://localhost:8080/",
          "height": 51
        },
        "outputId": "2ecee7c1-8a9a-4241-d3e8-25a36b600766"
      },
      "source": [
        "#Avg of numbers\n",
        "x = input(\"Enter nos seperated by space: \")\n",
        "list_x = x.split()\n",
        "sum = 0\n",
        "for item in list_x:\n",
        "  sum += int(item)\n",
        "avg = sum/len(list_x)\n",
        "print(avg)"
      ],
      "execution_count": 10,
      "outputs": [
        {
          "output_type": "stream",
          "text": [
            "Enter nos seperated by space: 3 3 3\n",
            "3.0\n"
          ],
          "name": "stdout"
        }
      ]
    },
    {
      "cell_type": "code",
      "metadata": {
        "id": "eS9P_wimXIRg",
        "colab_type": "code",
        "colab": {}
      },
      "source": [
        ""
      ],
      "execution_count": 0,
      "outputs": []
    }
  ]
}