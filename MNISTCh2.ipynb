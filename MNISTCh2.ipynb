{
  "nbformat": 4,
  "nbformat_minor": 0,
  "metadata": {
    "colab": {
      "name": "MNISTCh2.ipynb",
      "provenance": [],
      "collapsed_sections": [],
      "authorship_tag": "ABX9TyPLHmuOONGn6z41YDtwwGXa",
      "include_colab_link": true
    },
    "kernelspec": {
      "name": "python3",
      "display_name": "Python 3"
    }
  },
  "cells": [
    {
      "cell_type": "markdown",
      "metadata": {
        "id": "view-in-github",
        "colab_type": "text"
      },
      "source": [
        "<a href=\"https://colab.research.google.com/github/ammad19/AI-course-exercises/blob/master/MNISTCh2.ipynb\" target=\"_parent\"><img src=\"https://colab.research.google.com/assets/colab-badge.svg\" alt=\"Open In Colab\"/></a>"
      ]
    },
    {
      "cell_type": "code",
      "metadata": {
        "colab": {
          "base_uri": "https://localhost:8080/"
        },
        "id": "JaVePBfdQbSl",
        "outputId": "be85c695-ec07-43a6-f83f-fe5e96fd65c2"
      },
      "source": [
        "from keras.datasets import mnist\n",
        "(train_images, train_labels), (test_images, test_labels) = mnist.load_data()"
      ],
      "execution_count": 1,
      "outputs": [
        {
          "output_type": "stream",
          "text": [
            "Downloading data from https://storage.googleapis.com/tensorflow/tf-keras-datasets/mnist.npz\n",
            "11493376/11490434 [==============================] - 0s 0us/step\n",
            "11501568/11490434 [==============================] - 0s 0us/step\n"
          ],
          "name": "stdout"
        }
      ]
    },
    {
      "cell_type": "code",
      "metadata": {
        "id": "tCRnZuBPQjRz"
      },
      "source": [
        "from keras import models\n",
        "from keras import layers\n",
        "network = models.Sequential()\n",
        "network.add(layers.Dense(512, activation='relu', input_shape=(28 * 28,)))\n",
        "network.add(layers.Dense(10, activation='softmax'))"
      ],
      "execution_count": 2,
      "outputs": []
    },
    {
      "cell_type": "code",
      "metadata": {
        "id": "5ctia_iKQqSt"
      },
      "source": [
        "network.compile(optimizer='rmsprop',\n",
        "                loss='categorical_crossentropy',\n",
        "                metrics=['accuracy'])"
      ],
      "execution_count": 3,
      "outputs": []
    },
    {
      "cell_type": "code",
      "metadata": {
        "id": "TM21f82fQuzp"
      },
      "source": [
        "train_images = train_images.reshape((60000, 28 * 28))\n",
        "train_images = train_images.astype('float32') / 255\n",
        "test_images = test_images.reshape((10000, 28 * 28))\n",
        "test_images = test_images.astype('float32') / 255"
      ],
      "execution_count": 4,
      "outputs": []
    },
    {
      "cell_type": "code",
      "metadata": {
        "id": "oazFvfU2QyAp"
      },
      "source": [
        "#from keras.utils import to_categorical\n",
        "from tensorflow.keras.utils import to_categorical\n",
        "train_labels = to_categorical(train_labels)\n",
        "test_labels = to_categorical(test_labels)"
      ],
      "execution_count": 6,
      "outputs": []
    },
    {
      "cell_type": "code",
      "metadata": {
        "colab": {
          "base_uri": "https://localhost:8080/"
        },
        "id": "R2aC8rQ4Q04B",
        "outputId": "ff8b49d4-3e9e-45fd-d161-41dacd5c9bfd"
      },
      "source": [
        "network.fit(train_images, train_labels, epochs=5, batch_size=128)"
      ],
      "execution_count": 7,
      "outputs": [
        {
          "output_type": "stream",
          "text": [
            "Epoch 1/5\n",
            "469/469 [==============================] - 19s 10ms/step - loss: 0.4209 - accuracy: 0.8772\n",
            "Epoch 2/5\n",
            "469/469 [==============================] - 5s 10ms/step - loss: 0.1109 - accuracy: 0.9681\n",
            "Epoch 3/5\n",
            "469/469 [==============================] - 5s 10ms/step - loss: 0.0693 - accuracy: 0.9799\n",
            "Epoch 4/5\n",
            "469/469 [==============================] - 5s 10ms/step - loss: 0.0475 - accuracy: 0.9864\n",
            "Epoch 5/5\n",
            "469/469 [==============================] - 5s 10ms/step - loss: 0.0379 - accuracy: 0.9889\n"
          ],
          "name": "stdout"
        },
        {
          "output_type": "execute_result",
          "data": {
            "text/plain": [
              "<keras.callbacks.History at 0x7ff801484210>"
            ]
          },
          "metadata": {
            "tags": []
          },
          "execution_count": 7
        }
      ]
    },
    {
      "cell_type": "code",
      "metadata": {
        "colab": {
          "base_uri": "https://localhost:8080/"
        },
        "id": "lNtIcnaca5Zi",
        "outputId": "f8593b52-5454-4bd0-c7cf-f42bb96ef706"
      },
      "source": [
        "x_val = train_images[:10000]\n",
        "partial_x_train = train_images[10000:]\n",
        "y_val = train_labels[:10000]\n",
        "partial_y_train = train_labels[10000:]\n",
        "network.compile(optimizer='rmsprop',loss='categorical_crossentropy',metrics=['accuracy'])\n",
        "history = network.fit(partial_x_train,partial_y_train,epochs=15,batch_size=128,validation_data=(x_val, y_val))"
      ],
      "execution_count": 20,
      "outputs": [
        {
          "output_type": "stream",
          "text": [
            "Epoch 1/15\n",
            "391/391 [==============================] - 5s 11ms/step - loss: 0.0082 - accuracy: 0.9979 - val_loss: 0.0402 - val_accuracy: 0.9875\n",
            "Epoch 2/15\n",
            "391/391 [==============================] - 4s 11ms/step - loss: 0.0057 - accuracy: 0.9987 - val_loss: 0.0402 - val_accuracy: 0.9888\n",
            "Epoch 3/15\n",
            "391/391 [==============================] - 4s 11ms/step - loss: 0.0037 - accuracy: 0.9989 - val_loss: 0.0415 - val_accuracy: 0.9889\n",
            "Epoch 4/15\n",
            "391/391 [==============================] - 4s 11ms/step - loss: 0.0026 - accuracy: 0.9995 - val_loss: 0.0481 - val_accuracy: 0.9873\n",
            "Epoch 5/15\n",
            "391/391 [==============================] - 4s 11ms/step - loss: 0.0022 - accuracy: 0.9993 - val_loss: 0.0469 - val_accuracy: 0.9886\n",
            "Epoch 6/15\n",
            "391/391 [==============================] - 4s 11ms/step - loss: 0.0020 - accuracy: 0.9995 - val_loss: 0.0503 - val_accuracy: 0.9882\n",
            "Epoch 7/15\n",
            "391/391 [==============================] - 4s 11ms/step - loss: 0.0014 - accuracy: 0.9997 - val_loss: 0.0531 - val_accuracy: 0.9877\n",
            "Epoch 8/15\n",
            "391/391 [==============================] - 4s 11ms/step - loss: 9.9005e-04 - accuracy: 0.9998 - val_loss: 0.0538 - val_accuracy: 0.9878\n",
            "Epoch 9/15\n",
            "391/391 [==============================] - 4s 11ms/step - loss: 7.7607e-04 - accuracy: 0.9999 - val_loss: 0.0510 - val_accuracy: 0.9887\n",
            "Epoch 10/15\n",
            "391/391 [==============================] - 4s 11ms/step - loss: 5.3861e-04 - accuracy: 0.9999 - val_loss: 0.0548 - val_accuracy: 0.9877\n",
            "Epoch 11/15\n",
            "391/391 [==============================] - 4s 11ms/step - loss: 4.2232e-04 - accuracy: 0.9999 - val_loss: 0.0551 - val_accuracy: 0.9882\n",
            "Epoch 12/15\n",
            "391/391 [==============================] - 4s 11ms/step - loss: 2.5323e-04 - accuracy: 1.0000 - val_loss: 0.0590 - val_accuracy: 0.9875\n",
            "Epoch 13/15\n",
            "391/391 [==============================] - 4s 11ms/step - loss: 2.2485e-04 - accuracy: 1.0000 - val_loss: 0.0654 - val_accuracy: 0.9883\n",
            "Epoch 14/15\n",
            "391/391 [==============================] - 4s 11ms/step - loss: 2.1476e-04 - accuracy: 1.0000 - val_loss: 0.0669 - val_accuracy: 0.9882\n",
            "Epoch 15/15\n",
            "391/391 [==============================] - 4s 11ms/step - loss: 2.7221e-04 - accuracy: 0.9999 - val_loss: 0.0651 - val_accuracy: 0.9884\n"
          ],
          "name": "stdout"
        }
      ]
    },
    {
      "cell_type": "code",
      "metadata": {
        "colab": {
          "base_uri": "https://localhost:8080/"
        },
        "id": "3oIy_B5zbcTt",
        "outputId": "d16980db-6e4a-464b-fe91-b5e1890e4bda"
      },
      "source": [
        "history_dict = history.history\n",
        "history_dict.keys()"
      ],
      "execution_count": 21,
      "outputs": [
        {
          "output_type": "execute_result",
          "data": {
            "text/plain": [
              "dict_keys(['loss', 'accuracy', 'val_loss', 'val_accuracy'])"
            ]
          },
          "metadata": {
            "tags": []
          },
          "execution_count": 21
        }
      ]
    },
    {
      "cell_type": "code",
      "metadata": {
        "colab": {
          "base_uri": "https://localhost:8080/",
          "height": 295
        },
        "id": "CES1v9JcbhF9",
        "outputId": "f8e78055-7a47-4d55-f306-b9d19588700d"
      },
      "source": [
        "import matplotlib.pyplot as plt\n",
        "history_dict = history.history\n",
        "loss_values = history_dict['loss']\n",
        "val_loss_values = history_dict['val_loss']\n",
        "epochs = range(1, len(history_dict['accuracy']) + 1)\n",
        "plt.plot(epochs, loss_values, 'bo', label='Training loss')\n",
        "plt.plot(epochs, val_loss_values, 'b', label='Validation loss')\n",
        "plt.title('Training and validation loss')\n",
        "plt.xlabel('Epochs')\n",
        "plt.ylabel('Loss')\n",
        "plt.legend()\n",
        "plt.show()"
      ],
      "execution_count": 22,
      "outputs": [
        {
          "output_type": "display_data",
          "data": {
            "image/png": "[encoded data removed]",
            "text/plain": [
              "<Figure size 432x288 with 1 Axes>"
            ]
          },
          "metadata": {
            "tags": [],
            "needs_background": "light"
          }
        }
      ]
    },
    {
      "cell_type": "code",
      "metadata": {
        "colab": {
          "base_uri": "https://localhost:8080/",
          "height": 295
        },
        "id": "D5WJrF-ibjPF",
        "outputId": "d6ba210a-ca42-4f3b-c5fb-5e323638b74f"
      },
      "source": [
        "plt.clf()\n",
        "acc_values = history_dict['accuracy']\n",
        "val_acc_values = history_dict['val_accuracy']\n",
        "plt.plot(epochs, acc_values, 'bo', label='Training acc')\n",
        "plt.plot(epochs, val_acc_values, 'b', label='Validation acc')\n",
        "plt.title('Training and validation accuracy')\n",
        "plt.xlabel('Epochs')\n",
        "plt.ylabel('Loss')\n",
        "plt.legend()\n",
        "plt.show()"
      ],
      "execution_count": 23,
      "outputs": [
        {
          "output_type": "display_data",
          "data": {
            "image/png": "[encoded data removed]",
            "text/plain": [
              "<Figure size 432x288 with 1 Axes>"
            ]
          },
          "metadata": {
            "tags": [],
            "needs_background": "light"
          }
        }
      ]
    },
    {
      "cell_type": "code",
      "metadata": {
        "colab": {
          "base_uri": "https://localhost:8080/"
        },
        "id": "caSgIq8pQ3fh",
        "outputId": "492139aa-a798-4d19-e160-3ef401bfa289"
      },
      "source": [
        "test_loss, test_acc = network.evaluate(test_images, test_labels)\n",
        "print('test_acc:', test_acc)"
      ],
      "execution_count": null,
      "outputs": [
        {
          "output_type": "stream",
          "text": [
            "313/313 [==============================] - 1s 2ms/step - loss: 0.0636 - accuracy: 0.9808\n",
            "test_acc: 0.9807999730110168\n"
          ],
          "name": "stdout"
        }
      ]
    },
    {
      "cell_type": "code",
      "metadata": {
        "id": "nQe-ZM3aRKh8"
      },
      "source": [
        ""
      ],
      "execution_count": null,
      "outputs": []
    }
  ]
}