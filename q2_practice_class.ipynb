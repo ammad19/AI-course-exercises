{
  "nbformat": 4,
  "nbformat_minor": 0,
  "metadata": {
    "colab": {
      "name": "q2_prqactice",
      "provenance": [],
      "collapsed_sections": [],
      "include_colab_link": true
    },
    "kernelspec": {
      "name": "python3",
      "display_name": "Python 3"
    }
  },
  "cells": [
    {
      "cell_type": "markdown",
      "metadata": {
        "id": "view-in-github",
        "colab_type": "text"
      },
      "source": [
        "<a href=\"https://colab.research.google.com/github/ammad19/AI-course-exercises/blob/master/q2_practice_class.ipynb\" target=\"_parent\"><img src=\"https://colab.research.google.com/assets/colab-badge.svg\" alt=\"Open In Colab\"/></a>"
      ]
    },
    {
      "cell_type": "code",
      "metadata": {
        "id": "a1-ngvqui_WF"
      },
      "source": [
        "import numpy as np"
      ],
      "execution_count": null,
      "outputs": []
    },
    {
      "cell_type": "code",
      "metadata": {
        "id": "nKibpKgRcTbB"
      },
      "source": [
        ""
      ],
      "execution_count": null,
      "outputs": []
    },
    {
      "cell_type": "code",
      "metadata": {
        "id": "ItrNeQKGbcmH"
      },
      "source": [
        ""
      ],
      "execution_count": null,
      "outputs": []
    },
    {
      "cell_type": "code",
      "metadata": {
        "id": "jcc_X2c2bfI6"
      },
      "source": [
        ""
      ],
      "execution_count": null,
      "outputs": []
    },
    {
      "cell_type": "code",
      "metadata": {
        "id": "ZR4Ic6EAjGom"
      },
      "source": [
        "my_arr = np.arange(100)"
      ],
      "execution_count": null,
      "outputs": []
    },
    {
      "cell_type": "code",
      "metadata": {
        "colab": {
          "base_uri": "https://localhost:8080/"
        },
        "id": "X2xXO9IgjVgr",
        "outputId": "de1bf4c3-a277-458c-db26-1dae18807594"
      },
      "source": [
        "print(my_arr)\n",
        "my_arr"
      ],
      "execution_count": null,
      "outputs": [
        {
          "output_type": "stream",
          "text": [
            "[     0      1      2 ... 999997 999998 999999]\n"
          ],
          "name": "stdout"
        },
        {
          "output_type": "execute_result",
          "data": {
            "text/plain": [
              "array([     0,      1,      2, ..., 999997, 999998, 999999])"
            ]
          },
          "metadata": {
            "tags": []
          },
          "execution_count": 4
        }
      ]
    },
    {
      "cell_type": "code",
      "metadata": {
        "id": "bjcXCUxJjIip"
      },
      "source": [
        "my_list = list(range(1000000))"
      ],
      "execution_count": null,
      "outputs": []
    },
    {
      "cell_type": "code",
      "metadata": {
        "colab": {
          "base_uri": "https://localhost:8080/"
        },
        "id": "QM2M-0CljL1Y",
        "outputId": "6e32ab8a-c4a3-4a0b-e152-d8dd42700550"
      },
      "source": [
        "%time for _ in range(10): my_arr2 = my_arr * 2 # vectorized operation"
      ],
      "execution_count": null,
      "outputs": [
        {
          "output_type": "stream",
          "text": [
            "CPU times: user 70 ms, sys: 2.96 ms, total: 73 ms\n",
            "Wall time: 75.4 ms\n"
          ],
          "name": "stdout"
        }
      ]
    },
    {
      "cell_type": "code",
      "metadata": {
        "colab": {
          "base_uri": "https://localhost:8080/"
        },
        "id": "UOyZw73ko5mc",
        "outputId": "5d895051-b54d-47a9-cddb-554553a939b2"
      },
      "source": [
        "%time for _ in range(10): my_arr2 = [x * 2 for x in my_arr]"
      ],
      "execution_count": null,
      "outputs": [
        {
          "output_type": "stream",
          "text": [
            "CPU times: user 3.47 s, sys: 102 ms, total: 3.57 s\n",
            "Wall time: 3.58 s\n"
          ],
          "name": "stdout"
        }
      ]
    },
    {
      "cell_type": "code",
      "metadata": {
        "colab": {
          "base_uri": "https://localhost:8080/"
        },
        "id": "ssb7M620jN7h",
        "outputId": "ce18aa4a-1813-4ab8-e3eb-65baad530c6a"
      },
      "source": [
        "%time for _ in range(10): my_list2 = [x * 2 for x in my_list]\n",
        "my_list = my_list.append(100)"
      ],
      "execution_count": null,
      "outputs": [
        {
          "output_type": "stream",
          "text": [
            "CPU times: user 560 ms, sys: 118 ms, total: 678 ms\n",
            "Wall time: 680 ms\n"
          ],
          "name": "stdout"
        }
      ]
    },
    {
      "cell_type": "code",
      "metadata": {
        "colab": {
          "base_uri": "https://localhost:8080/"
        },
        "id": "ftW0nAaUUmoi",
        "outputId": "347b8dc8-0643-4322-ebeb-31162c7b6f2b"
      },
      "source": [
        "import numpy as np\n",
        "data1 = [6, 7.5, 8, 0, 1]\n",
        "arr1 = np.array(data1)\n",
        "arr1\n",
        "type(arr1)\n",
        "type(data1)"
      ],
      "execution_count": null,
      "outputs": [
        {
          "output_type": "execute_result",
          "data": {
            "text/plain": [
              "list"
            ]
          },
          "metadata": {
            "tags": []
          },
          "execution_count": 4
        }
      ]
    },
    {
      "cell_type": "code",
      "metadata": {
        "colab": {
          "base_uri": "https://localhost:8080/"
        },
        "id": "P2riLsGQVFPX",
        "outputId": "d28af410-ba9e-4d4b-cc0f-5b3d11990db8"
      },
      "source": [
        "data1 = [ 1,2,3] # one dimension = vector\n",
        "data2 = np.array ([[1, 2, 3, 4, 5, 6], [5, 6, 7, 8, 9, 10]]) # two dimension # math matrix\n",
        "\n",
        "print(data2.ndim, data2.shape)\n",
        "data3 = np.array ([ [ [ 1 ,1], [2,2], [3,3], [4,4 ] ], [ [5,5],  [6,6], [7,7], [8,8] ] ])\n",
        "print(data3)\n",
        "print(data3.ndim, data3.shape )"
      ],
      "execution_count": null,
      "outputs": [
        {
          "output_type": "stream",
          "text": [
            "2 (2, 6)\n",
            "[[[1 1]\n",
            "  [2 2]\n",
            "  [3 3]\n",
            "  [4 4]]\n",
            "\n",
            " [[5 5]\n",
            "  [6 6]\n",
            "  [7 7]\n",
            "  [8 8]]]\n",
            "3 (2, 4, 2)\n"
          ],
          "name": "stdout"
        }
      ]
    },
    {
      "cell_type": "code",
      "metadata": {
        "id": "Xy2-CgLtnwGk"
      },
      "source": [
        " # how to slice\n",
        " # for each dimension \n",
        "    # use start : end\n",
        "    # defaults\n",
        "    # no start specify = from first value\n",
        "    # no end specify = till the end (last value)\n",
        "\n",
        "# more dimension means more start:end notation\n",
        "# for example you have two dimension \n",
        "array[start:end, start:end, start:end] # comma means next dimenstion\n",
        "\n"
      ],
      "execution_count": null,
      "outputs": []
    },
    {
      "cell_type": "code",
      "metadata": {
        "colab": {
          "base_uri": "https://localhost:8080/"
        },
        "id": "U4PYRrJ0VLeh",
        "outputId": "640071fd-d87e-4b18-8079-14be8dd22e39"
      },
      "source": [
        "arr2 = np.array(data2)\n",
        "print(arr2)\n",
        "arr2.shape\n"
      ],
      "execution_count": null,
      "outputs": [
        {
          "output_type": "stream",
          "text": [
            "[[1 2 3 4]\n",
            " [5 6 7 8]]\n"
          ],
          "name": "stdout"
        },
        {
          "output_type": "execute_result",
          "data": {
            "text/plain": [
              "(2, 4)"
            ]
          },
          "metadata": {
            "tags": []
          },
          "execution_count": 9
        }
      ]
    },
    {
      "cell_type": "code",
      "metadata": {
        "colab": {
          "base_uri": "https://localhost:8080/"
        },
        "id": "Xzc5kkEMdHq-",
        "outputId": "713e5478-a393-4852-f0df-24a5e574e46c"
      },
      "source": [
        "np.zeros((3, 6))\n",
        "np.dtype"
      ],
      "execution_count": null,
      "outputs": [
        {
          "output_type": "execute_result",
          "data": {
            "text/plain": [
              "numpy.dtype"
            ]
          },
          "metadata": {
            "tags": []
          },
          "execution_count": 26
        }
      ]
    },
    {
      "cell_type": "code",
      "metadata": {
        "colab": {
          "base_uri": "https://localhost:8080/"
        },
        "id": "NvEF8iBve-Z8",
        "outputId": "6e01b056-046c-41fd-cdc5-8e0c7be420fb"
      },
      "source": [
        "array = np.array ( [1, 2, 3, 4, 5, 6, 7, 8, 9,10] )\n",
        "print(array)\n",
        "print(array[5])\n",
        "print(array[5:8] )\n",
        "a = np.array( [array[0] , array[-1]] )\n",
        "print(a)\n",
        "print(type(a))"
      ],
      "execution_count": null,
      "outputs": [
        {
          "output_type": "stream",
          "text": [
            "[ 1  2  3  4  5  6  7  8  9 10]\n",
            "6\n",
            "[6 7 8]\n",
            "[ 1 10]\n",
            "<class 'numpy.ndarray'>\n"
          ],
          "name": "stdout"
        }
      ]
    },
    {
      "cell_type": "code",
      "metadata": {
        "colab": {
          "base_uri": "https://localhost:8080/"
        },
        "id": "V5JcUm6qnSOM",
        "outputId": "385dd44d-4534-41be-8dbd-976d9bc2388b"
      },
      "source": [
        "arr2d = np.array([[1, 2, 3], [4, 5, 6], [7, 8, 9]])\n",
        "print(arr2d)\n",
        "arr2d[0][2]"
      ],
      "execution_count": null,
      "outputs": [
        {
          "output_type": "stream",
          "text": [
            "[[1 2 3]\n",
            " [4 5 6]\n",
            " [7 8 9]]\n"
          ],
          "name": "stdout"
        },
        {
          "output_type": "execute_result",
          "data": {
            "text/plain": [
              "3"
            ]
          },
          "metadata": {
            "tags": []
          },
          "execution_count": 45
        }
      ]
    },
    {
      "cell_type": "code",
      "metadata": {
        "colab": {
          "base_uri": "https://localhost:8080/"
        },
        "id": "en-0bbcSnTjQ",
        "outputId": "57e25786-588a-4292-8a97-d9e96755ea9f"
      },
      "source": [
        "arr2d[:,:2]"
      ],
      "execution_count": null,
      "outputs": [
        {
          "output_type": "execute_result",
          "data": {
            "text/plain": [
              "array([[1, 2],\n",
              "       [4, 5],\n",
              "       [7, 8]])"
            ]
          },
          "metadata": {
            "tags": []
          },
          "execution_count": 48
        }
      ]
    },
    {
      "cell_type": "code",
      "metadata": {
        "id": "I18tVKcdbh31"
      },
      "source": [
        "import numpy as np"
      ],
      "execution_count": null,
      "outputs": []
    },
    {
      "cell_type": "code",
      "metadata": {
        "id": "Atz1rMvCbroz"
      },
      "source": [
        "# Objective to learn Numpy\n",
        "# 1 as a machinelearning /Datascience expert\n",
        "# we need data\n",
        "# data type ? how many types of data computer can process\n",
        "## comptuer can process only numbers\n",
        "## machinelearning alog can process only numbers\n",
        "## we need to convert verything into numbers \n",
        "\n",
        "# we need to convert unstructured data in to stuctured data\n",
        "1) Fast Execution :\n",
        "2) Memory Management ( less memory more data )\n",
        "3) Create placehodler ( first create a array to store our data) \n",
        "4) data profiling (   ranges min()  maximum(), describe() )\n",
        "\n",
        "5) mathematical operation ( add, less,80 > public uni)\n",
        "6) statistical operation ( regerssion, grouping, , \n",
        "                          avg, max, min, sum, sorting)\n",
        "6) dimension (reshaping)\n",
        "9) conversion (transform) \n",
        "3) Filter out (uncessary data \n",
        "    ( on column , on rows) \n",
        "    ( find ( how many, age > 20), \n",
        "     age above 200 years ,\n",
        "\n",
        "     null value replacement)\n",
        "\n",
        "\n",
        "\n",
        "Numpy needs ? homogenous data (same type data)\n",
        "\n",
        "1) Create any Array ( all zero, or all one, or random number, all nulls, or all \"\" ( blank for string))\n",
        "2) convert data to any arra(list to nparray)"
      ],
      "execution_count": null,
      "outputs": []
    },
    {
      "cell_type": "code",
      "metadata": {
        "id": "W4gDymLkowfU"
      },
      "source": [
        ""
      ],
      "execution_count": null,
      "outputs": []
    },
    {
      "cell_type": "code",
      "metadata": {
        "colab": {
          "base_uri": "https://localhost:8080/"
        },
        "id": "DNj-XY-rl3sk",
        "outputId": "4258e718-003b-4744-8da1-83e60c9cf967"
      },
      "source": [
        "import numpy as np\n",
        "data1 = [6, 7.5, 8, 0, 1]\n",
        "arr1 = np.array(data1)\n",
        "print(type(data1),type(arr1))\n",
        "print(data1)\n",
        "print(arr1)\n"
      ],
      "execution_count": null,
      "outputs": [
        {
          "output_type": "stream",
          "text": [
            "<class 'list'> <class 'numpy.ndarray'>\n",
            "[6, 7.5, 8, 0, 1]\n",
            "[6.  7.5 8.  0.  1. ]\n"
          ],
          "name": "stdout"
        }
      ]
    },
    {
      "cell_type": "code",
      "metadata": {
        "colab": {
          "base_uri": "https://localhost:8080/",
          "height": 117
        },
        "id": "RY-5Tldwmujl",
        "outputId": "15756b72-a487-4d88-d8c9-caf5439eafbc"
      },
      "source": [
        "data2 = [[1, 2, 3, 4], [5, 6, 7, 8]]\n",
        "#aar2 is a numpy array object\n",
        "# an object can contain, methods, attributes\n",
        "# attributes = variables (set, or get value)\n",
        "# method = functions (provide parameter(s), get results as output)\n",
        "\n",
        "arr2 = np.array(data2)\n",
        "data1 = [6, 7.5, 8, 0, 1]\n",
        "arr1 = np.array(data1)\n",
        "\n",
        "display(data2, arr2)\n",
        "print(arr2.ndim, arr2.shape)\n",
        "print(arr1.ndim, arr1.shape)\n",
        "# don't confuse with np.array or np.zeros etc these are function"
      ],
      "execution_count": null,
      "outputs": [
        {
          "output_type": "display_data",
          "data": {
            "text/plain": [
              "[[1, 2, 3, 4], [5, 6, 7, 8]]"
            ]
          },
          "metadata": {
            "tags": []
          }
        },
        {
          "output_type": "display_data",
          "data": {
            "text/plain": [
              "array([[1, 2, 3, 4],\n",
              "       [5, 6, 7, 8]])"
            ]
          },
          "metadata": {
            "tags": []
          }
        },
        {
          "output_type": "stream",
          "text": [
            "2 (2, 4)\n",
            "1 (5,)\n"
          ],
          "name": "stdout"
        }
      ]
    },
    {
      "cell_type": "code",
      "metadata": {
        "id": "oaNCCU9_nK1M"
      },
      "source": [
        "# attirbute, function, method, object\n"
      ],
      "execution_count": null,
      "outputs": []
    },
    {
      "cell_type": "code",
      "metadata": {
        "colab": {
          "base_uri": "https://localhost:8080/"
        },
        "id": "lELtKQPSozsO",
        "outputId": "c9052772-5cd1-4370-8e32-2d7aead3c4a8"
      },
      "source": [
        "# we have 10,000 pictures each picture have 100 by 100 in size\n",
        "# how much memroy we need\n",
        "import numpy as np\n",
        "#default data type for numbers in numpy ?\n",
        "# numpy infer, int64, float64\n",
        "# memory storage smallest unit ? byte = 8 bit \n",
        "pixels = 100 * 100 * 10000 * 1 # height * weidht * number of photos * number of color\n",
        "print(pixels)\n",
        "memoryBytes = pixels * (8/8) # each values will take n bytes\n",
        "memoryinMB = memoryBytes  /1024 / 1024\n",
        "print(memoryinMB)\n",
        "print(\"Memory in GB\", memoryinMB / 1024)\n",
        "\n",
        "# how much value you can store in 1 bit = 2 values (0 or 1)\n",
        "# in 2 bit = 2 ** number of bits = 2 ** 2 = 4\n",
        "valueStores = 2 **8   # 2 power 8, minus 1 for signed bit\n",
        "# signed bit = 2 power (8 -1) # one bit used for sign \n",
        "# signed values = 2 ** 7 =  \n",
        "#k unsigned = 2 ** 8\n",
        "valueStores = 2 ** 8 # becuse last bit will be used for sign\n",
        "# -128 to  +127\n",
        "# total values in 8 bit = 256  -> zero center  - 128 to 127\n",
        "# unsigned -> 0 staring value = 0 255\n",
        "x = 1000000  # how much bits i need to store that value\n",
        "# we need 32\n",
        "bits = np.log2(x)\n",
        "print(\"x\", x, bits)\n",
        "print(valueStores)\n",
        "# value range = -128 to 127\n",
        "# only unsigned  will provide 0 to 255\n"
      ],
      "execution_count": null,
      "outputs": [
        {
          "output_type": "stream",
          "text": [
            "100000000\n",
            "95.367431640625\n",
            "Memory in GB 0.09313225746154785\n",
            "x 1000000 19.931568569324174\n",
            "256\n"
          ],
          "name": "stdout"
        }
      ]
    },
    {
      "cell_type": "code",
      "metadata": {
        "colab": {
          "base_uri": "https://localhost:8080/"
        },
        "id": "doQ6dHDYhWBE",
        "outputId": "6ab157d1-c457-48f7-a47e-9dcb16a867fe"
      },
      "source": [
        "import numpy as np\n",
        "x = \"20\" # here x is stgring variable\n",
        "x = int(x) # return a integer converted value of x but it does not change x \n",
        "# not a new integer value will be store in x. now x is an integer variables\n",
        "print(type(x))\n",
        "arr = np.array([1, 2, 3, 4, 5])\n",
        "print(\"line 6\", arr.dtype)\n",
        "arr= arr.astype(np.float64)\n",
        "print(\"line 8\", arr.dtype)\n",
        "arr = np.array( [1, 2, 3, 4, 5], np.uint8)\n",
        "#print(help(np.array))\n",
        "print( \"line 12\", arr.dtype)\n"
      ],
      "execution_count": null,
      "outputs": [
        {
          "output_type": "stream",
          "text": [
            "<class 'int'>\n",
            "line 6 int64\n",
            "line 8 float64\n",
            "line 12 uint8\n"
          ],
          "name": "stdout"
        }
      ]
    },
    {
      "cell_type": "code",
      "metadata": {
        "id": "99qp9JmEsfCa",
        "colab": {
          "base_uri": "https://localhost:8080/"
        },
        "outputId": "ac7ec74f-c0cc-4c0f-95d2-a15d7cca4041"
      },
      "source": [
        "arr = np.array([3.7, -1.2, -2.6, 0.5, 12.9, 10.1])\n",
        "arr"
      ],
      "execution_count": null,
      "outputs": [
        {
          "output_type": "execute_result",
          "data": {
            "text/plain": [
              "array([ 3.7, -1.2, -2.6,  0.5, 12.9, 10.1])"
            ]
          },
          "metadata": {
            "tags": []
          },
          "execution_count": 10
        }
      ]
    },
    {
      "cell_type": "code",
      "metadata": {
        "colab": {
          "base_uri": "https://localhost:8080/"
        },
        "id": "v6sYQnt9aDTQ",
        "outputId": "873d99ef-ee2d-4f5b-b60b-ddc2db66cbc3"
      },
      "source": [
        "arr = arr.astype(np.int32)\n",
        "arr"
      ],
      "execution_count": null,
      "outputs": [
        {
          "output_type": "execute_result",
          "data": {
            "text/plain": [
              "array([ 3, -1, -2,  0, 12, 10], dtype=int32)"
            ]
          },
          "metadata": {
            "tags": []
          },
          "execution_count": 12
        }
      ]
    },
    {
      "cell_type": "code",
      "metadata": {
        "colab": {
          "base_uri": "https://localhost:8080/"
        },
        "id": "Wjp2cMOLasK4",
        "outputId": "69a5bdd4-5182-44f0-a1c0-ed7289029ca4"
      },
      "source": [
        "numeric_strings = np.array(['1.25', '-9.6', '42'] , dtype=np.string_)\n",
        "numeric_strings"
      ],
      "execution_count": null,
      "outputs": [
        {
          "output_type": "execute_result",
          "data": {
            "text/plain": [
              "array([b'1.25', b'-9.6', b'42'], dtype='|S4')"
            ]
          },
          "metadata": {
            "tags": []
          },
          "execution_count": 19
        }
      ]
    },
    {
      "cell_type": "code",
      "metadata": {
        "colab": {
          "base_uri": "https://localhost:8080/"
        },
        "id": "MUMSFwDvb9Wn",
        "outputId": "14acb892-3cf0-4617-840f-c00280e76d16"
      },
      "source": [
        "# slightly different then book code pg # 94\n",
        "arr = np.array([1, 2, 3, 4, 5, 6, 7, 8, 9, 10])\n",
        "#vl = arr(5)\n",
        "#v9\n",
        "# above codes are example of indexing\n",
        "vl1 = arr[2] # for single value\n",
        "print(vl1, type(vl1) )\n",
        "\n",
        "vl2 = arr[ [2,5, 9] ] # multiple values\n",
        "print(vl2)\n",
        "print(type(vl2))\n",
        "# slicing means range :\n",
        "vl2 = arr[2:5]\n",
        "print(vl2)\n"
      ],
      "execution_count": null,
      "outputs": [
        {
          "output_type": "stream",
          "text": [
            "3 <class 'numpy.int64'>\n",
            "[ 3  6 10]\n",
            "<class 'numpy.ndarray'>\n",
            "[3 4 5]\n"
          ],
          "name": "stdout"
        }
      ]
    },
    {
      "cell_type": "code",
      "metadata": {
        "colab": {
          "base_uri": "https://localhost:8080/"
        },
        "id": "N3zkuAxAfLTn",
        "outputId": "41080c12-420b-4546-f358-0bcba6be1f9e"
      },
      "source": [
        "# multi dimensional array ( ndArray)\n",
        "import numpy as np\n",
        "\n",
        "\n",
        "nda = np.array(\n",
        "    [\n",
        "     [ \n",
        "      [ 111, 112, 113, 114 ], [121, 122, 123, 124] , [131, 132, 133, 134]  ],\n",
        "     [ \n",
        "      [211, 212, 213, 214], [221, 222, 223, 224], [231, 232, 233, 234] ],\n",
        "     [ \n",
        "      [311, 312, 313, 314], [321, 322, 323, 324], [331, 332, 333, 334] ],\n",
        "     [  \n",
        "      [411, 412, 413, 414], [421, 422, 423, 424], [431, 432, 433, 434] ]\n",
        "    ]\n",
        ", dtype = np.uint16)\n",
        "#print(nda.dtype)\n",
        "#print(nda)\n",
        "print( \"dimensions:\", nda.ndim, \"Shape:\", nda.shape)\n",
        "# Indexing (key player = comma )\n",
        "#print(nda[2,2,2]) # indivudal element\n",
        "#print(nda[ [0,3], 2, ])\n",
        "\n",
        "# SLICING\n",
        "# range or sequence of elements\n",
        "# colon :\n",
        "print(nda[1:3, :, 1:3]) # indivudal element\n",
        "# : wihtout values means from start and till end\n",
        "\n",
        "\n"
      ],
      "execution_count": null,
      "outputs": [
        {
          "output_type": "stream",
          "text": [
            "dimensions: 3 Shape: (4, 3, 4)\n",
            "[[[212 213]\n",
            "  [222 223]\n",
            "  [232 233]]\n",
            "\n",
            " [[312 313]\n",
            "  [322 323]\n",
            "  [332 333]]]\n"
          ],
          "name": "stdout"
        }
      ]
    },
    {
      "cell_type": "code",
      "metadata": {
        "colab": {
          "base_uri": "https://localhost:8080/"
        },
        "id": "9JB_DecAoT1R",
        "outputId": "de535d90-44fc-4448-e8ba-c0483df57704"
      },
      "source": [
        "!pwd # i want to know what is current directory of the notebook"
      ],
      "execution_count": null,
      "outputs": [
        {
          "output_type": "stream",
          "text": [
            "/content\n"
          ],
          "name": "stdout"
        }
      ]
    },
    {
      "cell_type": "code",
      "metadata": {
        "colab": {
          "base_uri": "https://localhost:8080/",
          "height": 406
        },
        "id": "PyZYfbiKoY4t",
        "outputId": "983be99e-2ec5-44e8-f84c-3e2dd68e7d48"
      },
      "source": [
        "import numpy as np\n",
        "# for image reading\n",
        "import matplotlib.pylab as plt\n",
        "#import matplotlib.image\n",
        "\n",
        "def plti(im, h=8, **kwargs):\n",
        "    \"\"\"\n",
        "    Helper function to plot an image.\n",
        "    \"\"\"\n",
        "    y = im.shape[0]\n",
        "    x = im.shape[1]\n",
        "    w = (y/x) * h\n",
        "    print(\"w value\",w)\n",
        "    plt.figure(figsize=(w,h))\n",
        "    plt.imshow(im, interpolation=\"none\", **kwargs)\n",
        "    plt.axis('off')\n",
        "    #input('press <ENTER> to continue')\n",
        "\n",
        "def main():\n",
        "    #%matp  im = plt.imread(\"airplane.jpg\")\n",
        "    print(typlotlib pltinline\n",
        "  e(im), im.shape, im.ndim)\n",
        "    plti(im)\n",
        "    im = im[300:700,:1000,:]\n",
        "    plti(im)\n",
        "\n",
        "    im = im[200:700,:1000,:]\n",
        "    plti(im)\n",
        "\n",
        "main()\n",
        "\n"
      ],
      "execution_count": null,
      "outputs": [
        {
          "output_type": "stream",
          "text": [
            "<class 'numpy.ndarray'> (1200, 1900, 3) 3\n",
            "w value 5.052631578947368\n",
            "w value 3.2\n",
            "w value 1.6\n"
          ],
          "name": "stdout"
        },
        {
          "output_type": "display_data",
          "data": {
            "image/png": "[encoded data removed]",
            "text/plain": [
              "<Figure size 363.789x576 with 1 Axes>"
            ]
          },
          "metadata": {
            "tags": [],
            "needs_background": "light"
          }
        },
        {
          "output_type": "display_data",
          "data": {
            "image/png": "[encoded data removed]",
            "text/plain": [
              "<Figure size 230.4x576 with 1 Axes>"
            ]
          },
          "metadata": {
            "tags": [],
            "needs_background": "light"
          }
        },
        {
          "output_type": "display_data",
          "data": {
            "image/png": "[encoded data removed]",
            "text/plain": [
              "<Figure size 115.2x576 with 1 Axes>"
            ]
          },
          "metadata": {
            "tags": [],
            "needs_background": "light"
          }
        }
      ]
    },
    {
      "cell_type": "code",
      "metadata": {
        "id": "KZjrWJQz3mhl"
      },
      "source": [
        "import numpy as np"
      ],
      "execution_count": null,
      "outputs": []
    },
    {
      "cell_type": "code",
      "metadata": {
        "id": "BVi7KVkM3nCj",
        "colab": {
          "base_uri": "https://localhost:8080/"
        },
        "outputId": "7ac48354-14d6-45c6-917c-1bcc87843429"
      },
      "source": [
        "lst = \"\"\"def main():\n",
        "    #%matp  im = plt.imread(\"airplane.jpg\")\n",
        "    print(typlotlib pltinline\n",
        "  e(im), im.shape, im.ndim)\n",
        "    plti(im)\n",
        "    im = im[300:700,:1000,:]\n",
        "    plti(im)\n",
        "\n",
        "    im = im[200:700,:1000,:]\n",
        "    plti(im)\n",
        "\n",
        "main()\"\"\"\n",
        "print(lst.split(\"\\n\")[2])"
      ],
      "execution_count": null,
      "outputs": [
        {
          "output_type": "stream",
          "text": [
            "    print(typlotlib pltinline\n"
          ],
          "name": "stdout"
        }
      ]
    },
    {
      "cell_type": "code",
      "metadata": {
        "id": "N9eYTGTloZPo",
        "colab": {
          "base_uri": "https://localhost:8080/"
        },
        "outputId": "a6d3210f-40ab-4fe4-c7e2-82d91d5f3761"
      },
      "source": [
        "x = np.array([10, 20, 30,40])\n",
        "y = np.array([10, 10, 30,50])\n",
        "cond = x > y\n",
        "print(cond)\n",
        "y = y[cond] # invert the condition\n",
        "counter = np.sum(cond)\n",
        "print(y, counter)"
      ],
      "execution_count": null,
      "outputs": [
        {
          "output_type": "stream",
          "text": [
            "[False  True False False]\n",
            "[10] 1\n"
          ],
          "name": "stdout"
        }
      ]
    },
    {
      "cell_type": "markdown",
      "metadata": {
        "id": "lR4eGngeoZ63"
      },
      "source": [
        "# New Section"
      ]
    },
    {
      "cell_type": "code",
      "metadata": {
        "id": "HP1A-JA4nJJe",
        "colab": {
          "base_uri": "https://localhost:8080/",
          "height": 270
        },
        "outputId": "a5d780fb-89d7-4149-847f-ea0be44110fc"
      },
      "source": [
        "names = np.array(['Bob', 'Joe', 'Will', 'Bob', 'Will', 'Joe', 'Joe'])\n",
        "print()\n",
        "data = np.random.randn(7, 4)\n",
        "#mask = (names == 'Bob') or (names == 'Will')\n",
        "print(mask)\n",
        "data[(names == 'Bob')| (names == 'Will')]"
      ],
      "execution_count": null,
      "outputs": [
        {
          "output_type": "error",
          "ename": "TypeError",
          "evalue": "ignored",
          "traceback": [
            "\u001b[0;31m---------------------------------------------------------------------------\u001b[0m",
            "\u001b[0;31mTypeError\u001b[0m                                 Traceback (most recent call last)",
            "\u001b[0;32m<ipython-input-48-4957793dd90a>\u001b[0m in \u001b[0;36m<module>\u001b[0;34m()\u001b[0m\n\u001b[1;32m      1\u001b[0m \u001b[0mnames\u001b[0m \u001b[0;34m=\u001b[0m \u001b[0mnp\u001b[0m\u001b[0;34m.\u001b[0m\u001b[0marray\u001b[0m\u001b[0;34m(\u001b[0m\u001b[0;34m[\u001b[0m\u001b[0;34m'Bob'\u001b[0m\u001b[0;34m,\u001b[0m \u001b[0;34m'Joe'\u001b[0m\u001b[0;34m,\u001b[0m \u001b[0;34m'Will'\u001b[0m\u001b[0;34m,\u001b[0m \u001b[0;34m'Bob'\u001b[0m\u001b[0;34m,\u001b[0m \u001b[0;34m'Will'\u001b[0m\u001b[0;34m,\u001b[0m \u001b[0;34m'Joe'\u001b[0m\u001b[0;34m,\u001b[0m \u001b[0;34m'Joe'\u001b[0m\u001b[0;34m]\u001b[0m\u001b[0;34m)\u001b[0m\u001b[0;34m\u001b[0m\u001b[0;34m\u001b[0m\u001b[0m\n\u001b[0;32m----> 2\u001b[0;31m \u001b[0mprint\u001b[0m\u001b[0;34m(\u001b[0m\u001b[0;34m)\u001b[0m\u001b[0;34m\u001b[0m\u001b[0;34m\u001b[0m\u001b[0m\n\u001b[0m\u001b[1;32m      3\u001b[0m \u001b[0mdata\u001b[0m \u001b[0;34m=\u001b[0m \u001b[0mnp\u001b[0m\u001b[0;34m.\u001b[0m\u001b[0mrandom\u001b[0m\u001b[0;34m.\u001b[0m\u001b[0mrandn\u001b[0m\u001b[0;34m(\u001b[0m\u001b[0;36m7\u001b[0m\u001b[0;34m,\u001b[0m \u001b[0;36m4\u001b[0m\u001b[0;34m)\u001b[0m\u001b[0;34m\u001b[0m\u001b[0;34m\u001b[0m\u001b[0m\n\u001b[1;32m      4\u001b[0m \u001b[0;31m#mask = (names == 'Bob') or (names == 'Will')\u001b[0m\u001b[0;34m\u001b[0m\u001b[0;34m\u001b[0m\u001b[0;34m\u001b[0m\u001b[0m\n\u001b[1;32m      5\u001b[0m \u001b[0mprint\u001b[0m\u001b[0;34m(\u001b[0m\u001b[0mmask\u001b[0m\u001b[0;34m)\u001b[0m\u001b[0;34m\u001b[0m\u001b[0;34m\u001b[0m\u001b[0m\n",
            "\u001b[0;31mTypeError\u001b[0m: 'int' object is not callable"
          ]
        }
      ]
    },
    {
      "cell_type": "code",
      "metadata": {
        "colab": {
          "base_uri": "https://localhost:8080/"
        },
        "id": "sa7n6KfulJSi",
        "outputId": "4764db79-531d-4422-e6b2-3cb536e5c731"
      },
      "source": [
        "import numpy as np\n",
        "data = np.random.randn(7, 4)\n",
        "names = np.array(['Bob', 'Joe', 'Will', 'Bob', 'Will', 'Joe', 'Joe'])\n",
        "scores = np.array( [[50, 40, 30, 50],\n",
        "         [30, 60, 50, 50],\n",
        "         [40, 30, 40, 40]\n",
        "         ] )\n",
        "passingScore =[50, 40,50, 40]\n",
        "\n",
        "print(scores > passingScore) \n",
        "print(passStudents)\n",
        "\n",
        "#mask = results=='Pass'\n",
        "#passStudents = scores[mask]    \n",
        "#print(passStudents)      \n",
        "#print(data)\n",
        "#print(names == 'Bob' )\n",
        "\n",
        "#data[:, names == \"Bob\"]"
      ],
      "execution_count": null,
      "outputs": [
        {
          "output_type": "stream",
          "text": [
            "[[False False False  True]\n",
            " [False  True False  True]\n",
            " [False False False False]]\n",
            "[50 60 50]\n"
          ],
          "name": "stdout"
        }
      ]
    },
    {
      "cell_type": "code",
      "metadata": {
        "id": "C3_0b0b3qrRN"
      },
      "source": [
        ""
      ],
      "execution_count": null,
      "outputs": []
    },
    {
      "cell_type": "code",
      "metadata": {
        "colab": {
          "base_uri": "https://localhost:8080/"
        },
        "id": "l1fYdjPzmd0u",
        "outputId": "32ae3b93-7d12-4420-f5fc-fc250f6c21a5"
      },
      "source": [
        "[names != 'Joe']\n",
        "print(names)\n",
        "data = np.random.randn(7, 4,3)\n",
        "#filter[dim1, dim2, dim3, dim4]\n",
        "data[names != 'Joe',:,2] = 7\n",
        "print(data)"
      ],
      "execution_count": null,
      "outputs": [
        {
          "output_type": "stream",
          "text": [
            "['Bob' 'Joe' 'Will' 'Bob' 'Will' 'Joe' 'Joe']\n",
            "[[[ 0.65085504 -0.43387216  7.        ]\n",
            "  [ 0.11791224 -1.05145227  7.        ]\n",
            "  [ 0.07473266 -0.67501004  7.        ]\n",
            "  [-0.77424677  1.0381793   7.        ]]\n",
            "\n",
            " [[-2.38974988 -1.13293547  0.90891162]\n",
            "  [ 0.35082697  0.31165075  2.29890331]\n",
            "  [ 0.12555563  0.61595328 -0.5568978 ]\n",
            "  [-0.88678793 -0.98510962  0.35663168]]\n",
            "\n",
            " [[ 0.34475925 -0.93645623  7.        ]\n",
            "  [-1.82585889  0.52772476  7.        ]\n",
            "  [ 0.15008567 -0.43411087  7.        ]\n",
            "  [-1.5690986   0.13680787  7.        ]]\n",
            "\n",
            " [[-1.05600864 -0.01047912  7.        ]\n",
            "  [ 0.70366095  1.61678695  7.        ]\n",
            "  [-0.12271677 -0.08738455  7.        ]\n",
            "  [ 0.64284587  1.55944188  7.        ]]\n",
            "\n",
            " [[-1.09818346 -0.91404568  7.        ]\n",
            "  [ 0.10230794  1.13108595  7.        ]\n",
            "  [-0.08987019  1.72000673  7.        ]\n",
            "  [-1.05749285 -0.71818866  7.        ]]\n",
            "\n",
            " [[ 1.83938162 -0.23981512 -0.2247886 ]\n",
            "  [ 0.98643047 -0.59489128  2.45061023]\n",
            "  [-0.29883228 -2.14738898 -0.1198298 ]\n",
            "  [ 0.82139901 -0.51683193  0.35727735]]\n",
            "\n",
            " [[-0.29528321 -0.36709624 -1.37737924]\n",
            "  [-0.51438809  2.22174483 -1.63408182]\n",
            "  [ 0.81178277 -0.10432262 -0.55149956]\n",
            "  [-1.58784472 -1.2995971  -0.47657525]]]\n"
          ],
          "name": "stdout"
        }
      ]
    },
    {
      "cell_type": "code",
      "metadata": {
        "id": "fwCrhM4DpMnO",
        "colab": {
          "base_uri": "https://localhost:8080/"
        },
        "outputId": "651fb490-2760-41e7-e8d7-8347d5a7d072"
      },
      "source": [
        "x = 10\n",
        "y = 5\n",
        "cond = y>x\n",
        "(cond)"
      ],
      "execution_count": null,
      "outputs": [
        {
          "output_type": "execute_result",
          "data": {
            "text/plain": [
              "False"
            ]
          },
          "metadata": {
            "tags": []
          },
          "execution_count": 39
        }
      ]
    },
    {
      "cell_type": "code",
      "metadata": {
        "colab": {
          "base_uri": "https://localhost:8080/",
          "height": 210
        },
        "id": "REAhuHtKc5Tg",
        "outputId": "d2450ad8-efde-4afa-b7f3-30ef1c93fa80"
      },
      "source": [
        "import numpy as np\n",
        "print(\"10\")"
      ],
      "execution_count": null,
      "outputs": [
        {
          "output_type": "error",
          "ename": "TypeError",
          "evalue": "ignored",
          "traceback": [
            "\u001b[0;31m---------------------------------------------------------------------------\u001b[0m",
            "\u001b[0;31mTypeError\u001b[0m                                 Traceback (most recent call last)",
            "\u001b[0;32m<ipython-input-47-5af4ad1af7e1>\u001b[0m in \u001b[0;36m<module>\u001b[0;34m()\u001b[0m\n\u001b[1;32m      1\u001b[0m \u001b[0;32mimport\u001b[0m \u001b[0mnumpy\u001b[0m \u001b[0;32mas\u001b[0m \u001b[0mnp\u001b[0m\u001b[0;34m\u001b[0m\u001b[0;34m\u001b[0m\u001b[0m\n\u001b[0;32m----> 2\u001b[0;31m \u001b[0mprint\u001b[0m\u001b[0;34m(\u001b[0m\u001b[0;34m\"10\"\u001b[0m\u001b[0;34m)\u001b[0m\u001b[0;34m\u001b[0m\u001b[0;34m\u001b[0m\u001b[0m\n\u001b[0m",
            "\u001b[0;31mTypeError\u001b[0m: 'int' object is not callable"
          ]
        }
      ]
    },
    {
      "cell_type": "markdown",
      "metadata": {
        "id": "Wh2qKDBVcs59"
      },
      "source": [
        ""
      ]
    },
    {
      "cell_type": "code",
      "metadata": {
        "colab": {
          "base_uri": "https://localhost:8080/"
        },
        "id": "d0nD80dLpOqL",
        "outputId": "edf09ba2-ec9e-4f63-88e9-de88d5919a71"
      },
      "source": [
        "import numpy as np\n",
        "arr = np.arange(64)\n",
        "print(arr)\n",
        "# marix mulitplication\n",
        "#np.dot(arr.T, arr)\n",
        "arr = arr.reshape((4, 4, 4))\n",
        "print(arr.ndim, arr.shape, \"\\n\", arr)\n"
      ],
      "execution_count": null,
      "outputs": [
        {
          "output_type": "stream",
          "text": [
            "[ 0  1  2  3  4  5  6  7  8  9 10 11 12 13 14 15 16 17 18 19 20 21 22 23\n",
            " 24 25 26 27 28 29 30 31 32 33 34 35 36 37 38 39 40 41 42 43 44 45 46 47\n",
            " 48 49 50 51 52 53 54 55 56 57 58 59 60 61 62 63]\n",
            "3 (4, 4, 4) \n",
            " [[[ 0  1  2  3]\n",
            "  [ 4  5  6  7]\n",
            "  [ 8  9 10 11]\n",
            "  [12 13 14 15]]\n",
            "\n",
            " [[16 17 18 19]\n",
            "  [20 21 22 23]\n",
            "  [24 25 26 27]\n",
            "  [28 29 30 31]]\n",
            "\n",
            " [[32 33 34 35]\n",
            "  [36 37 38 39]\n",
            "  [40 41 42 43]\n",
            "  [44 45 46 47]]\n",
            "\n",
            " [[48 49 50 51]\n",
            "  [52 53 54 55]\n",
            "  [56 57 58 59]\n",
            "  [60 61 62 63]]]\n"
          ],
          "name": "stdout"
        }
      ]
    },
    {
      "cell_type": "code",
      "metadata": {
        "colab": {
          "base_uri": "https://localhost:8080/"
        },
        "id": "ycDaZVSOwxip",
        "outputId": "a28077d6-b76e-43f8-c127-caaaec53c0c1"
      },
      "source": [
        "arr = np.arange(16).reshape((2, 2, 4))\n",
        "#print(arr)\n",
        "arr.transpose((1, 0, 2))\n",
        "arr = np.arange(16).reshape([2,8])\n",
        "print(arr)\n",
        "print( arr.transpose((1,0)) )\n",
        "\n",
        "print( arr.transpose((0,1)) )\n",
        "\n"
      ],
      "execution_count": null,
      "outputs": [
        {
          "output_type": "stream",
          "text": [
            "[[ 0  1  2  3  4  5  6  7]\n",
            " [ 8  9 10 11 12 13 14 15]]\n",
            "[[ 0  8]\n",
            " [ 1  9]\n",
            " [ 2 10]\n",
            " [ 3 11]\n",
            " [ 4 12]\n",
            " [ 5 13]\n",
            " [ 6 14]\n",
            " [ 7 15]]\n",
            "[[ 0  1  2  3  4  5  6  7]\n",
            " [ 8  9 10 11 12 13 14 15]]\n"
          ],
          "name": "stdout"
        }
      ]
    },
    {
      "cell_type": "code",
      "metadata": {
        "id": "t9fLAB3Izkdb"
      },
      "source": [
        ""
      ],
      "execution_count": null,
      "outputs": []
    },
    {
      "cell_type": "code",
      "metadata": {
        "id": "9k7hqpPMrxzs"
      },
      "source": [
        "points = np.arange(-5, 5, 1) # 1000 equally spaced points\n",
        "#print(points.shape,points)\n",
        "xs, ys = np.meshgrid(points, points)\n",
        "#print(xs, ys)\n",
        "z = np.sqrt(xs ** 2 + ys ** 2)"
      ],
      "execution_count": null,
      "outputs": []
    },
    {
      "cell_type": "code",
      "metadata": {
        "colab": {
          "base_uri": "https://localhost:8080/",
          "height": 308
        },
        "id": "NNCmM_qpshz_",
        "outputId": "025b7421-5343-4549-e897-df00d3a2faec"
      },
      "source": [
        "import matplotlib.pyplot as plt\n",
        "plt.imshow(z, cmap=plt.cm.gray); plt.colorbar()\n",
        "plt.title(\"Image plot of $\\sqrt{x^2 + y^2}$ for a grid of values\")"
      ],
      "execution_count": null,
      "outputs": [
        {
          "output_type": "execute_result",
          "data": {
            "text/plain": [
              "Text(0.5, 1.0, 'Image plot of $\\\\sqrt{x^2 + y^2}$ for a grid of values')"
            ]
          },
          "metadata": {
            "tags": []
          },
          "execution_count": 85
        },
        {
          "output_type": "display_data",
          "data": {
            "image/png": "[encoded data removed]",
            "text/plain": [
              "<Figure size 432x288 with 2 Axes>"
            ]
          },
          "metadata": {
            "tags": [],
            "needs_background": "light"
          }
        }
      ]
    },
    {
      "cell_type": "code",
      "metadata": {
        "id": "95olLG0PzloY"
      },
      "source": [
        "arr = np.random.randn(7) * 5"
      ],
      "execution_count": null,
      "outputs": []
    },
    {
      "cell_type": "code",
      "metadata": {
        "colab": {
          "base_uri": "https://localhost:8080/"
        },
        "id": "RahzFYpdznXQ",
        "outputId": "18d0447d-211a-40a9-e1d4-cedfc4405658"
      },
      "source": [
        "arr"
      ],
      "execution_count": null,
      "outputs": [
        {
          "output_type": "execute_result",
          "data": {
            "text/plain": [
              "array([ 9.11720868, -2.7880163 ,  0.74813431, -1.80956017,  0.96486428,\n",
              "       10.43371878, -4.837763  ])"
            ]
          },
          "metadata": {
            "tags": []
          },
          "execution_count": 28
        }
      ]
    },
    {
      "cell_type": "code",
      "metadata": {
        "id": "sJbA-V7qzsZ3"
      },
      "source": [
        "remainder, whole_part = np.modf(arr)"
      ],
      "execution_count": null,
      "outputs": []
    },
    {
      "cell_type": "code",
      "metadata": {
        "colab": {
          "base_uri": "https://localhost:8080/"
        },
        "id": "e-IC9tKRzvVp",
        "outputId": "eca6058b-945d-4045-8888-d6b6a36a9807"
      },
      "source": [
        "remainder"
      ],
      "execution_count": null,
      "outputs": [
        {
          "output_type": "execute_result",
          "data": {
            "text/plain": [
              "array([ 0.11720868, -0.7880163 ,  0.74813431, -0.80956017,  0.96486428,\n",
              "        0.43371878, -0.837763  ])"
            ]
          },
          "metadata": {
            "tags": []
          },
          "execution_count": 30
        }
      ]
    },
    {
      "cell_type": "code",
      "metadata": {
        "colab": {
          "base_uri": "https://localhost:8080/"
        },
        "id": "2VSfcvQmz3dK",
        "outputId": "cd90e0ab-a618-458d-b2c6-e875b907d09c"
      },
      "source": [
        "whole_part"
      ],
      "execution_count": null,
      "outputs": [
        {
          "output_type": "execute_result",
          "data": {
            "text/plain": [
              "array([ 9., -2.,  0., -1.,  0., 10., -4.])"
            ]
          },
          "metadata": {
            "tags": []
          },
          "execution_count": 31
        }
      ]
    },
    {
      "cell_type": "code",
      "metadata": {
        "colab": {
          "base_uri": "https://localhost:8080/"
        },
        "id": "twhQk2hr0GIG",
        "outputId": "ee6c98e0-275a-4e86-dc3d-1517bbfb32e1"
      },
      "source": [
        "def funct():\n",
        "    return (2, 3)\n",
        "\n",
        "x, y = funct()\n",
        "#x = funct()\n",
        "print(x)"
      ],
      "execution_count": null,
      "outputs": [
        {
          "output_type": "stream",
          "text": [
            "2\n"
          ],
          "name": "stdout"
        }
      ]
    },
    {
      "cell_type": "code",
      "metadata": {
        "colab": {
          "base_uri": "https://localhost:8080/"
        },
        "id": "6eR8_ef_1Im6",
        "outputId": "d73afe8b-f9b5-457d-ae95-d43d88457f5c"
      },
      "source": [
        "arr = np.array([0, -6.0915, -6.663 , 5.3731, 3.6182, 3.45 , 5.0077])\n",
        "sq_arr=np.sqrt(arr)\n",
        "print(sq_arr)"
      ],
      "execution_count": null,
      "outputs": [
        {
          "output_type": "stream",
          "text": [
            "[0.                nan        nan 2.31799482 1.90215667 1.85741756\n",
            " 2.23778909]\n"
          ],
          "name": "stdout"
        },
        {
          "output_type": "stream",
          "text": [
            "/usr/local/lib/python3.6/dist-packages/ipykernel_launcher.py:2: RuntimeWarning: invalid value encountered in sqrt\n",
            "  \n"
          ],
          "name": "stderr"
        }
      ]
    },
    {
      "cell_type": "code",
      "metadata": {
        "colab": {
          "base_uri": "https://localhost:8080/"
        },
        "id": "MDv0RCkW2kha",
        "outputId": "c9e14327-4484-4986-a6bf-8669d7321ffe"
      },
      "source": [
        "points = np.arange(-5, 5, 0.1)\n",
        "print(points)"
      ],
      "execution_count": null,
      "outputs": [
        {
          "output_type": "stream",
          "text": [
            "[-5.00000000e+00 -4.90000000e+00 -4.80000000e+00 -4.70000000e+00\n",
            " -4.60000000e+00 -4.50000000e+00 -4.40000000e+00 -4.30000000e+00\n",
            " -4.20000000e+00 -4.10000000e+00 -4.00000000e+00 -3.90000000e+00\n",
            " -3.80000000e+00 -3.70000000e+00 -3.60000000e+00 -3.50000000e+00\n",
            " -3.40000000e+00 -3.30000000e+00 -3.20000000e+00 -3.10000000e+00\n",
            " -3.00000000e+00 -2.90000000e+00 -2.80000000e+00 -2.70000000e+00\n",
            " -2.60000000e+00 -2.50000000e+00 -2.40000000e+00 -2.30000000e+00\n",
            " -2.20000000e+00 -2.10000000e+00 -2.00000000e+00 -1.90000000e+00\n",
            " -1.80000000e+00 -1.70000000e+00 -1.60000000e+00 -1.50000000e+00\n",
            " -1.40000000e+00 -1.30000000e+00 -1.20000000e+00 -1.10000000e+00\n",
            " -1.00000000e+00 -9.00000000e-01 -8.00000000e-01 -7.00000000e-01\n",
            " -6.00000000e-01 -5.00000000e-01 -4.00000000e-01 -3.00000000e-01\n",
            " -2.00000000e-01 -1.00000000e-01 -1.77635684e-14  1.00000000e-01\n",
            "  2.00000000e-01  3.00000000e-01  4.00000000e-01  5.00000000e-01\n",
            "  6.00000000e-01  7.00000000e-01  8.00000000e-01  9.00000000e-01\n",
            "  1.00000000e+00  1.10000000e+00  1.20000000e+00  1.30000000e+00\n",
            "  1.40000000e+00  1.50000000e+00  1.60000000e+00  1.70000000e+00\n",
            "  1.80000000e+00  1.90000000e+00  2.00000000e+00  2.10000000e+00\n",
            "  2.20000000e+00  2.30000000e+00  2.40000000e+00  2.50000000e+00\n",
            "  2.60000000e+00  2.70000000e+00  2.80000000e+00  2.90000000e+00\n",
            "  3.00000000e+00  3.10000000e+00  3.20000000e+00  3.30000000e+00\n",
            "  3.40000000e+00  3.50000000e+00  3.60000000e+00  3.70000000e+00\n",
            "  3.80000000e+00  3.90000000e+00  4.00000000e+00  4.10000000e+00\n",
            "  4.20000000e+00  4.30000000e+00  4.40000000e+00  4.50000000e+00\n",
            "  4.60000000e+00  4.70000000e+00  4.80000000e+00  4.90000000e+00]\n"
          ],
          "name": "stdout"
        }
      ]
    },
    {
      "cell_type": "code",
      "metadata": {
        "colab": {
          "base_uri": "https://localhost:8080/"
        },
        "id": "pildshW33Egv",
        "outputId": "d42b5e87-6b57-4f8e-caa5-6ad63dc7f176"
      },
      "source": [
        "xs, ys = np.meshgrid(points, points)\n",
        "print(xs)\n",
        "print(ys)\n",
        "z = np.sqrt(xs ** 2 + ys ** 2)"
      ],
      "execution_count": null,
      "outputs": [
        {
          "output_type": "stream",
          "text": [
            "[[-5.  -4.9 -4.8 ...  4.7  4.8  4.9]\n",
            " [-5.  -4.9 -4.8 ...  4.7  4.8  4.9]\n",
            " [-5.  -4.9 -4.8 ...  4.7  4.8  4.9]\n",
            " ...\n",
            " [-5.  -4.9 -4.8 ...  4.7  4.8  4.9]\n",
            " [-5.  -4.9 -4.8 ...  4.7  4.8  4.9]\n",
            " [-5.  -4.9 -4.8 ...  4.7  4.8  4.9]]\n",
            "[[-5.  -5.  -5.  ... -5.  -5.  -5. ]\n",
            " [-4.9 -4.9 -4.9 ... -4.9 -4.9 -4.9]\n",
            " [-4.8 -4.8 -4.8 ... -4.8 -4.8 -4.8]\n",
            " ...\n",
            " [ 4.7  4.7  4.7 ...  4.7  4.7  4.7]\n",
            " [ 4.8  4.8  4.8 ...  4.8  4.8  4.8]\n",
            " [ 4.9  4.9  4.9 ...  4.9  4.9  4.9]]\n"
          ],
          "name": "stdout"
        }
      ]
    },
    {
      "cell_type": "code",
      "metadata": {
        "colab": {
          "base_uri": "https://localhost:8080/",
          "height": 308
        },
        "id": "n52QMm4o37qO",
        "outputId": "102fb5df-85b5-4814-a79d-78d5542561e9"
      },
      "source": [
        "import matplotlib.pyplot as plt\n",
        "plt.imshow(z, cmap=plt.cm.gray); plt.colorbar()\n",
        "plt.title(\"Image plot of $\\sqrt{x^2 + y^2}$ for a grid of values\")"
      ],
      "execution_count": null,
      "outputs": [
        {
          "output_type": "execute_result",
          "data": {
            "text/plain": [
              "Text(0.5, 1.0, 'Image plot of $\\\\sqrt{x^2 + y^2}$ for a grid of values')"
            ]
          },
          "metadata": {
            "tags": []
          },
          "execution_count": 52
        },
        {
          "output_type": "display_data",
          "data": {
            "image/png": "[encoded data removed]",
            "text/plain": [
              "<Figure size 432x288 with 2 Axes>"
            ]
          },
          "metadata": {
            "tags": [],
            "needs_background": "light"
          }
        }
      ]
    },
    {
      "cell_type": "code",
      "metadata": {
        "id": "Esy0zkRhcWBr"
      },
      "source": [
        "import pandas as pd\n",
        "\n",
        "sales = pd.Series([100, 200, 100, 400], index = ['Jan', 'Feb', 'Mar','Apr'])\n",
        " [40,50,60,50, 30]\n"
      ],
      "execution_count": null,
      "outputs": []
    },
    {
      "cell_type": "code",
      "metadata": {
        "colab": {
          "base_uri": "https://localhost:8080/"
        },
        "id": "g1gIr4TfkMlW",
        "outputId": "58432c32-713b-4346-d5ec-7961faf94413"
      },
      "source": [
        "import pandas as pd\n",
        "\n",
        "apples = pd.Series([3,2,0,1], [\"a\", \"b\", \"c\", \"d\"] )\n",
        "oranges = pd.Series([3,2,0,1], index = [\"a\", \"tue\", \"c\", \"thr\"])\n",
        "\n",
        "#print(apples, oranges)\n",
        "data = {\"apples\": apples, \"oranges\": oranges}\n",
        "fruits_df = pd.DataFrame(data)\n",
        "print(fruits_df)"
      ],
      "execution_count": null,
      "outputs": [
        {
          "output_type": "stream",
          "text": [
            "     apples  oranges\n",
            "a       3.0      3.0\n",
            "b       2.0      NaN\n",
            "c       0.0      0.0\n",
            "d       1.0      NaN\n",
            "thr     NaN      1.0\n",
            "tue     NaN      2.0\n"
          ],
          "name": "stdout"
        }
      ]
    },
    {
      "cell_type": "code",
      "metadata": {
        "colab": {
          "base_uri": "https://localhost:8080/",
          "height": 499
        },
        "id": "tti6k58uohZ4",
        "outputId": "cfa13f02-c8ea-46b9-fc03-b780fde615be"
      },
      "source": [
        "state = ['Ohio', 'Ohio', 'Ohio', 'Nevada', 'Nevada', 'Nevada']\n",
        "data = {'state': state ,\n",
        "        'year' : [2000, 2001, 2002, 2001, 2002, 2003],\n",
        "        'pop'  : [1.5, 1.7, 3.6, 2.4, 2.9, 3.2]}\n",
        "state_pop_df = pd.DataFrame(data \n",
        "                     , index = ['1st', '2nd', '3rd', \n",
        "                                '4th', '5th','6th'] )\n",
        "display(state_pop_df)\n",
        "ohaioData = state_pop_df[\"state\"] == \"Ohio\" \n",
        "display(state_pop_df[ohaioData])\n",
        "display(state_pop_df[state_pop_df[\"state\"] == \"Ohio\"])\n"
      ],
      "execution_count": null,
      "outputs": [
        {
          "output_type": "display_data",
          "data": {
            "text/html": [
              "<div>\n",
              "<style scoped>\n",
              "    .dataframe tbody tr th:only-of-type {\n",
              "        vertical-align: middle;\n",
              "    }\n",
              "\n",
              "    .dataframe tbody tr th {\n",
              "        vertical-align: top;\n",
              "    }\n",
              "\n",
              "    .dataframe thead th {\n",
              "        text-align: right;\n",
              "    }\n",
              "</style>\n",
              "<table border=\"1\" class=\"dataframe\">\n",
              "  <thead>\n",
              "    <tr style=\"text-align: right;\">\n",
              "      <th></th>\n",
              "      <th>state</th>\n",
              "      <th>year</th>\n",
              "      <th>pop</th>\n",
              "    </tr>\n",
              "  </thead>\n",
              "  <tbody>\n",
              "    <tr>\n",
              "      <th>1st</th>\n",
              "      <td>Ohio</td>\n",
              "      <td>2000</td>\n",
              "      <td>1.5</td>\n",
              "    </tr>\n",
              "    <tr>\n",
              "      <th>2nd</th>\n",
              "      <td>Ohio</td>\n",
              "      <td>2001</td>\n",
              "      <td>1.7</td>\n",
              "    </tr>\n",
              "    <tr>\n",
              "      <th>3rd</th>\n",
              "      <td>Ohio</td>\n",
              "      <td>2002</td>\n",
              "      <td>3.6</td>\n",
              "    </tr>\n",
              "    <tr>\n",
              "      <th>4th</th>\n",
              "      <td>Nevada</td>\n",
              "      <td>2001</td>\n",
              "      <td>2.4</td>\n",
              "    </tr>\n",
              "    <tr>\n",
              "      <th>5th</th>\n",
              "      <td>Nevada</td>\n",
              "      <td>2002</td>\n",
              "      <td>2.9</td>\n",
              "    </tr>\n",
              "    <tr>\n",
              "      <th>6th</th>\n",
              "      <td>Nevada</td>\n",
              "      <td>2003</td>\n",
              "      <td>3.2</td>\n",
              "    </tr>\n",
              "  </tbody>\n",
              "</table>\n",
              "</div>"
            ],
            "text/plain": [
              "      state  year  pop\n",
              "1st    Ohio  2000  1.5\n",
              "2nd    Ohio  2001  1.7\n",
              "3rd    Ohio  2002  3.6\n",
              "4th  Nevada  2001  2.4\n",
              "5th  Nevada  2002  2.9\n",
              "6th  Nevada  2003  3.2"
            ]
          },
          "metadata": {
            "tags": []
          }
        },
        {
          "output_type": "display_data",
          "data": {
            "text/html": [
              "<div>\n",
              "<style scoped>\n",
              "    .dataframe tbody tr th:only-of-type {\n",
              "        vertical-align: middle;\n",
              "    }\n",
              "\n",
              "    .dataframe tbody tr th {\n",
              "        vertical-align: top;\n",
              "    }\n",
              "\n",
              "    .dataframe thead th {\n",
              "        text-align: right;\n",
              "    }\n",
              "</style>\n",
              "<table border=\"1\" class=\"dataframe\">\n",
              "  <thead>\n",
              "    <tr style=\"text-align: right;\">\n",
              "      <th></th>\n",
              "      <th>state</th>\n",
              "      <th>year</th>\n",
              "      <th>pop</th>\n",
              "    </tr>\n",
              "  </thead>\n",
              "  <tbody>\n",
              "    <tr>\n",
              "      <th>1st</th>\n",
              "      <td>Ohio</td>\n",
              "      <td>2000</td>\n",
              "      <td>1.5</td>\n",
              "    </tr>\n",
              "    <tr>\n",
              "      <th>2nd</th>\n",
              "      <td>Ohio</td>\n",
              "      <td>2001</td>\n",
              "      <td>1.7</td>\n",
              "    </tr>\n",
              "    <tr>\n",
              "      <th>3rd</th>\n",
              "      <td>Ohio</td>\n",
              "      <td>2002</td>\n",
              "      <td>3.6</td>\n",
              "    </tr>\n",
              "  </tbody>\n",
              "</table>\n",
              "</div>"
            ],
            "text/plain": [
              "    state  year  pop\n",
              "1st  Ohio  2000  1.5\n",
              "2nd  Ohio  2001  1.7\n",
              "3rd  Ohio  2002  3.6"
            ]
          },
          "metadata": {
            "tags": []
          }
        },
        {
          "output_type": "display_data",
          "data": {
            "text/html": [
              "<div>\n",
              "<style scoped>\n",
              "    .dataframe tbody tr th:only-of-type {\n",
              "        vertical-align: middle;\n",
              "    }\n",
              "\n",
              "    .dataframe tbody tr th {\n",
              "        vertical-align: top;\n",
              "    }\n",
              "\n",
              "    .dataframe thead th {\n",
              "        text-align: right;\n",
              "    }\n",
              "</style>\n",
              "<table border=\"1\" class=\"dataframe\">\n",
              "  <thead>\n",
              "    <tr style=\"text-align: right;\">\n",
              "      <th></th>\n",
              "      <th>state</th>\n",
              "      <th>year</th>\n",
              "      <th>pop</th>\n",
              "    </tr>\n",
              "  </thead>\n",
              "  <tbody>\n",
              "    <tr>\n",
              "      <th>1st</th>\n",
              "      <td>Ohio</td>\n",
              "      <td>2000</td>\n",
              "      <td>1.5</td>\n",
              "    </tr>\n",
              "    <tr>\n",
              "      <th>2nd</th>\n",
              "      <td>Ohio</td>\n",
              "      <td>2001</td>\n",
              "      <td>1.7</td>\n",
              "    </tr>\n",
              "    <tr>\n",
              "      <th>3rd</th>\n",
              "      <td>Ohio</td>\n",
              "      <td>2002</td>\n",
              "      <td>3.6</td>\n",
              "    </tr>\n",
              "  </tbody>\n",
              "</table>\n",
              "</div>"
            ],
            "text/plain": [
              "    state  year  pop\n",
              "1st  Ohio  2000  1.5\n",
              "2nd  Ohio  2001  1.7\n",
              "3rd  Ohio  2002  3.6"
            ]
          },
          "metadata": {
            "tags": []
          }
        }
      ]
    },
    {
      "cell_type": "code",
      "metadata": {
        "colab": {
          "base_uri": "https://localhost:8080/",
          "height": 210
        },
        "id": "MuP7TDa2svgj",
        "outputId": "7c4394ef-48cc-442d-be70-9b0e587400fd"
      },
      "source": [
        "data = {'state': state ,\n",
        "        'year' : [2000, 2001, 2002, 2001, 2002, 2003],\n",
        "        'pop'  : [1.5, 1.7, 3.6, 2.4, 2.9, 3.2]}\n",
        "frame2 = pd.DataFrame(data, \n",
        "                      columns=['year', 'state', 'pop', 'debt'],\n",
        "index=['one', 'two', 'three', 'four','five', 'six'])\n",
        "frame2.head()        "
      ],
      "execution_count": null,
      "outputs": [
        {
          "output_type": "execute_result",
          "data": {
            "text/html": [
              "<div>\n",
              "<style scoped>\n",
              "    .dataframe tbody tr th:only-of-type {\n",
              "        vertical-align: middle;\n",
              "    }\n",
              "\n",
              "    .dataframe tbody tr th {\n",
              "        vertical-align: top;\n",
              "    }\n",
              "\n",
              "    .dataframe thead th {\n",
              "        text-align: right;\n",
              "    }\n",
              "</style>\n",
              "<table border=\"1\" class=\"dataframe\">\n",
              "  <thead>\n",
              "    <tr style=\"text-align: right;\">\n",
              "      <th></th>\n",
              "      <th>year</th>\n",
              "      <th>state</th>\n",
              "      <th>pop</th>\n",
              "      <th>debt</th>\n",
              "    </tr>\n",
              "  </thead>\n",
              "  <tbody>\n",
              "    <tr>\n",
              "      <th>one</th>\n",
              "      <td>2000</td>\n",
              "      <td>Ohio</td>\n",
              "      <td>1.5</td>\n",
              "      <td>NaN</td>\n",
              "    </tr>\n",
              "    <tr>\n",
              "      <th>two</th>\n",
              "      <td>2001</td>\n",
              "      <td>Ohio</td>\n",
              "      <td>1.7</td>\n",
              "      <td>NaN</td>\n",
              "    </tr>\n",
              "    <tr>\n",
              "      <th>three</th>\n",
              "      <td>2002</td>\n",
              "      <td>Ohio</td>\n",
              "      <td>3.6</td>\n",
              "      <td>NaN</td>\n",
              "    </tr>\n",
              "    <tr>\n",
              "      <th>four</th>\n",
              "      <td>2001</td>\n",
              "      <td>Nevada</td>\n",
              "      <td>2.4</td>\n",
              "      <td>NaN</td>\n",
              "    </tr>\n",
              "    <tr>\n",
              "      <th>five</th>\n",
              "      <td>2002</td>\n",
              "      <td>Nevada</td>\n",
              "      <td>2.9</td>\n",
              "      <td>NaN</td>\n",
              "    </tr>\n",
              "  </tbody>\n",
              "</table>\n",
              "</div>"
            ],
            "text/plain": [
              "       year   state  pop debt\n",
              "one    2000    Ohio  1.5  NaN\n",
              "two    2001    Ohio  1.7  NaN\n",
              "three  2002    Ohio  3.6  NaN\n",
              "four   2001  Nevada  2.4  NaN\n",
              "five   2002  Nevada  2.9  NaN"
            ]
          },
          "metadata": {
            "tags": []
          },
          "execution_count": 24
        }
      ]
    },
    {
      "cell_type": "code",
      "metadata": {
        "colab": {
          "base_uri": "https://localhost:8080/",
          "height": 242
        },
        "id": "hP8Qp22ps5qJ",
        "outputId": "47051f23-b743-449d-e15c-4374b0bb3662"
      },
      "source": [
        "frame2[\"debt\"] = 2.5\n",
        "display(frame2)"
      ],
      "execution_count": null,
      "outputs": [
        {
          "output_type": "display_data",
          "data": {
            "text/html": [
              "<div>\n",
              "<style scoped>\n",
              "    .dataframe tbody tr th:only-of-type {\n",
              "        vertical-align: middle;\n",
              "    }\n",
              "\n",
              "    .dataframe tbody tr th {\n",
              "        vertical-align: top;\n",
              "    }\n",
              "\n",
              "    .dataframe thead th {\n",
              "        text-align: right;\n",
              "    }\n",
              "</style>\n",
              "<table border=\"1\" class=\"dataframe\">\n",
              "  <thead>\n",
              "    <tr style=\"text-align: right;\">\n",
              "      <th></th>\n",
              "      <th>year</th>\n",
              "      <th>state</th>\n",
              "      <th>pop</th>\n",
              "      <th>debt</th>\n",
              "    </tr>\n",
              "  </thead>\n",
              "  <tbody>\n",
              "    <tr>\n",
              "      <th>one</th>\n",
              "      <td>2000</td>\n",
              "      <td>Ohio</td>\n",
              "      <td>1.5</td>\n",
              "      <td>2.5</td>\n",
              "    </tr>\n",
              "    <tr>\n",
              "      <th>two</th>\n",
              "      <td>2001</td>\n",
              "      <td>Ohio</td>\n",
              "      <td>1.7</td>\n",
              "      <td>2.5</td>\n",
              "    </tr>\n",
              "    <tr>\n",
              "      <th>three</th>\n",
              "      <td>2002</td>\n",
              "      <td>Ohio</td>\n",
              "      <td>3.6</td>\n",
              "      <td>2.5</td>\n",
              "    </tr>\n",
              "    <tr>\n",
              "      <th>four</th>\n",
              "      <td>2001</td>\n",
              "      <td>Nevada</td>\n",
              "      <td>2.4</td>\n",
              "      <td>2.5</td>\n",
              "    </tr>\n",
              "    <tr>\n",
              "      <th>five</th>\n",
              "      <td>2002</td>\n",
              "      <td>Nevada</td>\n",
              "      <td>2.9</td>\n",
              "      <td>2.5</td>\n",
              "    </tr>\n",
              "    <tr>\n",
              "      <th>six</th>\n",
              "      <td>2003</td>\n",
              "      <td>Nevada</td>\n",
              "      <td>3.2</td>\n",
              "      <td>2.5</td>\n",
              "    </tr>\n",
              "  </tbody>\n",
              "</table>\n",
              "</div>"
            ],
            "text/plain": [
              "       year   state  pop  debt\n",
              "one    2000    Ohio  1.5   2.5\n",
              "two    2001    Ohio  1.7   2.5\n",
              "three  2002    Ohio  3.6   2.5\n",
              "four   2001  Nevada  2.4   2.5\n",
              "five   2002  Nevada  2.9   2.5\n",
              "six    2003  Nevada  3.2   2.5"
            ]
          },
          "metadata": {
            "tags": []
          }
        }
      ]
    },
    {
      "cell_type": "code",
      "metadata": {
        "colab": {
          "base_uri": "https://localhost:8080/"
        },
        "id": "faOVbv32ct2R",
        "outputId": "4dd0c24c-1ab1-44bd-cbb6-b99da9e24c85"
      },
      "source": [
        "# must need to import pandas\n",
        "import pandas as pd\n",
        "obj = pd.Series([4, 7, -5, 3])\n",
        "print(obj)"
      ],
      "execution_count": null,
      "outputs": [
        {
          "output_type": "stream",
          "text": [
            "0    4\n",
            "1    7\n",
            "2   -5\n",
            "3    3\n",
            "dtype: int64\n"
          ],
          "name": "stdout"
        }
      ]
    },
    {
      "cell_type": "code",
      "metadata": {
        "colab": {
          "base_uri": "https://localhost:8080/"
        },
        "id": "WqmERX3ohQ_B",
        "outputId": "6111cfb8-19d3-4b70-df9d-ae1c3d6e58a8"
      },
      "source": [
        "sales = pd.Series([100, 200, 100, 400])\n",
        "print(sales.values)\n",
        "print(sales.index)"
      ],
      "execution_count": null,
      "outputs": [
        {
          "output_type": "stream",
          "text": [
            "[100 200 100 400]\n",
            "RangeIndex(start=0, stop=4, step=1)\n"
          ],
          "name": "stdout"
        }
      ]
    },
    {
      "cell_type": "code",
      "metadata": {
        "colab": {
          "base_uri": "https://localhost:8080/"
        },
        "id": "VsffC8CMhfal",
        "outputId": "cfbda38b-64e4-4086-a2ca-e0e8cea32c60"
      },
      "source": [
        "import numpy as np\n",
        "sales = pd.Series([100, 200, 100, 400], index = ['Jan', 'Feb', 'Mar','Apr'], name=\"4 month sales\") \n",
        "#print(sales)\n",
        "print(sales[\"Feb\"])"
      ],
      "execution_count": null,
      "outputs": [
        {
          "output_type": "stream",
          "text": [
            "200\n"
          ],
          "name": "stdout"
        }
      ]
    },
    {
      "cell_type": "code",
      "metadata": {
        "colab": {
          "base_uri": "https://localhost:8080/"
        },
        "id": "_prsxbPHll6y",
        "outputId": "345c15a1-8051-4083-a51d-1bce27d05f2a"
      },
      "source": [
        "sw = pd.Series([20, 30, 20, 25, 30, 40, 0], \n",
        "               index = ['mon', 'tue', 'wed', 'thr','fri', 'sat', 'sat' ])\n",
        "print(sw)\n",
        "print(sw > 20)\n",
        "print()\n",
        "print(sw[sw > 20])\n",
        "print(sw[\"sat\"])"
      ],
      "execution_count": null,
      "outputs": [
        {
          "output_type": "stream",
          "text": [
            "mon    20\n",
            "tue    30\n",
            "wed    20\n",
            "thr    25\n",
            "fri    30\n",
            "sat    40\n",
            "sat     0\n",
            "dtype: int64\n",
            "mon    False\n",
            "tue     True\n",
            "wed    False\n",
            "thr     True\n",
            "fri     True\n",
            "sat     True\n",
            "sat    False\n",
            "dtype: bool\n",
            "\n",
            "tue    30\n",
            "thr    25\n",
            "fri    30\n",
            "sat    40\n",
            "dtype: int64\n",
            "sat    40\n",
            "sat     0\n",
            "dtype: int64\n"
          ],
          "name": "stdout"
        }
      ]
    },
    {
      "cell_type": "code",
      "metadata": {
        "colab": {
          "base_uri": "https://localhost:8080/"
        },
        "id": "uWttdujapo6l",
        "outputId": "ba6f3b8f-346a-4781-9701-7f72bea85046"
      },
      "source": [
        "sdata = {\"Sindh\": 35000, \"Panjab\": 45000, \"KPK\": 30000, \"Balochistan\": 20000}\n",
        "tax_by_state = pd.Series(sdata, index = [\"Panjab\", \"Sindh\", \"KPK\", \"Balochistan\", \"GB\"])\n",
        "print(tax_by_state)\n",
        "tax_by_state.index =  [\"sdh\", \"KPK\", \"Blch\",  \"Pnjb\", \"GB\"]\n",
        "print(tax_by_state)"
      ],
      "execution_count": null,
      "outputs": [
        {
          "output_type": "stream",
          "text": [
            "Panjab         45000.0\n",
            "Sindh          35000.0\n",
            "KPK            30000.0\n",
            "Balochistan    20000.0\n",
            "GB                 NaN\n",
            "dtype: float64\n",
            "sdh     45000.0\n",
            "KPK     35000.0\n",
            "Blch    30000.0\n",
            "Pnjb    20000.0\n",
            "GB          NaN\n",
            "dtype: float64\n"
          ],
          "name": "stdout"
        }
      ]
    },
    {
      "cell_type": "code",
      "metadata": {
        "colab": {
          "base_uri": "https://localhost:8080/"
        },
        "id": "JC3hbTRvnxw8",
        "outputId": "8aede5fc-5cde-4c7c-d485-9671e677c018"
      },
      "source": [
        "print(sw[ [1,3]])"
      ],
      "execution_count": null,
      "outputs": [
        {
          "output_type": "stream",
          "text": [
            "tue    30\n",
            "thr    25\n",
            "dtype: int64\n"
          ],
          "name": "stdout"
        }
      ]
    },
    {
      "cell_type": "code",
      "metadata": {
        "colab": {
          "base_uri": "https://localhost:8080/"
        },
        "id": "QAnTMcj3sfbG",
        "outputId": "4e1fda77-1287-4336-ec7d-ae2e7266df45"
      },
      "source": [
        "import pandas as pd\n",
        "\n",
        "apples = pd.Series([3,2,0,1])\n",
        "oranges = pd.Series([3,4,7,8])\n",
        "\n",
        "#print(apples, oranges)\n",
        "data = {\"apples\": apples, \"oranges\": oranges}\n",
        "fruits_df = pd.DataFrame(data)\n",
        "print(fruits_df)"
      ],
      "execution_count": null,
      "outputs": [
        {
          "output_type": "stream",
          "text": [
            "   apples  oranges\n",
            "0       3        3\n",
            "1       2        4\n",
            "2       0        7\n",
            "3       1        8\n"
          ],
          "name": "stdout"
        }
      ]
    },
    {
      "cell_type": "code",
      "metadata": {
        "colab": {
          "base_uri": "https://localhost:8080/"
        },
        "id": "TdU8SvRHtHEq",
        "outputId": "652b9339-12cc-4135-ae7b-338bbfa2825e"
      },
      "source": [
        "import pandas as pd\n",
        "\n",
        "apples = pd.Series([3,2,0,1] , index = [\"mon\", \"tue\", \"wed\", \"thr\"] )\n",
        "oranges = pd.Series([1,2,3,4], index = [\"mon\", \"tue\", \"wed\", \"thr\"])\n",
        "\n",
        "#print(apples,\"\\n\", oranges)\n",
        "data = {\"apples\": apples, \"oranges\": oranges}\n",
        "fruits_df = pd.DataFrame(data)\n",
        "print(fruits_df)"
      ],
      "execution_count": null,
      "outputs": [
        {
          "output_type": "stream",
          "text": [
            "     apples  oranges\n",
            "mon       3        1\n",
            "tue       2        2\n",
            "wed       0        3\n",
            "thr       1        4\n"
          ],
          "name": "stdout"
        }
      ]
    },
    {
      "cell_type": "code",
      "metadata": {
        "colab": {
          "base_uri": "https://localhost:8080/"
        },
        "id": "cCUK1qhjtmIt",
        "outputId": "ff324ad0-bfda-4a69-9cea-ad91acac8bae"
      },
      "source": [
        "state = ['Ohio', 'Ohio', 'Ohio', 'Nevada', 'Nevada', 'Nevada']\n",
        "data = {'state': state ,\n",
        "        'year' : [2000, 2001, 2002, 2001, 2002, 2003],\n",
        "        'pop'  : [1.5, 1.7, 3.6, 2.4, 2.9, 3.2]}\n",
        "state_pop_df = pd.DataFrame(data \n",
        "                     , index = ['1st', '2nd', '3rd', \n",
        "                                '4th', '5th','6th'] )\n",
        "print(state_pop_df)"
      ],
      "execution_count": null,
      "outputs": [
        {
          "output_type": "stream",
          "text": [
            "      state  year  pop\n",
            "1st    Ohio  2000  1.5\n",
            "2nd    Ohio  2001  1.7\n",
            "3rd    Ohio  2002  3.6\n",
            "4th  Nevada  2001  2.4\n",
            "5th  Nevada  2002  2.9\n",
            "6th  Nevada  2003  3.2\n"
          ],
          "name": "stdout"
        }
      ]
    },
    {
      "cell_type": "code",
      "metadata": {
        "colab": {
          "base_uri": "https://localhost:8080/"
        },
        "id": "Hw04WdpCxgat",
        "outputId": "157c2642-14ba-4c80-b48d-33c80d064e8a"
      },
      "source": [
        "# important cell for codes review\n",
        "import numpy as np\n",
        "import pandas as pd\n",
        "state = ['Ohio', 'Ohio', 'Ohio', 'Nevada', 'Nevada', 'Nevada']\n",
        "\n",
        "data = {'state': state ,\n",
        "        'year' : [2000, 2001, 2002, 2001, 2002, 2003],\n",
        "        'pop'  : [1.5, 1.7, 3.6, 2.4, 2.9, 3.2]}\n",
        "\n",
        "frame2 = pd.DataFrame(data, columns=['year', 'state', 'pop', 'debt'],\n",
        "        index=['one', 'two', 'three', 'four','five', 'six'])\n",
        "\n",
        "ln = len(frame2) # finding now of rows in dataframe\n",
        "print(ln)\n",
        "rng = np.random.rand(ln)\n",
        "print(rng)\n",
        "frame2['debt'] = rng\n",
        "frame2.index = rng\n",
        "print(frame2)"
      ],
      "execution_count": null,
      "outputs": [
        {
          "output_type": "stream",
          "text": [
            "6\n",
            "[0.63673862 0.16292638 0.44202322 0.64532616 0.2013334  0.29754898]\n",
            "          year   state  pop      debt\n",
            "0.636739  2000    Ohio  1.5  0.636739\n",
            "0.162926  2001    Ohio  1.7  0.162926\n",
            "0.442023  2002    Ohio  3.6  0.442023\n",
            "0.645326  2001  Nevada  2.4  0.645326\n",
            "0.201333  2002  Nevada  2.9  0.201333\n",
            "0.297549  2003  Nevada  3.2  0.297549\n"
          ],
          "name": "stdout"
        }
      ]
    },
    {
      "cell_type": "code",
      "metadata": {
        "colab": {
          "base_uri": "https://localhost:8080/"
        },
        "id": "pgauJnJ20zfo",
        "outputId": "73f3355e-c9cf-4e1a-a1f8-fb58c056d696"
      },
      "source": [
        "# how to reindex and usie of ffill value of parameter method \n",
        "import pandas as pd\n",
        "obj3 = pd.Series(['blue', 'purple', 'yellow'],name=\"Green\",index=[0, 3, 6], )\n",
        "#print( obj3 )\n",
        "print(\"-------------\")\n",
        "# might create a new rows\n",
        "obj3 =obj3.reindex(range(9) )\n",
        "#print(obj3)\n",
        "#obj3 =obj3.reindex(range(9), method='ffill' )\n",
        "#print(obj3)\n",
        "#obj3 =obj3.reindex(range(2,11), method=\"ffill\")\n",
        "obj3\n",
        "# I want to replace all NaN with Gree . How ?\n",
        "#obj3.fillna(\"Green\") # easy way\n",
        "print(obj3.isnull())\n",
        "obj3[obj3.isnull()] = \"Green\" # green will be replace whenever it found true in condition\n",
        "#nulldf = obj3.isnan()\n",
        "obj3\n",
        "#print(nulldf)\n"
      ],
      "execution_count": null,
      "outputs": [
        {
          "output_type": "stream",
          "text": [
            "-------------\n",
            "0    False\n",
            "1     True\n",
            "2     True\n",
            "3    False\n",
            "4     True\n",
            "5     True\n",
            "6    False\n",
            "7     True\n",
            "8     True\n",
            "Name: Green, dtype: bool\n"
          ],
          "name": "stdout"
        },
        {
          "output_type": "execute_result",
          "data": {
            "text/plain": [
              "0      blue\n",
              "1     Green\n",
              "2     Green\n",
              "3    purple\n",
              "4     Green\n",
              "5     Green\n",
              "6    yellow\n",
              "7     Green\n",
              "8     Green\n",
              "Name: Green, dtype: object"
            ]
          },
          "metadata": {
            "tags": []
          },
          "execution_count": 25
        }
      ]
    },
    {
      "cell_type": "code",
      "metadata": {
        "colab": {
          "base_uri": "https://localhost:8080/"
        },
        "id": "6gJopU4wccPI",
        "outputId": "e3d8189d-b64f-4bbe-d243-8cfb05dfe058"
      },
      "source": [
        "# column name changing using reindex method\n",
        "import numpy as np\n",
        "states = pd.DataFrame(np.arange(9).reshape((3, 3) ),\n",
        "index=['a', 'c', 'd'], columns=['Ohio', 'Texas', 'California'])\n",
        "print(states)\n",
        "states_name = ['Texas', 'Utah', 'California','Ohio']\n",
        "statesavg = states.mean(axis = 1)\n",
        "\n",
        "# can we use ffill parameter in column reindex mode ?\n",
        "states =states.reindex(columns=states_name)\n",
        "\n",
        "# how to replace NAN with avg of all other stats\n",
        "statesavg = states.mean(axis = 1)\n",
        "\n",
        "# to understand the difference of fillname without columnName and with columnName\n",
        "states[\"California\"].iloc[1] = None\n",
        "print(states)\n",
        "#states[\"Utah\"] = states[\"Utah\"].fillna(statesavg)\n",
        "x = [1,3, 4]\n",
        "x[2] = 2\n",
        "print(statesavg)\n",
        "states = states.loc[:, :].fillna(statesavg)\n",
        "#states[\"California\"] = states[\"California\"].fillna(1)\n",
        "print(states)"
      ],
      "execution_count": null,
      "outputs": [
        {
          "output_type": "stream",
          "text": [
            "   Ohio  Texas  California\n",
            "a     0      1           2\n",
            "c     3      4           5\n",
            "d     6      7           8\n",
            "   Texas  Utah  California  Ohio\n",
            "a      1   NaN         2.0     0\n",
            "c      4   NaN         NaN     3\n",
            "d      7   NaN         8.0     6\n",
            "a    1.0\n",
            "c    4.0\n",
            "d    7.0\n",
            "dtype: float64\n",
            "   Texas  Utah  California  Ohio\n",
            "a      1   NaN         2.0     0\n",
            "c      4   NaN         NaN     3\n",
            "d      7   NaN         8.0     6\n"
          ],
          "name": "stdout"
        },
        {
          "output_type": "stream",
          "text": [
            "/usr/local/lib/python3.6/dist-packages/pandas/core/indexing.py:670: SettingWithCopyWarning: \n",
            "A value is trying to be set on a copy of a slice from a DataFrame\n",
            "\n",
            "See the caveats in the documentation: https://pandas.pydata.org/pandas-docs/stable/user_guide/indexing.html#returning-a-view-versus-a-copy\n",
            "  iloc._setitem_with_indexer(indexer, value)\n"
          ],
          "name": "stderr"
        }
      ]
    },
    {
      "cell_type": "code",
      "metadata": {
        "id": "zvrH82r-ZRye"
      },
      "source": [
        ""
      ],
      "execution_count": null,
      "outputs": []
    },
    {
      "cell_type": "code",
      "metadata": {
        "colab": {
          "base_uri": "https://localhost:8080/"
        },
        "id": "T7ELlo0FZSGg",
        "outputId": "b49281df-99ab-4cd8-88f0-e864937a581a"
      },
      "source": [
        "import numpy as np\n",
        "import pandas as pd\n",
        "frame  = pd.DataFrame(np.random.randn(4, 3), \n",
        "                             columns=list('bde'), \n",
        "                     index=['Utah', 'Ohio', 'Texas', 'Oregon'])\n",
        "print(frame)"
      ],
      "execution_count": null,
      "outputs": [
        {
          "output_type": "stream",
          "text": [
            "               b         d         e\n",
            "Utah   -1.019083  1.930998  0.412575\n",
            "Ohio   -0.567498  0.184098  0.488520\n",
            "Texas   0.865190  1.094814  0.516937\n",
            "Oregon  0.990601  0.541019 -0.463123\n"
          ],
          "name": "stdout"
        }
      ]
    },
    {
      "cell_type": "code",
      "metadata": {
        "colab": {
          "base_uri": "https://localhost:8080/"
        },
        "id": "AqdohPnjq4sD",
        "outputId": "cc51f398-0166-4c62-b50e-7ca0dcb8cdf3"
      },
      "source": [
        "print(np.abs(frame))"
      ],
      "execution_count": null,
      "outputs": [
        {
          "output_type": "stream",
          "text": [
            "               b         d         e\n",
            "Utah    1.019083  1.930998  0.412575\n",
            "Ohio    0.567498  0.184098  0.488520\n",
            "Texas   0.865190  1.094814  0.516937\n",
            "Oregon  0.990601  0.541019  0.463123\n"
          ],
          "name": "stdout"
        }
      ]
    },
    {
      "cell_type": "code",
      "metadata": {
        "colab": {
          "base_uri": "https://localhost:8080/"
        },
        "id": "2JF9sQSkrFYA",
        "outputId": "0a84666f-98f5-45b7-8e03-e3e6c689885d"
      },
      "source": [
        "print(frame. min())\n",
        "print(frame[\"d\"].min())"
      ],
      "execution_count": null,
      "outputs": [
        {
          "output_type": "stream",
          "text": [
            "b   -1.019083\n",
            "d    0.184098\n",
            "e   -0.463123\n",
            "dtype: float64\n",
            "0.18409765779733864\n"
          ],
          "name": "stdout"
        }
      ]
    },
    {
      "cell_type": "code",
      "metadata": {
        "colab": {
          "base_uri": "https://localhost:8080/"
        },
        "id": "h-yu5y31rZlo",
        "outputId": "7f9c0e10-350f-4374-cc7b-0f5bcc16f053"
      },
      "source": [
        "print(frame[\"d\"].max() - frame[\"d\"]. min())\n",
        "frame  = pd.DataFrame(np.random.randn(4, 3), \n",
        "                             columns=list('bde'), \n",
        "                     index=['Utah', 'Ohio', 'Texas', 'Oregon'])\n",
        "print(frame)"
      ],
      "execution_count": null,
      "outputs": [
        {
          "output_type": "stream",
          "text": [
            "1.7469003582229308\n",
            "               b         d         e\n",
            "Utah    0.120386  1.275904 -0.750393\n",
            "Ohio   -0.381957 -0.226922  0.779089\n",
            "Texas   0.065642  0.563845 -0.349569\n",
            "Oregon -0.130599  0.878182 -1.860609\n"
          ],
          "name": "stdout"
        }
      ]
    },
    {
      "cell_type": "code",
      "metadata": {
        "colab": {
          "base_uri": "https://localhost:8080/"
        },
        "id": "P3XRJzyCre8q",
        "outputId": "e5af464e-9cb4-4310-94cb-3a7d37df2211"
      },
      "source": [
        "f = lambda x: x.max() - x.min() \n",
        "df = frame.apply(f)\n",
        "print(df, type(df))"
      ],
      "execution_count": null,
      "outputs": [
        {
          "output_type": "stream",
          "text": [
            "b    0.502343\n",
            "d    1.502826\n",
            "e    2.639697\n",
            "dtype: float64 <class 'pandas.core.series.Series'>\n"
          ],
          "name": "stdout"
        }
      ]
    },
    {
      "cell_type": "code",
      "metadata": {
        "colab": {
          "base_uri": "https://localhost:8080/"
        },
        "id": "EkuNHU36tRHY",
        "outputId": "319b2476-c79e-4ce2-f82b-ade2649fd228"
      },
      "source": [
        "def min_max(colName): \n",
        "    return pd.Series( [colName.max() - colName.min() ], index=['min-max'])    \n",
        "\n",
        "df = frame.apply(min_max)\n",
        "print(df, type(df))"
      ],
      "execution_count": null,
      "outputs": [
        {
          "output_type": "stream",
          "text": [
            "                b         d         e\n",
            "min-max  0.502343  1.502826  2.639697 <class 'pandas.core.frame.DataFrame'>\n"
          ],
          "name": "stdout"
        }
      ]
    },
    {
      "cell_type": "code",
      "metadata": {
        "id": "ceumbTY5iGwD"
      },
      "source": [
        "# Sunday class 17 January"
      ],
      "execution_count": null,
      "outputs": []
    },
    {
      "cell_type": "code",
      "metadata": {
        "id": "xg84fkzjiKwm",
        "colab": {
          "base_uri": "https://localhost:8080/"
        },
        "outputId": "268aacaa-1ffc-4cb8-f377-c31ecb2fa983"
      },
      "source": [
        "import numpy as np\r\n",
        "import pandas as pd\r\n",
        "states = pd.DataFrame(np.arange(9).reshape((3, 3) ),\r\n",
        "index=['a', 'c', 'd'], columns=['Ohio', 'Texas', 'California'])\r\n",
        "print(states)\r\n",
        "states_name = ['Texas', 'Utah', 'California','Ohio']\r\n",
        "statesavg = states.mean(axis = 1)\r\n",
        "states =states.reindex(columns=states_name)\r\n",
        "statesavg = states.mean(axis = 1)\r\n",
        "print(states)\r\n",
        "states.iloc[1,1]=1#states.loc[\"c\",\"Utah\"]\r\n",
        "print(states)"
      ],
      "execution_count": 6,
      "outputs": [
        {
          "output_type": "stream",
          "text": [
            "   Ohio  Texas  California\n",
            "a     0      1           2\n",
            "c     3      4           5\n",
            "d     6      7           8\n",
            "   Texas  Utah  California  Ohio\n",
            "a      1   NaN           2     0\n",
            "c      4   NaN           5     3\n",
            "d      7   NaN           8     6\n",
            "   Texas  Utah  California  Ohio\n",
            "a      1   NaN           2     0\n",
            "c      4   1.0           5     3\n",
            "d      7   NaN           8     6\n"
          ],
          "name": "stdout"
        }
      ]
    }
  ]
}