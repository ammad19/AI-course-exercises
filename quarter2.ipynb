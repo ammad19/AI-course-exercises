{
  "nbformat": 4,
  "nbformat_minor": 0,
  "metadata": {
    "colab": {
      "name": "quarter2.ipynb",
      "provenance": [],
      "collapsed_sections": [],
      "authorship_tag": "ABX9TyPiPQykPF22FEe9r2CyC/QG",
      "include_colab_link": true
    },
    "kernelspec": {
      "name": "python3",
      "display_name": "Python 3"
    }
  },
  "cells": [
    {
      "cell_type": "markdown",
      "metadata": {
        "id": "view-in-github",
        "colab_type": "text"
      },
      "source": [
        "<a href=\"https://colab.research.google.com/github/ammad19/AI-course-exercises/blob/master/quarter2.ipynb\" target=\"_parent\"><img src=\"https://colab.research.google.com/assets/colab-badge.svg\" alt=\"Open In Colab\"/></a>"
      ]
    },
    {
      "cell_type": "code",
      "metadata": {
        "colab": {
          "base_uri": "https://localhost:8080/"
        },
        "id": "VrSsMWPlmVuE",
        "outputId": "eb4a5eef-fd4f-4797-9881-b610eec5a6cb"
      },
      "source": [
        "import numpy as np\r\n",
        "lst2 = np.array([3,6,79])\r\n",
        "lst3 = np.add(lst2,10)\r\n",
        "print(lst3)\r\n",
        "my_arr = np.arange(1000000)\r\n",
        "my_list = list(range(1000000))\r\n",
        "%time for _ in range(10): my_arr2 = my_arr * 2\r\n",
        "%time for _ in range(10): my_list2 = [x * 2 for x in my_list]"
      ],
      "execution_count": 2,
      "outputs": [
        {
          "output_type": "stream",
          "text": [
            "[13 16 89]\n",
            "CPU times: user 9.13 ms, sys: 5.05 ms, total: 14.2 ms\n",
            "Wall time: 14.2 ms\n",
            "CPU times: user 559 ms, sys: 115 ms, total: 674 ms\n",
            "Wall time: 676 ms\n"
          ],
          "name": "stdout"
        }
      ]
    },
    {
      "cell_type": "code",
      "metadata": {
        "id": "SAG7QHhXmX79"
      },
      "source": [
        ""
      ],
      "execution_count": null,
      "outputs": []
    }
  ]
}