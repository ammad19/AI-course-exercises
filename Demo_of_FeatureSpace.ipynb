{
  "nbformat": 4,
  "nbformat_minor": 0,
  "metadata": {
    "colab": {
      "provenance": [],
      "collapsed_sections": [],
      "include_colab_link": true
    },
    "kernelspec": {
      "name": "python3",
      "display_name": "Python 3"
    },
    "language_info": {
      "name": "python"
    }
  },
  "cells": [
    {
      "cell_type": "markdown",
      "metadata": {
        "id": "view-in-github",
        "colab_type": "text"
      },
      "source": [
        "<a href=\"https://colab.research.google.com/github/ammad19/AI-course-exercises/blob/master/Demo_of_FeatureSpace.ipynb\" target=\"_parent\"><img src=\"https://colab.research.google.com/assets/colab-badge.svg\" alt=\"Open In Colab\"/></a>"
      ]
    },
    {
      "cell_type": "markdown",
      "source": [
        "# A new utility to make structured data preprocessing easier: `FeatureSpace`"
      ],
      "metadata": {
        "id": "rvLWgxQAC2pF"
      }
    },
    {
      "cell_type": "code",
      "source": [
        "import tensorflow as tf\n",
        "import numpy as np\n",
        "import pandas as pd\n",
        "from tensorflow import keras\n",
        "from tensorflow.keras import layers"
      ],
      "metadata": {
        "id": "d3-htlgkM8j_"
      },
      "execution_count": null,
      "outputs": []
    },
    {
      "cell_type": "markdown",
      "source": [
        "## Get datasets\n",
        "\n",
        "Each dataset yields a tuple `(sample, label)` where `sample` is a dict of scalar\n",
        "values (could be strings, ints, floats...)"
      ],
      "metadata": {
        "id": "je8U0UJFEYZ1"
      }
    },
    {
      "cell_type": "code",
      "source": [
        "file_url = \"http://storage.googleapis.com/download.tensorflow.org/data/heart.csv\"\n",
        "dataframe = pd.read_csv(file_url)\n",
        "dataframe.head()"
      ],
      "metadata": {
        "colab": {
          "base_uri": "https://localhost:8080/",
          "height": 206
        },
        "id": "6ODEVx7AEUeh",
        "outputId": "468331ee-8e59-455b-c272-734e35641bad"
      },
      "execution_count": null,
      "outputs": [
        {
          "output_type": "execute_result",
          "data": {
            "text/plain": [
              "   age  sex  cp  trestbps  chol  fbs  restecg  thalach  exang  oldpeak  slope  \\\n",
              "0   63    1   1       145   233    1        2      150      0      2.3      3   \n",
              "1   67    1   4       160   286    0        2      108      1      1.5      2   \n",
              "2   67    1   4       120   229    0        2      129      1      2.6      2   \n",
              "3   37    1   3       130   250    0        0      187      0      3.5      3   \n",
              "4   41    0   2       130   204    0        2      172      0      1.4      1   \n",
              "\n",
              "   ca        thal  target  \n",
              "0   0       fixed       0  \n",
              "1   3      normal       1  \n",
              "2   2  reversible       0  \n",
              "3   0      normal       0  \n",
              "4   0      normal       0  "
            ],
            "text/html": [
              "\n",
              "  <div id=\"df-e88eae4d-b77f-405e-8430-9cff65849dcb\">\n",
              "    <div class=\"colab-df-container\">\n",
              "      <div>\n",
              "<style scoped>\n",
              "    .dataframe tbody tr th:only-of-type {\n",
              "        vertical-align: middle;\n",
              "    }\n",
              "\n",
              "    .dataframe tbody tr th {\n",
              "        vertical-align: top;\n",
              "    }\n",
              "\n",
              "    .dataframe thead th {\n",
              "        text-align: right;\n",
              "    }\n",
              "</style>\n",
              "<table border=\"1\" class=\"dataframe\">\n",
              "  <thead>\n",
              "    <tr style=\"text-align: right;\">\n",
              "      <th></th>\n",
              "      <th>age</th>\n",
              "      <th>sex</th>\n",
              "      <th>cp</th>\n",
              "      <th>trestbps</th>\n",
              "      <th>chol</th>\n",
              "      <th>fbs</th>\n",
              "      <th>restecg</th>\n",
              "      <th>thalach</th>\n",
              "      <th>exang</th>\n",
              "      <th>oldpeak</th>\n",
              "      <th>slope</th>\n",
              "      <th>ca</th>\n",
              "      <th>thal</th>\n",
              "      <th>target</th>\n",
              "    </tr>\n",
              "  </thead>\n",
              "  <tbody>\n",
              "    <tr>\n",
              "      <th>0</th>\n",
              "      <td>63</td>\n",
              "      <td>1</td>\n",
              "      <td>1</td>\n",
              "      <td>145</td>\n",
              "      <td>233</td>\n",
              "      <td>1</td>\n",
              "      <td>2</td>\n",
              "      <td>150</td>\n",
              "      <td>0</td>\n",
              "      <td>2.3</td>\n",
              "      <td>3</td>\n",
              "      <td>0</td>\n",
              "      <td>fixed</td>\n",
              "      <td>0</td>\n",
              "    </tr>\n",
              "    <tr>\n",
              "      <th>1</th>\n",
              "      <td>67</td>\n",
              "      <td>1</td>\n",
              "      <td>4</td>\n",
              "      <td>160</td>\n",
              "      <td>286</td>\n",
              "      <td>0</td>\n",
              "      <td>2</td>\n",
              "      <td>108</td>\n",
              "      <td>1</td>\n",
              "      <td>1.5</td>\n",
              "      <td>2</td>\n",
              "      <td>3</td>\n",
              "      <td>normal</td>\n",
              "      <td>1</td>\n",
              "    </tr>\n",
              "    <tr>\n",
              "      <th>2</th>\n",
              "      <td>67</td>\n",
              "      <td>1</td>\n",
              "      <td>4</td>\n",
              "      <td>120</td>\n",
              "      <td>229</td>\n",
              "      <td>0</td>\n",
              "      <td>2</td>\n",
              "      <td>129</td>\n",
              "      <td>1</td>\n",
              "      <td>2.6</td>\n",
              "      <td>2</td>\n",
              "      <td>2</td>\n",
              "      <td>reversible</td>\n",
              "      <td>0</td>\n",
              "    </tr>\n",
              "    <tr>\n",
              "      <th>3</th>\n",
              "      <td>37</td>\n",
              "      <td>1</td>\n",
              "      <td>3</td>\n",
              "      <td>130</td>\n",
              "      <td>250</td>\n",
              "      <td>0</td>\n",
              "      <td>0</td>\n",
              "      <td>187</td>\n",
              "      <td>0</td>\n",
              "      <td>3.5</td>\n",
              "      <td>3</td>\n",
              "      <td>0</td>\n",
              "      <td>normal</td>\n",
              "      <td>0</td>\n",
              "    </tr>\n",
              "    <tr>\n",
              "      <th>4</th>\n",
              "      <td>41</td>\n",
              "      <td>0</td>\n",
              "      <td>2</td>\n",
              "      <td>130</td>\n",
              "      <td>204</td>\n",
              "      <td>0</td>\n",
              "      <td>2</td>\n",
              "      <td>172</td>\n",
              "      <td>0</td>\n",
              "      <td>1.4</td>\n",
              "      <td>1</td>\n",
              "      <td>0</td>\n",
              "      <td>normal</td>\n",
              "      <td>0</td>\n",
              "    </tr>\n",
              "  </tbody>\n",
              "</table>\n",
              "</div>\n",
              "      <button class=\"colab-df-convert\" onclick=\"convertToInteractive('df-e88eae4d-b77f-405e-8430-9cff65849dcb')\"\n",
              "              title=\"Convert this dataframe to an interactive table.\"\n",
              "              style=\"display:none;\">\n",
              "        \n",
              "  <svg xmlns=\"http://www.w3.org/2000/svg\" height=\"24px\"viewBox=\"0 0 24 24\"\n",
              "       width=\"24px\">\n",
              "    <path d=\"M0 0h24v24H0V0z\" fill=\"none\"/>\n",
              "    <path d=\"M18.56 5.44l.94 2.06.94-2.06 2.06-.94-2.06-.94-.94-2.06-.94 2.06-2.06.94zm-11 1L8.5 8.5l.94-2.06 2.06-.94-2.06-.94L8.5 2.5l-.94 2.06-2.06.94zm10 10l.94 2.06.94-2.06 2.06-.94-2.06-.94-.94-2.06-.94 2.06-2.06.94z\"/><path d=\"M17.41 7.96l-1.37-1.37c-.4-.4-.92-.59-1.43-.59-.52 0-1.04.2-1.43.59L10.3 9.45l-7.72 7.72c-.78.78-.78 2.05 0 2.83L4 21.41c.39.39.9.59 1.41.59.51 0 1.02-.2 1.41-.59l7.78-7.78 2.81-2.81c.8-.78.8-2.07 0-2.86zM5.41 20L4 18.59l7.72-7.72 1.47 1.35L5.41 20z\"/>\n",
              "  </svg>\n",
              "      </button>\n",
              "      \n",
              "  <style>\n",
              "    .colab-df-container {\n",
              "      display:flex;\n",
              "      flex-wrap:wrap;\n",
              "      gap: 12px;\n",
              "    }\n",
              "\n",
              "    .colab-df-convert {\n",
              "      background-color: #E8F0FE;\n",
              "      border: none;\n",
              "      border-radius: 50%;\n",
              "      cursor: pointer;\n",
              "      display: none;\n",
              "      fill: #1967D2;\n",
              "      height: 32px;\n",
              "      padding: 0 0 0 0;\n",
              "      width: 32px;\n",
              "    }\n",
              "\n",
              "    .colab-df-convert:hover {\n",
              "      background-color: #E2EBFA;\n",
              "      box-shadow: 0px 1px 2px rgba(60, 64, 67, 0.3), 0px 1px 3px 1px rgba(60, 64, 67, 0.15);\n",
              "      fill: #174EA6;\n",
              "    }\n",
              "\n",
              "    [theme=dark] .colab-df-convert {\n",
              "      background-color: #3B4455;\n",
              "      fill: #D2E3FC;\n",
              "    }\n",
              "\n",
              "    [theme=dark] .colab-df-convert:hover {\n",
              "      background-color: #434B5C;\n",
              "      box-shadow: 0px 1px 3px 1px rgba(0, 0, 0, 0.15);\n",
              "      filter: drop-shadow(0px 1px 2px rgba(0, 0, 0, 0.3));\n",
              "      fill: #FFFFFF;\n",
              "    }\n",
              "  </style>\n",
              "\n",
              "      <script>\n",
              "        const buttonEl =\n",
              "          document.querySelector('#df-e88eae4d-b77f-405e-8430-9cff65849dcb button.colab-df-convert');\n",
              "        buttonEl.style.display =\n",
              "          google.colab.kernel.accessAllowed ? 'block' : 'none';\n",
              "\n",
              "        async function convertToInteractive(key) {\n",
              "          const element = document.querySelector('#df-e88eae4d-b77f-405e-8430-9cff65849dcb');\n",
              "          const dataTable =\n",
              "            await google.colab.kernel.invokeFunction('convertToInteractive',\n",
              "                                                     [key], {});\n",
              "          if (!dataTable) return;\n",
              "\n",
              "          const docLinkHtml = 'Like what you see? Visit the ' +\n",
              "            '<a target=\"_blank\" href=https://colab.research.google.com/notebooks/data_table.ipynb>data table notebook</a>'\n",
              "            + ' to learn more about interactive tables.';\n",
              "          element.innerHTML = '';\n",
              "          dataTable['output_type'] = 'display_data';\n",
              "          await google.colab.output.renderOutput(dataTable, element);\n",
              "          const docLink = document.createElement('div');\n",
              "          docLink.innerHTML = docLinkHtml;\n",
              "          element.appendChild(docLink);\n",
              "        }\n",
              "      </script>\n",
              "    </div>\n",
              "  </div>\n",
              "  "
            ]
          },
          "metadata": {},
          "execution_count": 226
        }
      ]
    },
    {
      "cell_type": "code",
      "source": [
        "val_dataframe = dataframe.sample(frac=0.2, random_state=1337)\n",
        "train_dataframe = dataframe.drop(val_dataframe.index)\n",
        "\n",
        "def dataframe_to_dataset(dataframe):\n",
        "    dataframe = dataframe.copy()\n",
        "    labels = dataframe.pop(\"target\")\n",
        "    ds = tf.data.Dataset.from_tensor_slices((dict(dataframe), labels))\n",
        "    ds = ds.shuffle(buffer_size=len(dataframe))\n",
        "    return ds\n",
        "\n",
        "\n",
        "train_ds = dataframe_to_dataset(train_dataframe)\n",
        "val_ds = dataframe_to_dataset(val_dataframe)\n",
        "\n",
        "train_ds_no_labels = train_ds.map(lambda x, y: x)"
      ],
      "metadata": {
        "id": "MoO7M5qQNCfa"
      },
      "execution_count": null,
      "outputs": []
    },
    {
      "cell_type": "markdown",
      "source": [
        "## Set up preprocessing / encoding"
      ],
      "metadata": {
        "id": "MOqXf75uEk7f"
      }
    },
    {
      "cell_type": "code",
      "source": [
        "from keras.utils import FeatureSpace\n",
        "\n",
        "feature_space = FeatureSpace(\n",
        "    features={\n",
        "        # Categorical features encoded as integers\n",
        "        \"sex\": \"integer_categorical\",\n",
        "        \"cp\": \"integer_categorical\",\n",
        "        \"fbs\": \"integer_categorical\",\n",
        "        \"restecg\": \"integer_categorical\",\n",
        "        \"exang\": \"integer_categorical\",\n",
        "        \"ca\": \"integer_categorical\",\n",
        "\n",
        "        # Categorical feature encoded as string\n",
        "        \"thal\": \"string_categorical\",\n",
        "\n",
        "        # Numerical features to discretize\n",
        "        \"age\": \"float_discretized\",\n",
        "\n",
        "        # Numerical features to normalize\n",
        "        \"trestbps\": \"float_normalized\",\n",
        "        \"chol\": \"float_normalized\",\n",
        "        \"thalach\": \"float_normalized\",\n",
        "        \"oldpeak\": \"float_normalized\",\n",
        "\n",
        "        # Numerical features to keep unchanged\n",
        "        \"slope\": \"float\",\n",
        "    },\n",
        "    crosses=[(\"sex\", \"age\"), (\"thal\", \"ca\")],\n",
        "    crossing_dim=1024,\n",
        "    output_mode=\"concat\",\n",
        ")"
      ],
      "metadata": {
        "id": "GXDohSOMEmjg"
      },
      "execution_count": null,
      "outputs": []
    },
    {
      "cell_type": "code",
      "source": [
        "feature_space.adapt(train_ds_no_labels)"
      ],
      "metadata": {
        "colab": {
          "base_uri": "https://localhost:8080/"
        },
        "id": "W6Qj6YUShaH2",
        "outputId": "07a9666d-4750-40ca-e577-aaa50c98559f"
      },
      "execution_count": null,
      "outputs": [
        {
          "output_type": "stream",
          "name": "stdout",
          "text": [
            "...Adapt sex\n",
            "...Adapt cp\n",
            "...Adapt fbs\n",
            "...Adapt restecg\n",
            "...Adapt exang\n",
            "...Adapt ca\n",
            "...Adapt thal\n",
            "...Adapt age\n",
            "...Adapt trestbps\n",
            "...Adapt chol\n",
            "...Adapt thalach\n",
            "...Adapt oldpeak\n"
          ]
        }
      ]
    },
    {
      "cell_type": "code",
      "source": [
        "feature_space.get_inputs()"
      ],
      "metadata": {
        "colab": {
          "base_uri": "https://localhost:8080/"
        },
        "id": "xALsln5ChXKt",
        "outputId": "ee37d47a-9c15-483e-a982-76a4f508a811"
      },
      "execution_count": null,
      "outputs": [
        {
          "output_type": "execute_result",
          "data": {
            "text/plain": [
              "{'sex': <KerasTensor: shape=(None, 1) dtype=int64 (created by layer 'sex')>,\n",
              " 'cp': <KerasTensor: shape=(None, 1) dtype=int64 (created by layer 'cp')>,\n",
              " 'fbs': <KerasTensor: shape=(None, 1) dtype=int64 (created by layer 'fbs')>,\n",
              " 'restecg': <KerasTensor: shape=(None, 1) dtype=int64 (created by layer 'restecg')>,\n",
              " 'exang': <KerasTensor: shape=(None, 1) dtype=int64 (created by layer 'exang')>,\n",
              " 'ca': <KerasTensor: shape=(None, 1) dtype=int64 (created by layer 'ca')>,\n",
              " 'thal': <KerasTensor: shape=(None, 1) dtype=string (created by layer 'thal')>,\n",
              " 'age': <KerasTensor: shape=(None, 1) dtype=float32 (created by layer 'age')>,\n",
              " 'trestbps': <KerasTensor: shape=(None, 1) dtype=float32 (created by layer 'trestbps')>,\n",
              " 'chol': <KerasTensor: shape=(None, 1) dtype=float32 (created by layer 'chol')>,\n",
              " 'thalach': <KerasTensor: shape=(None, 1) dtype=float32 (created by layer 'thalach')>,\n",
              " 'oldpeak': <KerasTensor: shape=(None, 1) dtype=float32 (created by layer 'oldpeak')>,\n",
              " 'slope': <KerasTensor: shape=(None, 1) dtype=float32 (created by layer 'slope')>}"
            ]
          },
          "metadata": {},
          "execution_count": 290
        }
      ]
    },
    {
      "cell_type": "code",
      "source": [
        "feature_space.get_encoded_features()"
      ],
      "metadata": {
        "colab": {
          "base_uri": "https://localhost:8080/"
        },
        "id": "B6RSXe32nxvC",
        "outputId": "d3f7bb86-3746-4998-94a5-0c45f49ab5b4"
      },
      "execution_count": null,
      "outputs": [
        {
          "output_type": "execute_result",
          "data": {
            "text/plain": [
              "<KerasTensor: shape=(None, 2115) dtype=float32 (created by layer 'concatenate_24')>"
            ]
          },
          "metadata": {},
          "execution_count": 291
        }
      ]
    },
    {
      "cell_type": "code",
      "source": [
        "# BATCHED CALL\n",
        "for x in train_ds_no_labels.batch(32).take(1):\n",
        "  pass\n",
        "y = feature_space(x)\n",
        "print(y.shape)\n",
        "\n",
        "# UNBATCHED CALL\n",
        "for x in train_ds_no_labels.take(1):\n",
        "  pass\n",
        "y = feature_space(x)\n",
        "print(y.shape)"
      ],
      "metadata": {
        "colab": {
          "base_uri": "https://localhost:8080/"
        },
        "id": "ZxmEWdEHn0fk",
        "outputId": "fe9ecb46-92be-44af-b633-4089ccaaca07"
      },
      "execution_count": null,
      "outputs": [
        {
          "output_type": "stream",
          "name": "stdout",
          "text": [
            "(32, 2115)\n",
            "(2115,)\n"
          ]
        }
      ]
    },
    {
      "cell_type": "markdown",
      "source": [
        "## Build and train model (sync preprocessing)"
      ],
      "metadata": {
        "id": "H7z57L4Qw8AN"
      }
    },
    {
      "cell_type": "code",
      "source": [
        "inputs = feature_space.get_inputs()\n",
        "encoded_features = feature_space.get_encoded_features()\n",
        "\n",
        "outputs = layers.Dense(1, activation=\"sigmoid\")(encoded_features)\n",
        "\n",
        "model = keras.Model(inputs, outputs)\n",
        "\n",
        "model.compile(optimizer=\"adam\", loss=\"binary_crossentropy\")\n",
        "preds = model.fit(train_ds.batch(32), epochs=10)\n",
        "\n",
        "preds = model.predict(val_ds.batch(32))"
      ],
      "metadata": {
        "colab": {
          "base_uri": "https://localhost:8080/"
        },
        "id": "UEQciuimsUfy",
        "outputId": "e0d2aba7-3692-41ed-ca5b-993304025c42"
      },
      "execution_count": null,
      "outputs": [
        {
          "output_type": "stream",
          "name": "stdout",
          "text": [
            "Epoch 1/10\n",
            "8/8 [==============================] - 1s 4ms/step - loss: 0.6720\n",
            "Epoch 2/10\n",
            "8/8 [==============================] - 0s 4ms/step - loss: 0.6503\n",
            "Epoch 3/10\n",
            "8/8 [==============================] - 0s 3ms/step - loss: 0.6301\n",
            "Epoch 4/10\n",
            "8/8 [==============================] - 0s 4ms/step - loss: 0.6119\n",
            "Epoch 5/10\n",
            "8/8 [==============================] - 0s 3ms/step - loss: 0.5959\n",
            "Epoch 6/10\n",
            "8/8 [==============================] - 0s 4ms/step - loss: 0.5798\n",
            "Epoch 7/10\n",
            "8/8 [==============================] - 0s 4ms/step - loss: 0.5660\n",
            "Epoch 8/10\n",
            "8/8 [==============================] - 0s 3ms/step - loss: 0.5533\n",
            "Epoch 9/10\n",
            "8/8 [==============================] - 0s 3ms/step - loss: 0.5412\n",
            "Epoch 10/10\n",
            "8/8 [==============================] - 0s 4ms/step - loss: 0.5299\n",
            "2/2 [==============================] - 0s 9ms/step\n"
          ]
        }
      ]
    },
    {
      "cell_type": "markdown",
      "source": [
        "## Build and train model (async preprocessing in tf.data)"
      ],
      "metadata": {
        "id": "uK4soB-ZxUag"
      }
    },
    {
      "cell_type": "code",
      "source": [
        "inputs = feature_space.get_inputs()\n",
        "encoded_features = feature_space.get_encoded_features()\n",
        "\n",
        "outputs = layers.Dense(1, activation=\"sigmoid\")(encoded_features)\n",
        "\n",
        "training_model = keras.Model(encoded_features, outputs)\n",
        "training_model.compile(optimizer=\"adam\", loss=\"binary_crossentropy\")\n",
        "inference_model = keras.Model(inputs, outputs)\n",
        "\n",
        "preprocessed_train_ds = train_ds.map(lambda x, y: (feature_space(x), y))\n",
        "training_model.fit(preprocessed_train_ds.batch(32), epochs=2)\n",
        "\n",
        "preds = inference_model.predict(val_ds.batch(32))"
      ],
      "metadata": {
        "colab": {
          "base_uri": "https://localhost:8080/"
        },
        "outputId": "1c6a30ee-bc74-4381-8ce7-a167958e555f",
        "id": "UeKgjccxxPv8"
      },
      "execution_count": null,
      "outputs": [
        {
          "output_type": "stream",
          "name": "stdout",
          "text": [
            "<MapDataset element_spec=(TensorSpec(shape=(131,), dtype=tf.float32, name=None), TensorSpec(shape=(), dtype=tf.int64, name=None))>\n",
            "Epoch 1/2\n",
            "8/8 [==============================] - 0s 10ms/step - loss: 0.9047\n",
            "Epoch 2/2\n",
            "8/8 [==============================] - 0s 10ms/step - loss: 0.8710\n",
            "2/2 [==============================] - 0s 6ms/step\n"
          ]
        }
      ]
    },
    {
      "cell_type": "markdown",
      "source": [
        "## Demo of `output_mode=None` (return dict of encoded features)"
      ],
      "metadata": {
        "id": "O1FQ4mWCw_5i"
      }
    },
    {
      "cell_type": "code",
      "source": [
        "feature_space = FeatureSpace(\n",
        "    features={\n",
        "        # Categorical features encoded as integers\n",
        "        \"sex\": \"integer_categorical\",\n",
        "        \"cp\": \"integer_categorical\",\n",
        "        \"fbs\": \"integer_categorical\",\n",
        "        \"restecg\": \"integer_categorical\",\n",
        "        \"exang\": \"integer_categorical\",\n",
        "        \"ca\": \"integer_categorical\",\n",
        "\n",
        "        # Categorical feature encoded as string\n",
        "        \"thal\": \"string_categorical\",\n",
        "\n",
        "        # Numerical features to discretize\n",
        "        \"age\": \"float_discretized\",\n",
        "\n",
        "        # Numerical features to normalize\n",
        "        \"trestbps\": \"float_normalized\",\n",
        "        \"chol\": \"float_normalized\",\n",
        "        \"thalach\": \"float_normalized\",\n",
        "        \"oldpeak\": \"float_normalized\",\n",
        "\n",
        "        # Numerical features to keep unchanged\n",
        "        \"slope\": \"float\",\n",
        "    },\n",
        "    crosses=[(\"sex\", \"age\"), (\"thal\", \"ca\")],  # Only allow Xs of cat (int) outputs\n",
        "    crossing_dim=1024,\n",
        "    output_mode=None,\n",
        ")"
      ],
      "metadata": {
        "id": "ytUje2SNsUkw"
      },
      "execution_count": null,
      "outputs": []
    },
    {
      "cell_type": "code",
      "source": [
        "feature_space.adapt(train_ds_no_labels)"
      ],
      "metadata": {
        "colab": {
          "base_uri": "https://localhost:8080/"
        },
        "id": "GzR8QJkHsUnO",
        "outputId": "affdd642-d8e9-49a8-974a-e32ad3fdf28b"
      },
      "execution_count": null,
      "outputs": [
        {
          "output_type": "stream",
          "name": "stdout",
          "text": [
            "...Adapt sex\n",
            "...Adapt cp\n",
            "...Adapt fbs\n",
            "...Adapt restecg\n",
            "...Adapt exang\n",
            "...Adapt ca\n",
            "...Adapt thal\n",
            "...Adapt age\n",
            "...Adapt trestbps\n",
            "...Adapt chol\n",
            "...Adapt thalach\n",
            "...Adapt oldpeak\n"
          ]
        }
      ]
    },
    {
      "cell_type": "code",
      "source": [
        "feature_space.get_encoded_features()"
      ],
      "metadata": {
        "colab": {
          "base_uri": "https://localhost:8080/"
        },
        "id": "T18xUKxXsUpz",
        "outputId": "03608404-c12c-48ff-f62f-db4aee77da70"
      },
      "execution_count": null,
      "outputs": [
        {
          "output_type": "execute_result",
          "data": {
            "text/plain": [
              "{'sex': <KerasTensor: shape=(None, 1) dtype=int64 (created by layer 'sex_preprocessor')>,\n",
              " 'cp': <KerasTensor: shape=(None, 1) dtype=int64 (created by layer 'cp_preprocessor')>,\n",
              " 'fbs': <KerasTensor: shape=(None, 1) dtype=int64 (created by layer 'fbs_preprocessor')>,\n",
              " 'restecg': <KerasTensor: shape=(None, 1) dtype=int64 (created by layer 'restecg_preprocessor')>,\n",
              " 'exang': <KerasTensor: shape=(None, 1) dtype=int64 (created by layer 'exang_preprocessor')>,\n",
              " 'ca': <KerasTensor: shape=(None, 1) dtype=int64 (created by layer 'ca_preprocessor')>,\n",
              " 'thal': <KerasTensor: shape=(None, 1) dtype=int64 (created by layer 'thal_preprocessor')>,\n",
              " 'age': <KerasTensor: shape=(None, 1) dtype=int64 (created by layer 'age_preprocessor')>,\n",
              " 'trestbps': <KerasTensor: shape=(None, 1) dtype=float32 (created by layer 'trestbps_preprocessor')>,\n",
              " 'chol': <KerasTensor: shape=(None, 1) dtype=float32 (created by layer 'chol_preprocessor')>,\n",
              " 'thalach': <KerasTensor: shape=(None, 1) dtype=float32 (created by layer 'thalach_preprocessor')>,\n",
              " 'oldpeak': <KerasTensor: shape=(None, 1) dtype=float32 (created by layer 'oldpeak_preprocessor')>,\n",
              " 'slope': <KerasTensor: shape=(None, 1) dtype=float32 (created by layer 'tf.cast_28')>,\n",
              " 'sex_X_age': <KerasTensor: shape=(None, 1) dtype=int64 (created by layer 'sex_X_age')>,\n",
              " 'thal_X_ca': <KerasTensor: shape=(None, 1) dtype=int64 (created by layer 'thal_X_ca')>}"
            ]
          },
          "metadata": {},
          "execution_count": 297
        }
      ]
    },
    {
      "cell_type": "code",
      "source": [
        "# BATCHED CALL\n",
        "for x in train_ds_no_labels.batch(32).take(1):\n",
        "  pass\n",
        "y = feature_space(x)\n",
        "print(y[\"trestbps\"].shape)\n",
        "\n",
        "# UNBATCHED CALL\n",
        "for x in train_ds_no_labels.take(1):\n",
        "  pass\n",
        "y = feature_space(x)\n",
        "print(y[\"trestbps\"].shape)"
      ],
      "metadata": {
        "colab": {
          "base_uri": "https://localhost:8080/"
        },
        "id": "aNbMP8d2sUsv",
        "outputId": "ce81ec2b-3008-491d-91db-e3649d548d1c"
      },
      "execution_count": null,
      "outputs": [
        {
          "output_type": "stream",
          "name": "stdout",
          "text": [
            "(32, 1)\n",
            "(1,)\n"
          ]
        }
      ]
    },
    {
      "cell_type": "markdown",
      "source": [
        "## Demo of lower-level usage mode: configure each feature\n"
      ],
      "metadata": {
        "id": "vkZArPhdxDh8"
      }
    },
    {
      "cell_type": "markdown",
      "source": [
        "Lower-level variant also possible in case you need further configuration of each encoding step:"
      ],
      "metadata": {
        "id": "_KfAqvdqFl-p"
      }
    },
    {
      "cell_type": "code",
      "source": [
        "feature_space = FeatureSpace(\n",
        "    features={\n",
        "        # Categorical features encoded as integers\n",
        "        \"sex\": FeatureSpace.integer_categorical(),\n",
        "        \"cp\": FeatureSpace.integer_categorical(),\n",
        "        \"fbs\": FeatureSpace.integer_categorical(),\n",
        "        \"restecg\": FeatureSpace.integer_categorical(),\n",
        "        \"exang\": FeatureSpace.integer_categorical(),\n",
        "        \"ca\": FeatureSpace.integer_categorical(),\n",
        "\n",
        "        # Categorical feature encoded as string\n",
        "        \"thal\": FeatureSpace.string_categorical(max_tokens=10),\n",
        "\n",
        "        # Numerical features to discretize\n",
        "        \"age\": FeatureSpace.float_discretized(num_bins=32),\n",
        "\n",
        "        # Numerical features to normalize\n",
        "        \"trestbps\": FeatureSpace.float_normalized(),\n",
        "        \"chol\": FeatureSpace.float_normalized(),\n",
        "        \"thalach\": FeatureSpace.float_normalized(),\n",
        "        \"oldpeak\": FeatureSpace.float_normalized(),\n",
        "\n",
        "        # Numerical features to keep unchanged\n",
        "        \"slope\": FeatureSpace.float(),\n",
        "    },\n",
        "    crosses=[FeatureSpace.cross((\"sex\", \"age\"), crossing_dim=32), FeatureSpace.cross((\"thal\", \"ca\"), crossing_dim=32)],\n",
        "    output_mode=\"concat\",  # one_hot_concat, None\n",
        ")"
      ],
      "metadata": {
        "id": "4vUblUMtFk4y"
      },
      "execution_count": null,
      "outputs": []
    },
    {
      "cell_type": "code",
      "source": [
        "feature_space.adapt(train_ds_no_labels)"
      ],
      "metadata": {
        "colab": {
          "base_uri": "https://localhost:8080/"
        },
        "id": "cBj-49VLGdB0",
        "outputId": "3fa74415-1218-4ab6-e680-9e5e619503a1"
      },
      "execution_count": null,
      "outputs": [
        {
          "output_type": "stream",
          "name": "stdout",
          "text": [
            "...Adapt sex\n",
            "...Adapt cp\n",
            "...Adapt fbs\n",
            "...Adapt restecg\n",
            "...Adapt exang\n",
            "...Adapt ca\n",
            "...Adapt thal\n",
            "...Adapt age\n",
            "...Adapt trestbps\n",
            "...Adapt chol\n",
            "...Adapt thalach\n",
            "...Adapt oldpeak\n"
          ]
        }
      ]
    },
    {
      "cell_type": "code",
      "source": [
        "feature_space.get_inputs()"
      ],
      "metadata": {
        "colab": {
          "base_uri": "https://localhost:8080/"
        },
        "id": "nekfZ69A9Wxm",
        "outputId": "c32216c8-2c63-4421-9ed6-dccbf80e3e65"
      },
      "execution_count": null,
      "outputs": [
        {
          "output_type": "execute_result",
          "data": {
            "text/plain": [
              "{'sex': <KerasTensor: shape=(None, 1) dtype=int64 (created by layer 'sex')>,\n",
              " 'cp': <KerasTensor: shape=(None, 1) dtype=int64 (created by layer 'cp')>,\n",
              " 'fbs': <KerasTensor: shape=(None, 1) dtype=int64 (created by layer 'fbs')>,\n",
              " 'restecg': <KerasTensor: shape=(None, 1) dtype=int64 (created by layer 'restecg')>,\n",
              " 'exang': <KerasTensor: shape=(None, 1) dtype=int64 (created by layer 'exang')>,\n",
              " 'ca': <KerasTensor: shape=(None, 1) dtype=int64 (created by layer 'ca')>,\n",
              " 'thal': <KerasTensor: shape=(None, 1) dtype=string (created by layer 'thal')>,\n",
              " 'age': <KerasTensor: shape=(None, 1) dtype=float32 (created by layer 'age')>,\n",
              " 'trestbps': <KerasTensor: shape=(None, 1) dtype=float32 (created by layer 'trestbps')>,\n",
              " 'chol': <KerasTensor: shape=(None, 1) dtype=float32 (created by layer 'chol')>,\n",
              " 'thalach': <KerasTensor: shape=(None, 1) dtype=float32 (created by layer 'thalach')>,\n",
              " 'oldpeak': <KerasTensor: shape=(None, 1) dtype=float32 (created by layer 'oldpeak')>,\n",
              " 'slope': <KerasTensor: shape=(None, 1) dtype=float32 (created by layer 'slope')>}"
            ]
          },
          "metadata": {},
          "execution_count": 301
        }
      ]
    },
    {
      "cell_type": "code",
      "source": [
        "feature_space.get_encoded_features()"
      ],
      "metadata": {
        "colab": {
          "base_uri": "https://localhost:8080/"
        },
        "id": "SQWYcCHF88CO",
        "outputId": "4c448be7-223d-43c9-878b-dff6cedab2de"
      },
      "execution_count": null,
      "outputs": [
        {
          "output_type": "execute_result",
          "data": {
            "text/plain": [
              "<KerasTensor: shape=(None, 131) dtype=float32 (created by layer 'concatenate_25')>"
            ]
          },
          "metadata": {},
          "execution_count": 302
        }
      ]
    }
  ]
}