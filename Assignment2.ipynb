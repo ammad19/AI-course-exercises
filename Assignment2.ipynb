{
  "nbformat": 4,
  "nbformat_minor": 0,
  "metadata": {
    "colab": {
      "name": "Assignment2.ipynb",
      "provenance": [],
      "collapsed_sections": [],
      "authorship_tag": "ABX9TyO1BpzgVCulyBgXOeMmkK8t",
      "include_colab_link": true
    },
    "kernelspec": {
      "name": "python3",
      "display_name": "Python 3"
    }
  },
  "cells": [
    {
      "cell_type": "markdown",
      "metadata": {
        "id": "view-in-github",
        "colab_type": "text"
      },
      "source": [
        "<a href=\"https://colab.research.google.com/github/ammad19/AI-course-exercises/blob/master/Assignment2.ipynb\" target=\"_parent\"><img src=\"https://colab.research.google.com/assets/colab-badge.svg\" alt=\"Open In Colab\"/></a>"
      ]
    },
    {
      "cell_type": "code",
      "metadata": {
        "id": "iZrkiGpQpRia"
      },
      "source": [
        " #Convert a 1D array to a 2D array with 2 rows?"
      ],
      "execution_count": 2,
      "outputs": []
    },
    {
      "cell_type": "code",
      "metadata": {
        "colab": {
          "base_uri": "https://localhost:8080/"
        },
        "id": "bGEcP12ppiZP",
        "outputId": "a0e44fe3-5e0f-436d-b398-da029c30377b"
      },
      "source": [
        " import numpy as np\n",
        "arr1 = np.arange(0,9).reshape(3,3)\n",
        "arr1"
      ],
      "execution_count": 3,
      "outputs": [
        {
          "output_type": "execute_result",
          "data": {
            "text/plain": [
              "array([[0, 1, 2],\n",
              "       [3, 4, 5],\n",
              "       [6, 7, 8]])"
            ]
          },
          "metadata": {
            "tags": []
          },
          "execution_count": 3
        }
      ]
    },
    {
      "cell_type": "code",
      "metadata": {
        "colab": {
          "base_uri": "https://localhost:8080/"
        },
        "id": "XgQcst05qAT1",
        "outputId": "4bd55d32-88ac-4550-d0de-6f3d7406eaee"
      },
      "source": [
        " #How to stack two arrays vertically?\n",
        "arr1 = np.array([[0,1,2,3,4],[5,6,7,8,9]])\n",
        "arr2 = np.ones((2,5))\n",
        "arr1\n",
        "arr2\n",
        "arr3 = np.vstack((arr1,arr2))\n",
        "arr3 = arr3.astype('int')\n",
        "arr3"
      ],
      "execution_count": 4,
      "outputs": [
        {
          "output_type": "execute_result",
          "data": {
            "text/plain": [
              "array([[0, 1, 2, 3, 4],\n",
              "       [5, 6, 7, 8, 9],\n",
              "       [1, 1, 1, 1, 1],\n",
              "       [1, 1, 1, 1, 1]])"
            ]
          },
          "metadata": {
            "tags": []
          },
          "execution_count": 4
        }
      ]
    },
    {
      "cell_type": "code",
      "metadata": {
        "colab": {
          "base_uri": "https://localhost:8080/"
        },
        "id": "XvLlHaUbrY6A",
        "outputId": "84354c04-40f5-4bf8-f681-6f5fb1481ae6"
      },
      "source": [
        " #How to stack two arrays horizontally?\n",
        "arr4 = np.hstack((arr1,arr2))\n",
        "arr4 = arr4.astype('int')\n",
        "arr4"
      ],
      "execution_count": 5,
      "outputs": [
        {
          "output_type": "execute_result",
          "data": {
            "text/plain": [
              "array([[0, 1, 2, 3, 4, 1, 1, 1, 1, 1],\n",
              "       [5, 6, 7, 8, 9, 1, 1, 1, 1, 1]])"
            ]
          },
          "metadata": {
            "tags": []
          },
          "execution_count": 5
        }
      ]
    },
    {
      "cell_type": "code",
      "metadata": {
        "colab": {
          "base_uri": "https://localhost:8080/"
        },
        "id": "CDpRcdtZr-g2",
        "outputId": "fe1249f5-3a84-4c77-8f41-133e3f0fa589"
      },
      "source": [
        " #How to convert an array of arrays into a flat 1d array?\n",
        "arr1 = np.array([[0,1,2,3,4],[5,6,7,8,9]])\n",
        "arr1\n",
        "arr1 = np.ravel(arr1)\n",
        "arr1"
      ],
      "execution_count": 6,
      "outputs": [
        {
          "output_type": "execute_result",
          "data": {
            "text/plain": [
              "array([0, 1, 2, 3, 4, 5, 6, 7, 8, 9])"
            ]
          },
          "metadata": {
            "tags": []
          },
          "execution_count": 6
        }
      ]
    },
    {
      "cell_type": "code",
      "metadata": {
        "colab": {
          "base_uri": "https://localhost:8080/"
        },
        "id": "ZWE_7dM2bJMc",
        "outputId": "b12494f5-7232-471d-f803-f69bc8a3a6c4"
      },
      "source": [
        " #How to Convert higher dimension into one dimension?\n",
        "arr2 = np.array([[ 0, 1, 2],\n",
        "[ 3, 4, 5],\n",
        "[ 6, 7, 8],\n",
        "[ 9, 10, 11],\n",
        "[12, 13, 14]])\n",
        "arr2\n",
        "arr2 = np.ravel(arr1)\n",
        "arr2"
      ],
      "execution_count": 8,
      "outputs": [
        {
          "output_type": "execute_result",
          "data": {
            "text/plain": [
              "array([0, 1, 2, 3, 4, 5, 6, 7, 8, 9])"
            ]
          },
          "metadata": {
            "tags": []
          },
          "execution_count": 8
        }
      ]
    },
    {
      "cell_type": "code",
      "metadata": {
        "colab": {
          "base_uri": "https://localhost:8080/"
        },
        "id": "DveVR3RJcBtL",
        "outputId": "dbd244e7-8538-4fce-c19b-bbc8f6c69e5c"
      },
      "source": [
        " #Convert one dimension to higher dimension?\n",
        "arr3 = np.array([ 0, 1, 2, 3, 4, 5, 6, 7, 8, 9, 10, 11, 12, 13, 14])\n",
        "arr3\n",
        "arr3 = arr3.reshape(5,3)\n",
        "arr3"
      ],
      "execution_count": 10,
      "outputs": [
        {
          "output_type": "execute_result",
          "data": {
            "text/plain": [
              "array([[ 0,  1,  2],\n",
              "       [ 3,  4,  5],\n",
              "       [ 6,  7,  8],\n",
              "       [ 9, 10, 11],\n",
              "       [12, 13, 14]])"
            ]
          },
          "metadata": {
            "tags": []
          },
          "execution_count": 10
        }
      ]
    },
    {
      "cell_type": "code",
      "metadata": {
        "colab": {
          "base_uri": "https://localhost:8080/"
        },
        "id": "4QVvd6w5chh9",
        "outputId": "bd1aeaa9-4daf-48cf-f69b-cc90f778883d"
      },
      "source": [
        " #Create 5x5 an array and find the square of an array?\n",
        "arr4 = np.random.randint(1,25, size = (5,5))\n",
        "arr4\n",
        "arr4 = np.square(arr4)\n",
        "arr4"
      ],
      "execution_count": 12,
      "outputs": [
        {
          "output_type": "execute_result",
          "data": {
            "text/plain": [
              "array([[ 49,  25, 441,   4, 324],\n",
              "       [  9,  16, 196,   4,  36],\n",
              "       [289, 576, 289, 196,  36],\n",
              "       [529,  81,  36, 100, 484],\n",
              "       [289,   9, 144,   9, 169]])"
            ]
          },
          "metadata": {
            "tags": []
          },
          "execution_count": 12
        }
      ]
    },
    {
      "cell_type": "code",
      "metadata": {
        "colab": {
          "base_uri": "https://localhost:8080/"
        },
        "id": "ueoHiNFjdLl6",
        "outputId": "57baa1b4-5f00-4ec5-d6eb-c37d89440c7f"
      },
      "source": [
        " \n",
        "#Create 5x6 an array and find the mean?\n",
        "arr5 = np.random.randint(1,20, size = (5,6))\n",
        "result = arr5.mean()\n",
        "arr5\n",
        "result\n",
        "#standard deviation\n",
        "np.std(arr5)\n",
        "#median\n",
        "np.median(arr5)\n",
        "#transpose\n",
        "np.transpose(arr5)"
      ],
      "execution_count": 27,
      "outputs": [
        {
          "output_type": "execute_result",
          "data": {
            "text/plain": [
              "array([[17,  5, 19, 19, 17],\n",
              "       [15, 19, 14,  1,  1],\n",
              "       [ 2,  1,  6, 11,  9],\n",
              "       [ 2,  9,  9,  7, 14],\n",
              "       [ 1, 16,  5,  9,  2],\n",
              "       [18, 11,  1, 18, 18]])"
            ]
          },
          "metadata": {
            "tags": []
          },
          "execution_count": 27
        }
      ]
    },
    {
      "cell_type": "code",
      "metadata": {
        "colab": {
          "base_uri": "https://localhost:8080/"
        },
        "id": "5AnfaUHqe30_",
        "outputId": "d970e428-8a0f-4503-ebf1-6c35d76695a6"
      },
      "source": [
        " \n",
        "#Create a 4x4 an array and find the sum of diagonal elements?\n",
        "arr = np.random.randint(1,20, size = (4,4))\n",
        "arr\n",
        "np.trace(arr)\n",
        "#determinant\n",
        "np.linalg.det(arr)\n",
        "#5th & 95th percentile\n",
        "np.percentile(arr, 5)\n",
        "np.percentile(arr, 95)"
      ],
      "execution_count": 32,
      "outputs": [
        {
          "output_type": "execute_result",
          "data": {
            "text/plain": [
              "18.25"
            ]
          },
          "metadata": {
            "tags": []
          },
          "execution_count": 32
        }
      ]
    },
    {
      "cell_type": "code",
      "metadata": {
        "colab": {
          "base_uri": "https://localhost:8080/"
        },
        "id": "tijLp8qaf2n5",
        "outputId": "2fe0d716-4f9f-488f-e154-e9a210b9c88b"
      },
      "source": [
        "#if given array has null values?\n",
        "np.isnan(arr2).any()"
      ],
      "execution_count": 35,
      "outputs": [
        {
          "output_type": "execute_result",
          "data": {
            "text/plain": [
              "False"
            ]
          },
          "metadata": {
            "tags": []
          },
          "execution_count": 35
        }
      ]
    }
  ]
}