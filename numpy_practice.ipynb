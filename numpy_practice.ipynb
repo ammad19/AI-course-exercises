{
  "nbformat": 4,
  "nbformat_minor": 0,
  "metadata": {
    "colab": {
      "name": "numpy_practice.ipynb",
      "provenance": [],
      "collapsed_sections": [],
      "authorship_tag": "ABX9TyN0ckrL37jvy01zODD7phgW",
      "include_colab_link": true
    },
    "kernelspec": {
      "name": "python3",
      "display_name": "Python 3"
    }
  },
  "cells": [
    {
      "cell_type": "markdown",
      "metadata": {
        "id": "view-in-github",
        "colab_type": "text"
      },
      "source": [
        "<a href=\"https://colab.research.google.com/github/ammad19/AI-course-exercises/blob/master/numpy_practice.ipynb\" target=\"_parent\"><img src=\"https://colab.research.google.com/assets/colab-badge.svg\" alt=\"Open In Colab\"/></a>"
      ]
    },
    {
      "cell_type": "code",
      "metadata": {
        "colab": {
          "base_uri": "https://localhost:8080/"
        },
        "id": "0WQt6PZupibH",
        "outputId": "77b30252-a90c-4498-b764-6c91b9b096e1"
      },
      "source": [
        "#Write a NumPy program to get the numpy version and show numpy build configuration\r\n",
        "import numpy as np\r\n",
        "print(np.__version__)\r\n",
        "print(np.show_config())"
      ],
      "execution_count": null,
      "outputs": [
        {
          "output_type": "stream",
          "text": [
            "1.19.5\n",
            "blas_mkl_info:\n",
            "  NOT AVAILABLE\n",
            "blis_info:\n",
            "  NOT AVAILABLE\n",
            "openblas_info:\n",
            "    libraries = ['openblas', 'openblas']\n",
            "    library_dirs = ['/usr/local/lib']\n",
            "    language = c\n",
            "    define_macros = [('HAVE_CBLAS', None)]\n",
            "blas_opt_info:\n",
            "    libraries = ['openblas', 'openblas']\n",
            "    library_dirs = ['/usr/local/lib']\n",
            "    language = c\n",
            "    define_macros = [('HAVE_CBLAS', None)]\n",
            "lapack_mkl_info:\n",
            "  NOT AVAILABLE\n",
            "openblas_lapack_info:\n",
            "    libraries = ['openblas', 'openblas']\n",
            "    library_dirs = ['/usr/local/lib']\n",
            "    language = c\n",
            "    define_macros = [('HAVE_CBLAS', None)]\n",
            "lapack_opt_info:\n",
            "    libraries = ['openblas', 'openblas']\n",
            "    library_dirs = ['/usr/local/lib']\n",
            "    language = c\n",
            "    define_macros = [('HAVE_CBLAS', None)]\n",
            "None\n"
          ],
          "name": "stdout"
        }
      ]
    },
    {
      "cell_type": "code",
      "metadata": {
        "colab": {
          "base_uri": "https://localhost:8080/"
        },
        "id": "LoXLgoncqF-X",
        "outputId": "019327e2-5e54-42fc-8c9b-8ef46f7df2cb"
      },
      "source": [
        "#Write a NumPy program to  get help on the add function. \r\n",
        "print(np.info(np.add))"
      ],
      "execution_count": null,
      "outputs": [
        {
          "output_type": "stream",
          "text": [
            "None\n"
          ],
          "name": "stdout"
        }
      ]
    },
    {
      "cell_type": "code",
      "metadata": {
        "colab": {
          "base_uri": "https://localhost:8080/"
        },
        "id": "g1DCA1tRqme7",
        "outputId": "3d3ed0bb-faa1-4ced-a032-228b81f9f4a2"
      },
      "source": [
        "#Write a NumPy program to test whether none of the elements of a given array is zero.\r\n",
        "a = np.arange(0,11)\r\n",
        "print(a == 0)\r\n",
        "print(np.all(a))"
      ],
      "execution_count": null,
      "outputs": [
        {
          "output_type": "stream",
          "text": [
            "[ True False False False False False False False False False False]\n",
            "False\n"
          ],
          "name": "stdout"
        }
      ]
    },
    {
      "cell_type": "code",
      "metadata": {
        "colab": {
          "base_uri": "https://localhost:8080/"
        },
        "id": "T32wZ-Pat6Sm",
        "outputId": "87ecbe2c-95e5-48aa-f25b-2cad484a75cc"
      },
      "source": [
        "#Write a NumPy program to test whether any of the elements of a given array is non-zero.\r\n",
        "print(np.any(a))"
      ],
      "execution_count": null,
      "outputs": [
        {
          "output_type": "stream",
          "text": [
            "True\n"
          ],
          "name": "stdout"
        }
      ]
    },
    {
      "cell_type": "code",
      "metadata": {
        "colab": {
          "base_uri": "https://localhost:8080/"
        },
        "id": "SdzM0Hj1uuN5",
        "outputId": "892266e7-b237-470e-ae3d-1eed0e495c8e"
      },
      "source": [
        "#Write a NumPy program to test a given array element-wise for finiteness (not infinity or not a Number).\r\n",
        "import numpy as np\r\n",
        "a = np.array([1, 0, np.nan, np.inf])\r\n",
        "print(\"Original array\")\r\n",
        "print(a)\r\n",
        "print(\"Test a given array element-wise for finiteness :\")\r\n",
        "print(np.isfinite(a))"
      ],
      "execution_count": null,
      "outputs": [
        {
          "output_type": "stream",
          "text": [
            "Original array\n",
            "[ 1.  0. nan inf]\n",
            "Test a given array element-wise for finiteness :\n",
            "[ True  True False False]\n"
          ],
          "name": "stdout"
        }
      ]
    },
    {
      "cell_type": "code",
      "metadata": {
        "colab": {
          "base_uri": "https://localhost:8080/"
        },
        "id": "ZlIzPbG-u4yn",
        "outputId": "b29b31d7-3dda-43b6-ffad-340bba0d6e87"
      },
      "source": [
        "#Write a NumPy program to test element-wise for positive or negative infinity.\r\n",
        "print(np.isinf(a))"
      ],
      "execution_count": null,
      "outputs": [
        {
          "output_type": "stream",
          "text": [
            "[False False False  True]\n"
          ],
          "name": "stdout"
        }
      ]
    },
    {
      "cell_type": "code",
      "metadata": {
        "colab": {
          "base_uri": "https://localhost:8080/"
        },
        "id": "uam7v_7mvHi8",
        "outputId": "94626505-2728-401d-ec72-28284032dd71"
      },
      "source": [
        "#Write a NumPy program to test element-wise for NaN of a given array\r\n",
        "print(np.isnan(a))"
      ],
      "execution_count": null,
      "outputs": [
        {
          "output_type": "stream",
          "text": [
            "[False False  True False]\n"
          ],
          "name": "stdout"
        }
      ]
    },
    {
      "cell_type": "code",
      "metadata": {
        "colab": {
          "base_uri": "https://localhost:8080/"
        },
        "id": "XfZz1E1svXKi",
        "outputId": "ccc5f075-9a0b-4df3-bcef-1da6cd0f7ed7"
      },
      "source": [
        "#Write a NumPy program to test element-wise for complex number, real number of a given array. Also test whether a given number is a scalar type or not.\r\n",
        "a = np.array([1+1j, 1+0j, 4.5, 3, 2, 2j])\r\n",
        "print(\"Original array\")\r\n",
        "print(a)\r\n",
        "print(\"Checking for complex number:\")\r\n",
        "print(np.iscomplex(a))\r\n",
        "print(\"Checking for real number:\")\r\n",
        "print(np.isreal(a))\r\n",
        "print(\"Checking for scalar type:\")\r\n",
        "print(np.isscalar(3.1))\r\n",
        "print(np.isscalar([3.1]))"
      ],
      "execution_count": null,
      "outputs": [
        {
          "output_type": "stream",
          "text": [
            "Original array\n",
            "[1. +1.j 1. +0.j 4.5+0.j 3. +0.j 2. +0.j 0. +2.j]\n",
            "Checking for complex number:\n",
            "[ True False False False False  True]\n",
            "Checking for real number:\n",
            "[False  True  True  True  True False]\n",
            "Checking for scalar type:\n",
            "True\n",
            "False\n"
          ],
          "name": "stdout"
        }
      ]
    },
    {
      "cell_type": "code",
      "metadata": {
        "colab": {
          "base_uri": "https://localhost:8080/"
        },
        "id": "YUCRYSEPv7LF",
        "outputId": "132165c6-e978-46fd-988b-0e96f773934b"
      },
      "source": [
        "#Write a NumPy program to create an element-wise comparison (greater, greater_equal, less and less_equal) of two given arrays\r\n",
        "import numpy as np\r\n",
        "x = np.array([3, 5])\r\n",
        "y = np.array([2, 5])\r\n",
        "print(\"Original numbers:\")\r\n",
        "print(x)\r\n",
        "print(y)\r\n",
        "print(\"Comparison - greater\")\r\n",
        "print(np.greater(x, y))\r\n",
        "print(\"Comparison - greater_equal\")\r\n",
        "print(np.greater_equal(x, y))\r\n",
        "print(\"Comparison - less\")\r\n",
        "print(np.less(x, y))\r\n",
        "print(\"Comparison - less_equal\")\r\n",
        "print(np.less_equal(x, y))\r\n"
      ],
      "execution_count": null,
      "outputs": [
        {
          "output_type": "stream",
          "text": [
            "Original numbers:\n",
            "[3 5]\n",
            "[2 5]\n",
            "Comparison - greater\n",
            "[ True False]\n",
            "Comparison - greater_equal\n",
            "[ True  True]\n",
            "Comparison - less\n",
            "[False False]\n",
            "Comparison - less_equal\n",
            "[False  True]\n"
          ],
          "name": "stdout"
        }
      ]
    },
    {
      "cell_type": "code",
      "metadata": {
        "colab": {
          "base_uri": "https://localhost:8080/"
        },
        "id": "hoNZnBviwszS",
        "outputId": "b60ebdb5-f03c-49b5-ee68-3ae9b92aac9f"
      },
      "source": [
        "#Write a NumPy program to create an element-wise comparison (equal, equal within a tolerance) of two given arrays.\r\n",
        "x = np.array([72, 79, 85, 90, 150, -135, 120, -10, 60, 100])\r\n",
        "y = np.array([72, 79, 85, 90, 150, -135, 120, -10, 60, 100.000001])\r\n",
        "print(\"Comparison - equal:\")\r\n",
        "print(np.equal(x, y))\r\n",
        "print(\"Comparison - equal within a tolerance:\")\r\n",
        "print(np.allclose(x, y))"
      ],
      "execution_count": null,
      "outputs": [
        {
          "output_type": "stream",
          "text": [
            "Comparison - equal:\n",
            "[ True  True  True  True  True  True  True  True  True False]\n",
            "Comparison - equal within a tolerance:\n",
            "True\n"
          ],
          "name": "stdout"
        }
      ]
    },
    {
      "cell_type": "code",
      "metadata": {
        "colab": {
          "base_uri": "https://localhost:8080/"
        },
        "id": "Ie9WwvMcw9zv",
        "outputId": "0db62da0-85ff-4d12-9892-00b0feb497ee"
      },
      "source": [
        "#Write a NumPy program to create an array with the values 1, 7, 13, 105 and determine the size of the memory occupied by the array.\r\n",
        "z = np.array([1,7,13,105],dtype=int)\r\n",
        "print(z.dtype)\r\n",
        "print(\"%d bytes\" % (z.size * z.itemsize))"
      ],
      "execution_count": null,
      "outputs": [
        {
          "output_type": "stream",
          "text": [
            "int64\n",
            "32 bytes\n"
          ],
          "name": "stdout"
        }
      ]
    },
    {
      "cell_type": "code",
      "metadata": {
        "colab": {
          "base_uri": "https://localhost:8080/"
        },
        "id": "E7Dd18g61asW",
        "outputId": "ade21c7b-7ad0-449b-de12-7f7575d397df"
      },
      "source": [
        "#Write a NumPy program to create an array of 10 zeros,10 ones, 10 fives\r\n",
        "array=np.zeros(10)\r\n",
        "print(array)\r\n",
        "array=np.ones(10)\r\n",
        "print(array)\r\n",
        "array=np.ones(10)*5\r\n",
        "print(array)"
      ],
      "execution_count": null,
      "outputs": [
        {
          "output_type": "stream",
          "text": [
            "[0. 0. 0. 0. 0. 0. 0. 0. 0. 0.]\n",
            "[1. 1. 1. 1. 1. 1. 1. 1. 1. 1.]\n",
            "[5. 5. 5. 5. 5. 5. 5. 5. 5. 5.]\n"
          ],
          "name": "stdout"
        }
      ]
    },
    {
      "cell_type": "code",
      "metadata": {
        "colab": {
          "base_uri": "https://localhost:8080/"
        },
        "id": "-LLqP6qn13IJ",
        "outputId": "f76eed45-97e4-4992-ac85-7d3b365ea9a0"
      },
      "source": [
        "#Write a NumPy program to create an array of the integers from 30 to70\r\n",
        "a = np.arange(30,71)\r\n",
        "print(a)"
      ],
      "execution_count": null,
      "outputs": [
        {
          "output_type": "stream",
          "text": [
            "[30 31 32 33 34 35 36 37 38 39 40 41 42 43 44 45 46 47 48 49 50 51 52 53\n",
            " 54 55 56 57 58 59 60 61 62 63 64 65 66 67 68 69 70]\n"
          ],
          "name": "stdout"
        }
      ]
    },
    {
      "cell_type": "code",
      "metadata": {
        "colab": {
          "base_uri": "https://localhost:8080/"
        },
        "id": "3tmzVqha2ICb",
        "outputId": "5df463e9-45da-4777-f7be-dcc36a4b4b6d"
      },
      "source": [
        "#Write a NumPy program to create an array of all the even integers from 30 to 70. \r\n",
        "a = np.arange(30,71,2)\r\n",
        "print(a)"
      ],
      "execution_count": null,
      "outputs": [
        {
          "output_type": "stream",
          "text": [
            "[30 32 34 36 38 40 42 44 46 48 50 52 54 56 58 60 62 64 66 68 70]\n"
          ],
          "name": "stdout"
        }
      ]
    },
    {
      "cell_type": "code",
      "metadata": {
        "colab": {
          "base_uri": "https://localhost:8080/"
        },
        "id": "DQzwqtg62Thu",
        "outputId": "1f70a340-a1ab-4259-b4fa-6873bac37829"
      },
      "source": [
        "#Write a NumPy program to create a 3x3 identity matrix\r\n",
        "array_2D=np.identity(3)\r\n",
        "print(array_2D)"
      ],
      "execution_count": null,
      "outputs": [
        {
          "output_type": "stream",
          "text": [
            "[[1. 0. 0.]\n",
            " [0. 1. 0.]\n",
            " [0. 0. 1.]]\n"
          ],
          "name": "stdout"
        }
      ]
    },
    {
      "cell_type": "code",
      "metadata": {
        "colab": {
          "base_uri": "https://localhost:8080/"
        },
        "id": "fXJwI2Ky2xCN",
        "outputId": "1c4b77ba-0657-42ef-c42d-6ea6478cfed7"
      },
      "source": [
        "#Write a NumPy program to generate a random number between 0 and 1\r\n",
        "a = np.random.normal(0,1,1)\r\n",
        "print(a)"
      ],
      "execution_count": null,
      "outputs": [
        {
          "output_type": "stream",
          "text": [
            "[1.81611115]\n"
          ],
          "name": "stdout"
        }
      ]
    },
    {
      "cell_type": "code",
      "metadata": {
        "colab": {
          "base_uri": "https://localhost:8080/"
        },
        "id": "14YBxPHD3k11",
        "outputId": "62ffea9b-2035-4a29-f109-3e35e55f7a4a"
      },
      "source": [
        "#Write a NumPy program to generate an array of 15 random numbers from a standard normal distribution.\r\n",
        "a = np.random.normal(0,1,15)\r\n",
        "print(a)"
      ],
      "execution_count": null,
      "outputs": [
        {
          "output_type": "stream",
          "text": [
            "[-0.07730638  0.18294003 -1.67125204  0.42214933  2.28948128  0.08043439\n",
            "  1.31964611 -0.53820414  0.79456408 -0.53336369  0.63082579 -0.43987304\n",
            "  1.3401129   0.77112544  1.70338713]\n"
          ],
          "name": "stdout"
        }
      ]
    },
    {
      "cell_type": "code",
      "metadata": {
        "colab": {
          "base_uri": "https://localhost:8080/"
        },
        "id": "gYjCo8SM4Kr9",
        "outputId": "2527ba36-0e11-4924-aa25-7283962874ad"
      },
      "source": [
        "#Write a NumPy program to create a vector with values ranging from 15 to 55 and print all values except the first and last\r\n",
        "a = np.arange(15,55,1)\r\n",
        "print(a[1:-1])"
      ],
      "execution_count": null,
      "outputs": [
        {
          "output_type": "stream",
          "text": [
            "[16 17 18 19 20 21 22 23 24 25 26 27 28 29 30 31 32 33 34 35 36 37 38 39\n",
            " 40 41 42 43 44 45 46 47 48 49 50 51 52 53]\n"
          ],
          "name": "stdout"
        }
      ]
    },
    {
      "cell_type": "code",
      "metadata": {
        "colab": {
          "base_uri": "https://localhost:8080/"
        },
        "id": "YYUs8FlE5e2U",
        "outputId": "33e8fbf4-7190-4197-f22a-7e2714b1b730"
      },
      "source": [
        "#Write a NumPy program to create a 3X4 array using and iterate over it\r\n",
        "a = np.arange(1,13).reshape(3,4)\r\n",
        "print(a)\r\n",
        "for x in np.nditer(a):\r\n",
        "  print(x,end=\" \")"
      ],
      "execution_count": null,
      "outputs": [
        {
          "output_type": "stream",
          "text": [
            "[[ 1  2  3  4]\n",
            " [ 5  6  7  8]\n",
            " [ 9 10 11 12]]\n",
            "1 2 3 4 5 6 7 8 9 10 11 12 "
          ],
          "name": "stdout"
        }
      ]
    },
    {
      "cell_type": "code",
      "metadata": {
        "colab": {
          "base_uri": "https://localhost:8080/"
        },
        "id": "F1zQxFia6wmR",
        "outputId": "6143a4a6-3c18-4de1-ef42-b239096ff813"
      },
      "source": [
        "#Write a NumPy program to create a vector of length 10 with values evenly distributed between 5 and 50.\r\n",
        "a = np.arange(5,55,5).reshape(5,2)\r\n",
        "print(a)"
      ],
      "execution_count": null,
      "outputs": [
        {
          "output_type": "stream",
          "text": [
            "[[ 5 10]\n",
            " [15 20]\n",
            " [25 30]\n",
            " [35 40]\n",
            " [45 50]]\n"
          ],
          "name": "stdout"
        }
      ]
    },
    {
      "cell_type": "code",
      "metadata": {
        "colab": {
          "base_uri": "https://localhost:8080/"
        },
        "id": "C4-nMBiaFmWj",
        "outputId": "310921f9-fc8b-461a-b9b1-2762dea78226"
      },
      "source": [
        "#Write a NumPy program to create a vector with values from 0 to 20 and change the sign of the numbers in the range from 9 to 15\r\n",
        "x = np.arange(0,20)\r\n",
        "print(x)\r\n",
        "x[(x>=9) & (x<=15)] *= -1\r\n",
        "print(x)"
      ],
      "execution_count": null,
      "outputs": [
        {
          "output_type": "stream",
          "text": [
            "[ 0  1  2  3  4  5  6  7  8  9 10 11 12 13 14 15 16 17 18 19]\n",
            "[  0   1   2   3   4   5   6   7   8  -9 -10 -11 -12 -13 -14 -15  16  17\n",
            "  18  19]\n"
          ],
          "name": "stdout"
        }
      ]
    },
    {
      "cell_type": "code",
      "metadata": {
        "colab": {
          "base_uri": "https://localhost:8080/"
        },
        "id": "2Vx6qb4GGaH2",
        "outputId": "e292ed3d-705b-469a-ecdf-62a806b5ded2"
      },
      "source": [
        "#Write a NumPy program to create a vector of length 5 filled with arbitrary integers from 0 to 10\r\n",
        "a = np.random.randint(0,10,5)\r\n",
        "print(a)"
      ],
      "execution_count": null,
      "outputs": [
        {
          "output_type": "stream",
          "text": [
            "[0 9 1 4 7]\n"
          ],
          "name": "stdout"
        }
      ]
    },
    {
      "cell_type": "code",
      "metadata": {
        "colab": {
          "base_uri": "https://localhost:8080/"
        },
        "id": "P4fAdkfoG35X",
        "outputId": "90e46275-b6de-469a-d871-9b394e74c885"
      },
      "source": [
        "#Write a NumPy program to multiply the values of two given vectors.\r\n",
        "a = np.array([1,2,3,4,5])\r\n",
        "b = np.array([2,2,2,2,2])\r\n",
        "print(a*b)"
      ],
      "execution_count": null,
      "outputs": [
        {
          "output_type": "stream",
          "text": [
            "[ 2  4  6  8 10]\n"
          ],
          "name": "stdout"
        }
      ]
    },
    {
      "cell_type": "code",
      "metadata": {
        "colab": {
          "base_uri": "https://localhost:8080/"
        },
        "id": "4lhDBGBeHYgP",
        "outputId": "53d3443f-3499-46a6-edc1-ca9ed3d593b5"
      },
      "source": [
        "#Write a NumPy program to create a 3x4 matrix filled with values from 10 to 21.\r\n",
        "x = np.arange(10,22).reshape(3,4)\r\n",
        "print(x)"
      ],
      "execution_count": null,
      "outputs": [
        {
          "output_type": "stream",
          "text": [
            "[[10 11 12 13]\n",
            " [14 15 16 17]\n",
            " [18 19 20 21]]\n"
          ],
          "name": "stdout"
        }
      ]
    },
    {
      "cell_type": "code",
      "metadata": {
        "colab": {
          "base_uri": "https://localhost:8080/"
        },
        "id": "hoYEg-LyH8z7",
        "outputId": "35ce3135-9adc-4d3b-83b9-cd4391184b27"
      },
      "source": [
        "#Write a NumPy program to find the number of rows and columns of a given matrix\r\n",
        "print(x.shape)"
      ],
      "execution_count": null,
      "outputs": [
        {
          "output_type": "stream",
          "text": [
            "(3, 4)\n"
          ],
          "name": "stdout"
        }
      ]
    },
    {
      "cell_type": "code",
      "metadata": {
        "colab": {
          "base_uri": "https://localhost:8080/"
        },
        "id": "F4O6gTNfIXLU",
        "outputId": "e0ecc76d-c46d-40f5-e3e3-b05c23d78cf6"
      },
      "source": [
        "#Write a NumPy program to create a 3x3 identity matrix, i.e. diagonal elements are 1, the rest are 0\r\n",
        "x = np.identity(3)\r\n",
        "print(x)\r\n",
        "y = np.eye(3)\r\n",
        "print(y)"
      ],
      "execution_count": null,
      "outputs": [
        {
          "output_type": "stream",
          "text": [
            "[[1. 0. 0.]\n",
            " [0. 1. 0.]\n",
            " [0. 0. 1.]]\n",
            "[[1. 0. 0.]\n",
            " [0. 1. 0.]\n",
            " [0. 0. 1.]]\n"
          ],
          "name": "stdout"
        }
      ]
    },
    {
      "cell_type": "code",
      "metadata": {
        "colab": {
          "base_uri": "https://localhost:8080/"
        },
        "id": "h1cRq6IkIrJm",
        "outputId": "d324830a-477f-498c-abcb-f28fe583e141"
      },
      "source": [
        "#Write a NumPy program to create a 10x10 matrix, in which the elements on the borders will be equal to 1, and inside 0\r\n",
        "x = np.ones((10,10))\r\n",
        "print(x)\r\n",
        "x[1:-1,1:-1] = 0\r\n",
        "print(x)\r\n"
      ],
      "execution_count": null,
      "outputs": [
        {
          "output_type": "stream",
          "text": [
            "[[1. 1. 1. 1. 1. 1. 1. 1. 1. 1.]\n",
            " [1. 1. 1. 1. 1. 1. 1. 1. 1. 1.]\n",
            " [1. 1. 1. 1. 1. 1. 1. 1. 1. 1.]\n",
            " [1. 1. 1. 1. 1. 1. 1. 1. 1. 1.]\n",
            " [1. 1. 1. 1. 1. 1. 1. 1. 1. 1.]\n",
            " [1. 1. 1. 1. 1. 1. 1. 1. 1. 1.]\n",
            " [1. 1. 1. 1. 1. 1. 1. 1. 1. 1.]\n",
            " [1. 1. 1. 1. 1. 1. 1. 1. 1. 1.]\n",
            " [1. 1. 1. 1. 1. 1. 1. 1. 1. 1.]\n",
            " [1. 1. 1. 1. 1. 1. 1. 1. 1. 1.]]\n",
            "[[1. 1. 1. 1. 1. 1. 1. 1. 1. 1.]\n",
            " [1. 0. 0. 0. 0. 0. 0. 0. 0. 1.]\n",
            " [1. 0. 0. 0. 0. 0. 0. 0. 0. 1.]\n",
            " [1. 0. 0. 0. 0. 0. 0. 0. 0. 1.]\n",
            " [1. 0. 0. 0. 0. 0. 0. 0. 0. 1.]\n",
            " [1. 0. 0. 0. 0. 0. 0. 0. 0. 1.]\n",
            " [1. 0. 0. 0. 0. 0. 0. 0. 0. 1.]\n",
            " [1. 0. 0. 0. 0. 0. 0. 0. 0. 1.]\n",
            " [1. 0. 0. 0. 0. 0. 0. 0. 0. 1.]\n",
            " [1. 1. 1. 1. 1. 1. 1. 1. 1. 1.]]\n"
          ],
          "name": "stdout"
        }
      ]
    },
    {
      "cell_type": "code",
      "metadata": {
        "colab": {
          "base_uri": "https://localhost:8080/"
        },
        "id": "iS8_nZxKK6Sb",
        "outputId": "e985706d-ac53-4e88-c443-7f022ea549e9"
      },
      "source": [
        "#Write a NumPy program to create a 5x5 zero matrix with elements on the main diagonal equal to 1, 2, 3, 4, 5\r\n",
        "x = np.diag((1,2,3,4,5))\r\n",
        "print(x)\r\n"
      ],
      "execution_count": null,
      "outputs": [
        {
          "output_type": "stream",
          "text": [
            "[[1 0 0 0 0]\n",
            " [0 2 0 0 0]\n",
            " [0 0 3 0 0]\n",
            " [0 0 0 4 0]\n",
            " [0 0 0 0 5]]\n"
          ],
          "name": "stdout"
        }
      ]
    },
    {
      "cell_type": "code",
      "metadata": {
        "colab": {
          "base_uri": "https://localhost:8080/"
        },
        "id": "XzSV0tbMMSip",
        "outputId": "f803cc76-497b-4650-d6e9-232dd4868c66"
      },
      "source": [
        "#Write a NumPy program to create a 4x4 matrix in which 0 and 1 are staggered, with zeros on the main diagonal.\r\n",
        "x = np.zeros((4,4))\r\n",
        "print(x)\r\n",
        "x[::2, 1::2] = 1\r\n",
        "x[1::2,::2] = 1\r\n",
        "print(x)"
      ],
      "execution_count": null,
      "outputs": [
        {
          "output_type": "stream",
          "text": [
            "[[0. 0. 0. 0.]\n",
            " [0. 0. 0. 0.]\n",
            " [0. 0. 0. 0.]\n",
            " [0. 0. 0. 0.]]\n",
            "[[0. 1. 0. 1.]\n",
            " [1. 0. 1. 0.]\n",
            " [0. 1. 0. 1.]\n",
            " [1. 0. 1. 0.]]\n"
          ],
          "name": "stdout"
        }
      ]
    },
    {
      "cell_type": "code",
      "metadata": {
        "id": "Bb7PFHq8Ojqq"
      },
      "source": [
        ""
      ],
      "execution_count": null,
      "outputs": []
    },
    {
      "cell_type": "code",
      "metadata": {
        "colab": {
          "base_uri": "https://localhost:8080/"
        },
        "id": "NjyzPe1ROUhA",
        "outputId": "2c4235de-665a-4136-dcb2-89a9243c9842"
      },
      "source": [
        "#Write a NumPy program to create a 3x3x3 array filled with arbitrary values.\r\n",
        "x = np.random.rand(3,3,3)\r\n",
        "print(x)\r\n",
        "y = np.random.random((3,3,3))\r\n",
        "print(y)"
      ],
      "execution_count": null,
      "outputs": [
        {
          "output_type": "stream",
          "text": [
            "[[[0.33954505 0.66053664 0.1439735 ]\n",
            "  [0.28564469 0.53972721 0.53421535]\n",
            "  [0.35577473 0.82696276 0.04324988]]\n",
            "\n",
            " [[0.08576273 0.03106708 0.7617135 ]\n",
            "  [0.60063891 0.30236169 0.72753128]\n",
            "  [0.14568359 0.42387068 0.21644159]]\n",
            "\n",
            " [[0.41947008 0.11572631 0.8127375 ]\n",
            "  [0.78932562 0.66739984 0.58302768]\n",
            "  [0.92760977 0.92827619 0.45579043]]]\n",
            "[[[0.5102311  0.62061897 0.6143829 ]\n",
            "  [0.88145901 0.80479088 0.61151354]\n",
            "  [0.19083307 0.85339846 0.19625458]]\n",
            "\n",
            " [[0.40448432 0.17556594 0.56557678]\n",
            "  [0.08008912 0.35156594 0.1440225 ]\n",
            "  [0.69040985 0.10640683 0.42973245]]\n",
            "\n",
            " [[0.69350126 0.54124463 0.51473324]\n",
            "  [0.92589399 0.6362335  0.7627362 ]\n",
            "  [0.40028102 0.14792144 0.03431282]]]\n"
          ],
          "name": "stdout"
        }
      ]
    },
    {
      "cell_type": "code",
      "metadata": {
        "colab": {
          "base_uri": "https://localhost:8080/"
        },
        "id": "udnK0sB2QaRO",
        "outputId": "f9df805c-ca36-4387-82c9-975297065d25"
      },
      "source": [
        "#Write a NumPy program to compute sum of all elements, sum of each column and sum of each row of a given array.\r\n",
        "x = np.arange(10,22).reshape(3,4)\r\n",
        "print(x)\r\n",
        "print(np.sum(x))\r\n",
        "print(np.sum(x, axis = 0))\r\n",
        "print(np.sum(x, axis = 1))"
      ],
      "execution_count": null,
      "outputs": [
        {
          "output_type": "stream",
          "text": [
            "[[10 11 12 13]\n",
            " [14 15 16 17]\n",
            " [18 19 20 21]]\n",
            "186\n",
            "[42 45 48 51]\n",
            "[46 62 78]\n"
          ],
          "name": "stdout"
        }
      ]
    },
    {
      "cell_type": "code",
      "metadata": {
        "colab": {
          "base_uri": "https://localhost:8080/"
        },
        "id": "dhnKEzKUqEgD",
        "outputId": "812d051c-a419-47de-c6e4-ed9c2b5a57df"
      },
      "source": [
        "#Write a NumPy program to compute the inner product of two given vectors.\r\n",
        "x = np.array([[0,1],[2,3]])\r\n",
        "y = np.array([[4,5],[7,10]])\r\n",
        "print(x)\r\n",
        "print(y)\r\n",
        "print(np.dot(x,y))"
      ],
      "execution_count": null,
      "outputs": [
        {
          "output_type": "stream",
          "text": [
            "[[0 1]\n",
            " [2 3]]\n",
            "[[ 4  5]\n",
            " [ 7 10]]\n",
            "[[ 7 10]\n",
            " [29 40]]\n"
          ],
          "name": "stdout"
        }
      ]
    },
    {
      "cell_type": "code",
      "metadata": {
        "id": "RzLm54bxrLR4"
      },
      "source": [
        "#34 Write a NumPy program to add a vector to each row of a given matrix\r\n",
        "x = np.array([[0,1],[2,3]])"
      ],
      "execution_count": null,
      "outputs": []
    },
    {
      "cell_type": "code",
      "metadata": {
        "id": "mmVedO2CY1Ny"
      },
      "source": [
        "#Write a NumPy program to save a given array to a binary file\r\n",
        "import numpy as np\r\n",
        "import os\r\n",
        "a = np.arange(10)\r\n",
        "np.save(\"temp.npv\",a)"
      ],
      "execution_count": null,
      "outputs": []
    },
    {
      "cell_type": "code",
      "metadata": {
        "id": "u3ueLdnbZXws"
      },
      "source": [
        "#Write a NumPy program to convert a given array into a list and then convert it into a list again\r\n",
        "a = [[1,2],[3,4]]\r\n",
        "x = np.array(a)\r\n",
        "a2 = x.tolist()"
      ],
      "execution_count": null,
      "outputs": []
    },
    {
      "cell_type": "code",
      "metadata": {
        "colab": {
          "base_uri": "https://localhost:8080/",
          "height": 282
        },
        "id": "RiGYoZ9YaTIj",
        "outputId": "cbc35678-20e0-4fa6-9f6d-cccfb123ab43"
      },
      "source": [
        "#Write a NumPy program to compute the x and y coordinates for points on a sine curve and plot the points using matplotlib.\r\n",
        "import numpy as np\r\n",
        "import matplotlib.pyplot as plt\r\n",
        "# Compute the x and y coordinates for points on a sine curve\r\n",
        "x = np.arange(0, 3 * np.pi, 0.2)\r\n",
        "y = np.sin(x)\r\n",
        "print(\"Plot the points using matplotlib:\")\r\n",
        "plt.plot(x, y)\r\n",
        "plt.show()"
      ],
      "execution_count": null,
      "outputs": [
        {
          "output_type": "stream",
          "text": [
            "Plot the points using matplotlib:\n"
          ],
          "name": "stdout"
        },
        {
          "output_type": "display_data",
          "data": {
            "image/png": "[encoded data removed]",
            "text/plain": [
              "<Figure size 432x288 with 1 Axes>"
            ]
          },
          "metadata": {
            "tags": [],
            "needs_background": "light"
          }
        }
      ]
    },
    {
      "cell_type": "markdown",
      "metadata": {
        "id": "jyAoQJWSa9Bl"
      },
      "source": [
        "NUMPY ARRAYS"
      ]
    },
    {
      "cell_type": "code",
      "metadata": {
        "colab": {
          "base_uri": "https://localhost:8080/"
        },
        "id": "sghsbQrja_ou",
        "outputId": "74e577e2-3eda-4606-96c7-c48fafa6c66e"
      },
      "source": [
        "#Write a NumPy program to create a null vector of size 10 and update sixth value to 11\r\n",
        "x = np.zeros(10)\r\n",
        "x[6] = 11\r\n",
        "print(x)"
      ],
      "execution_count": null,
      "outputs": [
        {
          "output_type": "stream",
          "text": [
            "[ 0.  0.  0.  0.  0.  0. 11.  0.  0.  0.]\n"
          ],
          "name": "stdout"
        }
      ]
    },
    {
      "cell_type": "code",
      "metadata": {
        "colab": {
          "base_uri": "https://localhost:8080/"
        },
        "id": "tJ_Neku6byNe",
        "outputId": "21aca550-c3a0-4af8-caa6-33f4c744d074"
      },
      "source": [
        "#Write a NumPy program to reverse an array (first element becomes last).\r\n",
        "x = np.arange(1,10)\r\n",
        "print(x)\r\n",
        "x[::] = x[::-1]\r\n",
        "print(x)"
      ],
      "execution_count": null,
      "outputs": [
        {
          "output_type": "stream",
          "text": [
            "[1 2 3 4 5 6 7 8 9]\n",
            "[9 8 7 6 5 4 3 2 1]\n"
          ],
          "name": "stdout"
        }
      ]
    },
    {
      "cell_type": "code",
      "metadata": {
        "colab": {
          "base_uri": "https://localhost:8080/"
        },
        "id": "Aj7Zr4NjeZYk",
        "outputId": "c7bda698-452a-4a15-b477-1d8359c65d02"
      },
      "source": [
        "#Write a NumPy program to convert an array to a float type.\r\n",
        "a = np.asfarray(x)\r\n",
        "print(a)"
      ],
      "execution_count": null,
      "outputs": [
        {
          "output_type": "stream",
          "text": [
            "[9. 8. 7. 6. 5. 4. 3. 2. 1.]\n"
          ],
          "name": "stdout"
        }
      ]
    },
    {
      "cell_type": "code",
      "metadata": {
        "colab": {
          "base_uri": "https://localhost:8080/"
        },
        "id": "13UH8z1e_Xw_",
        "outputId": "f195264f-5801-49fe-de83-a2be4c727d0a"
      },
      "source": [
        "#Write a NumPy program to create a 2d array with 1 on the border and 0 inside.\r\n",
        "import numpy as np\r\n",
        "a = np.ones((4,4))\r\n",
        "a[1:3,1:3]=0\r\n",
        "print(a)"
      ],
      "execution_count": null,
      "outputs": [
        {
          "output_type": "stream",
          "text": [
            "[[1. 1. 1. 1.]\n",
            " [1. 0. 0. 1.]\n",
            " [1. 0. 0. 1.]\n",
            " [1. 1. 1. 1.]]\n"
          ],
          "name": "stdout"
        }
      ]
    },
    {
      "cell_type": "code",
      "metadata": {
        "colab": {
          "base_uri": "https://localhost:8080/"
        },
        "id": "hEbU3dSnA_vJ",
        "outputId": "26c43c2e-c7d7-4dc7-e564-aa41e8a58626"
      },
      "source": [
        "#Write a NumPy program to add a border (filled with 0's) around an existing array\r\n",
        "x = np.arange(1,13).reshape(3,4)\r\n",
        "x = np.pad(x, pad_width=1, mode='constant', constant_values=0)\r\n",
        "print(x)\r\n"
      ],
      "execution_count": null,
      "outputs": [
        {
          "output_type": "stream",
          "text": [
            "[[ 0  0  0  0  0  0]\n",
            " [ 0  1  2  3  4  0]\n",
            " [ 0  5  6  7  8  0]\n",
            " [ 0  9 10 11 12  0]\n",
            " [ 0  0  0  0  0  0]]\n"
          ],
          "name": "stdout"
        }
      ]
    },
    {
      "cell_type": "code",
      "metadata": {
        "colab": {
          "base_uri": "https://localhost:8080/"
        },
        "id": "vQ5kSeUSFLvB",
        "outputId": "db61877d-eecb-4d5f-c1ec-ee84812ed66f"
      },
      "source": [
        "#Write a NumPy program to create a 8x8 matrix and fill it with a checkerboard pattern.\r\n",
        "x = np.zeros((8,8),dtype=int)\r\n",
        "x[1::2,::2] = 1\r\n",
        "x[::2,1::2] = 1\r\n",
        "print(x)"
      ],
      "execution_count": null,
      "outputs": [
        {
          "output_type": "stream",
          "text": [
            "[[0 1 0 1 0 1 0 1]\n",
            " [1 0 1 0 1 0 1 0]\n",
            " [0 1 0 1 0 1 0 1]\n",
            " [1 0 1 0 1 0 1 0]\n",
            " [0 1 0 1 0 1 0 1]\n",
            " [1 0 1 0 1 0 1 0]\n",
            " [0 1 0 1 0 1 0 1]\n",
            " [1 0 1 0 1 0 1 0]]\n"
          ],
          "name": "stdout"
        }
      ]
    },
    {
      "cell_type": "code",
      "metadata": {
        "colab": {
          "base_uri": "https://localhost:8080/"
        },
        "id": "oX7k4D5zGKHp",
        "outputId": "b8f9f7f9-0170-496e-a5c6-1da475f5f323"
      },
      "source": [
        "#Write a NumPy program to convert a list and tuple into arrays\r\n",
        "import numpy as np\r\n",
        "l = [1, 2, 3, 4, 5, 6]\r\n",
        "x = np.array(l)\r\n",
        "print(x)\r\n",
        "my_tuple = ([8, 4, 6], [1, 2, 3])\r\n",
        "print(np.asarray(my_tuple))"
      ],
      "execution_count": null,
      "outputs": [
        {
          "output_type": "stream",
          "text": [
            "[1 2 3 4 5 6]\n",
            "[[8 4 6]\n",
            " [1 2 3]]\n"
          ],
          "name": "stdout"
        }
      ]
    },
    {
      "cell_type": "code",
      "metadata": {
        "colab": {
          "base_uri": "https://localhost:8080/"
        },
        "id": "jmywttt2GLWd",
        "outputId": "513aa0c5-cbfd-414b-bd47-8b86273d033d"
      },
      "source": [
        "#12. Write a NumPy program to append values to the end of an array\r\n",
        "x = np.append(x, [40, 50, 60,70, 80, 90])\r\n",
        "print(x)"
      ],
      "execution_count": null,
      "outputs": [
        {
          "output_type": "stream",
          "text": [
            "[ 1  2  3  4  5  6 40 50 60 70 80 90]\n"
          ],
          "name": "stdout"
        }
      ]
    },
    {
      "cell_type": "code",
      "metadata": {
        "colab": {
          "base_uri": "https://localhost:8080/"
        },
        "id": "6_rfbrypHuJb",
        "outputId": "9cb3a2d3-da3a-46a2-dda4-2a3511c93e75"
      },
      "source": [
        "#Write a NumPy program to create an empty and a full array.\r\n",
        "x = np.empty([2,3])\r\n",
        "print(x)\r\n",
        "y = np.full([2,3],3)\r\n",
        "print(y)"
      ],
      "execution_count": null,
      "outputs": [
        {
          "output_type": "stream",
          "text": [
            "[[1.5e-323 1.5e-323 1.5e-323]\n",
            " [1.5e-323 1.5e-323 1.5e-323]]\n",
            "[[3 3 3]\n",
            " [3 3 3]]\n"
          ],
          "name": "stdout"
        }
      ]
    },
    {
      "cell_type": "code",
      "metadata": {
        "colab": {
          "base_uri": "https://localhost:8080/"
        },
        "id": "Yb5Q9byBIxKE",
        "outputId": "d4bac2de-5989-4816-ae47-ea45bdb1388a"
      },
      "source": [
        "#Write a NumPy program to find the real and imaginary parts of an array of complex numbers.\r\n",
        "x = np.sqrt([1+0j])\r\n",
        "y = np.sqrt([0+1j])\r\n",
        "print(x)\r\n",
        "print(y)\r\n",
        "print(\"Real part of the array:\")\r\n",
        "print(x.real)\r\n",
        "print(y.real)\r\n",
        "print(\"Imaginary part of the array:\")\r\n",
        "print(x.imag)\r\n",
        "print(y.imag)"
      ],
      "execution_count": null,
      "outputs": [
        {
          "output_type": "stream",
          "text": [
            "[1.+0.j]\n",
            "[0.70710678+0.70710678j]\n",
            "Real part of the array:\n",
            "[1.]\n",
            "[0.70710678]\n",
            "Imaginary part of the array:\n",
            "[0.]\n",
            "[0.70710678]\n"
          ],
          "name": "stdout"
        }
      ]
    },
    {
      "cell_type": "code",
      "metadata": {
        "colab": {
          "base_uri": "https://localhost:8080/"
        },
        "id": "TaeAh-wCJP6D",
        "outputId": "86add365-7c04-442e-e658-1d4abb63b1ed"
      },
      "source": [
        "#Write a NumPy program to find the number of elements of an array, length of one array element in bytes and total bytes consumed by the elements.\r\n",
        "x = np.arange(3)\r\n",
        "print(x)\r\n",
        "print(x.size,\"-\",x.itemsize,\"-\",x.nbytes)"
      ],
      "execution_count": null,
      "outputs": [
        {
          "output_type": "stream",
          "text": [
            "[0 1 2]\n",
            "3 - 8 - 24\n"
          ],
          "name": "stdout"
        }
      ]
    },
    {
      "cell_type": "code",
      "metadata": {
        "colab": {
          "base_uri": "https://localhost:8080/"
        },
        "id": "UyU4yp6necFj",
        "outputId": "72dae6d8-b627-4a47-f98c-dd8eff97455d"
      },
      "source": [
        "#Write a NumPy program to test whether each element of a 1-D array is also present in a second array.\r\n",
        "import numpy as np\r\n",
        "a = np.array([1,2,3,4,5,6,7,8])\r\n",
        "b = np.array([1,2,13,4,11,6,7,8])\r\n",
        "#a == b\r\n",
        "np.in1d(a, b)"
      ],
      "execution_count": 3,
      "outputs": [
        {
          "output_type": "execute_result",
          "data": {
            "text/plain": [
              "array([ True,  True, False,  True, False,  True,  True,  True])"
            ]
          },
          "metadata": {
            "tags": []
          },
          "execution_count": 3
        }
      ]
    },
    {
      "cell_type": "code",
      "metadata": {
        "colab": {
          "base_uri": "https://localhost:8080/"
        },
        "id": "w1DCJVIKe8io",
        "outputId": "5103cae3-65d7-4bbd-e184-7f4717c50ad8"
      },
      "source": [
        "#Write a NumPy program to find common values between two arrays\r\n",
        "np.intersect1d(a, b)"
      ],
      "execution_count": 4,
      "outputs": [
        {
          "output_type": "execute_result",
          "data": {
            "text/plain": [
              "array([1, 2, 4, 6, 7, 8])"
            ]
          },
          "metadata": {
            "tags": []
          },
          "execution_count": 4
        }
      ]
    },
    {
      "cell_type": "code",
      "metadata": {
        "colab": {
          "base_uri": "https://localhost:8080/"
        },
        "id": "I6zSowkcgPTb",
        "outputId": "249ded67-a4d4-4ef4-edd1-66ca324c045e"
      },
      "source": [
        "#Write a NumPy program to get the unique elements of an array.\r\n",
        "a = np.array([1,1,2,2,3,4,4,5,5,6])\r\n",
        "np.unique(a)"
      ],
      "execution_count": 6,
      "outputs": [
        {
          "output_type": "execute_result",
          "data": {
            "text/plain": [
              "array([1, 2, 3, 4, 5, 6])"
            ]
          },
          "metadata": {
            "tags": []
          },
          "execution_count": 6
        }
      ]
    },
    {
      "cell_type": "code",
      "metadata": {
        "colab": {
          "base_uri": "https://localhost:8080/"
        },
        "id": "tKnz_7Zkepbj",
        "outputId": "200e5d85-d3a4-4da3-c96e-da453b8b7d42"
      },
      "source": [
        "#Write a NumPy program to find the set difference of two arrays. The set difference will return the sorted, unique values in array1 that are not in array2.\r\n",
        "np.setdiff1d(a, b)"
      ],
      "execution_count": 7,
      "outputs": [
        {
          "output_type": "execute_result",
          "data": {
            "text/plain": [
              "array([3, 5])"
            ]
          },
          "metadata": {
            "tags": []
          },
          "execution_count": 7
        }
      ]
    },
    {
      "cell_type": "code",
      "metadata": {
        "colab": {
          "base_uri": "https://localhost:8080/"
        },
        "id": "s-SnlLL6gupT",
        "outputId": "6bd7314f-ce42-4bb0-af56-a4c63a2aa0cd"
      },
      "source": [
        "#Write a NumPy program to find the set exclusive-or of two arrays. Set exclusive-or will return the sorted, unique values that are in only one (not both) of the input arrays\r\n",
        "np.setxor1d(a,b)"
      ],
      "execution_count": 8,
      "outputs": [
        {
          "output_type": "execute_result",
          "data": {
            "text/plain": [
              "array([ 3,  5,  7,  8, 11, 13])"
            ]
          },
          "metadata": {
            "tags": []
          },
          "execution_count": 8
        }
      ]
    },
    {
      "cell_type": "code",
      "metadata": {
        "colab": {
          "base_uri": "https://localhost:8080/"
        },
        "id": "46yME0lnhcLq",
        "outputId": "e851144d-8377-49ce-b87b-25006f7d1cb6"
      },
      "source": [
        "#23. Write a NumPy program to test whether all elements in an array evaluate to True.\r\n",
        "np.all(a)\r\n",
        "c = np.array([2,3,4,0,9,8,7])\r\n",
        "np.all(c)"
      ],
      "execution_count": 11,
      "outputs": [
        {
          "output_type": "execute_result",
          "data": {
            "text/plain": [
              "False"
            ]
          },
          "metadata": {
            "tags": []
          },
          "execution_count": 11
        }
      ]
    },
    {
      "cell_type": "code",
      "metadata": {
        "colab": {
          "base_uri": "https://localhost:8080/"
        },
        "id": "-k-Dl4F7iD8K",
        "outputId": "a2c799ee-4122-441d-cf89-e42f4f74cca3"
      },
      "source": [
        "#24. Write a NumPy program to test whether any array element along a given axis evaluates to True\r\n",
        "np.any(c)"
      ],
      "execution_count": 12,
      "outputs": [
        {
          "output_type": "execute_result",
          "data": {
            "text/plain": [
              "True"
            ]
          },
          "metadata": {
            "tags": []
          },
          "execution_count": 12
        }
      ]
    },
    {
      "cell_type": "code",
      "metadata": {
        "colab": {
          "base_uri": "https://localhost:8080/"
        },
        "id": "0Cdc9MDEihxu",
        "outputId": "9904cf2d-6ce3-42dc-b808-a7c863dcd7af"
      },
      "source": [
        "#25. Write a NumPy program to construct an array by repeating.\r\n",
        "x = np.tile(c,3)\r\n",
        "print(x)"
      ],
      "execution_count": 13,
      "outputs": [
        {
          "output_type": "stream",
          "text": [
            "[2 3 4 0 9 8 7 2 3 4 0 9 8 7 2 3 4 0 9 8 7]\n"
          ],
          "name": "stdout"
        }
      ]
    },
    {
      "cell_type": "code",
      "metadata": {
        "colab": {
          "base_uri": "https://localhost:8080/"
        },
        "id": "mtMC0aNVkoc0",
        "outputId": "7967afe7-3c58-4c09-9423-2010212eba71"
      },
      "source": [
        "#25. Write a NumPy program to construct an array by repeating.\r\n",
        "import numpy as np\r\n",
        "x = np.repeat(3, 4)\r\n",
        "print(x)\r\n",
        "x = np.array([[1,2],[3,4]])\r\n",
        "print(np.repeat(x, 2))"
      ],
      "execution_count": 3,
      "outputs": [
        {
          "output_type": "stream",
          "text": [
            "[3 3 3 3]\n",
            "[1 1 2 2 3 3 4 4]\n"
          ],
          "name": "stdout"
        }
      ]
    },
    {
      "cell_type": "code",
      "metadata": {
        "colab": {
          "base_uri": "https://localhost:8080/"
        },
        "id": "pzuN7lRzxch9",
        "outputId": "2232d153-b9d5-4cf6-af98-f747dc395ca9"
      },
      "source": [
        "#Write a NumPy program to find the indices of the maximum and minimum values along the given axis of an array.\r\n",
        "import numpy as np\r\n",
        "x = np.array([1, 2, 3,8, 5, 6])\r\n",
        "print(\"Original array: \",x)\r\n",
        "print(\"Maximum Values: \",np.argmax(x))\r\n",
        "print(\"Minimum Values: \",np.argmin(x))"
      ],
      "execution_count": 1,
      "outputs": [
        {
          "output_type": "stream",
          "text": [
            "Original array:  [1 2 3 8 5 6]\n",
            "Maximum Values:  3\n",
            "Minimum Values:  0\n"
          ],
          "name": "stdout"
        }
      ]
    },
    {
      "cell_type": "code",
      "metadata": {
        "colab": {
          "base_uri": "https://localhost:8080/"
        },
        "id": "tfTXcDtRyxgK",
        "outputId": "4fb5104a-f9a7-47f7-da58-3cdfc5f4a672"
      },
      "source": [
        "#Write a NumPy program to sort an along the first, last axis of an array. \r\n",
        "a = np.array([[4, 6],[2, 1]])\r\n",
        "print(a)\r\n",
        "print(\"Sort along the first axis: \")\r\n",
        "x = np.sort(a, axis=0)\r\n",
        "print(x)\r\n",
        "print(\"Sort along the last axis: \")\r\n",
        "y = np.sort(x, axis=1)\r\n",
        "print(y)"
      ],
      "execution_count": 2,
      "outputs": [
        {
          "output_type": "stream",
          "text": [
            "[[4 6]\n",
            " [2 1]]\n",
            "Sort along the first axis: \n",
            "[[2 1]\n",
            " [4 6]]\n",
            "Sort along the last axis: \n",
            "[[1 2]\n",
            " [4 6]]\n"
          ],
          "name": "stdout"
        }
      ]
    },
    {
      "cell_type": "code",
      "metadata": {
        "colab": {
          "base_uri": "https://localhost:8080/"
        },
        "id": "HQsVmtwhzsWL",
        "outputId": "78a7bc9f-10aa-4b11-b8c8-668d92df6cea"
      },
      "source": [
        "#Write a NumPy program to find the memory size of a NumPy array.\r\n",
        "import numpy as np\r\n",
        "n = np.zeros((4,4))\r\n",
        "print(n,n.dtype,n.size,n.itemsize)\r\n",
        "print(\"%d bytes\" % (n.size * n.itemsize))"
      ],
      "execution_count": 5,
      "outputs": [
        {
          "output_type": "stream",
          "text": [
            "[[0. 0. 0. 0.]\n",
            " [0. 0. 0. 0.]\n",
            " [0. 0. 0. 0.]\n",
            " [0. 0. 0. 0.]] float64 16 8\n",
            "128 bytes\n"
          ],
          "name": "stdout"
        }
      ]
    }
  ]
}