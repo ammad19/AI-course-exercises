{
  "nbformat": 4,
  "nbformat_minor": 0,
  "metadata": {
    "colab": {
      "name": "numpy_practice.ipynb",
      "provenance": [],
      "authorship_tag": "ABX9TyPoDx+xYy0qk1gGtHhhGA3M",
      "include_colab_link": true
    },
    "kernelspec": {
      "name": "python3",
      "display_name": "Python 3"
    }
  },
  "cells": [
    {
      "cell_type": "markdown",
      "metadata": {
        "id": "view-in-github",
        "colab_type": "text"
      },
      "source": [
        "<a href=\"https://colab.research.google.com/github/ammad19/AI-course-exercises/blob/master/numpy_practice.ipynb\" target=\"_parent\"><img src=\"https://colab.research.google.com/assets/colab-badge.svg\" alt=\"Open In Colab\"/></a>"
      ]
    },
    {
      "cell_type": "code",
      "metadata": {
        "id": "0WQt6PZupibH"
      },
      "source": [
        "#Write a NumPy program to get the numpy version and show numpy build configuration\r\n",
        "import numpy as np\r\n",
        "print(np.__version__)\r\n",
        "print(np.show_config())"
      ],
      "execution_count": null,
      "outputs": []
    },
    {
      "cell_type": "code",
      "metadata": {
        "colab": {
          "base_uri": "https://localhost:8080/"
        },
        "id": "LoXLgoncqF-X",
        "outputId": "29414d31-8dca-4d5c-de32-a93402a8f36b"
      },
      "source": [
        "#Write a NumPy program to  get help on the add function. \r\n",
        "print(np.info(np.add))"
      ],
      "execution_count": 4,
      "outputs": [
        {
          "output_type": "stream",
          "text": [
            "None\n"
          ],
          "name": "stdout"
        }
      ]
    },
    {
      "cell_type": "code",
      "metadata": {
        "colab": {
          "base_uri": "https://localhost:8080/"
        },
        "id": "g1DCA1tRqme7",
        "outputId": "476c8c6c-7e05-4e90-987c-edd7750541de"
      },
      "source": [
        "#Write a NumPy program to test whether none of the elements of a given array is zero.\r\n",
        "a = np.arange(0,11)\r\n",
        "print(a == 0)\r\n",
        "print(np.all(a))"
      ],
      "execution_count": 7,
      "outputs": [
        {
          "output_type": "stream",
          "text": [
            "[ True False False False False False False False False False False]\n",
            "False\n"
          ],
          "name": "stdout"
        }
      ]
    },
    {
      "cell_type": "code",
      "metadata": {
        "colab": {
          "base_uri": "https://localhost:8080/"
        },
        "id": "T32wZ-Pat6Sm",
        "outputId": "2850dceb-d778-4e29-ee1d-1321e6a918fc"
      },
      "source": [
        "#Write a NumPy program to test whether any of the elements of a given array is non-zero.\r\n",
        "print(np.any(a))"
      ],
      "execution_count": 8,
      "outputs": [
        {
          "output_type": "stream",
          "text": [
            "True\n"
          ],
          "name": "stdout"
        }
      ]
    },
    {
      "cell_type": "code",
      "metadata": {
        "colab": {
          "base_uri": "https://localhost:8080/"
        },
        "id": "SdzM0Hj1uuN5",
        "outputId": "c7766c6f-d133-4346-ee46-f192e49f0f3c"
      },
      "source": [
        "#Write a NumPy program to test a given array element-wise for finiteness (not infinity or not a Number).\r\n",
        "import numpy as np\r\n",
        "a = np.array([1, 0, np.nan, np.inf])\r\n",
        "print(\"Original array\")\r\n",
        "print(a)\r\n",
        "print(\"Test a given array element-wise for finiteness :\")\r\n",
        "print(np.isfinite(a))"
      ],
      "execution_count": 9,
      "outputs": [
        {
          "output_type": "stream",
          "text": [
            "Original array\n",
            "[ 1.  0. nan inf]\n",
            "Test a given array element-wise for finiteness :\n",
            "[ True  True False False]\n"
          ],
          "name": "stdout"
        }
      ]
    },
    {
      "cell_type": "code",
      "metadata": {
        "colab": {
          "base_uri": "https://localhost:8080/"
        },
        "id": "ZlIzPbG-u4yn",
        "outputId": "f5c55d10-9ecd-43c9-d073-97ee68069abf"
      },
      "source": [
        "#Write a NumPy program to test element-wise for positive or negative infinity.\r\n",
        "print(np.isinf(a))"
      ],
      "execution_count": 10,
      "outputs": [
        {
          "output_type": "stream",
          "text": [
            "[False False False  True]\n"
          ],
          "name": "stdout"
        }
      ]
    },
    {
      "cell_type": "code",
      "metadata": {
        "colab": {
          "base_uri": "https://localhost:8080/"
        },
        "id": "uam7v_7mvHi8",
        "outputId": "608ebdc7-f092-47f4-ff53-b3d17fdbfc5a"
      },
      "source": [
        "#Write a NumPy program to test element-wise for NaN of a given array\r\n",
        "print(np.isnan(a))"
      ],
      "execution_count": 11,
      "outputs": [
        {
          "output_type": "stream",
          "text": [
            "[False False  True False]\n"
          ],
          "name": "stdout"
        }
      ]
    },
    {
      "cell_type": "code",
      "metadata": {
        "id": "XfZz1E1svXKi"
      },
      "source": [
        "#Write a NumPy program to test element-wise for complex number, real number of a given array. Also test whether a given number is a scalar type or not.\r\n",
        "a = np.array([1+1j, 1+0j, 4.5, 3, 2, 2j])\r\n",
        "print(\"Original array\")\r\n",
        "print(a)\r\n",
        "print(\"Checking for complex number:\")\r\n",
        "print(np.iscomplex(a))\r\n",
        "print(\"Checking for real number:\")\r\n",
        "print(np.isreal(a))\r\n",
        "print(\"Checking for scalar type:\")\r\n",
        "print(np.isscalar(3.1))\r\n",
        "print(np.isscalar([3.1]))"
      ],
      "execution_count": null,
      "outputs": []
    },
    {
      "cell_type": "code",
      "metadata": {
        "id": "YUCRYSEPv7LF"
      },
      "source": [
        "#Write a NumPy program to create an element-wise comparison (greater, greater_equal, less and less_equal) of two given arrays\r\n",
        "import numpy as np\r\n",
        "x = np.array([3, 5])\r\n",
        "y = np.array([2, 5])\r\n",
        "print(\"Original numbers:\")\r\n",
        "print(x)\r\n",
        "print(y)\r\n",
        "print(\"Comparison - greater\")\r\n",
        "print(np.greater(x, y))\r\n",
        "print(\"Comparison - greater_equal\")\r\n",
        "print(np.greater_equal(x, y))\r\n",
        "print(\"Comparison - less\")\r\n",
        "print(np.less(x, y))\r\n",
        "print(\"Comparison - less_equal\")\r\n",
        "print(np.less_equal(x, y))\r\n"
      ],
      "execution_count": null,
      "outputs": []
    },
    {
      "cell_type": "code",
      "metadata": {
        "id": "hoNZnBviwszS"
      },
      "source": [
        "#Write a NumPy program to create an element-wise comparison (equal, equal within a tolerance) of two given arrays.\r\n",
        "x = np.array([72, 79, 85, 90, 150, -135, 120, -10, 60, 100])\r\n",
        "y = np.array([72, 79, 85, 90, 150, -135, 120, -10, 60, 100.000001])\r\n",
        "print(\"Comparison - equal:\")\r\n",
        "print(np.equal(x, y))\r\n",
        "print(\"Comparison - equal within a tolerance:\")\r\n",
        "print(np.allclose(x, y))"
      ],
      "execution_count": null,
      "outputs": []
    },
    {
      "cell_type": "code",
      "metadata": {
        "colab": {
          "base_uri": "https://localhost:8080/"
        },
        "id": "Ie9WwvMcw9zv",
        "outputId": "bc459a1f-1d7a-4451-8215-2d3852d3653e"
      },
      "source": [
        "#Write a NumPy program to create an array with the values 1, 7, 13, 105 and determine the size of the memory occupied by the array.\r\n",
        "z = np.array([1,7,13,105],dtype=int)\r\n",
        "print(z.dtype)\r\n",
        "print(\"%d bytes\" % (z.size * z.itemsize))"
      ],
      "execution_count": 31,
      "outputs": [
        {
          "output_type": "stream",
          "text": [
            "int64\n",
            "32 bytes\n"
          ],
          "name": "stdout"
        }
      ]
    }
  ]
}