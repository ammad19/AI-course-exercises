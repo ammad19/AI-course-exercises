{
  "nbformat": 4,
  "nbformat_minor": 0,
  "metadata": {
    "colab": {
      "name": "data storage.ipynb",
      "provenance": [],
      "collapsed_sections": [],
      "authorship_tag": "ABX9TyO5COob4G0K94urMhqCegaQ",
      "include_colab_link": true
    },
    "kernelspec": {
      "name": "python3",
      "display_name": "Python 3"
    }
  },
  "cells": [
    {
      "cell_type": "markdown",
      "metadata": {
        "id": "view-in-github",
        "colab_type": "text"
      },
      "source": [
        "<a href=\"https://colab.research.google.com/github/ammad19/AI-course-exercises/blob/master/data_storage.ipynb\" target=\"_parent\"><img src=\"https://colab.research.google.com/assets/colab-badge.svg\" alt=\"Open In Colab\"/></a>"
      ]
    },
    {
      "cell_type": "code",
      "metadata": {
        "id": "5qV8FHCduSGj",
        "colab": {
          "base_uri": "https://localhost:8080/",
          "height": 537
        },
        "outputId": "35c0ce60-c522-42a1-f0bd-1ab3ed0029e7"
      },
      "source": [
        "import pandas as pd\r\n",
        "sample_df= pd.read_csv(\"examples/sample.csv\")\r\n",
        "print(sample_df)\r\n",
        "sample_df=pd.read_csv(\"examples/sample.csv\",skiprows=1,\r\n",
        "                     names=['id', 'name', 'ch', 'ph', 'en', 'math'])\r\n",
        "print(sample_df)\r\n",
        "print(sample_df[\"ph\"])\r\n",
        "sample_df= pd.read_csv(\"examples/ex1.csv\")\r\n",
        "sample_df\r\n",
        "sample_df.plot()"
      ],
      "execution_count": 19,
      "outputs": [
        {
          "output_type": "stream",
          "text": [
            "  studentid         name   chimestry   physics   english   math\n",
            "0       A01     arif ali          20        30        40     50\n",
            "1       A02  kamran khan          30        40        50     60\n",
            "2       A03   imran ali           40        50        60     70\n",
            "3       A04  kashif khan          50        60        70     80\n",
            "    id         name  ch  ph  en  math\n",
            "0  A01     arif ali  20  30  40    50\n",
            "1  A02  kamran khan  30  40  50    60\n",
            "2  A03   imran ali   40  50  60    70\n",
            "3  A04  kashif khan  50  60  70    80\n",
            "0    30\n",
            "1    40\n",
            "2    50\n",
            "3    60\n",
            "Name: ph, dtype: int64\n"
          ],
          "name": "stdout"
        },
        {
          "output_type": "execute_result",
          "data": {
            "text/plain": [
              "<matplotlib.axes._subplots.AxesSubplot at 0x7f57804154e0>"
            ]
          },
          "metadata": {
            "tags": []
          },
          "execution_count": 19
        },
        {
          "output_type": "display_data",
          "data": {
            "image/png": "[encoded data removed]",
            "text/plain": [
              "<Figure size 432x288 with 1 Axes>"
            ]
          },
          "metadata": {
            "tags": [],
            "needs_background": "light"
          }
        }
      ]
    },
    {
      "cell_type": "code",
      "metadata": {
        "colab": {
          "base_uri": "https://localhost:8080/"
        },
        "id": "uiMdtEgQxRuc",
        "outputId": "ea2ee128-5c43-47f7-a4f1-72a89cc241be"
      },
      "source": [
        "!dir"
      ],
      "execution_count": 14,
      "outputs": [
        {
          "output_type": "stream",
          "text": [
            "examples  examples.zip\tsample_data\n"
          ],
          "name": "stdout"
        }
      ]
    },
    {
      "cell_type": "code",
      "metadata": {
        "colab": {
          "base_uri": "https://localhost:8080/"
        },
        "id": "50rHk2PhvjHn",
        "outputId": "aa3b3a56-b3d8-4aea-b1bd-a0a25768e606"
      },
      "source": [
        "!unzip examples.zip"
      ],
      "execution_count": 9,
      "outputs": [
        {
          "output_type": "stream",
          "text": [
            "Archive:  examples.zip\n",
            "   creating: examples/\n",
            "  inflating: examples/array_ex.txt   \n",
            "  inflating: examples/csv_mindex.csv  \n",
            "  inflating: examples/ex1.csv        \n",
            "  inflating: examples/ex1.xlsx       \n",
            " extracting: examples/ex2.csv        \n",
            "  inflating: examples/ex3.csv        \n",
            "  inflating: examples/ex3.txt        \n",
            "  inflating: examples/ex4.csv        \n",
            "  inflating: examples/ex5.csv        \n",
            "  inflating: examples/ex6.csv        \n",
            "  inflating: examples/ex7.csv        \n",
            "  inflating: examples/example.json   \n",
            "  inflating: examples/fdic_failed_bank_list.html  \n",
            "  inflating: examples/ipython_bug.py  \n",
            "  inflating: examples/macrodata.csv  \n",
            "  inflating: examples/out.csv        \n",
            "  inflating: examples/sample.csv     \n",
            "  inflating: examples/sample2.csv    \n",
            "  inflating: examples/sample3.csv    \n",
            "  inflating: examples/segismundo.txt  \n",
            "  inflating: examples/spx.csv        \n",
            "  inflating: examples/stinkbug.png   \n",
            "  inflating: examples/stock_px.csv   \n",
            "  inflating: examples/stock_px_2.csv  \n",
            "  inflating: examples/test_file.csv  \n",
            "  inflating: examples/tips.csv       \n",
            "  inflating: examples/tseries.csv    \n",
            "  inflating: examples/volume.csv     \n",
            "  inflating: examples/yahoo_price.pkl  \n",
            "  inflating: examples/yahoo_volume.pkl  \n"
          ],
          "name": "stdout"
        }
      ]
    },
    {
      "cell_type": "code",
      "metadata": {
        "id": "m2EQYm-hxZW6"
      },
      "source": [
        ""
      ],
      "execution_count": null,
      "outputs": []
    },
    {
      "cell_type": "code",
      "metadata": {
        "colab": {
          "base_uri": "https://localhost:8080/",
          "height": 481
        },
        "id": "B6nCk_tz4ukK",
        "outputId": "71bc1454-45bf-43f5-b90c-d1b9f65c755f"
      },
      "source": [
        "s2_df = pd.read_csv(\"examples/sample2.csv\")\r\n",
        "print(s2_df)\r\n",
        "# we have to specifiy which column will be used as index\r\n",
        "parsed = pd.read_csv(\"examples/sample2.csv\" ,index_col=['key1', 'key2'])\r\n",
        "parsed\r\n",
        "#s2_df"
      ],
      "execution_count": 25,
      "outputs": [
        {
          "output_type": "stream",
          "text": [
            "  key1 key2  value1  value2\n",
            "0  one    a       1       2\n",
            "1  one    b       3       4\n",
            "2  one    c       5       6\n",
            "3  one    d       7       8\n",
            "4  two    a       9      10\n",
            "5  two    b      11      12\n",
            "6  two    c      13      14\n",
            "7  two    d      15      16\n"
          ],
          "name": "stdout"
        },
        {
          "output_type": "execute_result",
          "data": {
            "text/html": [
              "<div>\n",
              "<style scoped>\n",
              "    .dataframe tbody tr th:only-of-type {\n",
              "        vertical-align: middle;\n",
              "    }\n",
              "\n",
              "    .dataframe tbody tr th {\n",
              "        vertical-align: top;\n",
              "    }\n",
              "\n",
              "    .dataframe thead th {\n",
              "        text-align: right;\n",
              "    }\n",
              "</style>\n",
              "<table border=\"1\" class=\"dataframe\">\n",
              "  <thead>\n",
              "    <tr style=\"text-align: right;\">\n",
              "      <th></th>\n",
              "      <th></th>\n",
              "      <th>value1</th>\n",
              "      <th>value2</th>\n",
              "    </tr>\n",
              "    <tr>\n",
              "      <th>key1</th>\n",
              "      <th>key2</th>\n",
              "      <th></th>\n",
              "      <th></th>\n",
              "    </tr>\n",
              "  </thead>\n",
              "  <tbody>\n",
              "    <tr>\n",
              "      <th rowspan=\"4\" valign=\"top\">one</th>\n",
              "      <th>a</th>\n",
              "      <td>1</td>\n",
              "      <td>2</td>\n",
              "    </tr>\n",
              "    <tr>\n",
              "      <th>b</th>\n",
              "      <td>3</td>\n",
              "      <td>4</td>\n",
              "    </tr>\n",
              "    <tr>\n",
              "      <th>c</th>\n",
              "      <td>5</td>\n",
              "      <td>6</td>\n",
              "    </tr>\n",
              "    <tr>\n",
              "      <th>d</th>\n",
              "      <td>7</td>\n",
              "      <td>8</td>\n",
              "    </tr>\n",
              "    <tr>\n",
              "      <th rowspan=\"4\" valign=\"top\">two</th>\n",
              "      <th>a</th>\n",
              "      <td>9</td>\n",
              "      <td>10</td>\n",
              "    </tr>\n",
              "    <tr>\n",
              "      <th>b</th>\n",
              "      <td>11</td>\n",
              "      <td>12</td>\n",
              "    </tr>\n",
              "    <tr>\n",
              "      <th>c</th>\n",
              "      <td>13</td>\n",
              "      <td>14</td>\n",
              "    </tr>\n",
              "    <tr>\n",
              "      <th>d</th>\n",
              "      <td>15</td>\n",
              "      <td>16</td>\n",
              "    </tr>\n",
              "  </tbody>\n",
              "</table>\n",
              "</div>"
            ],
            "text/plain": [
              "           value1  value2\n",
              "key1 key2                \n",
              "one  a          1       2\n",
              "     b          3       4\n",
              "     c          5       6\n",
              "     d          7       8\n",
              "two  a          9      10\n",
              "     b         11      12\n",
              "     c         13      14\n",
              "     d         15      16"
            ]
          },
          "metadata": {
            "tags": []
          },
          "execution_count": 25
        }
      ]
    },
    {
      "cell_type": "code",
      "metadata": {
        "colab": {
          "base_uri": "https://localhost:8080/"
        },
        "id": "3A7zBsUM7KX_",
        "outputId": "18e25126-6da1-4ef7-c373-3e6cbc2f59ea"
      },
      "source": [
        "!unzip archive.zip"
      ],
      "execution_count": 26,
      "outputs": [
        {
          "output_type": "stream",
          "text": [
            "Archive:  archive.zip\n",
            "  inflating: test.csv                \n",
            "  inflating: train.csv               \n"
          ],
          "name": "stdout"
        }
      ]
    },
    {
      "cell_type": "code",
      "metadata": {
        "colab": {
          "base_uri": "https://localhost:8080/",
          "height": 258
        },
        "id": "idtXGBuY7X8V",
        "outputId": "4a7af4f8-cf19-4b2b-b03c-6167a5c5707a"
      },
      "source": [
        "pd.read_csv('train.csv', nrows=200)\r\n",
        "#To read a file in pieces, specify a chunksize as a number of rows:\r\n",
        "chunks = pd.read_csv('train.csv', chunksize=200)\r\n",
        "print(type(chunks), print(chunks) )\r\n",
        "chunkList = []\r\n",
        "for chunk in chunks:\r\n",
        "\t# each chunk will work as dataframe)\r\n",
        "\t#print(type(chunk), len(chunk))\r\n",
        "    #print(chunk.head())\r\n",
        "    chunkList.append(chunk)\r\n",
        "\r\n",
        "df = chunkList[2] \r\n",
        "df.head()"
      ],
      "execution_count": 32,
      "outputs": [
        {
          "output_type": "stream",
          "text": [
            "<pandas.io.parsers.TextFileReader object at 0x7f5788bc3470>\n",
            "<class 'pandas.io.parsers.TextFileReader'> None\n"
          ],
          "name": "stdout"
        },
        {
          "output_type": "execute_result",
          "data": {
            "text/html": [
              "<div>\n",
              "<style scoped>\n",
              "    .dataframe tbody tr th:only-of-type {\n",
              "        vertical-align: middle;\n",
              "    }\n",
              "\n",
              "    .dataframe tbody tr th {\n",
              "        vertical-align: top;\n",
              "    }\n",
              "\n",
              "    .dataframe thead th {\n",
              "        text-align: right;\n",
              "    }\n",
              "</style>\n",
              "<table border=\"1\" class=\"dataframe\">\n",
              "  <thead>\n",
              "    <tr style=\"text-align: right;\">\n",
              "      <th></th>\n",
              "      <th>battery_power</th>\n",
              "      <th>blue</th>\n",
              "      <th>clock_speed</th>\n",
              "      <th>dual_sim</th>\n",
              "      <th>fc</th>\n",
              "      <th>four_g</th>\n",
              "      <th>int_memory</th>\n",
              "      <th>m_dep</th>\n",
              "      <th>mobile_wt</th>\n",
              "      <th>n_cores</th>\n",
              "      <th>pc</th>\n",
              "      <th>px_height</th>\n",
              "      <th>px_width</th>\n",
              "      <th>ram</th>\n",
              "      <th>sc_h</th>\n",
              "      <th>sc_w</th>\n",
              "      <th>talk_time</th>\n",
              "      <th>three_g</th>\n",
              "      <th>touch_screen</th>\n",
              "      <th>wifi</th>\n",
              "      <th>price_range</th>\n",
              "    </tr>\n",
              "  </thead>\n",
              "  <tbody>\n",
              "    <tr>\n",
              "      <th>400</th>\n",
              "      <td>1266</td>\n",
              "      <td>0</td>\n",
              "      <td>1.9</td>\n",
              "      <td>1</td>\n",
              "      <td>0</td>\n",
              "      <td>1</td>\n",
              "      <td>7</td>\n",
              "      <td>0.2</td>\n",
              "      <td>184</td>\n",
              "      <td>3</td>\n",
              "      <td>12</td>\n",
              "      <td>346</td>\n",
              "      <td>1468</td>\n",
              "      <td>2532</td>\n",
              "      <td>10</td>\n",
              "      <td>5</td>\n",
              "      <td>4</td>\n",
              "      <td>1</td>\n",
              "      <td>1</td>\n",
              "      <td>1</td>\n",
              "      <td>2</td>\n",
              "    </tr>\n",
              "    <tr>\n",
              "      <th>401</th>\n",
              "      <td>1042</td>\n",
              "      <td>0</td>\n",
              "      <td>2.7</td>\n",
              "      <td>1</td>\n",
              "      <td>16</td>\n",
              "      <td>1</td>\n",
              "      <td>50</td>\n",
              "      <td>0.8</td>\n",
              "      <td>93</td>\n",
              "      <td>7</td>\n",
              "      <td>18</td>\n",
              "      <td>727</td>\n",
              "      <td>1705</td>\n",
              "      <td>3215</td>\n",
              "      <td>18</td>\n",
              "      <td>0</td>\n",
              "      <td>20</td>\n",
              "      <td>1</td>\n",
              "      <td>1</td>\n",
              "      <td>1</td>\n",
              "      <td>3</td>\n",
              "    </tr>\n",
              "    <tr>\n",
              "      <th>402</th>\n",
              "      <td>1479</td>\n",
              "      <td>0</td>\n",
              "      <td>0.5</td>\n",
              "      <td>0</td>\n",
              "      <td>8</td>\n",
              "      <td>0</td>\n",
              "      <td>19</td>\n",
              "      <td>0.6</td>\n",
              "      <td>156</td>\n",
              "      <td>3</td>\n",
              "      <td>10</td>\n",
              "      <td>180</td>\n",
              "      <td>1476</td>\n",
              "      <td>3323</td>\n",
              "      <td>13</td>\n",
              "      <td>12</td>\n",
              "      <td>6</td>\n",
              "      <td>1</td>\n",
              "      <td>0</td>\n",
              "      <td>1</td>\n",
              "      <td>3</td>\n",
              "    </tr>\n",
              "    <tr>\n",
              "      <th>403</th>\n",
              "      <td>1476</td>\n",
              "      <td>1</td>\n",
              "      <td>1.2</td>\n",
              "      <td>1</td>\n",
              "      <td>0</td>\n",
              "      <td>1</td>\n",
              "      <td>55</td>\n",
              "      <td>0.1</td>\n",
              "      <td>171</td>\n",
              "      <td>4</td>\n",
              "      <td>5</td>\n",
              "      <td>1641</td>\n",
              "      <td>1666</td>\n",
              "      <td>1529</td>\n",
              "      <td>13</td>\n",
              "      <td>8</td>\n",
              "      <td>3</td>\n",
              "      <td>1</td>\n",
              "      <td>0</td>\n",
              "      <td>1</td>\n",
              "      <td>2</td>\n",
              "    </tr>\n",
              "    <tr>\n",
              "      <th>404</th>\n",
              "      <td>1552</td>\n",
              "      <td>1</td>\n",
              "      <td>2.2</td>\n",
              "      <td>0</td>\n",
              "      <td>6</td>\n",
              "      <td>1</td>\n",
              "      <td>13</td>\n",
              "      <td>0.2</td>\n",
              "      <td>123</td>\n",
              "      <td>6</td>\n",
              "      <td>9</td>\n",
              "      <td>269</td>\n",
              "      <td>1026</td>\n",
              "      <td>2403</td>\n",
              "      <td>9</td>\n",
              "      <td>2</td>\n",
              "      <td>9</td>\n",
              "      <td>1</td>\n",
              "      <td>1</td>\n",
              "      <td>1</td>\n",
              "      <td>2</td>\n",
              "    </tr>\n",
              "  </tbody>\n",
              "</table>\n",
              "</div>"
            ],
            "text/plain": [
              "     battery_power  blue  clock_speed  ...  touch_screen  wifi  price_range\n",
              "400           1266     0          1.9  ...             1     1            2\n",
              "401           1042     0          2.7  ...             1     1            3\n",
              "402           1479     0          0.5  ...             0     1            3\n",
              "403           1476     1          1.2  ...             0     1            2\n",
              "404           1552     1          2.2  ...             1     1            2\n",
              "\n",
              "[5 rows x 21 columns]"
            ]
          },
          "metadata": {
            "tags": []
          },
          "execution_count": 32
        }
      ]
    }
  ]
}