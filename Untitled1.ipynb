{
  "nbformat": 4,
  "nbformat_minor": 0,
  "metadata": {
    "colab": {
      "name": "Untitled1.ipynb",
      "provenance": [],
      "collapsed_sections": [],
      "authorship_tag": "ABX9TyMfCKLyMYpQraWrg/+ShJqo",
      "include_colab_link": true
    },
    "kernelspec": {
      "name": "python3",
      "display_name": "Python 3"
    }
  },
  "cells": [
    {
      "cell_type": "markdown",
      "metadata": {
        "id": "view-in-github",
        "colab_type": "text"
      },
      "source": [
        "<a href=\"https://colab.research.google.com/github/ammad19/AI-course-exercises/blob/master/Untitled1.ipynb\" target=\"_parent\"><img src=\"https://colab.research.google.com/assets/colab-badge.svg\" alt=\"Open In Colab\"/></a>"
      ]
    },
    {
      "cell_type": "code",
      "metadata": {
        "id": "uzhl0VQMVUfS",
        "colab_type": "code",
        "colab": {
          "base_uri": "https://localhost:8080/",
          "height": 51
        },
        "outputId": "cb53de27-ddbc-4fdc-c985-b5ffa6940127"
      },
      "source": [
        "#Radian to Degree\n",
        "import math\n",
        "x = int(input(\"enter angle in radians: \"))\n",
        "y = float(x*180/3.14)\n",
        "print(y)\n"
      ],
      "execution_count": null,
      "outputs": [
        {
          "output_type": "stream",
          "text": [
            "enter angle in radians: 34\n",
            "1949.0445859872611\n"
          ],
          "name": "stdout"
        }
      ]
    },
    {
      "cell_type": "code",
      "metadata": {
        "id": "Sf_8kJCFWJ9o",
        "colab_type": "code",
        "colab": {
          "base_uri": "https://localhost:8080/",
          "height": 51
        },
        "outputId": "2ecee7c1-8a9a-4241-d3e8-25a36b600766"
      },
      "source": [
        "#Avg of numbers\n",
        "\n"
      ],
      "execution_count": null,
      "outputs": [
        {
          "output_type": "stream",
          "text": [
            "Enter nos seperated by space: 3 3 3\n",
            "3.0\n"
          ],
          "name": "stdout"
        }
      ]
    },
    {
      "cell_type": "code",
      "metadata": {
        "id": "eS9P_wimXIRg",
        "colab_type": "code",
        "colab": {
          "base_uri": "https://localhost:8080/",
          "height": 51
        },
        "outputId": "53d6f348-6522-4851-e81a-4acfc83594f2"
      },
      "source": [
        "#Factorial of integer\n",
        "import math\n",
        "x = int(input(\"Enter no to calculate factorial:\"))\n",
        "y = math.factorial(x)\n",
        "print(y)"
      ],
      "execution_count": null,
      "outputs": [
        {
          "output_type": "stream",
          "text": [
            "Enter no to calculate factorial:3\n",
            "6\n"
          ],
          "name": "stdout"
        }
      ]
    },
    {
      "cell_type": "code",
      "metadata": {
        "id": "NCn6u1pfYhad",
        "colab_type": "code",
        "colab": {
          "base_uri": "https://localhost:8080/",
          "height": 51
        },
        "outputId": "0712b893-f694-477b-a8c4-c92005eeff24"
      },
      "source": [
        "#Factorial of integer\n",
        "result = 1\n",
        "x = int(input(\"Enter no to calculate factorial:\"))\n",
        "if x == 0:\n",
        "   print(\"The factorial of 0 is 1\")\n",
        "elif x > 0:\n",
        "  while x != 0:\n",
        "    result *= x\n",
        "    x -= 1\n",
        "  print(result)"
      ],
      "execution_count": null,
      "outputs": [
        {
          "output_type": "stream",
          "text": [
            "Enter no to calculate factorial:0\n",
            "The factorial of 0 is 1\n"
          ],
          "name": "stdout"
        }
      ]
    },
    {
      "cell_type": "code",
      "metadata": {
        "id": "60ZzhYlTdNyo",
        "colab_type": "code",
        "colab": {
          "base_uri": "https://localhost:8080/",
          "height": 51
        },
        "outputId": "62f42a20-bf9c-4bc4-8015-471819375550"
      },
      "source": [
        "#Find vowels\n",
        "x = input(\"Enter a string: \")\n",
        "count = 0\n",
        "vowels = 'aeiouAEIOU'\n",
        "for ch in x:\n",
        "    if ch in vowels:\n",
        "        count += 1\n",
        "print(count)"
      ],
      "execution_count": null,
      "outputs": [
        {
          "output_type": "stream",
          "text": [
            "Enter a string: abcd\n",
            "1\n"
          ],
          "name": "stdout"
        }
      ]
    },
    {
      "cell_type": "code",
      "metadata": {
        "id": "qKcfRhU2exTh",
        "colab_type": "code",
        "colab": {
          "base_uri": "https://localhost:8080/",
          "height": 68
        },
        "outputId": "d846cb9f-c54d-452d-f28c-b2279f8a9b37"
      },
      "source": [
        "#Find vowels\n",
        "x = input(\"Enter a string: \")\n",
        "list1 = [char for char in x]\n",
        "print(list1)\n",
        "vowels = [\"a\", \"e\", \"i\", \"o\", \"u\"]\n",
        "#string1 = ''.join(list1)\n",
        "count = 0\n",
        "for item in list1:\n",
        "  for vow in vowels:\n",
        "    if item == vow:\n",
        "        count += 1\n",
        "print(count)"
      ],
      "execution_count": null,
      "outputs": [
        {
          "output_type": "stream",
          "text": [
            "Enter a string: aeiou\n",
            "['a', 'e', 'i', 'o', 'u']\n",
            "5\n"
          ],
          "name": "stdout"
        }
      ]
    },
    {
      "cell_type": "code",
      "metadata": {
        "id": "dcugq3pMjHvf",
        "colab_type": "code",
        "colab": {
          "base_uri": "https://localhost:8080/",
          "height": 68
        },
        "outputId": "e502b33e-5cf9-41d0-b3a9-f3b0d5a37caa"
      },
      "source": [
        "#Find x's & o's\n",
        "x = input(\"Enter a string: \")\n",
        "list1 = [char for char in x]\n",
        "print(list1)\n",
        "count = 0\n",
        "count1 = 0\n",
        "for item in list1:\n",
        "  if item == \"x\":\n",
        "    count += 1\n",
        "  elif item == \"o\":\n",
        "    count1 += 1\n",
        "print(count,count1)\n",
        "if count == count1:\n",
        "  print(True)"
      ],
      "execution_count": null,
      "outputs": [
        {
          "output_type": "stream",
          "text": [
            "Enter a string: xxxoo\n",
            "['x', 'x', 'x', 'o', 'o']\n",
            "3 2\n"
          ],
          "name": "stdout"
        }
      ]
    },
    {
      "cell_type": "code",
      "metadata": {
        "id": "HpScbEaJbN_s",
        "colab_type": "code",
        "colab": {
          "base_uri": "https://localhost:8080/",
          "height": 88
        },
        "outputId": "93580e8a-4392-4f5c-bc0a-b748a9663a4b"
      },
      "source": [
        "#add the index to list\n",
        "list2 = [1,2,3,4,5]\n",
        "list3 = []\n",
        "x = 0\n",
        "for item in list2:\n",
        "  list3.append(x+item)\n",
        "  x+=1\n",
        "print(list3)\n",
        "\n",
        "#List comprehensions\n",
        "squares = [value**2 for value in range(1,11)]\n",
        "print(squares)\n",
        "\n",
        "#summing a million\n",
        "million = [value for value in range(1,1000)]\n",
        "print(million)"
      ],
      "execution_count": null,
      "outputs": [
        {
          "output_type": "stream",
          "text": [
            "[1, 3, 5, 7, 9]\n",
            "[1, 4, 9, 16, 25, 36, 49, 64, 81, 100]\n",
            "[1, 2, 3, 4, 5, 6, 7, 8, 9, 10, 11, 12, 13, 14, 15, 16, 17, 18, 19, 20, 21, 22, 23, 24, 25, 26, 27, 28, 29, 30, 31, 32, 33, 34, 35, 36, 37, 38, 39, 40, 41, 42, 43, 44, 45, 46, 47, 48, 49, 50, 51, 52, 53, 54, 55, 56, 57, 58, 59, 60, 61, 62, 63, 64, 65, 66, 67, 68, 69, 70, 71, 72, 73, 74, 75, 76, 77, 78, 79, 80, 81, 82, 83, 84, 85, 86, 87, 88, 89, 90, 91, 92, 93, 94, 95, 96, 97, 98, 99, 100, 101, 102, 103, 104, 105, 106, 107, 108, 109, 110, 111, 112, 113, 114, 115, 116, 117, 118, 119, 120, 121, 122, 123, 124, 125, 126, 127, 128, 129, 130, 131, 132, 133, 134, 135, 136, 137, 138, 139, 140, 141, 142, 143, 144, 145, 146, 147, 148, 149, 150, 151, 152, 153, 154, 155, 156, 157, 158, 159, 160, 161, 162, 163, 164, 165, 166, 167, 168, 169, 170, 171, 172, 173, 174, 175, 176, 177, 178, 179, 180, 181, 182, 183, 184, 185, 186, 187, 188, 189, 190, 191, 192, 193, 194, 195, 196, 197, 198, 199, 200, 201, 202, 203, 204, 205, 206, 207, 208, 209, 210, 211, 212, 213, 214, 215, 216, 217, 218, 219, 220, 221, 222, 223, 224, 225, 226, 227, 228, 229, 230, 231, 232, 233, 234, 235, 236, 237, 238, 239, 240, 241, 242, 243, 244, 245, 246, 247, 248, 249, 250, 251, 252, 253, 254, 255, 256, 257, 258, 259, 260, 261, 262, 263, 264, 265, 266, 267, 268, 269, 270, 271, 272, 273, 274, 275, 276, 277, 278, 279, 280, 281, 282, 283, 284, 285, 286, 287, 288, 289, 290, 291, 292, 293, 294, 295, 296, 297, 298, 299, 300, 301, 302, 303, 304, 305, 306, 307, 308, 309, 310, 311, 312, 313, 314, 315, 316, 317, 318, 319, 320, 321, 322, 323, 324, 325, 326, 327, 328, 329, 330, 331, 332, 333, 334, 335, 336, 337, 338, 339, 340, 341, 342, 343, 344, 345, 346, 347, 348, 349, 350, 351, 352, 353, 354, 355, 356, 357, 358, 359, 360, 361, 362, 363, 364, 365, 366, 367, 368, 369, 370, 371, 372, 373, 374, 375, 376, 377, 378, 379, 380, 381, 382, 383, 384, 385, 386, 387, 388, 389, 390, 391, 392, 393, 394, 395, 396, 397, 398, 399, 400, 401, 402, 403, 404, 405, 406, 407, 408, 409, 410, 411, 412, 413, 414, 415, 416, 417, 418, 419, 420, 421, 422, 423, 424, 425, 426, 427, 428, 429, 430, 431, 432, 433, 434, 435, 436, 437, 438, 439, 440, 441, 442, 443, 444, 445, 446, 447, 448, 449, 450, 451, 452, 453, 454, 455, 456, 457, 458, 459, 460, 461, 462, 463, 464, 465, 466, 467, 468, 469, 470, 471, 472, 473, 474, 475, 476, 477, 478, 479, 480, 481, 482, 483, 484, 485, 486, 487, 488, 489, 490, 491, 492, 493, 494, 495, 496, 497, 498, 499, 500, 501, 502, 503, 504, 505, 506, 507, 508, 509, 510, 511, 512, 513, 514, 515, 516, 517, 518, 519, 520, 521, 522, 523, 524, 525, 526, 527, 528, 529, 530, 531, 532, 533, 534, 535, 536, 537, 538, 539, 540, 541, 542, 543, 544, 545, 546, 547, 548, 549, 550, 551, 552, 553, 554, 555, 556, 557, 558, 559, 560, 561, 562, 563, 564, 565, 566, 567, 568, 569, 570, 571, 572, 573, 574, 575, 576, 577, 578, 579, 580, 581, 582, 583, 584, 585, 586, 587, 588, 589, 590, 591, 592, 593, 594, 595, 596, 597, 598, 599, 600, 601, 602, 603, 604, 605, 606, 607, 608, 609, 610, 611, 612, 613, 614, 615, 616, 617, 618, 619, 620, 621, 622, 623, 624, 625, 626, 627, 628, 629, 630, 631, 632, 633, 634, 635, 636, 637, 638, 639, 640, 641, 642, 643, 644, 645, 646, 647, 648, 649, 650, 651, 652, 653, 654, 655, 656, 657, 658, 659, 660, 661, 662, 663, 664, 665, 666, 667, 668, 669, 670, 671, 672, 673, 674, 675, 676, 677, 678, 679, 680, 681, 682, 683, 684, 685, 686, 687, 688, 689, 690, 691, 692, 693, 694, 695, 696, 697, 698, 699, 700, 701, 702, 703, 704, 705, 706, 707, 708, 709, 710, 711, 712, 713, 714, 715, 716, 717, 718, 719, 720, 721, 722, 723, 724, 725, 726, 727, 728, 729, 730, 731, 732, 733, 734, 735, 736, 737, 738, 739, 740, 741, 742, 743, 744, 745, 746, 747, 748, 749, 750, 751, 752, 753, 754, 755, 756, 757, 758, 759, 760, 761, 762, 763, 764, 765, 766, 767, 768, 769, 770, 771, 772, 773, 774, 775, 776, 777, 778, 779, 780, 781, 782, 783, 784, 785, 786, 787, 788, 789, 790, 791, 792, 793, 794, 795, 796, 797, 798, 799, 800, 801, 802, 803, 804, 805, 806, 807, 808, 809, 810, 811, 812, 813, 814, 815, 816, 817, 818, 819, 820, 821, 822, 823, 824, 825, 826, 827, 828, 829, 830, 831, 832, 833, 834, 835, 836, 837, 838, 839, 840, 841, 842, 843, 844, 845, 846, 847, 848, 849, 850, 851, 852, 853, 854, 855, 856, 857, 858, 859, 860, 861, 862, 863, 864, 865, 866, 867, 868, 869, 870, 871, 872, 873, 874, 875, 876, 877, 878, 879, 880, 881, 882, 883, 884, 885, 886, 887, 888, 889, 890, 891, 892, 893, 894, 895, 896, 897, 898, 899, 900, 901, 902, 903, 904, 905, 906, 907, 908, 909, 910, 911, 912, 913, 914, 915, 916, 917, 918, 919, 920, 921, 922, 923, 924, 925, 926, 927, 928, 929, 930, 931, 932, 933, 934, 935, 936, 937, 938, 939, 940, 941, 942, 943, 944, 945, 946, 947, 948, 949, 950, 951, 952, 953, 954, 955, 956, 957, 958, 959, 960, 961, 962, 963, 964, 965, 966, 967, 968, 969, 970, 971, 972, 973, 974, 975, 976, 977, 978, 979, 980, 981, 982, 983, 984, 985, 986, 987, 988, 989, 990, 991, 992, 993, 994, 995, 996, 997, 998, 999]\n"
          ],
          "name": "stdout"
        }
      ]
    },
    {
      "cell_type": "code",
      "metadata": {
        "id": "KZ0Z4JhXYsUe",
        "colab_type": "code",
        "colab": {
          "base_uri": "https://localhost:8080/",
          "height": 34
        },
        "outputId": "4bcc8e98-1458-40c6-9d6c-1c67b6de0a0b"
      },
      "source": [
        "#Profit margin\n",
        "cost_price = 100\n",
        "sale_price = 150\n",
        "profit = (sale_price - cost_price)/sale_price\n",
        "percentage = \"{:.2%}\".format(profit)\n",
        "print(percentage)"
      ],
      "execution_count": null,
      "outputs": [
        {
          "output_type": "stream",
          "text": [
            "33%\n"
          ],
          "name": "stdout"
        }
      ]
    },
    {
      "cell_type": "code",
      "metadata": {
        "id": "hcOMloM4OZ6y",
        "colab_type": "code",
        "colab": {
          "base_uri": "https://localhost:8080/",
          "height": 68
        },
        "outputId": "5603d7dd-d33a-4e6f-87f6-f56569ee5b72"
      },
      "source": [
        "n=int(input('please enter the no. in decimal format: '))\n",
        "x=n\n",
        "k=[]\n",
        "while (n>0):\n",
        "    a=int(float(n%2))\n",
        "    #print(a)\n",
        "    k.append(a)\n",
        "    n=(n-a)/2\n",
        "k.append(0)\n",
        "#print(k)\n",
        "string=\"\"\n",
        "for j in k[::-1]:\n",
        "    string=string+str(j)\n",
        "print('The binary no. for %d is %s'%(x, string))\n",
        "print('The binary no. for {} is {}'.format(x,string))"
      ],
      "execution_count": null,
      "outputs": [
        {
          "output_type": "stream",
          "text": [
            "please enter the no. in decimal format: 3\n",
            "The binary no. for 3 is 011\n",
            "The binary no. for 3 is 011\n"
          ],
          "name": "stdout"
        }
      ]
    },
    {
      "cell_type": "code",
      "metadata": {
        "id": "P0MQfKegSmhM",
        "colab_type": "code",
        "colab": {
          "base_uri": "https://localhost:8080/",
          "height": 632
        },
        "outputId": "bfe12be1-da93-4da8-d8f3-f4bd62170530"
      },
      "source": [
        "#add the index to list\n",
        "list2 = [1,2,2,4,2]\n",
        "list3 = []\n",
        "x = 0\n",
        "for item in list2:\n",
        "  list3.append(x+item)\n",
        "  x+=1\n",
        "print(list3)\n",
        "\n",
        "#List comprehensions\n",
        "squares = [value**2 for value in range(1,11)]\n",
        "print(squares)\n",
        "\n",
        "#summing a million\n",
        "million = [value for value in range(1,100)]\n",
        "print(million)\n",
        "print(sum(million))\n",
        "\n",
        "#list of odd numbers\n",
        "odd = [value for value in range(1,20,2)]\n",
        "print(odd)\n",
        "\n",
        "#multiples of 3\n",
        "threes = [value for value in range(1,30,3)]\n",
        "x = []\n",
        "for value in range(1,31):\n",
        "  threes = value % 3\n",
        "  if threes == 0:\n",
        "    x.append(value)\n",
        "print(x)\n",
        "\n",
        "#list of cubes\n",
        "y = []\n",
        "for value in range(1,10):\n",
        "  cube = value**3\n",
        "  y.append(cube)\n",
        "print(y)\n",
        "\n",
        "#list comprehension for cubes\n",
        "cubes = [value**3 for value in range(1,10)]\n",
        "print(cubes)\n",
        "\n",
        "#dictionary\n",
        "dic1 = {\n",
        "  'nile': 'Egypt',\n",
        "  'kabul': 'Afghanistan',\n",
        "  'sutlej': 'Pakistan'\n",
        "  }\n",
        "for k,v in dic1.items():\n",
        "  print(k.title() + \" runs through \" + v.title())\n",
        "\n",
        "#list of dictionaries \n",
        "alien_0 = {'color': 'green', 'points': 5}\n",
        "alien_1 = {'color': 'yellow', 'points': 10}\n",
        "alien_2 = {'color': 'red', 'points': 15}\n",
        "aliens = [alien_0, alien_1, alien_2]\n",
        "for alien in aliens:\n",
        "  print(alien)\n",
        "\n",
        "#8.3 T.Shirt\n",
        "def make_shirt(size = 12, text = \"cool\"):\n",
        "  print(\"shirt size:\", size, \"with message \" + text)\n",
        "\n",
        "make_shirt(10, \"doom\")\n",
        "make_shirt()\n",
        "\n",
        "#8.7 album\n",
        "def make_album(artist = \"Abba\", genre = \"Rock\"):\n",
        "  album = {'artist': artist, 'genre': genre}\n",
        "  return album\n",
        "album_details = make_album(\"Nirvana\", \"Grunge\")\n",
        "print(album_details)\n",
        "album_details = make_album()\n",
        "print(album_details)\n",
        "\n",
        "#8.9, 8.10, 8.11\n",
        "list8 = [\"jadoo1\", \"jadoo2\", \"jadoo3\"]\n",
        "modify_list8 = []\n",
        "def modify_magicians(list_j):\n",
        "  for name in list_j:\n",
        "    modify_list8.append(\"The Great \" + name)\n",
        "    \n",
        "def show_magicians(modify_list8):\n",
        "  for name in list8:\n",
        "    print(\"Name of magicians are: \" + name)\n",
        "  for name in modify_list8:\n",
        "    print(\"Name of magicians are: \" + name)\n",
        "modify_magicians(list8[:])\n",
        "show_magicians(modify_list8)\n",
        "\n",
        "#8.12 Sandwitches\n",
        "def sandwitch(*items):\n",
        "  print(\"Items on sandwitch are: \")\n",
        "  for item in items:\n",
        "    print(item)\n",
        "sandwitch('tomatoes','onions','olives','beef')\n",
        "\n",
        "#8.14\n",
        "def Car(manufacturer,model,**details):\n",
        "  profile = {}\n",
        "  profile['manufacturer'] = manufacturer\n",
        "  profile['model'] = model\n",
        "  for k,v in details.items():\n",
        "    profile[k] = v\n",
        "  print(profile)\n",
        "Car('Honda','Civic',Year=\"2020\",Color=\"Silver\")\n",
        "    \n",
        "#9.1, 9.4\n",
        "class Restaurant():\n",
        "  def __init__(self, name, cuisine):\n",
        "    self.name = name\n",
        "    self.cuisine = cuisine\n",
        "    self.number_served = 0\n",
        "  def describe_restaurant(self):\n",
        "    print(f\"Restaurant {self.name} is open for {self.cuisine}\")\n",
        "  def open_restaurant(self):\n",
        "    print(\"Restaurant is open\")\n",
        "  def read_served(self):\n",
        "    print(f\"Served nos are: {self.number_served}\")\n",
        "  def set_no_served(self,nos):\n",
        "    self.number_served = nos\n",
        "  def inc_no_served(self,nos1):\n",
        "    self.number_served += nos1\n",
        "restaurant1 = Restaurant(\"Diva\",\"Savory\")\n",
        "print(restaurant1.name)\n",
        "restaurant1.describe_restaurant()\n",
        "restaurant1.open_restaurant()\n",
        "restaurant1.set_no_served(5)\n",
        "restaurant1.read_served()\n",
        "restaurant1.inc_no_served(10)\n",
        "restaurant1.read_served()\n"
      ],
      "execution_count": null,
      "outputs": [
        {
          "output_type": "stream",
          "text": [
            "[1, 3, 4, 7, 6]\n",
            "[1, 4, 9, 16, 25, 36, 49, 64, 81, 100]\n",
            "[1, 2, 3, 4, 5, 6, 7, 8, 9, 10, 11, 12, 13, 14, 15, 16, 17, 18, 19, 20, 21, 22, 23, 24, 25, 26, 27, 28, 29, 30, 31, 32, 33, 34, 35, 36, 37, 38, 39, 40, 41, 42, 43, 44, 45, 46, 47, 48, 49, 50, 51, 52, 53, 54, 55, 56, 57, 58, 59, 60, 61, 62, 63, 64, 65, 66, 67, 68, 69, 70, 71, 72, 73, 74, 75, 76, 77, 78, 79, 80, 81, 82, 83, 84, 85, 86, 87, 88, 89, 90, 91, 92, 93, 94, 95, 96, 97, 98, 99]\n",
            "4950\n",
            "[1, 3, 5, 7, 9, 11, 13, 15, 17, 19]\n",
            "[3, 6, 9, 12, 15, 18, 21, 24, 27, 30]\n",
            "[1, 8, 27, 64, 125, 216, 343, 512, 729]\n",
            "[1, 8, 27, 64, 125, 216, 343, 512, 729]\n",
            "Nile runs through Egypt\n",
            "Kabul runs through Afghanistan\n",
            "Sutlej runs through Pakistan\n",
            "{'color': 'green', 'points': 5}\n",
            "{'color': 'yellow', 'points': 10}\n",
            "{'color': 'red', 'points': 15}\n",
            "shirt size: 10 with message doom\n",
            "shirt size: 12 with message cool\n",
            "{'artist': 'Nirvana', 'genre': 'Grunge'}\n",
            "{'artist': 'Abba', 'genre': 'Rock'}\n",
            "Name of magicians are: jadoo1\n",
            "Name of magicians are: jadoo2\n",
            "Name of magicians are: jadoo3\n",
            "Name of magicians are: The Great jadoo1\n",
            "Name of magicians are: The Great jadoo2\n",
            "Name of magicians are: The Great jadoo3\n",
            "Items on sandwitch are: \n",
            "tomatoes\n",
            "onions\n",
            "olives\n",
            "beef\n",
            "{'manufacturer': 'Honda', 'model': 'Civic', 'Year': '2020', 'Color': 'Silver'}\n",
            "Diva\n",
            "Restaurant Diva is open for Savory\n",
            "Restaurant is open\n",
            "Served nos are: 5\n",
            "Served nos are: 15\n"
          ],
          "name": "stdout"
        }
      ]
    },
    {
      "cell_type": "code",
      "metadata": {
        "id": "_ZgtBTyuTeeO",
        "colab_type": "code",
        "colab": {
          "base_uri": "https://localhost:8080/",
          "height": 34
        },
        "outputId": "0578a45a-4e18-481d-d18d-1d8478d0b9ae"
      },
      "source": [
        "def num1(no1, no2):\n",
        "  print(no1*no2)\n",
        "num1(4, no2 = 5)"
      ],
      "execution_count": null,
      "outputs": [
        {
          "output_type": "stream",
          "text": [
            "20\n"
          ],
          "name": "stdout"
        }
      ]
    },
    {
      "cell_type": "code",
      "metadata": {
        "id": "AD66HLCGRbVd",
        "colab_type": "code",
        "colab": {
          "base_uri": "https://localhost:8080/",
          "height": 68
        },
        "outputId": "fd7d63f3-596c-491b-eb4f-cae039d3475f"
      },
      "source": [
        "def fun1(**nos):\n",
        "  for k,v in nos.items():\n",
        "    print(k,v)\n",
        "fun1(a=2,cd='3',e='98')"
      ],
      "execution_count": null,
      "outputs": [
        {
          "output_type": "stream",
          "text": [
            "a 2\n",
            "cd 3\n",
            "e 98\n"
          ],
          "name": "stdout"
        }
      ]
    },
    {
      "cell_type": "code",
      "metadata": {
        "id": "dBt67gLJSQxt",
        "colab_type": "code",
        "colab": {
          "base_uri": "https://localhost:8080/",
          "height": 34
        },
        "outputId": "3052615b-27e5-4be8-b8c8-cf091c1170ef"
      },
      "source": [
        "list1 = []\n",
        "def fun1(no1,no2,**no3):\n",
        "  list1.append(no1)\n",
        "  list1.append(no2)\n",
        "  for k,v in no3.items():\n",
        "    list1.append(v)\n",
        "  print(list1)\n",
        "fun1(23,44,a=2,b=3,c=4,d=5,e=6)"
      ],
      "execution_count": null,
      "outputs": [
        {
          "output_type": "stream",
          "text": [
            "[23, 44, 2, 3, 4, 5, 6]\n"
          ],
          "name": "stdout"
        }
      ]
    },
    {
      "cell_type": "code",
      "metadata": {
        "id": "xyfRnrBsUC9P",
        "colab_type": "code",
        "colab": {
          "base_uri": "https://localhost:8080/",
          "height": 34
        },
        "outputId": "7070be34-df5d-4bcf-e318-3b34dad112e2"
      },
      "source": [
        "from keras import layers"
      ],
      "execution_count": 1,
      "outputs": [
        {
          "output_type": "stream",
          "text": [
            "Using TensorFlow backend.\n"
          ],
          "name": "stderr"
        }
      ]
    },
    {
      "cell_type": "code",
      "metadata": {
        "id": "k6CJJAD23sh3",
        "colab_type": "code",
        "colab": {}
      },
      "source": [
        ""
      ],
      "execution_count": null,
      "outputs": []
    }
  ]
}